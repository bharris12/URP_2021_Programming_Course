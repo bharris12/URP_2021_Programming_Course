{
 "cells": [
  {
   "cell_type": "markdown",
   "metadata": {},
   "source": [
    "# RUN BELOW IF IN COLAB"
   ]
  },
  {
   "cell_type": "code",
   "execution_count": null,
   "metadata": {},
   "outputs": [],
   "source": [
    "!wget https://github.com/bharris12/URP_2021_Programming_Course/raw/main/lecture_5/data.zip\n",
    "!unzip data.zip\n",
    "!rm data.zip\n",
    "!ls data"
   ]
  },
  {
   "cell_type": "markdown",
   "metadata": {},
   "source": [
    "# Imports"
   ]
  },
  {
   "cell_type": "code",
   "execution_count": 1,
   "metadata": {
    "ExecuteTime": {
     "end_time": "2019-06-11T02:18:28.230158Z",
     "start_time": "2019-06-11T02:18:28.222075Z"
    }
   },
   "outputs": [],
   "source": [
    "#Two Plotting Libraries\n",
    "import matplotlib.pyplot as plt\n",
    "import seaborn as sns\n",
    "\n",
    "\n",
    "#Mathematical libraries\n",
    "import numpy as np\n",
    "import scipy.stats as stats\n",
    "import statsmodels.api as sm\n",
    "import scipy as sp\n",
    "import pandas as pd\n",
    "\n",
    "%matplotlib inline"
   ]
  },
  {
   "cell_type": "markdown",
   "metadata": {},
   "source": [
    "## Learning Goals"
   ]
  },
  {
   "cell_type": "markdown",
   "metadata": {},
   "source": [
    "1. Reading in data and principles of Tidy Data\n",
    "2. Processing data to prepare for plotting\n",
    "3. Principles of plotting\n",
    "    1. Colors\n",
    "    2. Showing distributions faithfully\n",
    "    3. Scaling for the medium of communication\n",
    "\n",
    "\n",
    "Some of this might be review, but in bioinformatics/data analysis data processing and plotting/communicating are the first and last steps of coding a data-anlysis pipeline. \n",
    "\n",
    "<img src=\"https://qph.fs.quoracdn.net/main-qimg-e7fd43c8c36487389f7bf4f19c52ac2d\" />\n",
    "\n",
    "You will be doing plotting in every step of the data analysis pipeline, so getting comfortable with plotting is crucial\n",
    "\n",
    "Justin's lecture's about statistics have already covered some of the explore and model part of an analysis, and most of the rest of the lectures will be focusing on a few different examples of those. "
   ]
  },
  {
   "cell_type": "markdown",
   "metadata": {},
   "source": [
    "## Background/Lecture"
   ]
  },
  {
   "cell_type": "markdown",
   "metadata": {},
   "source": [
    "### Quick Introduction to the biology in this lecture"
   ]
  },
  {
   "cell_type": "markdown",
   "metadata": {},
   "source": [
    "Most of the data in this lecture comes from single cell RNA sequencing (scRNAseq). scRNAseq is a relatively new, but rapidly growing technology for assaying 100s or 1000s and even occasionally millions of individual cells' transcriptomes. \n",
    "\n",
    "\n",
    "In short, cells can be separated and barcoded using random DNA sequences before sequencing like normal RNAseq in a variety of different ways. Each method has it's tradeoff. But one constant trait of all the data is sparsity. There are lots of 0s in the data because you are getting a very incomplete sampling of the transcriptome. Yet the method can be extremely useful in studying cell type diversity.\n",
    "\n",
    "<img src=\"https://media.springernature.com/full/springer-static/image/art%3A10.1038%2Fnprot.2017.149/MediaObjects/41596_2018_Article_BFnprot2017149_Fig1_HTML.jpg?as=webp\" width='500px'/>\n",
    "(Svensson et al 2018)\n",
    "\n",
    "\n",
    "The data I am including is all from the mouse motor cortex\n",
    "\n",
    "<img src=\"https://encrypted-tbn0.gstatic.com/images?q=tbn:ANd9GcQcdINthsxaWhyKIu3qG07_G-ltSLmptR4ZFoGqs1GEVdz1SDbs\" />\n",
    "\n",
    "The data was generated to specifically look at neuron diversity. There are two main types for neurons, **excitatory**, also known as glutamatergic , and **inhibitory**, also known as GABAergic. The excitatory cell types are named by the layers in the brain they are located in, while the inhibitory ones are named by gene markers.\n",
    "\n",
    "<img src=\"http://retina.umh.es/webvision/imageswv/BasicCells.jpg\" />\n",
    "\n",
    "A major focus in studying these cell types is learning how they develop and differentiate from each other. In the case of excitatory cells they develop in the column they will exist in and move from the deeper to shallower layers. For inhibitory cells they develop in another part of the brain, known as the Ganglionic Eminence, and migrate to the cortex. The first major split in defining interneurons is whether they originated in the Medial Ganglionic Eminence (MGE) or the Caudal Ganglionic Eminence (CGE).\n",
    "\n",
    "<img src=\"https://www.researchgate.net/publication/321972539/figure/fig1/AS:573998834880512@1513863394719/Migratory-streams-originating-from-the-caudal-ganglionic-eminence-CGE-during-mouse.png\" />\n",
    "\n",
    "\n",
    "#### Some terms I use in the data \n",
    "\n",
    "Centroid : The average expression of a cell type. Instead of representing a cell type as all of the cells individually I represent cells as centroids sometimes, where I merely take the average expression of each gene for every cell type\n",
    "\n"
   ]
  },
  {
   "cell_type": "markdown",
   "metadata": {},
   "source": [
    "### Reading and processing Columnar/Rectangular Data\n",
    "\n",
    "#### Flat Files\n",
    "\n",
    "Flat files can be opened and viewed in any text editor or excel or in the command line. Larger files will give Excel, text editors and your computer issues, so sometimes command line tools are necessary. \n",
    "\n",
    "Can be directly viewed in the command line:\n",
    "\n",
    "Print out entire file:\n",
    ">$ cat file1.txt \n",
    "\n",
    "Print out the top 10 lines:\n",
    ">$ head file1.txt\n",
    "\n",
    "Print out the top x lines:\n",
    ">$ head -n x file1.txt\n",
    "\n",
    "Print out but allow for scrolling back through output (To escape press q)\n",
    ">$ less file1.txt\n",
    "\n",
    "\n",
    "\n",
    "\n",
    "The most common file formats are .txt (text file), .tsv (tab separated value), and .csv (comma separated value)\n",
    "\n",
    "Columnar data always has a something encoded in the file to separate each column. Depending on the tool you are using to read in the data it can be called different things but the most common names are:\n",
    "\n",
    "* delimiter (delim)\n",
    "* separator (sep)\n",
    "* IFS \n",
    "\n",
    "The most common separators are:\n",
    "\n",
    "* '\\t' (tab)\n",
    "* ',' (comma)\n",
    "* ' ' (space)\n",
    "* '\\n' (newline)\n",
    "\n",
    "\n",
    "If you are unsure of what the separator is you can use a head to print out the top of the file \n",
    "\n",
    "When reading in these files to python the most common/best functions we use are from numpy and pandas\n",
    "\n",
    "\n",
    "* np.genfromtxt()\n",
    "* pd.read_csv() \n",
    "\n",
    "> If you google ways to read in text files into python you will find many more ways to read in flat files, but these two functions are the most automated.\n",
    "\n",
    "I will discuss a few examples of when to use which function after I give a little more info about files.\n",
    "\n"
   ]
  },
  {
   "cell_type": "markdown",
   "metadata": {
    "ExecuteTime": {
     "end_time": "2019-05-13T21:31:18.459145Z",
     "start_time": "2019-05-13T21:31:18.455178Z"
    }
   },
   "source": [
    "#### Non-flat/binary\n",
    "1. .xlxs (Excel File Format) pd.read_excel\n",
    "2. .h5/.h5f5 (Hierarchical Data Format) pd.read_hdf() or h5py\n",
    "    1. Often used for big data\n",
    "    2. Integrated file structure for storing multiple tables of data together (both expression and metadata)\n"
   ]
  },
  {
   "cell_type": "markdown",
   "metadata": {},
   "source": [
    "##### Examples\n",
    "**Your computer doesn't actually care about file extensions, so it isn't uncommon to see a file with a different extension that is really just a flat file** \n",
    "\n",
    "All the files below have 100 rows of 10 random numbers"
   ]
  },
  {
   "cell_type": "code",
   "execution_count": 2,
   "metadata": {
    "ExecuteTime": {
     "end_time": "2019-05-13T21:51:27.647766Z",
     "start_time": "2019-05-13T21:51:27.528793Z"
    },
    "tags": []
   },
   "outputs": [
    {
     "name": "stdout",
     "output_type": "stream",
     "text": [
      "0.22 0.26 0.74 0.75 0.77 0.58 0.75 0.97 0.77 0.28\n"
     ]
    }
   ],
   "source": [
    "!head -n 1 ./data/file1.txt"
   ]
  },
  {
   "cell_type": "code",
   "execution_count": 3,
   "metadata": {
    "ExecuteTime": {
     "end_time": "2019-05-13T21:51:39.156094Z",
     "start_time": "2019-05-13T21:51:39.036742Z"
    }
   },
   "outputs": [
    {
     "name": "stdout",
     "output_type": "stream",
     "text": [
      "0.29\t0.53\t0.24\t0.18\t0.91\t0.41\t0.34\t0.32\t0.35\t0.85\n"
     ]
    }
   ],
   "source": [
    "!head -n 1 ./data/file2.txt"
   ]
  },
  {
   "cell_type": "code",
   "execution_count": 4,
   "metadata": {
    "ExecuteTime": {
     "end_time": "2019-05-13T22:04:46.672766Z",
     "start_time": "2019-05-13T22:04:46.551628Z"
    }
   },
   "outputs": [
    {
     "name": "stdout",
     "output_type": "stream",
     "text": [
      "0.29\t0.53\t0.24\t0.18\t0.91\t0.41\t0.34\t0.32\t0.35\t0.85\n"
     ]
    }
   ],
   "source": [
    "!head -n 1 ./data/file2.csv"
   ]
  },
  {
   "cell_type": "markdown",
   "metadata": {},
   "source": [
    "The above output the filename is .csv but the file is tab separated"
   ]
  },
  {
   "cell_type": "markdown",
   "metadata": {},
   "source": [
    "**The computer reads in your data 1 row at a time, and will interpret a lot about the data based on the first row**"
   ]
  },
  {
   "cell_type": "code",
   "execution_count": 5,
   "metadata": {
    "ExecuteTime": {
     "end_time": "2019-05-13T21:52:09.050233Z",
     "start_time": "2019-05-13T21:52:08.932733Z"
    },
    "scrolled": true
   },
   "outputs": [
    {
     "name": "stdout",
     "output_type": "stream",
     "text": [
      "0.72,0.80,0.43,0.95,0.36,0.92,1.00,0.16,0.62,0.80\n"
     ]
    }
   ],
   "source": [
    "!head -n 1 ./data/file3.csv"
   ]
  },
  {
   "cell_type": "markdown",
   "metadata": {},
   "source": [
    "With rectangular data that we are generally working with sometimes there is missing data. As you can see in this modified version of file3.csv there are two commas in a row and only 9 numbers. "
   ]
  },
  {
   "cell_type": "code",
   "execution_count": 6,
   "metadata": {
    "ExecuteTime": {
     "end_time": "2019-05-13T22:01:21.674374Z",
     "start_time": "2019-05-13T22:01:21.554329Z"
    }
   },
   "outputs": [
    {
     "name": "stdout",
     "output_type": "stream",
     "text": [
      "0.72,,0.43,0.95,0.36,0.92,1.00,0.16,0.62,0.80\n",
      "0.35,0.31,0.49,0.66,0.73,0.34,0.58,0.12,0.72,0.25\n"
     ]
    }
   ],
   "source": [
    "!head -n 2 ./data/file3_1.csv"
   ]
  },
  {
   "cell_type": "code",
   "execution_count": 7,
   "metadata": {
    "ExecuteTime": {
     "end_time": "2019-05-13T22:01:12.638961Z",
     "start_time": "2019-05-13T22:01:12.633423Z"
    }
   },
   "outputs": [
    {
     "data": {
      "text/plain": [
       "array([[0.72,  nan, 0.43, 0.95, 0.36, 0.92, 1.  , 0.16, 0.62, 0.8 ],\n",
       "       [0.35, 0.31, 0.49, 0.66, 0.73, 0.34, 0.58, 0.12, 0.72, 0.25]])"
      ]
     },
     "execution_count": 7,
     "metadata": {},
     "output_type": "execute_result"
    }
   ],
   "source": [
    "np.genfromtxt('./data/file3_1.csv',delimiter=',')[:2,:]"
   ]
  },
  {
   "cell_type": "markdown",
   "metadata": {},
   "source": [
    "You can see that numpy has replaced that value with a nan. And still interprets the file as having 10 elements in each row"
   ]
  },
  {
   "cell_type": "code",
   "execution_count": 9,
   "metadata": {},
   "outputs": [
    {
     "name": "stdout",
     "output_type": "stream",
     "text": [
      "0.72,0.43,0.95,0.36,0.92,1.00,0.16,0.62,0.80\n",
      "0.35,0.31,0.49,0.66,0.73,0.34,0.58,0.12,0.72,0.25\n"
     ]
    }
   ],
   "source": [
    "!head -n 2 data/file3_2.csv"
   ]
  },
  {
   "cell_type": "code",
   "execution_count": 10,
   "metadata": {
    "ExecuteTime": {
     "end_time": "2019-05-13T22:09:52.582133Z",
     "start_time": "2019-05-13T22:09:52.567667Z"
    }
   },
   "outputs": [
    {
     "ename": "ValueError",
     "evalue": "Some errors were detected !\n    Line #2 (got 10 columns instead of 9)\n    Line #3 (got 10 columns instead of 9)\n    Line #4 (got 10 columns instead of 9)\n    Line #5 (got 10 columns instead of 9)\n    Line #6 (got 10 columns instead of 9)\n    Line #7 (got 10 columns instead of 9)\n    Line #8 (got 10 columns instead of 9)\n    Line #9 (got 10 columns instead of 9)\n    Line #10 (got 10 columns instead of 9)\n    Line #11 (got 10 columns instead of 9)\n    Line #12 (got 10 columns instead of 9)\n    Line #13 (got 10 columns instead of 9)\n    Line #14 (got 10 columns instead of 9)\n    Line #15 (got 10 columns instead of 9)\n    Line #16 (got 10 columns instead of 9)\n    Line #17 (got 10 columns instead of 9)\n    Line #18 (got 10 columns instead of 9)\n    Line #19 (got 10 columns instead of 9)\n    Line #20 (got 10 columns instead of 9)\n    Line #21 (got 10 columns instead of 9)\n    Line #22 (got 10 columns instead of 9)\n    Line #23 (got 10 columns instead of 9)\n    Line #24 (got 10 columns instead of 9)\n    Line #25 (got 10 columns instead of 9)\n    Line #26 (got 10 columns instead of 9)\n    Line #27 (got 10 columns instead of 9)\n    Line #28 (got 10 columns instead of 9)\n    Line #29 (got 10 columns instead of 9)\n    Line #30 (got 10 columns instead of 9)\n    Line #31 (got 10 columns instead of 9)\n    Line #32 (got 10 columns instead of 9)\n    Line #33 (got 10 columns instead of 9)\n    Line #34 (got 10 columns instead of 9)\n    Line #35 (got 10 columns instead of 9)\n    Line #36 (got 10 columns instead of 9)\n    Line #37 (got 10 columns instead of 9)\n    Line #38 (got 10 columns instead of 9)\n    Line #39 (got 10 columns instead of 9)\n    Line #40 (got 10 columns instead of 9)\n    Line #41 (got 10 columns instead of 9)\n    Line #42 (got 10 columns instead of 9)\n    Line #43 (got 10 columns instead of 9)\n    Line #44 (got 10 columns instead of 9)\n    Line #45 (got 10 columns instead of 9)\n    Line #46 (got 10 columns instead of 9)\n    Line #47 (got 10 columns instead of 9)\n    Line #48 (got 10 columns instead of 9)\n    Line #49 (got 10 columns instead of 9)\n    Line #50 (got 10 columns instead of 9)\n    Line #51 (got 10 columns instead of 9)\n    Line #52 (got 10 columns instead of 9)\n    Line #53 (got 10 columns instead of 9)\n    Line #54 (got 10 columns instead of 9)\n    Line #55 (got 10 columns instead of 9)\n    Line #56 (got 10 columns instead of 9)\n    Line #57 (got 10 columns instead of 9)\n    Line #58 (got 10 columns instead of 9)\n    Line #59 (got 10 columns instead of 9)\n    Line #60 (got 10 columns instead of 9)\n    Line #61 (got 10 columns instead of 9)\n    Line #62 (got 10 columns instead of 9)\n    Line #63 (got 10 columns instead of 9)\n    Line #64 (got 10 columns instead of 9)\n    Line #65 (got 10 columns instead of 9)\n    Line #66 (got 10 columns instead of 9)\n    Line #67 (got 10 columns instead of 9)\n    Line #68 (got 10 columns instead of 9)\n    Line #69 (got 10 columns instead of 9)\n    Line #70 (got 10 columns instead of 9)\n    Line #71 (got 10 columns instead of 9)\n    Line #72 (got 10 columns instead of 9)\n    Line #73 (got 10 columns instead of 9)\n    Line #74 (got 10 columns instead of 9)\n    Line #75 (got 10 columns instead of 9)\n    Line #76 (got 10 columns instead of 9)\n    Line #77 (got 10 columns instead of 9)\n    Line #78 (got 10 columns instead of 9)\n    Line #79 (got 10 columns instead of 9)\n    Line #80 (got 10 columns instead of 9)\n    Line #81 (got 10 columns instead of 9)\n    Line #82 (got 10 columns instead of 9)\n    Line #83 (got 10 columns instead of 9)\n    Line #84 (got 10 columns instead of 9)\n    Line #85 (got 10 columns instead of 9)\n    Line #86 (got 10 columns instead of 9)\n    Line #87 (got 10 columns instead of 9)\n    Line #88 (got 10 columns instead of 9)\n    Line #89 (got 10 columns instead of 9)\n    Line #90 (got 10 columns instead of 9)\n    Line #91 (got 10 columns instead of 9)\n    Line #92 (got 10 columns instead of 9)\n    Line #93 (got 10 columns instead of 9)\n    Line #94 (got 10 columns instead of 9)\n    Line #95 (got 10 columns instead of 9)\n    Line #96 (got 10 columns instead of 9)\n    Line #97 (got 10 columns instead of 9)\n    Line #98 (got 10 columns instead of 9)\n    Line #99 (got 10 columns instead of 9)\n    Line #100 (got 10 columns instead of 9)",
     "output_type": "error",
     "traceback": [
      "\u001b[0;31m---------------------------------------------------------------------------\u001b[0m",
      "\u001b[0;31mValueError\u001b[0m                                Traceback (most recent call last)",
      "\u001b[0;32m<ipython-input-10-937b7df5a212>\u001b[0m in \u001b[0;36m<module>\u001b[0;34m\u001b[0m\n\u001b[0;32m----> 1\u001b[0;31m \u001b[0mnp\u001b[0m\u001b[0;34m.\u001b[0m\u001b[0mgenfromtxt\u001b[0m\u001b[0;34m(\u001b[0m\u001b[0;34m'./data/file3_2.csv'\u001b[0m\u001b[0;34m,\u001b[0m\u001b[0mdelimiter\u001b[0m\u001b[0;34m=\u001b[0m\u001b[0;34m','\u001b[0m\u001b[0;34m)\u001b[0m\u001b[0;34m[\u001b[0m\u001b[0;34m:\u001b[0m\u001b[0;36m2\u001b[0m\u001b[0;34m,\u001b[0m\u001b[0;34m:\u001b[0m\u001b[0;34m]\u001b[0m\u001b[0;34m\u001b[0m\u001b[0;34m\u001b[0m\u001b[0m\n\u001b[0m",
      "\u001b[0;32m~/miniconda3/envs/feyn/lib/python3.9/site-packages/numpy/lib/npyio.py\u001b[0m in \u001b[0;36mgenfromtxt\u001b[0;34m(fname, dtype, comments, delimiter, skip_header, skip_footer, converters, missing_values, filling_values, usecols, names, excludelist, deletechars, replace_space, autostrip, case_sensitive, defaultfmt, unpack, usemask, loose, invalid_raise, max_rows, encoding, like)\u001b[0m\n\u001b[1;32m   2120\u001b[0m             \u001b[0;31m# Raise an exception ?\u001b[0m\u001b[0;34m\u001b[0m\u001b[0;34m\u001b[0m\u001b[0;34m\u001b[0m\u001b[0m\n\u001b[1;32m   2121\u001b[0m             \u001b[0;32mif\u001b[0m \u001b[0minvalid_raise\u001b[0m\u001b[0;34m:\u001b[0m\u001b[0;34m\u001b[0m\u001b[0;34m\u001b[0m\u001b[0m\n\u001b[0;32m-> 2122\u001b[0;31m                 \u001b[0;32mraise\u001b[0m \u001b[0mValueError\u001b[0m\u001b[0;34m(\u001b[0m\u001b[0merrmsg\u001b[0m\u001b[0;34m)\u001b[0m\u001b[0;34m\u001b[0m\u001b[0;34m\u001b[0m\u001b[0m\n\u001b[0m\u001b[1;32m   2123\u001b[0m             \u001b[0;31m# Issue a warning ?\u001b[0m\u001b[0;34m\u001b[0m\u001b[0;34m\u001b[0m\u001b[0;34m\u001b[0m\u001b[0m\n\u001b[1;32m   2124\u001b[0m             \u001b[0;32melse\u001b[0m\u001b[0;34m:\u001b[0m\u001b[0;34m\u001b[0m\u001b[0;34m\u001b[0m\u001b[0m\n",
      "\u001b[0;31mValueError\u001b[0m: Some errors were detected !\n    Line #2 (got 10 columns instead of 9)\n    Line #3 (got 10 columns instead of 9)\n    Line #4 (got 10 columns instead of 9)\n    Line #5 (got 10 columns instead of 9)\n    Line #6 (got 10 columns instead of 9)\n    Line #7 (got 10 columns instead of 9)\n    Line #8 (got 10 columns instead of 9)\n    Line #9 (got 10 columns instead of 9)\n    Line #10 (got 10 columns instead of 9)\n    Line #11 (got 10 columns instead of 9)\n    Line #12 (got 10 columns instead of 9)\n    Line #13 (got 10 columns instead of 9)\n    Line #14 (got 10 columns instead of 9)\n    Line #15 (got 10 columns instead of 9)\n    Line #16 (got 10 columns instead of 9)\n    Line #17 (got 10 columns instead of 9)\n    Line #18 (got 10 columns instead of 9)\n    Line #19 (got 10 columns instead of 9)\n    Line #20 (got 10 columns instead of 9)\n    Line #21 (got 10 columns instead of 9)\n    Line #22 (got 10 columns instead of 9)\n    Line #23 (got 10 columns instead of 9)\n    Line #24 (got 10 columns instead of 9)\n    Line #25 (got 10 columns instead of 9)\n    Line #26 (got 10 columns instead of 9)\n    Line #27 (got 10 columns instead of 9)\n    Line #28 (got 10 columns instead of 9)\n    Line #29 (got 10 columns instead of 9)\n    Line #30 (got 10 columns instead of 9)\n    Line #31 (got 10 columns instead of 9)\n    Line #32 (got 10 columns instead of 9)\n    Line #33 (got 10 columns instead of 9)\n    Line #34 (got 10 columns instead of 9)\n    Line #35 (got 10 columns instead of 9)\n    Line #36 (got 10 columns instead of 9)\n    Line #37 (got 10 columns instead of 9)\n    Line #38 (got 10 columns instead of 9)\n    Line #39 (got 10 columns instead of 9)\n    Line #40 (got 10 columns instead of 9)\n    Line #41 (got 10 columns instead of 9)\n    Line #42 (got 10 columns instead of 9)\n    Line #43 (got 10 columns instead of 9)\n    Line #44 (got 10 columns instead of 9)\n    Line #45 (got 10 columns instead of 9)\n    Line #46 (got 10 columns instead of 9)\n    Line #47 (got 10 columns instead of 9)\n    Line #48 (got 10 columns instead of 9)\n    Line #49 (got 10 columns instead of 9)\n    Line #50 (got 10 columns instead of 9)\n    Line #51 (got 10 columns instead of 9)\n    Line #52 (got 10 columns instead of 9)\n    Line #53 (got 10 columns instead of 9)\n    Line #54 (got 10 columns instead of 9)\n    Line #55 (got 10 columns instead of 9)\n    Line #56 (got 10 columns instead of 9)\n    Line #57 (got 10 columns instead of 9)\n    Line #58 (got 10 columns instead of 9)\n    Line #59 (got 10 columns instead of 9)\n    Line #60 (got 10 columns instead of 9)\n    Line #61 (got 10 columns instead of 9)\n    Line #62 (got 10 columns instead of 9)\n    Line #63 (got 10 columns instead of 9)\n    Line #64 (got 10 columns instead of 9)\n    Line #65 (got 10 columns instead of 9)\n    Line #66 (got 10 columns instead of 9)\n    Line #67 (got 10 columns instead of 9)\n    Line #68 (got 10 columns instead of 9)\n    Line #69 (got 10 columns instead of 9)\n    Line #70 (got 10 columns instead of 9)\n    Line #71 (got 10 columns instead of 9)\n    Line #72 (got 10 columns instead of 9)\n    Line #73 (got 10 columns instead of 9)\n    Line #74 (got 10 columns instead of 9)\n    Line #75 (got 10 columns instead of 9)\n    Line #76 (got 10 columns instead of 9)\n    Line #77 (got 10 columns instead of 9)\n    Line #78 (got 10 columns instead of 9)\n    Line #79 (got 10 columns instead of 9)\n    Line #80 (got 10 columns instead of 9)\n    Line #81 (got 10 columns instead of 9)\n    Line #82 (got 10 columns instead of 9)\n    Line #83 (got 10 columns instead of 9)\n    Line #84 (got 10 columns instead of 9)\n    Line #85 (got 10 columns instead of 9)\n    Line #86 (got 10 columns instead of 9)\n    Line #87 (got 10 columns instead of 9)\n    Line #88 (got 10 columns instead of 9)\n    Line #89 (got 10 columns instead of 9)\n    Line #90 (got 10 columns instead of 9)\n    Line #91 (got 10 columns instead of 9)\n    Line #92 (got 10 columns instead of 9)\n    Line #93 (got 10 columns instead of 9)\n    Line #94 (got 10 columns instead of 9)\n    Line #95 (got 10 columns instead of 9)\n    Line #96 (got 10 columns instead of 9)\n    Line #97 (got 10 columns instead of 9)\n    Line #98 (got 10 columns instead of 9)\n    Line #99 (got 10 columns instead of 9)\n    Line #100 (got 10 columns instead of 9)"
     ]
    }
   ],
   "source": [
    "np.genfromtxt('./data/file3_2.csv',delimiter=',')[:2,:]"
   ]
  },
  {
   "cell_type": "markdown",
   "metadata": {},
   "source": [
    "If I remove the second comma numpy will throw an error when I read in the data"
   ]
  },
  {
   "cell_type": "code",
   "execution_count": 12,
   "metadata": {},
   "outputs": [
    {
     "name": "stdout",
     "output_type": "stream",
     "text": [
      "0.72,0.43,0.95,0.36,0.92,1.00,0.16,0.62,0.80\n",
      "0.35,0.31,0.49,0.66,0.73,0.34,0.58,0.12,0.72,0.25\n",
      "0.87,0.45,0.79,0.50,0.15,0.70,0.08,0.01,0.05,0.04\n"
     ]
    }
   ],
   "source": [
    "!head -n 3 data/file3_2.csv"
   ]
  },
  {
   "cell_type": "code",
   "execution_count": 11,
   "metadata": {
    "ExecuteTime": {
     "end_time": "2019-05-14T12:27:29.601661Z",
     "start_time": "2019-05-14T12:27:29.594592Z"
    }
   },
   "outputs": [
    {
     "data": {
      "text/plain": [
       "array([[0.35, 0.31, 0.49, 0.66, 0.73, 0.34, 0.58, 0.12, 0.72, 0.25],\n",
       "       [0.87, 0.45, 0.79, 0.5 , 0.15, 0.7 , 0.08, 0.01, 0.05, 0.04]])"
      ]
     },
     "execution_count": 11,
     "metadata": {},
     "output_type": "execute_result"
    }
   ],
   "source": [
    "np.genfromtxt('./data/file3_2.csv',delimiter=',', skip_header=1)[:2,:]"
   ]
  },
  {
   "cell_type": "markdown",
   "metadata": {},
   "source": [
    "But if I skip the first row it the file will be read in, just will be 1 row shorter "
   ]
  },
  {
   "cell_type": "markdown",
   "metadata": {},
   "source": [
    "All of the examples I have shown so far has been instances where all of the data is numbers, but we often work with both numerical and categorical data. Numpy does not allow for multiple data types in a single array. \n",
    "\n",
    "Numpy defaults to reading in data as a numerical value."
   ]
  },
  {
   "cell_type": "code",
   "execution_count": 15,
   "metadata": {},
   "outputs": [
    {
     "name": "stdout",
     "output_type": "stream",
     "text": [
      "Adelie\n",
      "Adelie\n",
      "Adelie\n",
      "Adelie\n",
      "Adelie\n",
      "Adelie\n",
      "Adelie\n",
      "Adelie\n",
      "Adelie\n",
      "Adelie\n"
     ]
    }
   ],
   "source": [
    "!head data/palmer_species.csv"
   ]
  },
  {
   "cell_type": "code",
   "execution_count": 16,
   "metadata": {
    "ExecuteTime": {
     "end_time": "2019-06-12T18:39:13.723057Z",
     "start_time": "2019-06-12T18:39:13.705479Z"
    },
    "scrolled": true
   },
   "outputs": [
    {
     "data": {
      "text/plain": [
       "array([nan, nan, nan, nan, nan, nan, nan, nan, nan, nan, nan, nan, nan,\n",
       "       nan, nan, nan, nan, nan, nan, nan, nan, nan, nan, nan, nan, nan,\n",
       "       nan, nan, nan, nan, nan, nan, nan, nan, nan, nan, nan, nan, nan,\n",
       "       nan, nan, nan, nan, nan, nan, nan, nan, nan, nan, nan, nan, nan,\n",
       "       nan, nan, nan, nan, nan, nan, nan, nan, nan, nan, nan, nan, nan,\n",
       "       nan, nan, nan, nan, nan, nan, nan, nan, nan, nan, nan, nan, nan,\n",
       "       nan, nan, nan, nan, nan, nan, nan, nan, nan, nan, nan, nan, nan,\n",
       "       nan, nan, nan, nan, nan, nan, nan, nan, nan, nan, nan, nan, nan,\n",
       "       nan, nan, nan, nan, nan, nan, nan, nan, nan, nan, nan, nan, nan,\n",
       "       nan, nan, nan, nan, nan, nan, nan, nan, nan, nan, nan, nan, nan,\n",
       "       nan, nan, nan, nan, nan, nan, nan, nan, nan, nan, nan, nan, nan,\n",
       "       nan, nan, nan, nan, nan, nan, nan, nan, nan, nan, nan, nan, nan,\n",
       "       nan, nan, nan, nan, nan, nan, nan, nan, nan, nan, nan, nan, nan,\n",
       "       nan, nan, nan, nan, nan, nan, nan, nan, nan, nan, nan, nan, nan,\n",
       "       nan, nan, nan, nan, nan, nan, nan, nan, nan, nan, nan, nan, nan,\n",
       "       nan, nan, nan, nan, nan, nan, nan, nan, nan, nan, nan, nan, nan,\n",
       "       nan, nan, nan, nan, nan, nan, nan, nan, nan, nan, nan, nan, nan,\n",
       "       nan, nan, nan, nan, nan, nan, nan, nan, nan, nan, nan, nan, nan,\n",
       "       nan, nan, nan, nan, nan, nan, nan, nan, nan, nan, nan, nan, nan,\n",
       "       nan, nan, nan, nan, nan, nan, nan, nan, nan, nan, nan, nan, nan,\n",
       "       nan, nan, nan, nan, nan, nan, nan, nan, nan, nan, nan, nan, nan,\n",
       "       nan, nan, nan, nan, nan, nan, nan, nan, nan, nan, nan, nan, nan,\n",
       "       nan, nan, nan, nan, nan, nan, nan, nan, nan, nan, nan, nan, nan,\n",
       "       nan, nan, nan, nan, nan, nan, nan, nan, nan, nan, nan, nan, nan,\n",
       "       nan, nan, nan, nan, nan, nan, nan, nan, nan, nan, nan, nan, nan,\n",
       "       nan, nan, nan, nan, nan, nan, nan, nan, nan, nan, nan, nan, nan,\n",
       "       nan, nan, nan, nan, nan, nan])"
      ]
     },
     "execution_count": 16,
     "metadata": {},
     "output_type": "execute_result"
    }
   ],
   "source": [
    "np.genfromtxt('./data/palmer_species.csv',delimiter=',')"
   ]
  },
  {
   "cell_type": "markdown",
   "metadata": {},
   "source": [
    "If you tell numpy that you have string data (str) then it will make the entire array strings"
   ]
  },
  {
   "cell_type": "code",
   "execution_count": 17,
   "metadata": {
    "ExecuteTime": {
     "end_time": "2019-06-12T18:39:25.201506Z",
     "start_time": "2019-06-12T18:39:25.193981Z"
    }
   },
   "outputs": [
    {
     "data": {
      "text/plain": [
       "array(['Adelie', 'Adelie', 'Adelie', 'Adelie', 'Adelie', 'Adelie',\n",
       "       'Adelie', 'Adelie', 'Adelie', 'Adelie', 'Adelie', 'Adelie',\n",
       "       'Adelie', 'Adelie', 'Adelie', 'Adelie', 'Adelie', 'Adelie',\n",
       "       'Adelie', 'Adelie', 'Adelie', 'Adelie', 'Adelie', 'Adelie',\n",
       "       'Adelie', 'Adelie', 'Adelie', 'Adelie', 'Adelie', 'Adelie',\n",
       "       'Adelie', 'Adelie', 'Adelie', 'Adelie', 'Adelie', 'Adelie',\n",
       "       'Adelie', 'Adelie', 'Adelie', 'Adelie', 'Adelie', 'Adelie',\n",
       "       'Adelie', 'Adelie', 'Adelie', 'Adelie', 'Adelie', 'Adelie',\n",
       "       'Adelie', 'Adelie', 'Adelie', 'Adelie', 'Adelie', 'Adelie',\n",
       "       'Adelie', 'Adelie', 'Adelie', 'Adelie', 'Adelie', 'Adelie',\n",
       "       'Adelie', 'Adelie', 'Adelie', 'Adelie', 'Adelie', 'Adelie',\n",
       "       'Adelie', 'Adelie', 'Adelie', 'Adelie', 'Adelie', 'Adelie',\n",
       "       'Adelie', 'Adelie', 'Adelie', 'Adelie', 'Adelie', 'Adelie',\n",
       "       'Adelie', 'Adelie', 'Adelie', 'Adelie', 'Adelie', 'Adelie',\n",
       "       'Adelie', 'Adelie', 'Adelie', 'Adelie', 'Adelie', 'Adelie',\n",
       "       'Adelie', 'Adelie', 'Adelie', 'Adelie', 'Adelie', 'Adelie',\n",
       "       'Adelie', 'Adelie', 'Adelie', 'Adelie', 'Adelie', 'Adelie',\n",
       "       'Adelie', 'Adelie', 'Adelie', 'Adelie', 'Adelie', 'Adelie',\n",
       "       'Adelie', 'Adelie', 'Adelie', 'Adelie', 'Adelie', 'Adelie',\n",
       "       'Adelie', 'Adelie', 'Adelie', 'Adelie', 'Adelie', 'Adelie',\n",
       "       'Adelie', 'Adelie', 'Adelie', 'Adelie', 'Adelie', 'Adelie',\n",
       "       'Adelie', 'Adelie', 'Adelie', 'Adelie', 'Adelie', 'Adelie',\n",
       "       'Adelie', 'Adelie', 'Adelie', 'Adelie', 'Adelie', 'Adelie',\n",
       "       'Adelie', 'Adelie', 'Adelie', 'Adelie', 'Adelie', 'Adelie',\n",
       "       'Adelie', 'Adelie', 'Adelie', 'Adelie', 'Adelie', 'Adelie',\n",
       "       'Adelie', 'Adelie', 'Gentoo', 'Gentoo', 'Gentoo', 'Gentoo',\n",
       "       'Gentoo', 'Gentoo', 'Gentoo', 'Gentoo', 'Gentoo', 'Gentoo',\n",
       "       'Gentoo', 'Gentoo', 'Gentoo', 'Gentoo', 'Gentoo', 'Gentoo',\n",
       "       'Gentoo', 'Gentoo', 'Gentoo', 'Gentoo', 'Gentoo', 'Gentoo',\n",
       "       'Gentoo', 'Gentoo', 'Gentoo', 'Gentoo', 'Gentoo', 'Gentoo',\n",
       "       'Gentoo', 'Gentoo', 'Gentoo', 'Gentoo', 'Gentoo', 'Gentoo',\n",
       "       'Gentoo', 'Gentoo', 'Gentoo', 'Gentoo', 'Gentoo', 'Gentoo',\n",
       "       'Gentoo', 'Gentoo', 'Gentoo', 'Gentoo', 'Gentoo', 'Gentoo',\n",
       "       'Gentoo', 'Gentoo', 'Gentoo', 'Gentoo', 'Gentoo', 'Gentoo',\n",
       "       'Gentoo', 'Gentoo', 'Gentoo', 'Gentoo', 'Gentoo', 'Gentoo',\n",
       "       'Gentoo', 'Gentoo', 'Gentoo', 'Gentoo', 'Gentoo', 'Gentoo',\n",
       "       'Gentoo', 'Gentoo', 'Gentoo', 'Gentoo', 'Gentoo', 'Gentoo',\n",
       "       'Gentoo', 'Gentoo', 'Gentoo', 'Gentoo', 'Gentoo', 'Gentoo',\n",
       "       'Gentoo', 'Gentoo', 'Gentoo', 'Gentoo', 'Gentoo', 'Gentoo',\n",
       "       'Gentoo', 'Gentoo', 'Gentoo', 'Gentoo', 'Gentoo', 'Gentoo',\n",
       "       'Gentoo', 'Gentoo', 'Gentoo', 'Gentoo', 'Gentoo', 'Gentoo',\n",
       "       'Gentoo', 'Gentoo', 'Gentoo', 'Gentoo', 'Gentoo', 'Gentoo',\n",
       "       'Gentoo', 'Gentoo', 'Gentoo', 'Gentoo', 'Gentoo', 'Gentoo',\n",
       "       'Gentoo', 'Gentoo', 'Gentoo', 'Gentoo', 'Gentoo', 'Gentoo',\n",
       "       'Gentoo', 'Gentoo', 'Gentoo', 'Gentoo', 'Gentoo', 'Gentoo',\n",
       "       'Gentoo', 'Gentoo', 'Gentoo', 'Gentoo', 'Gentoo', 'Gentoo',\n",
       "       'Chinstrap', 'Chinstrap', 'Chinstrap', 'Chinstrap', 'Chinstrap',\n",
       "       'Chinstrap', 'Chinstrap', 'Chinstrap', 'Chinstrap', 'Chinstrap',\n",
       "       'Chinstrap', 'Chinstrap', 'Chinstrap', 'Chinstrap', 'Chinstrap',\n",
       "       'Chinstrap', 'Chinstrap', 'Chinstrap', 'Chinstrap', 'Chinstrap',\n",
       "       'Chinstrap', 'Chinstrap', 'Chinstrap', 'Chinstrap', 'Chinstrap',\n",
       "       'Chinstrap', 'Chinstrap', 'Chinstrap', 'Chinstrap', 'Chinstrap',\n",
       "       'Chinstrap', 'Chinstrap', 'Chinstrap', 'Chinstrap', 'Chinstrap',\n",
       "       'Chinstrap', 'Chinstrap', 'Chinstrap', 'Chinstrap', 'Chinstrap',\n",
       "       'Chinstrap', 'Chinstrap', 'Chinstrap', 'Chinstrap', 'Chinstrap',\n",
       "       'Chinstrap', 'Chinstrap', 'Chinstrap', 'Chinstrap', 'Chinstrap',\n",
       "       'Chinstrap', 'Chinstrap', 'Chinstrap', 'Chinstrap', 'Chinstrap',\n",
       "       'Chinstrap', 'Chinstrap', 'Chinstrap', 'Chinstrap', 'Chinstrap',\n",
       "       'Chinstrap', 'Chinstrap', 'Chinstrap', 'Chinstrap', 'Chinstrap',\n",
       "       'Chinstrap', 'Chinstrap', 'Chinstrap'], dtype='<U9')"
      ]
     },
     "execution_count": 17,
     "metadata": {},
     "output_type": "execute_result"
    }
   ],
   "source": [
    "np.genfromtxt('./data/palmer_species.csv',delimiter=',',dtype=str)"
   ]
  },
  {
   "cell_type": "markdown",
   "metadata": {},
   "source": [
    "Instead of using numpy to read in the data you can use pandas dataframe"
   ]
  },
  {
   "cell_type": "code",
   "execution_count": 18,
   "metadata": {},
   "outputs": [
    {
     "name": "stdout",
     "output_type": "stream",
     "text": [
      "0,Adelie,Torgersen,39.1,18.7,181.0,3750.0,male,2007\n",
      "1,Adelie,Torgersen,39.5,17.4,186.0,3800.0,female,2007\n",
      "2,Adelie,Torgersen,40.3,18.0,195.0,3250.0,female,2007\n",
      "3,Adelie,Torgersen,,,,,,2007\n",
      "4,Adelie,Torgersen,36.7,19.3,193.0,3450.0,female,2007\n",
      "5,Adelie,Torgersen,39.3,20.6,190.0,3650.0,male,2007\n",
      "6,Adelie,Torgersen,38.9,17.8,181.0,3625.0,female,2007\n",
      "7,Adelie,Torgersen,39.2,19.6,195.0,4675.0,male,2007\n",
      "8,Adelie,Torgersen,34.1,18.1,193.0,3475.0,,2007\n",
      "9,Adelie,Torgersen,42.0,20.2,190.0,4250.0,,2007\n"
     ]
    }
   ],
   "source": [
    "!head data/palmer_data.csv"
   ]
  },
  {
   "cell_type": "code",
   "execution_count": 19,
   "metadata": {
    "ExecuteTime": {
     "end_time": "2019-05-14T23:13:25.414718Z",
     "start_time": "2019-05-14T23:13:25.401733Z"
    },
    "scrolled": true
   },
   "outputs": [
    {
     "data": {
      "text/html": [
       "<div>\n",
       "<style scoped>\n",
       "    .dataframe tbody tr th:only-of-type {\n",
       "        vertical-align: middle;\n",
       "    }\n",
       "\n",
       "    .dataframe tbody tr th {\n",
       "        vertical-align: top;\n",
       "    }\n",
       "\n",
       "    .dataframe thead th {\n",
       "        text-align: right;\n",
       "    }\n",
       "</style>\n",
       "<table border=\"1\" class=\"dataframe\">\n",
       "  <thead>\n",
       "    <tr style=\"text-align: right;\">\n",
       "      <th></th>\n",
       "      <th>0</th>\n",
       "      <th>Adelie</th>\n",
       "      <th>Torgersen</th>\n",
       "      <th>39.1</th>\n",
       "      <th>18.7</th>\n",
       "      <th>181.0</th>\n",
       "      <th>3750.0</th>\n",
       "      <th>male</th>\n",
       "      <th>2007</th>\n",
       "    </tr>\n",
       "  </thead>\n",
       "  <tbody>\n",
       "    <tr>\n",
       "      <th>0</th>\n",
       "      <td>1</td>\n",
       "      <td>Adelie</td>\n",
       "      <td>Torgersen</td>\n",
       "      <td>39.5</td>\n",
       "      <td>17.4</td>\n",
       "      <td>186.0</td>\n",
       "      <td>3800.0</td>\n",
       "      <td>female</td>\n",
       "      <td>2007</td>\n",
       "    </tr>\n",
       "    <tr>\n",
       "      <th>1</th>\n",
       "      <td>2</td>\n",
       "      <td>Adelie</td>\n",
       "      <td>Torgersen</td>\n",
       "      <td>40.3</td>\n",
       "      <td>18.0</td>\n",
       "      <td>195.0</td>\n",
       "      <td>3250.0</td>\n",
       "      <td>female</td>\n",
       "      <td>2007</td>\n",
       "    </tr>\n",
       "    <tr>\n",
       "      <th>2</th>\n",
       "      <td>3</td>\n",
       "      <td>Adelie</td>\n",
       "      <td>Torgersen</td>\n",
       "      <td>NaN</td>\n",
       "      <td>NaN</td>\n",
       "      <td>NaN</td>\n",
       "      <td>NaN</td>\n",
       "      <td>NaN</td>\n",
       "      <td>2007</td>\n",
       "    </tr>\n",
       "    <tr>\n",
       "      <th>3</th>\n",
       "      <td>4</td>\n",
       "      <td>Adelie</td>\n",
       "      <td>Torgersen</td>\n",
       "      <td>36.7</td>\n",
       "      <td>19.3</td>\n",
       "      <td>193.0</td>\n",
       "      <td>3450.0</td>\n",
       "      <td>female</td>\n",
       "      <td>2007</td>\n",
       "    </tr>\n",
       "    <tr>\n",
       "      <th>4</th>\n",
       "      <td>5</td>\n",
       "      <td>Adelie</td>\n",
       "      <td>Torgersen</td>\n",
       "      <td>39.3</td>\n",
       "      <td>20.6</td>\n",
       "      <td>190.0</td>\n",
       "      <td>3650.0</td>\n",
       "      <td>male</td>\n",
       "      <td>2007</td>\n",
       "    </tr>\n",
       "  </tbody>\n",
       "</table>\n",
       "</div>"
      ],
      "text/plain": [
       "   0  Adelie  Torgersen  39.1  18.7  181.0  3750.0    male  2007\n",
       "0  1  Adelie  Torgersen  39.5  17.4  186.0  3800.0  female  2007\n",
       "1  2  Adelie  Torgersen  40.3  18.0  195.0  3250.0  female  2007\n",
       "2  3  Adelie  Torgersen   NaN   NaN    NaN     NaN     NaN  2007\n",
       "3  4  Adelie  Torgersen  36.7  19.3  193.0  3450.0  female  2007\n",
       "4  5  Adelie  Torgersen  39.3  20.6  190.0  3650.0    male  2007"
      ]
     },
     "execution_count": 19,
     "metadata": {},
     "output_type": "execute_result"
    }
   ],
   "source": [
    "pd.read_csv('./data/palmer_data.csv').head()"
   ]
  },
  {
   "cell_type": "markdown",
   "metadata": {},
   "source": [
    "Pandas creates, what are called dataframes when you read in data. They have 3 main components. An index (the rownames), columns (column names) and values (data). \n",
    "\n",
    "The default nature of read_csv() is to interpret the first row of the data as the header, and to treat every column as a part of the data. It just sets the index to [0,nrows).\n",
    "\n",
    "In the case of the data I read in above, you can see that the first row of output is bolded, but looks like data, not column names. "
   ]
  },
  {
   "cell_type": "code",
   "execution_count": 20,
   "metadata": {
    "ExecuteTime": {
     "end_time": "2019-05-14T23:13:20.511778Z",
     "start_time": "2019-05-14T23:13:20.496929Z"
    },
    "scrolled": true
   },
   "outputs": [
    {
     "data": {
      "text/html": [
       "<div>\n",
       "<style scoped>\n",
       "    .dataframe tbody tr th:only-of-type {\n",
       "        vertical-align: middle;\n",
       "    }\n",
       "\n",
       "    .dataframe tbody tr th {\n",
       "        vertical-align: top;\n",
       "    }\n",
       "\n",
       "    .dataframe thead th {\n",
       "        text-align: right;\n",
       "    }\n",
       "</style>\n",
       "<table border=\"1\" class=\"dataframe\">\n",
       "  <thead>\n",
       "    <tr style=\"text-align: right;\">\n",
       "      <th></th>\n",
       "      <th>0</th>\n",
       "      <th>1</th>\n",
       "      <th>2</th>\n",
       "      <th>3</th>\n",
       "      <th>4</th>\n",
       "      <th>5</th>\n",
       "      <th>6</th>\n",
       "      <th>7</th>\n",
       "      <th>8</th>\n",
       "    </tr>\n",
       "  </thead>\n",
       "  <tbody>\n",
       "    <tr>\n",
       "      <th>0</th>\n",
       "      <td>0</td>\n",
       "      <td>Adelie</td>\n",
       "      <td>Torgersen</td>\n",
       "      <td>39.1</td>\n",
       "      <td>18.7</td>\n",
       "      <td>181.0</td>\n",
       "      <td>3750.0</td>\n",
       "      <td>male</td>\n",
       "      <td>2007</td>\n",
       "    </tr>\n",
       "    <tr>\n",
       "      <th>1</th>\n",
       "      <td>1</td>\n",
       "      <td>Adelie</td>\n",
       "      <td>Torgersen</td>\n",
       "      <td>39.5</td>\n",
       "      <td>17.4</td>\n",
       "      <td>186.0</td>\n",
       "      <td>3800.0</td>\n",
       "      <td>female</td>\n",
       "      <td>2007</td>\n",
       "    </tr>\n",
       "    <tr>\n",
       "      <th>2</th>\n",
       "      <td>2</td>\n",
       "      <td>Adelie</td>\n",
       "      <td>Torgersen</td>\n",
       "      <td>40.3</td>\n",
       "      <td>18.0</td>\n",
       "      <td>195.0</td>\n",
       "      <td>3250.0</td>\n",
       "      <td>female</td>\n",
       "      <td>2007</td>\n",
       "    </tr>\n",
       "    <tr>\n",
       "      <th>3</th>\n",
       "      <td>3</td>\n",
       "      <td>Adelie</td>\n",
       "      <td>Torgersen</td>\n",
       "      <td>NaN</td>\n",
       "      <td>NaN</td>\n",
       "      <td>NaN</td>\n",
       "      <td>NaN</td>\n",
       "      <td>NaN</td>\n",
       "      <td>2007</td>\n",
       "    </tr>\n",
       "    <tr>\n",
       "      <th>4</th>\n",
       "      <td>4</td>\n",
       "      <td>Adelie</td>\n",
       "      <td>Torgersen</td>\n",
       "      <td>36.7</td>\n",
       "      <td>19.3</td>\n",
       "      <td>193.0</td>\n",
       "      <td>3450.0</td>\n",
       "      <td>female</td>\n",
       "      <td>2007</td>\n",
       "    </tr>\n",
       "  </tbody>\n",
       "</table>\n",
       "</div>"
      ],
      "text/plain": [
       "   0       1          2     3     4      5       6       7     8\n",
       "0  0  Adelie  Torgersen  39.1  18.7  181.0  3750.0    male  2007\n",
       "1  1  Adelie  Torgersen  39.5  17.4  186.0  3800.0  female  2007\n",
       "2  2  Adelie  Torgersen  40.3  18.0  195.0  3250.0  female  2007\n",
       "3  3  Adelie  Torgersen   NaN   NaN    NaN     NaN     NaN  2007\n",
       "4  4  Adelie  Torgersen  36.7  19.3  193.0  3450.0  female  2007"
      ]
     },
     "execution_count": 20,
     "metadata": {},
     "output_type": "execute_result"
    }
   ],
   "source": [
    "pd.read_csv('./data/palmer_data.csv', header=None).head()"
   ]
  },
  {
   "cell_type": "markdown",
   "metadata": {},
   "source": [
    "Rather telling pandas that there is no header will read in the data correctly. Now you if you look at the first column, the one labeled 0, it has the same values as the index column. That is because this column is supposed to be the index."
   ]
  },
  {
   "cell_type": "code",
   "execution_count": 24,
   "metadata": {
    "ExecuteTime": {
     "end_time": "2019-05-14T23:16:29.808101Z",
     "start_time": "2019-05-14T23:16:29.793449Z"
    }
   },
   "outputs": [
    {
     "data": {
      "text/html": [
       "<div>\n",
       "<style scoped>\n",
       "    .dataframe tbody tr th:only-of-type {\n",
       "        vertical-align: middle;\n",
       "    }\n",
       "\n",
       "    .dataframe tbody tr th {\n",
       "        vertical-align: top;\n",
       "    }\n",
       "\n",
       "    .dataframe thead th {\n",
       "        text-align: right;\n",
       "    }\n",
       "</style>\n",
       "<table border=\"1\" class=\"dataframe\">\n",
       "  <thead>\n",
       "    <tr style=\"text-align: right;\">\n",
       "      <th></th>\n",
       "      <th>a</th>\n",
       "      <th>b</th>\n",
       "      <th>c</th>\n",
       "      <th>d</th>\n",
       "      <th>e</th>\n",
       "      <th>f</th>\n",
       "      <th>g</th>\n",
       "      <th>h</th>\n",
       "    </tr>\n",
       "  </thead>\n",
       "  <tbody>\n",
       "    <tr>\n",
       "      <th>0</th>\n",
       "      <td>Adelie</td>\n",
       "      <td>Torgersen</td>\n",
       "      <td>39.1</td>\n",
       "      <td>18.7</td>\n",
       "      <td>181.0</td>\n",
       "      <td>3750.0</td>\n",
       "      <td>male</td>\n",
       "      <td>2007</td>\n",
       "    </tr>\n",
       "    <tr>\n",
       "      <th>1</th>\n",
       "      <td>Adelie</td>\n",
       "      <td>Torgersen</td>\n",
       "      <td>39.5</td>\n",
       "      <td>17.4</td>\n",
       "      <td>186.0</td>\n",
       "      <td>3800.0</td>\n",
       "      <td>female</td>\n",
       "      <td>2007</td>\n",
       "    </tr>\n",
       "    <tr>\n",
       "      <th>2</th>\n",
       "      <td>Adelie</td>\n",
       "      <td>Torgersen</td>\n",
       "      <td>40.3</td>\n",
       "      <td>18.0</td>\n",
       "      <td>195.0</td>\n",
       "      <td>3250.0</td>\n",
       "      <td>female</td>\n",
       "      <td>2007</td>\n",
       "    </tr>\n",
       "    <tr>\n",
       "      <th>3</th>\n",
       "      <td>Adelie</td>\n",
       "      <td>Torgersen</td>\n",
       "      <td>NaN</td>\n",
       "      <td>NaN</td>\n",
       "      <td>NaN</td>\n",
       "      <td>NaN</td>\n",
       "      <td>NaN</td>\n",
       "      <td>2007</td>\n",
       "    </tr>\n",
       "    <tr>\n",
       "      <th>4</th>\n",
       "      <td>Adelie</td>\n",
       "      <td>Torgersen</td>\n",
       "      <td>36.7</td>\n",
       "      <td>19.3</td>\n",
       "      <td>193.0</td>\n",
       "      <td>3450.0</td>\n",
       "      <td>female</td>\n",
       "      <td>2007</td>\n",
       "    </tr>\n",
       "  </tbody>\n",
       "</table>\n",
       "</div>"
      ],
      "text/plain": [
       "        a          b     c     d      e       f       g     h\n",
       "0  Adelie  Torgersen  39.1  18.7  181.0  3750.0    male  2007\n",
       "1  Adelie  Torgersen  39.5  17.4  186.0  3800.0  female  2007\n",
       "2  Adelie  Torgersen  40.3  18.0  195.0  3250.0  female  2007\n",
       "3  Adelie  Torgersen   NaN   NaN    NaN     NaN     NaN  2007\n",
       "4  Adelie  Torgersen  36.7  19.3  193.0  3450.0  female  2007"
      ]
     },
     "execution_count": 24,
     "metadata": {},
     "output_type": "execute_result"
    }
   ],
   "source": [
    "pd.read_csv('./data/palmer_data.csv', \n",
    "            header=None, \n",
    "            index_col=0,\n",
    "            names=['a','b','c','d','e','f','g','h']).head()"
   ]
  },
  {
   "cell_type": "markdown",
   "metadata": {},
   "source": [
    "#### Tidy data"
   ]
  },
  {
   "cell_type": "markdown",
   "metadata": {},
   "source": [
    "Now you can see that the first column has been moved to the index location in the output.\n",
    "\n",
    "At this point you might notice and inconsistency between the way pandas is treating the index (rownames) and columns (column names). There is a specific reason for this. \n",
    "\n",
    "Pandas subscribes to a data format/philosophy known as tidy data. \n",
    "\n",
    "Jeff Leek in his book The Elements of Data Analytic Style summarizes the characteristics of tidy data as the points\n",
    "\n",
    "1. Each variable you measure should be in one column.\n",
    "2. Each different observation of that variable should be in a different row.\n",
    "3. There should be one table for each \"kind\" of variable.\n",
    "4. If you have multiple tables, they should include a column in the table that allows them to be linked.\n",
    "\n",
    "    (Tidy Data Wikipedia Article)[https://en.wikipedia.org/wiki/Tidy_data]\n",
    "    "
   ]
  },
  {
   "cell_type": "markdown",
   "metadata": {},
   "source": [
    "If you want to learn more about the penguin data that we are looking you can read about it [here](https://allisonhorst.github.io/palmerpenguins/articles/intro.html)\n",
    "\n",
    "<img src='https://allisonhorst.github.io/palmerpenguins/man/figures/lter_penguins.png' width='500px'>"
   ]
  },
  {
   "cell_type": "markdown",
   "metadata": {},
   "source": [
    "#### Review Questions and Mini Exercises"
   ]
  },
  {
   "cell_type": "markdown",
   "metadata": {},
   "source": [
    "1. When would you use `np.genfromtxt()` vs `pd.read_csv()`"
   ]
  },
  {
   "cell_type": "markdown",
   "metadata": {},
   "source": [
    "**Answer Here**"
   ]
  },
  {
   "cell_type": "markdown",
   "metadata": {},
   "source": [
    "2. What are the core principles of tidy data and why does expression data not work well for it?"
   ]
  },
  {
   "cell_type": "markdown",
   "metadata": {},
   "source": [
    "**Answer Here**"
   ]
  },
  {
   "cell_type": "markdown",
   "metadata": {
    "ExecuteTime": {
     "end_time": "2019-05-21T18:21:54.524501Z",
     "start_time": "2019-05-21T18:21:54.520851Z"
    }
   },
   "source": [
    "3. Read in diogo_data.csv properly and store as variable named as diogo1_df\n",
    "    1. None of the data should have Nan's and if it should be read in as a dataframe it should have the correct rownames and column names"
   ]
  },
  {
   "cell_type": "code",
   "execution_count": 32,
   "metadata": {},
   "outputs": [
    {
     "name": "stdout",
     "output_type": "stream",
     "text": [
      "Current Date - 19-JAN-2018\n",
      "Instrument Serial Number - 8470050176\n",
      "Software Name - ExpressPro\n",
      "Version Number - 2.2.3\n",
      "\n",
      "\n",
      ",,,,,,,Plot2,,,,P2.M1 (Plot2),,,,,,,,,Gains,,,,,,,Compensation,,,,,,,,,,,,, , , , , , , , , , , , , , , , , ,,,,,,,,\n",
      "Sample Number,Sample ID,Number of Events,Termination Count,Count Gate,Dilution Factor,Original Volume,Type,Params,Gated On,%Gated,%Gated,Cells/L,Total Volume (L),Acquisition Time (s),Date of Acquisition,Time of Acquisition,Date of Analysis,Time of Analysis,FSC Gain,SSC,GRN,YEL,RED,NIR,RED2,NIR2,GRN - %YEL,YEL - %GRN,RED - %YEL,YEL - %RED,RED - %NIR,NIR - %RED,YEL - %NIR,NIR - %YEL,GRN - %RED,RED - %GRN,GRN - %NIR,NIR - %GRN,RED2 - %YEL, YEL - %RED2, RED2 - %RED, RED - %RED2, RED2 - %GRN, GRN - %RED2, RED2 - %NIR, NIR - %RED2, RED2 - %NIR2, NIR2 - %RED2,NIR2 - %YEL, YEL - %NIR2, NIR2 - %RED, RED - %NIR2, NIR2 - %GRN, GRN - %NIR2, NIR2 - %NIR, NIR - %NIR2,Threshold Parameter,Threshold Value,Flow Rate (L/s),High Concentration Warning Trigger,# of Errors & Warnings,User Login Name,User Full Name, WorkList\n",
      " 1, D02, 3002, 5000, All Events, 1.00, 10.00,DotPlot,Yellow Fluorescence (YEL-HLog) vs Green Fluorescence (GRN-HLog),Gate 1,100.00,0.00, 84.08, 35.71, 60.5, 19-JAN-2018, 09:20:17, 19-JAN-2018, 09:36:12, 9.9, 20.7, 3.1, 1.0, 1.9, 8.0, 8.0, 8.0, 0.0, 0.0, 0.0, 0.0, 0.0, 0.0, 0.0, 0.0, 0.0, 0.0, 0.0, 0.0, 0.0, 0.0, 0.0, 0.0, 0.0, 0.0, 0.0, 0.0, 0.0, 0.0, 0.0, 0.0, 0.0, 0.0, 0.0, 0.0, 0.0, 0.0, FSC-HLin, 353, 0.59, 500, 1, DESKTOP-9MNKV60\\User, Unknown,C:\\Users\\User\\Desktop\\Guava\\Diogo\\20180119_SUIT2_CAS9_TITR_D3.PRO.gwl\n",
      " 2, D03, 2973, 5000, All Events, 1.00, 10.00,DotPlot,Yellow Fluorescence (YEL-HLog) vs Green Fluorescence (GRN-HLog),Gate 1,100.00,2.16, 83.26, 35.71, 60.5, 19-JAN-2018, 09:21:52, 19-JAN-2018, 09:36:24, 9.9, 20.7, 3.1, 1.0, 1.9, 8.0, 8.0, 8.0, 0.0, 0.0, 0.0, 0.0, 0.0, 0.0, 0.0, 0.0, 0.0, 0.0, 0.0, 0.0, 0.0, 0.0, 0.0, 0.0, 0.0, 0.0, 0.0, 0.0, 0.0, 0.0, 0.0, 0.0, 0.0, 0.0, 0.0, 0.0, 0.0, 0.0, FSC-HLin, 353, 0.59, 500, 1, DESKTOP-9MNKV60\\User, Unknown,C:\\Users\\User\\Desktop\\Guava\\Diogo\\20180119_SUIT2_CAS9_TITR_D3.PRO.gwl\n"
     ]
    }
   ],
   "source": [
    "!head data/diogo_data.csv"
   ]
  },
  {
   "cell_type": "code",
   "execution_count": 36,
   "metadata": {
    "ExecuteTime": {
     "end_time": "2019-06-01T15:18:53.268566Z",
     "start_time": "2019-06-01T15:18:53.231949Z"
    }
   },
   "outputs": [
    {
     "data": {
      "text/html": [
       "<div>\n",
       "<style scoped>\n",
       "    .dataframe tbody tr th:only-of-type {\n",
       "        vertical-align: middle;\n",
       "    }\n",
       "\n",
       "    .dataframe tbody tr th {\n",
       "        vertical-align: top;\n",
       "    }\n",
       "\n",
       "    .dataframe thead th {\n",
       "        text-align: right;\n",
       "    }\n",
       "</style>\n",
       "<table border=\"1\" class=\"dataframe\">\n",
       "  <thead>\n",
       "    <tr style=\"text-align: right;\">\n",
       "      <th></th>\n",
       "      <th>Sample ID</th>\n",
       "      <th>Number of Events</th>\n",
       "      <th>Termination Count</th>\n",
       "      <th>Count Gate</th>\n",
       "      <th>Dilution Factor</th>\n",
       "      <th>Original Volume</th>\n",
       "      <th>Type</th>\n",
       "      <th>Params</th>\n",
       "      <th>Gated On</th>\n",
       "      <th>%Gated</th>\n",
       "      <th>...</th>\n",
       "      <th>NIR2 - %NIR</th>\n",
       "      <th>NIR - %NIR2</th>\n",
       "      <th>Threshold Parameter</th>\n",
       "      <th>Threshold Value</th>\n",
       "      <th>Flow Rate (L/s)</th>\n",
       "      <th>High Concentration Warning Trigger</th>\n",
       "      <th># of Errors &amp; Warnings</th>\n",
       "      <th>User Login Name</th>\n",
       "      <th>User Full Name</th>\n",
       "      <th>WorkList</th>\n",
       "    </tr>\n",
       "    <tr>\n",
       "      <th>Sample Number</th>\n",
       "      <th></th>\n",
       "      <th></th>\n",
       "      <th></th>\n",
       "      <th></th>\n",
       "      <th></th>\n",
       "      <th></th>\n",
       "      <th></th>\n",
       "      <th></th>\n",
       "      <th></th>\n",
       "      <th></th>\n",
       "      <th></th>\n",
       "      <th></th>\n",
       "      <th></th>\n",
       "      <th></th>\n",
       "      <th></th>\n",
       "      <th></th>\n",
       "      <th></th>\n",
       "      <th></th>\n",
       "      <th></th>\n",
       "      <th></th>\n",
       "      <th></th>\n",
       "    </tr>\n",
       "  </thead>\n",
       "  <tbody>\n",
       "    <tr>\n",
       "      <th>1</th>\n",
       "      <td>D02</td>\n",
       "      <td>3002</td>\n",
       "      <td>5000</td>\n",
       "      <td>All Events</td>\n",
       "      <td>1.0</td>\n",
       "      <td>10.0</td>\n",
       "      <td>DotPlot</td>\n",
       "      <td>Yellow Fluorescence (YEL-HLog) vs Green Fluore...</td>\n",
       "      <td>Gate 1</td>\n",
       "      <td>100.0</td>\n",
       "      <td>...</td>\n",
       "      <td>0.0</td>\n",
       "      <td>0.0</td>\n",
       "      <td>FSC-HLin</td>\n",
       "      <td>353</td>\n",
       "      <td>0.59</td>\n",
       "      <td>500</td>\n",
       "      <td>1</td>\n",
       "      <td>DESKTOP-9MNKV60\\User</td>\n",
       "      <td>Unknown</td>\n",
       "      <td>C:\\Users\\User\\Desktop\\Guava\\Diogo\\20180119_SUI...</td>\n",
       "    </tr>\n",
       "    <tr>\n",
       "      <th>2</th>\n",
       "      <td>D03</td>\n",
       "      <td>2973</td>\n",
       "      <td>5000</td>\n",
       "      <td>All Events</td>\n",
       "      <td>1.0</td>\n",
       "      <td>10.0</td>\n",
       "      <td>DotPlot</td>\n",
       "      <td>Yellow Fluorescence (YEL-HLog) vs Green Fluore...</td>\n",
       "      <td>Gate 1</td>\n",
       "      <td>100.0</td>\n",
       "      <td>...</td>\n",
       "      <td>0.0</td>\n",
       "      <td>0.0</td>\n",
       "      <td>FSC-HLin</td>\n",
       "      <td>353</td>\n",
       "      <td>0.59</td>\n",
       "      <td>500</td>\n",
       "      <td>1</td>\n",
       "      <td>DESKTOP-9MNKV60\\User</td>\n",
       "      <td>Unknown</td>\n",
       "      <td>C:\\Users\\User\\Desktop\\Guava\\Diogo\\20180119_SUI...</td>\n",
       "    </tr>\n",
       "    <tr>\n",
       "      <th>3</th>\n",
       "      <td>D04</td>\n",
       "      <td>3234</td>\n",
       "      <td>5000</td>\n",
       "      <td>All Events</td>\n",
       "      <td>1.0</td>\n",
       "      <td>10.0</td>\n",
       "      <td>DotPlot</td>\n",
       "      <td>Yellow Fluorescence (YEL-HLog) vs Green Fluore...</td>\n",
       "      <td>Gate 1</td>\n",
       "      <td>100.0</td>\n",
       "      <td>...</td>\n",
       "      <td>0.0</td>\n",
       "      <td>0.0</td>\n",
       "      <td>FSC-HLin</td>\n",
       "      <td>353</td>\n",
       "      <td>0.59</td>\n",
       "      <td>500</td>\n",
       "      <td>1</td>\n",
       "      <td>DESKTOP-9MNKV60\\User</td>\n",
       "      <td>Unknown</td>\n",
       "      <td>C:\\Users\\User\\Desktop\\Guava\\Diogo\\20180119_SUI...</td>\n",
       "    </tr>\n",
       "    <tr>\n",
       "      <th>4</th>\n",
       "      <td>D05</td>\n",
       "      <td>3045</td>\n",
       "      <td>5000</td>\n",
       "      <td>All Events</td>\n",
       "      <td>1.0</td>\n",
       "      <td>10.0</td>\n",
       "      <td>DotPlot</td>\n",
       "      <td>Yellow Fluorescence (YEL-HLog) vs Green Fluore...</td>\n",
       "      <td>Gate 1</td>\n",
       "      <td>100.0</td>\n",
       "      <td>...</td>\n",
       "      <td>0.0</td>\n",
       "      <td>0.0</td>\n",
       "      <td>FSC-HLin</td>\n",
       "      <td>353</td>\n",
       "      <td>0.59</td>\n",
       "      <td>500</td>\n",
       "      <td>1</td>\n",
       "      <td>DESKTOP-9MNKV60\\User</td>\n",
       "      <td>Unknown</td>\n",
       "      <td>C:\\Users\\User\\Desktop\\Guava\\Diogo\\20180119_SUI...</td>\n",
       "    </tr>\n",
       "    <tr>\n",
       "      <th>5</th>\n",
       "      <td>D06</td>\n",
       "      <td>3135</td>\n",
       "      <td>5000</td>\n",
       "      <td>All Events</td>\n",
       "      <td>1.0</td>\n",
       "      <td>10.0</td>\n",
       "      <td>DotPlot</td>\n",
       "      <td>Yellow Fluorescence (YEL-HLog) vs Green Fluore...</td>\n",
       "      <td>Gate 1</td>\n",
       "      <td>100.0</td>\n",
       "      <td>...</td>\n",
       "      <td>0.0</td>\n",
       "      <td>0.0</td>\n",
       "      <td>FSC-HLin</td>\n",
       "      <td>353</td>\n",
       "      <td>0.59</td>\n",
       "      <td>500</td>\n",
       "      <td>1</td>\n",
       "      <td>DESKTOP-9MNKV60\\User</td>\n",
       "      <td>Unknown</td>\n",
       "      <td>C:\\Users\\User\\Desktop\\Guava\\Diogo\\20180119_SUI...</td>\n",
       "    </tr>\n",
       "    <tr>\n",
       "      <th>6</th>\n",
       "      <td>D07</td>\n",
       "      <td>3418</td>\n",
       "      <td>5000</td>\n",
       "      <td>All Events</td>\n",
       "      <td>1.0</td>\n",
       "      <td>10.0</td>\n",
       "      <td>DotPlot</td>\n",
       "      <td>Yellow Fluorescence (YEL-HLog) vs Green Fluore...</td>\n",
       "      <td>Gate 1</td>\n",
       "      <td>100.0</td>\n",
       "      <td>...</td>\n",
       "      <td>0.0</td>\n",
       "      <td>0.0</td>\n",
       "      <td>FSC-HLin</td>\n",
       "      <td>353</td>\n",
       "      <td>0.59</td>\n",
       "      <td>500</td>\n",
       "      <td>1</td>\n",
       "      <td>DESKTOP-9MNKV60\\User</td>\n",
       "      <td>Unknown</td>\n",
       "      <td>C:\\Users\\User\\Desktop\\Guava\\Diogo\\20180119_SUI...</td>\n",
       "    </tr>\n",
       "    <tr>\n",
       "      <th>7</th>\n",
       "      <td>D08</td>\n",
       "      <td>3697</td>\n",
       "      <td>5000</td>\n",
       "      <td>All Events</td>\n",
       "      <td>1.0</td>\n",
       "      <td>10.0</td>\n",
       "      <td>DotPlot</td>\n",
       "      <td>Yellow Fluorescence (YEL-HLog) vs Green Fluore...</td>\n",
       "      <td>Gate 1</td>\n",
       "      <td>100.0</td>\n",
       "      <td>...</td>\n",
       "      <td>0.0</td>\n",
       "      <td>0.0</td>\n",
       "      <td>FSC-HLin</td>\n",
       "      <td>353</td>\n",
       "      <td>0.59</td>\n",
       "      <td>500</td>\n",
       "      <td>1</td>\n",
       "      <td>DESKTOP-9MNKV60\\User</td>\n",
       "      <td>Unknown</td>\n",
       "      <td>C:\\Users\\User\\Desktop\\Guava\\Diogo\\20180119_SUI...</td>\n",
       "    </tr>\n",
       "    <tr>\n",
       "      <th>8</th>\n",
       "      <td>D09</td>\n",
       "      <td>3530</td>\n",
       "      <td>5000</td>\n",
       "      <td>All Events</td>\n",
       "      <td>1.0</td>\n",
       "      <td>10.0</td>\n",
       "      <td>DotPlot</td>\n",
       "      <td>Yellow Fluorescence (YEL-HLog) vs Green Fluore...</td>\n",
       "      <td>Gate 1</td>\n",
       "      <td>100.0</td>\n",
       "      <td>...</td>\n",
       "      <td>0.0</td>\n",
       "      <td>0.0</td>\n",
       "      <td>FSC-HLin</td>\n",
       "      <td>353</td>\n",
       "      <td>0.59</td>\n",
       "      <td>500</td>\n",
       "      <td>1</td>\n",
       "      <td>DESKTOP-9MNKV60\\User</td>\n",
       "      <td>Unknown</td>\n",
       "      <td>C:\\Users\\User\\Desktop\\Guava\\Diogo\\20180119_SUI...</td>\n",
       "    </tr>\n",
       "    <tr>\n",
       "      <th>9</th>\n",
       "      <td>D10</td>\n",
       "      <td>3415</td>\n",
       "      <td>5000</td>\n",
       "      <td>All Events</td>\n",
       "      <td>1.0</td>\n",
       "      <td>10.0</td>\n",
       "      <td>DotPlot</td>\n",
       "      <td>Yellow Fluorescence (YEL-HLog) vs Green Fluore...</td>\n",
       "      <td>Gate 1</td>\n",
       "      <td>100.0</td>\n",
       "      <td>...</td>\n",
       "      <td>0.0</td>\n",
       "      <td>0.0</td>\n",
       "      <td>FSC-HLin</td>\n",
       "      <td>353</td>\n",
       "      <td>0.59</td>\n",
       "      <td>500</td>\n",
       "      <td>1</td>\n",
       "      <td>DESKTOP-9MNKV60\\User</td>\n",
       "      <td>Unknown</td>\n",
       "      <td>C:\\Users\\User\\Desktop\\Guava\\Diogo\\20180119_SUI...</td>\n",
       "    </tr>\n",
       "  </tbody>\n",
       "</table>\n",
       "<p>9 rows × 64 columns</p>\n",
       "</div>"
      ],
      "text/plain": [
       "              Sample ID  Number of Events  Termination Count   Count Gate  \\\n",
       "Sample Number                                                               \n",
       "1                   D02              3002               5000   All Events   \n",
       "2                   D03              2973               5000   All Events   \n",
       "3                   D04              3234               5000   All Events   \n",
       "4                   D05              3045               5000   All Events   \n",
       "5                   D06              3135               5000   All Events   \n",
       "6                   D07              3418               5000   All Events   \n",
       "7                   D08              3697               5000   All Events   \n",
       "8                   D09              3530               5000   All Events   \n",
       "9                   D10              3415               5000   All Events   \n",
       "\n",
       "               Dilution Factor  Original Volume     Type  \\\n",
       "Sample Number                                              \n",
       "1                          1.0             10.0  DotPlot   \n",
       "2                          1.0             10.0  DotPlot   \n",
       "3                          1.0             10.0  DotPlot   \n",
       "4                          1.0             10.0  DotPlot   \n",
       "5                          1.0             10.0  DotPlot   \n",
       "6                          1.0             10.0  DotPlot   \n",
       "7                          1.0             10.0  DotPlot   \n",
       "8                          1.0             10.0  DotPlot   \n",
       "9                          1.0             10.0  DotPlot   \n",
       "\n",
       "                                                          Params Gated On  \\\n",
       "Sample Number                                                               \n",
       "1              Yellow Fluorescence (YEL-HLog) vs Green Fluore...   Gate 1   \n",
       "2              Yellow Fluorescence (YEL-HLog) vs Green Fluore...   Gate 1   \n",
       "3              Yellow Fluorescence (YEL-HLog) vs Green Fluore...   Gate 1   \n",
       "4              Yellow Fluorescence (YEL-HLog) vs Green Fluore...   Gate 1   \n",
       "5              Yellow Fluorescence (YEL-HLog) vs Green Fluore...   Gate 1   \n",
       "6              Yellow Fluorescence (YEL-HLog) vs Green Fluore...   Gate 1   \n",
       "7              Yellow Fluorescence (YEL-HLog) vs Green Fluore...   Gate 1   \n",
       "8              Yellow Fluorescence (YEL-HLog) vs Green Fluore...   Gate 1   \n",
       "9              Yellow Fluorescence (YEL-HLog) vs Green Fluore...   Gate 1   \n",
       "\n",
       "               %Gated  ...   NIR2 - %NIR   NIR - %NIR2  Threshold Parameter  \\\n",
       "Sample Number          ...                                                    \n",
       "1               100.0  ...           0.0           0.0             FSC-HLin   \n",
       "2               100.0  ...           0.0           0.0             FSC-HLin   \n",
       "3               100.0  ...           0.0           0.0             FSC-HLin   \n",
       "4               100.0  ...           0.0           0.0             FSC-HLin   \n",
       "5               100.0  ...           0.0           0.0             FSC-HLin   \n",
       "6               100.0  ...           0.0           0.0             FSC-HLin   \n",
       "7               100.0  ...           0.0           0.0             FSC-HLin   \n",
       "8               100.0  ...           0.0           0.0             FSC-HLin   \n",
       "9               100.0  ...           0.0           0.0             FSC-HLin   \n",
       "\n",
       "               Threshold Value Flow Rate (L/s)  \\\n",
       "Sample Number                                    \n",
       "1                          353            0.59   \n",
       "2                          353            0.59   \n",
       "3                          353            0.59   \n",
       "4                          353            0.59   \n",
       "5                          353            0.59   \n",
       "6                          353            0.59   \n",
       "7                          353            0.59   \n",
       "8                          353            0.59   \n",
       "9                          353            0.59   \n",
       "\n",
       "              High Concentration Warning Trigger # of Errors & Warnings  \\\n",
       "Sample Number                                                             \n",
       "1                                            500                      1   \n",
       "2                                            500                      1   \n",
       "3                                            500                      1   \n",
       "4                                            500                      1   \n",
       "5                                            500                      1   \n",
       "6                                            500                      1   \n",
       "7                                            500                      1   \n",
       "8                                            500                      1   \n",
       "9                                            500                      1   \n",
       "\n",
       "                     User Login Name  User Full Name  \\\n",
       "Sample Number                                          \n",
       "1               DESKTOP-9MNKV60\\User         Unknown   \n",
       "2               DESKTOP-9MNKV60\\User         Unknown   \n",
       "3               DESKTOP-9MNKV60\\User         Unknown   \n",
       "4               DESKTOP-9MNKV60\\User         Unknown   \n",
       "5               DESKTOP-9MNKV60\\User         Unknown   \n",
       "6               DESKTOP-9MNKV60\\User         Unknown   \n",
       "7               DESKTOP-9MNKV60\\User         Unknown   \n",
       "8               DESKTOP-9MNKV60\\User         Unknown   \n",
       "9               DESKTOP-9MNKV60\\User         Unknown   \n",
       "\n",
       "                                                        WorkList  \n",
       "Sample Number                                                     \n",
       "1              C:\\Users\\User\\Desktop\\Guava\\Diogo\\20180119_SUI...  \n",
       "2              C:\\Users\\User\\Desktop\\Guava\\Diogo\\20180119_SUI...  \n",
       "3              C:\\Users\\User\\Desktop\\Guava\\Diogo\\20180119_SUI...  \n",
       "4              C:\\Users\\User\\Desktop\\Guava\\Diogo\\20180119_SUI...  \n",
       "5              C:\\Users\\User\\Desktop\\Guava\\Diogo\\20180119_SUI...  \n",
       "6              C:\\Users\\User\\Desktop\\Guava\\Diogo\\20180119_SUI...  \n",
       "7              C:\\Users\\User\\Desktop\\Guava\\Diogo\\20180119_SUI...  \n",
       "8              C:\\Users\\User\\Desktop\\Guava\\Diogo\\20180119_SUI...  \n",
       "9              C:\\Users\\User\\Desktop\\Guava\\Diogo\\20180119_SUI...  \n",
       "\n",
       "[9 rows x 64 columns]"
      ]
     },
     "execution_count": 36,
     "metadata": {},
     "output_type": "execute_result"
    }
   ],
   "source": [
    "diogo1_df = pd.read_csv('data/diogo_data.csv',skiprows=7, index_col='Sample Number')\n",
    "diogo1_df"
   ]
  },
  {
   "cell_type": "markdown",
   "metadata": {
    "ExecuteTime": {
     "end_time": "2019-06-10T14:32:06.683816Z",
     "start_time": "2019-06-10T14:32:06.676021Z"
    }
   },
   "source": [
    "4. Read in centroids_1.csv properly and store in variable names centroids_1_df"
   ]
  },
  {
   "cell_type": "code",
   "execution_count": 37,
   "metadata": {
    "ExecuteTime": {
     "end_time": "2019-06-11T03:35:49.142137Z",
     "start_time": "2019-06-11T03:35:49.125867Z"
    }
   },
   "outputs": [
    {
     "name": "stdout",
     "output_type": "stream",
     "text": [
      ",Cacna1a,Ogt,MGE_score,CGE_score\n",
      "Astro_Aqp4,3.330592909341582,1069.8812985748166,56.744698,134.1608\n",
      "CR_Lhx5,46.56341095770166,334.38053776646757,108.58776,89.69111\n",
      "Endo_Ctla2a,2.9541868292734157,268.51079297476684,109.07178,35.006626\n",
      "Endo_Cytl1,0.0,489.1354487087236,77.36636,20.236998\n",
      "L2.3_IT_ALM_Sla,22.197142191933263,364.5264017741929,209.10109,100.46608\n",
      "L2.3_IT_VISp_Adamts2,25.74983203271572,437.2845105117241,194.84566,120.4393\n",
      "L2.3_IT_VISp_Agmat,34.7372723183529,421.1552711629804,188.07994,116.31763\n",
      "L2.3_IT_VISp_Rrad,27.975998757924263,428.4503448702847,190.27806,142.51044\n",
      "L4_IT_VISp_Rspo1,75.7229999606843,601.0837422657264,182.17783,140.72147\n"
     ]
    }
   ],
   "source": [
    "!head data/centroids_numerical.csv"
   ]
  },
  {
   "cell_type": "code",
   "execution_count": 39,
   "metadata": {},
   "outputs": [
    {
     "data": {
      "text/html": [
       "<div>\n",
       "<style scoped>\n",
       "    .dataframe tbody tr th:only-of-type {\n",
       "        vertical-align: middle;\n",
       "    }\n",
       "\n",
       "    .dataframe tbody tr th {\n",
       "        vertical-align: top;\n",
       "    }\n",
       "\n",
       "    .dataframe thead th {\n",
       "        text-align: right;\n",
       "    }\n",
       "</style>\n",
       "<table border=\"1\" class=\"dataframe\">\n",
       "  <thead>\n",
       "    <tr style=\"text-align: right;\">\n",
       "      <th></th>\n",
       "      <th>Cacna1a</th>\n",
       "      <th>Ogt</th>\n",
       "      <th>MGE_score</th>\n",
       "      <th>CGE_score</th>\n",
       "    </tr>\n",
       "  </thead>\n",
       "  <tbody>\n",
       "    <tr>\n",
       "      <th>Astro_Aqp4</th>\n",
       "      <td>3.330593</td>\n",
       "      <td>1069.881299</td>\n",
       "      <td>56.744698</td>\n",
       "      <td>134.160800</td>\n",
       "    </tr>\n",
       "    <tr>\n",
       "      <th>CR_Lhx5</th>\n",
       "      <td>46.563411</td>\n",
       "      <td>334.380538</td>\n",
       "      <td>108.587760</td>\n",
       "      <td>89.691110</td>\n",
       "    </tr>\n",
       "    <tr>\n",
       "      <th>Endo_Ctla2a</th>\n",
       "      <td>2.954187</td>\n",
       "      <td>268.510793</td>\n",
       "      <td>109.071780</td>\n",
       "      <td>35.006626</td>\n",
       "    </tr>\n",
       "    <tr>\n",
       "      <th>Endo_Cytl1</th>\n",
       "      <td>0.000000</td>\n",
       "      <td>489.135449</td>\n",
       "      <td>77.366360</td>\n",
       "      <td>20.236998</td>\n",
       "    </tr>\n",
       "    <tr>\n",
       "      <th>L2.3_IT_ALM_Sla</th>\n",
       "      <td>22.197142</td>\n",
       "      <td>364.526402</td>\n",
       "      <td>209.101090</td>\n",
       "      <td>100.466080</td>\n",
       "    </tr>\n",
       "    <tr>\n",
       "      <th>...</th>\n",
       "      <td>...</td>\n",
       "      <td>...</td>\n",
       "      <td>...</td>\n",
       "      <td>...</td>\n",
       "    </tr>\n",
       "    <tr>\n",
       "      <th>Sst_Tac2_Tacstd2</th>\n",
       "      <td>11.289576</td>\n",
       "      <td>280.489303</td>\n",
       "      <td>389.039640</td>\n",
       "      <td>52.225754</td>\n",
       "    </tr>\n",
       "    <tr>\n",
       "      <th>VLMC_Osr1_Cd74</th>\n",
       "      <td>4.490497</td>\n",
       "      <td>367.085668</td>\n",
       "      <td>83.957660</td>\n",
       "      <td>35.948875</td>\n",
       "    </tr>\n",
       "    <tr>\n",
       "      <th>VLMC_Osr1_Mc5r</th>\n",
       "      <td>1.959513</td>\n",
       "      <td>491.901526</td>\n",
       "      <td>29.655714</td>\n",
       "      <td>30.541874</td>\n",
       "    </tr>\n",
       "    <tr>\n",
       "      <th>VLMC_Spp1_Col15a1</th>\n",
       "      <td>9.683650</td>\n",
       "      <td>768.127910</td>\n",
       "      <td>45.826790</td>\n",
       "      <td>29.397020</td>\n",
       "    </tr>\n",
       "    <tr>\n",
       "      <th>VLMC_Spp1_Hs3st6</th>\n",
       "      <td>32.513315</td>\n",
       "      <td>390.779404</td>\n",
       "      <td>16.472464</td>\n",
       "      <td>20.580782</td>\n",
       "    </tr>\n",
       "  </tbody>\n",
       "</table>\n",
       "<p>100 rows × 4 columns</p>\n",
       "</div>"
      ],
      "text/plain": [
       "                     Cacna1a          Ogt   MGE_score   CGE_score\n",
       "Astro_Aqp4          3.330593  1069.881299   56.744698  134.160800\n",
       "CR_Lhx5            46.563411   334.380538  108.587760   89.691110\n",
       "Endo_Ctla2a         2.954187   268.510793  109.071780   35.006626\n",
       "Endo_Cytl1          0.000000   489.135449   77.366360   20.236998\n",
       "L2.3_IT_ALM_Sla    22.197142   364.526402  209.101090  100.466080\n",
       "...                      ...          ...         ...         ...\n",
       "Sst_Tac2_Tacstd2   11.289576   280.489303  389.039640   52.225754\n",
       "VLMC_Osr1_Cd74      4.490497   367.085668   83.957660   35.948875\n",
       "VLMC_Osr1_Mc5r      1.959513   491.901526   29.655714   30.541874\n",
       "VLMC_Spp1_Col15a1   9.683650   768.127910   45.826790   29.397020\n",
       "VLMC_Spp1_Hs3st6   32.513315   390.779404   16.472464   20.580782\n",
       "\n",
       "[100 rows x 4 columns]"
      ]
     },
     "execution_count": 39,
     "metadata": {},
     "output_type": "execute_result"
    }
   ],
   "source": [
    "centroids_1_df = pd.read_csv('data/centroids_numerical.csv', index_col=0)\n",
    "centroids_1_df"
   ]
  },
  {
   "cell_type": "markdown",
   "metadata": {},
   "source": [
    "### Processing data"
   ]
  },
  {
   "cell_type": "code",
   "execution_count": 27,
   "metadata": {},
   "outputs": [],
   "source": [
    "from palmerpenguins import load_penguins\n",
    "df = load_penguins()"
   ]
  },
  {
   "cell_type": "markdown",
   "metadata": {
    "ExecuteTime": {
     "end_time": "2019-05-16T03:34:38.160324Z",
     "start_time": "2019-05-16T03:34:38.157687Z"
    }
   },
   "source": [
    "#### Groupings need to be listed as a column"
   ]
  },
  {
   "cell_type": "code",
   "execution_count": 31,
   "metadata": {
    "ExecuteTime": {
     "end_time": "2019-05-16T03:34:41.555184Z",
     "start_time": "2019-05-16T03:34:41.543826Z"
    }
   },
   "outputs": [
    {
     "data": {
      "text/html": [
       "<div>\n",
       "<style scoped>\n",
       "    .dataframe tbody tr th:only-of-type {\n",
       "        vertical-align: middle;\n",
       "    }\n",
       "\n",
       "    .dataframe tbody tr th {\n",
       "        vertical-align: top;\n",
       "    }\n",
       "\n",
       "    .dataframe thead th {\n",
       "        text-align: right;\n",
       "    }\n",
       "</style>\n",
       "<table border=\"1\" class=\"dataframe\">\n",
       "  <thead>\n",
       "    <tr style=\"text-align: right;\">\n",
       "      <th></th>\n",
       "      <th>species</th>\n",
       "      <th>island</th>\n",
       "      <th>bill_length_mm</th>\n",
       "      <th>bill_depth_mm</th>\n",
       "      <th>flipper_length_mm</th>\n",
       "      <th>body_mass_g</th>\n",
       "      <th>sex</th>\n",
       "      <th>year</th>\n",
       "    </tr>\n",
       "  </thead>\n",
       "  <tbody>\n",
       "    <tr>\n",
       "      <th>0</th>\n",
       "      <td>Adelie</td>\n",
       "      <td>Torgersen</td>\n",
       "      <td>39.1</td>\n",
       "      <td>18.7</td>\n",
       "      <td>181.0</td>\n",
       "      <td>3750.0</td>\n",
       "      <td>male</td>\n",
       "      <td>2007</td>\n",
       "    </tr>\n",
       "    <tr>\n",
       "      <th>1</th>\n",
       "      <td>Adelie</td>\n",
       "      <td>Torgersen</td>\n",
       "      <td>39.5</td>\n",
       "      <td>17.4</td>\n",
       "      <td>186.0</td>\n",
       "      <td>3800.0</td>\n",
       "      <td>female</td>\n",
       "      <td>2007</td>\n",
       "    </tr>\n",
       "    <tr>\n",
       "      <th>2</th>\n",
       "      <td>Adelie</td>\n",
       "      <td>Torgersen</td>\n",
       "      <td>40.3</td>\n",
       "      <td>18.0</td>\n",
       "      <td>195.0</td>\n",
       "      <td>3250.0</td>\n",
       "      <td>female</td>\n",
       "      <td>2007</td>\n",
       "    </tr>\n",
       "    <tr>\n",
       "      <th>3</th>\n",
       "      <td>Adelie</td>\n",
       "      <td>Torgersen</td>\n",
       "      <td>NaN</td>\n",
       "      <td>NaN</td>\n",
       "      <td>NaN</td>\n",
       "      <td>NaN</td>\n",
       "      <td>NaN</td>\n",
       "      <td>2007</td>\n",
       "    </tr>\n",
       "    <tr>\n",
       "      <th>4</th>\n",
       "      <td>Adelie</td>\n",
       "      <td>Torgersen</td>\n",
       "      <td>36.7</td>\n",
       "      <td>19.3</td>\n",
       "      <td>193.0</td>\n",
       "      <td>3450.0</td>\n",
       "      <td>female</td>\n",
       "      <td>2007</td>\n",
       "    </tr>\n",
       "  </tbody>\n",
       "</table>\n",
       "</div>"
      ],
      "text/plain": [
       "  species     island  bill_length_mm  bill_depth_mm  flipper_length_mm  \\\n",
       "0  Adelie  Torgersen            39.1           18.7              181.0   \n",
       "1  Adelie  Torgersen            39.5           17.4              186.0   \n",
       "2  Adelie  Torgersen            40.3           18.0              195.0   \n",
       "3  Adelie  Torgersen             NaN            NaN                NaN   \n",
       "4  Adelie  Torgersen            36.7           19.3              193.0   \n",
       "\n",
       "   body_mass_g     sex  year  \n",
       "0       3750.0    male  2007  \n",
       "1       3800.0  female  2007  \n",
       "2       3250.0  female  2007  \n",
       "3          NaN     NaN  2007  \n",
       "4       3450.0  female  2007  "
      ]
     },
     "execution_count": 31,
     "metadata": {},
     "output_type": "execute_result"
    }
   ],
   "source": [
    "df.head()"
   ]
  },
  {
   "cell_type": "markdown",
   "metadata": {},
   "source": [
    "You last column is species, a categorical variable. This means that we can use it to separate the data out by species "
   ]
  },
  {
   "cell_type": "code",
   "execution_count": 40,
   "metadata": {
    "ExecuteTime": {
     "end_time": "2019-05-16T14:37:35.426665Z",
     "start_time": "2019-05-16T14:37:35.260534Z"
    }
   },
   "outputs": [
    {
     "data": {
      "text/plain": [
       "<AxesSubplot:xlabel='species', ylabel='bill_length_mm'>"
      ]
     },
     "execution_count": 40,
     "metadata": {},
     "output_type": "execute_result"
    },
    {
     "data": {
      "image/png": "[encoded data removed]",
      "text/plain": [
       "<Figure size 432x288 with 1 Axes>"
      ]
     },
     "metadata": {
      "needs_background": "light"
     },
     "output_type": "display_data"
    }
   ],
   "source": [
    "sns.barplot(data=df, x='species', y='bill_length_mm')"
   ]
  },
  {
   "cell_type": "markdown",
   "metadata": {},
   "source": [
    "#### pd.melt()"
   ]
  },
  {
   "cell_type": "markdown",
   "metadata": {
    "ExecuteTime": {
     "end_time": "2019-05-16T14:38:10.444246Z",
     "start_time": "2019-05-16T14:38:10.417885Z"
    }
   },
   "source": [
    "But what if I wanted to compare the distributions of different numerical variables. Say see how bill_length and bill_width compare (not within an observation)? \n",
    "\n",
    "To do this you need to make the data \"tall\" using the function pd.melt()"
   ]
  },
  {
   "cell_type": "code",
   "execution_count": 41,
   "metadata": {
    "ExecuteTime": {
     "end_time": "2019-05-16T14:41:43.426526Z",
     "start_time": "2019-05-16T14:41:43.415846Z"
    }
   },
   "outputs": [
    {
     "data": {
      "text/html": [
       "<div>\n",
       "<style scoped>\n",
       "    .dataframe tbody tr th:only-of-type {\n",
       "        vertical-align: middle;\n",
       "    }\n",
       "\n",
       "    .dataframe tbody tr th {\n",
       "        vertical-align: top;\n",
       "    }\n",
       "\n",
       "    .dataframe thead th {\n",
       "        text-align: right;\n",
       "    }\n",
       "</style>\n",
       "<table border=\"1\" class=\"dataframe\">\n",
       "  <thead>\n",
       "    <tr style=\"text-align: right;\">\n",
       "      <th></th>\n",
       "      <th>variable</th>\n",
       "      <th>value</th>\n",
       "    </tr>\n",
       "  </thead>\n",
       "  <tbody>\n",
       "    <tr>\n",
       "      <th>0</th>\n",
       "      <td>bill_length_mm</td>\n",
       "      <td>39.1</td>\n",
       "    </tr>\n",
       "    <tr>\n",
       "      <th>1</th>\n",
       "      <td>bill_length_mm</td>\n",
       "      <td>39.5</td>\n",
       "    </tr>\n",
       "    <tr>\n",
       "      <th>2</th>\n",
       "      <td>bill_length_mm</td>\n",
       "      <td>40.3</td>\n",
       "    </tr>\n",
       "    <tr>\n",
       "      <th>3</th>\n",
       "      <td>bill_length_mm</td>\n",
       "      <td>NaN</td>\n",
       "    </tr>\n",
       "    <tr>\n",
       "      <th>4</th>\n",
       "      <td>bill_length_mm</td>\n",
       "      <td>36.7</td>\n",
       "    </tr>\n",
       "  </tbody>\n",
       "</table>\n",
       "</div>"
      ],
      "text/plain": [
       "         variable  value\n",
       "0  bill_length_mm   39.1\n",
       "1  bill_length_mm   39.5\n",
       "2  bill_length_mm   40.3\n",
       "3  bill_length_mm    NaN\n",
       "4  bill_length_mm   36.7"
      ]
     },
     "execution_count": 41,
     "metadata": {},
     "output_type": "execute_result"
    }
   ],
   "source": [
    "bills_tall = pd.melt(df[['bill_length_mm', 'bill_depth_mm']])\n",
    "bills_tall.head()"
   ]
  },
  {
   "cell_type": "code",
   "execution_count": 42,
   "metadata": {},
   "outputs": [
    {
     "data": {
      "text/plain": [
       "array(['bill_length_mm', 'bill_depth_mm'], dtype=object)"
      ]
     },
     "execution_count": 42,
     "metadata": {},
     "output_type": "execute_result"
    }
   ],
   "source": [
    "bills_tall['variable'].unique()"
   ]
  },
  {
   "cell_type": "code",
   "execution_count": 43,
   "metadata": {
    "ExecuteTime": {
     "end_time": "2019-05-16T14:42:01.616947Z",
     "start_time": "2019-05-16T14:42:01.471734Z"
    }
   },
   "outputs": [
    {
     "data": {
      "text/plain": [
       "<AxesSubplot:xlabel='variable', ylabel='value'>"
      ]
     },
     "execution_count": 43,
     "metadata": {},
     "output_type": "execute_result"
    },
    {
     "data": {
      "image/png": "[encoded data removed]",
      "text/plain": [
       "<Figure size 432x288 with 1 Axes>"
      ]
     },
     "metadata": {
      "needs_background": "light"
     },
     "output_type": "display_data"
    }
   ],
   "source": [
    "sns.barplot(data=bills_tall,x='variable',y='value')"
   ]
  },
  {
   "cell_type": "markdown",
   "metadata": {},
   "source": [
    "Now, this is great, but you may notice that we have lost the information about which species each observation came from, when making the data tall, you can add another argument to melt that will bring with each value the species"
   ]
  },
  {
   "cell_type": "code",
   "execution_count": 48,
   "metadata": {},
   "outputs": [
    {
     "data": {
      "text/html": [
       "<div>\n",
       "<style scoped>\n",
       "    .dataframe tbody tr th:only-of-type {\n",
       "        vertical-align: middle;\n",
       "    }\n",
       "\n",
       "    .dataframe tbody tr th {\n",
       "        vertical-align: top;\n",
       "    }\n",
       "\n",
       "    .dataframe thead th {\n",
       "        text-align: right;\n",
       "    }\n",
       "</style>\n",
       "<table border=\"1\" class=\"dataframe\">\n",
       "  <thead>\n",
       "    <tr style=\"text-align: right;\">\n",
       "      <th></th>\n",
       "      <th>species</th>\n",
       "      <th>island</th>\n",
       "      <th>bill_length_mm</th>\n",
       "      <th>bill_depth_mm</th>\n",
       "      <th>flipper_length_mm</th>\n",
       "      <th>body_mass_g</th>\n",
       "      <th>sex</th>\n",
       "      <th>year</th>\n",
       "    </tr>\n",
       "  </thead>\n",
       "  <tbody>\n",
       "    <tr>\n",
       "      <th>0</th>\n",
       "      <td>Adelie</td>\n",
       "      <td>Torgersen</td>\n",
       "      <td>39.1</td>\n",
       "      <td>18.7</td>\n",
       "      <td>181.0</td>\n",
       "      <td>3750.0</td>\n",
       "      <td>male</td>\n",
       "      <td>2007</td>\n",
       "    </tr>\n",
       "    <tr>\n",
       "      <th>1</th>\n",
       "      <td>Adelie</td>\n",
       "      <td>Torgersen</td>\n",
       "      <td>39.5</td>\n",
       "      <td>17.4</td>\n",
       "      <td>186.0</td>\n",
       "      <td>3800.0</td>\n",
       "      <td>female</td>\n",
       "      <td>2007</td>\n",
       "    </tr>\n",
       "    <tr>\n",
       "      <th>2</th>\n",
       "      <td>Adelie</td>\n",
       "      <td>Torgersen</td>\n",
       "      <td>40.3</td>\n",
       "      <td>18.0</td>\n",
       "      <td>195.0</td>\n",
       "      <td>3250.0</td>\n",
       "      <td>female</td>\n",
       "      <td>2007</td>\n",
       "    </tr>\n",
       "    <tr>\n",
       "      <th>3</th>\n",
       "      <td>Adelie</td>\n",
       "      <td>Torgersen</td>\n",
       "      <td>NaN</td>\n",
       "      <td>NaN</td>\n",
       "      <td>NaN</td>\n",
       "      <td>NaN</td>\n",
       "      <td>NaN</td>\n",
       "      <td>2007</td>\n",
       "    </tr>\n",
       "    <tr>\n",
       "      <th>4</th>\n",
       "      <td>Adelie</td>\n",
       "      <td>Torgersen</td>\n",
       "      <td>36.7</td>\n",
       "      <td>19.3</td>\n",
       "      <td>193.0</td>\n",
       "      <td>3450.0</td>\n",
       "      <td>female</td>\n",
       "      <td>2007</td>\n",
       "    </tr>\n",
       "    <tr>\n",
       "      <th>...</th>\n",
       "      <td>...</td>\n",
       "      <td>...</td>\n",
       "      <td>...</td>\n",
       "      <td>...</td>\n",
       "      <td>...</td>\n",
       "      <td>...</td>\n",
       "      <td>...</td>\n",
       "      <td>...</td>\n",
       "    </tr>\n",
       "    <tr>\n",
       "      <th>339</th>\n",
       "      <td>Chinstrap</td>\n",
       "      <td>Dream</td>\n",
       "      <td>55.8</td>\n",
       "      <td>19.8</td>\n",
       "      <td>207.0</td>\n",
       "      <td>4000.0</td>\n",
       "      <td>male</td>\n",
       "      <td>2009</td>\n",
       "    </tr>\n",
       "    <tr>\n",
       "      <th>340</th>\n",
       "      <td>Chinstrap</td>\n",
       "      <td>Dream</td>\n",
       "      <td>43.5</td>\n",
       "      <td>18.1</td>\n",
       "      <td>202.0</td>\n",
       "      <td>3400.0</td>\n",
       "      <td>female</td>\n",
       "      <td>2009</td>\n",
       "    </tr>\n",
       "    <tr>\n",
       "      <th>341</th>\n",
       "      <td>Chinstrap</td>\n",
       "      <td>Dream</td>\n",
       "      <td>49.6</td>\n",
       "      <td>18.2</td>\n",
       "      <td>193.0</td>\n",
       "      <td>3775.0</td>\n",
       "      <td>male</td>\n",
       "      <td>2009</td>\n",
       "    </tr>\n",
       "    <tr>\n",
       "      <th>342</th>\n",
       "      <td>Chinstrap</td>\n",
       "      <td>Dream</td>\n",
       "      <td>50.8</td>\n",
       "      <td>19.0</td>\n",
       "      <td>210.0</td>\n",
       "      <td>4100.0</td>\n",
       "      <td>male</td>\n",
       "      <td>2009</td>\n",
       "    </tr>\n",
       "    <tr>\n",
       "      <th>343</th>\n",
       "      <td>Chinstrap</td>\n",
       "      <td>Dream</td>\n",
       "      <td>50.2</td>\n",
       "      <td>18.7</td>\n",
       "      <td>198.0</td>\n",
       "      <td>3775.0</td>\n",
       "      <td>female</td>\n",
       "      <td>2009</td>\n",
       "    </tr>\n",
       "  </tbody>\n",
       "</table>\n",
       "<p>344 rows × 8 columns</p>\n",
       "</div>"
      ],
      "text/plain": [
       "       species     island  bill_length_mm  bill_depth_mm  flipper_length_mm  \\\n",
       "0       Adelie  Torgersen            39.1           18.7              181.0   \n",
       "1       Adelie  Torgersen            39.5           17.4              186.0   \n",
       "2       Adelie  Torgersen            40.3           18.0              195.0   \n",
       "3       Adelie  Torgersen             NaN            NaN                NaN   \n",
       "4       Adelie  Torgersen            36.7           19.3              193.0   \n",
       "..         ...        ...             ...            ...                ...   \n",
       "339  Chinstrap      Dream            55.8           19.8              207.0   \n",
       "340  Chinstrap      Dream            43.5           18.1              202.0   \n",
       "341  Chinstrap      Dream            49.6           18.2              193.0   \n",
       "342  Chinstrap      Dream            50.8           19.0              210.0   \n",
       "343  Chinstrap      Dream            50.2           18.7              198.0   \n",
       "\n",
       "     body_mass_g     sex  year  \n",
       "0         3750.0    male  2007  \n",
       "1         3800.0  female  2007  \n",
       "2         3250.0  female  2007  \n",
       "3            NaN     NaN  2007  \n",
       "4         3450.0  female  2007  \n",
       "..           ...     ...   ...  \n",
       "339       4000.0    male  2009  \n",
       "340       3400.0  female  2009  \n",
       "341       3775.0    male  2009  \n",
       "342       4100.0    male  2009  \n",
       "343       3775.0  female  2009  \n",
       "\n",
       "[344 rows x 8 columns]"
      ]
     },
     "execution_count": 48,
     "metadata": {},
     "output_type": "execute_result"
    }
   ],
   "source": [
    "df"
   ]
  },
  {
   "cell_type": "code",
   "execution_count": 53,
   "metadata": {
    "ExecuteTime": {
     "end_time": "2019-05-16T14:47:39.033798Z",
     "start_time": "2019-05-16T14:47:39.020984Z"
    }
   },
   "outputs": [
    {
     "data": {
      "text/html": [
       "<div>\n",
       "<style scoped>\n",
       "    .dataframe tbody tr th:only-of-type {\n",
       "        vertical-align: middle;\n",
       "    }\n",
       "\n",
       "    .dataframe tbody tr th {\n",
       "        vertical-align: top;\n",
       "    }\n",
       "\n",
       "    .dataframe thead th {\n",
       "        text-align: right;\n",
       "    }\n",
       "</style>\n",
       "<table border=\"1\" class=\"dataframe\">\n",
       "  <thead>\n",
       "    <tr style=\"text-align: right;\">\n",
       "      <th></th>\n",
       "      <th>species</th>\n",
       "      <th>measurment</th>\n",
       "      <th>mm</th>\n",
       "    </tr>\n",
       "  </thead>\n",
       "  <tbody>\n",
       "    <tr>\n",
       "      <th>0</th>\n",
       "      <td>Adelie</td>\n",
       "      <td>bill_length_mm</td>\n",
       "      <td>39.1</td>\n",
       "    </tr>\n",
       "    <tr>\n",
       "      <th>1</th>\n",
       "      <td>Adelie</td>\n",
       "      <td>bill_length_mm</td>\n",
       "      <td>39.5</td>\n",
       "    </tr>\n",
       "    <tr>\n",
       "      <th>2</th>\n",
       "      <td>Adelie</td>\n",
       "      <td>bill_length_mm</td>\n",
       "      <td>40.3</td>\n",
       "    </tr>\n",
       "    <tr>\n",
       "      <th>3</th>\n",
       "      <td>Adelie</td>\n",
       "      <td>bill_length_mm</td>\n",
       "      <td>NaN</td>\n",
       "    </tr>\n",
       "    <tr>\n",
       "      <th>4</th>\n",
       "      <td>Adelie</td>\n",
       "      <td>bill_length_mm</td>\n",
       "      <td>36.7</td>\n",
       "    </tr>\n",
       "  </tbody>\n",
       "</table>\n",
       "</div>"
      ],
      "text/plain": [
       "  species      measurment    mm\n",
       "0  Adelie  bill_length_mm  39.1\n",
       "1  Adelie  bill_length_mm  39.5\n",
       "2  Adelie  bill_length_mm  40.3\n",
       "3  Adelie  bill_length_mm   NaN\n",
       "4  Adelie  bill_length_mm  36.7"
      ]
     },
     "execution_count": 53,
     "metadata": {},
     "output_type": "execute_result"
    }
   ],
   "source": [
    "bills_tall_species = pd.melt(\n",
    "    df[['bill_length_mm', 'bill_depth_mm', 'species']], id_vars='species', var_name='measurment',value_name='mm')\n",
    "bills_tall_species.head()"
   ]
  },
  {
   "cell_type": "code",
   "execution_count": 54,
   "metadata": {
    "ExecuteTime": {
     "end_time": "2019-05-16T14:49:22.412916Z",
     "start_time": "2019-05-16T14:49:22.176453Z"
    }
   },
   "outputs": [
    {
     "data": {
      "text/plain": [
       "<AxesSubplot:xlabel='measurment', ylabel='mm'>"
      ]
     },
     "execution_count": 54,
     "metadata": {},
     "output_type": "execute_result"
    },
    {
     "data": {
      "image/png": "[encoded data removed]",
      "text/plain": [
       "<Figure size 432x288 with 1 Axes>"
      ]
     },
     "metadata": {
      "needs_background": "light"
     },
     "output_type": "display_data"
    }
   ],
   "source": [
    "sns.barplot(data=bills_tall_species, x='measurment', y='mm', hue='species')"
   ]
  },
  {
   "cell_type": "markdown",
   "metadata": {},
   "source": [
    "#### pd.concat()"
   ]
  },
  {
   "cell_type": "markdown",
   "metadata": {},
   "source": [
    "It is extremely common for data to come in separate files. But we need to join the files together. To use pd.concat()"
   ]
  },
  {
   "cell_type": "code",
   "execution_count": 55,
   "metadata": {
    "ExecuteTime": {
     "end_time": "2019-05-17T03:26:26.360795Z",
     "start_time": "2019-05-17T03:26:26.349511Z"
    }
   },
   "outputs": [
    {
     "data": {
      "text/html": [
       "<div>\n",
       "<style scoped>\n",
       "    .dataframe tbody tr th:only-of-type {\n",
       "        vertical-align: middle;\n",
       "    }\n",
       "\n",
       "    .dataframe tbody tr th {\n",
       "        vertical-align: top;\n",
       "    }\n",
       "\n",
       "    .dataframe thead th {\n",
       "        text-align: right;\n",
       "    }\n",
       "</style>\n",
       "<table border=\"1\" class=\"dataframe\">\n",
       "  <thead>\n",
       "    <tr style=\"text-align: right;\">\n",
       "      <th></th>\n",
       "      <th>Cacna1a</th>\n",
       "      <th>Ogt</th>\n",
       "      <th>MGE_score</th>\n",
       "      <th>CGE_score</th>\n",
       "    </tr>\n",
       "  </thead>\n",
       "  <tbody>\n",
       "    <tr>\n",
       "      <th>Astro_Aqp4</th>\n",
       "      <td>3.330593</td>\n",
       "      <td>1069.881299</td>\n",
       "      <td>56.744698</td>\n",
       "      <td>134.160800</td>\n",
       "    </tr>\n",
       "    <tr>\n",
       "      <th>CR_Lhx5</th>\n",
       "      <td>46.563411</td>\n",
       "      <td>334.380538</td>\n",
       "      <td>108.587760</td>\n",
       "      <td>89.691110</td>\n",
       "    </tr>\n",
       "    <tr>\n",
       "      <th>Endo_Ctla2a</th>\n",
       "      <td>2.954187</td>\n",
       "      <td>268.510793</td>\n",
       "      <td>109.071780</td>\n",
       "      <td>35.006626</td>\n",
       "    </tr>\n",
       "    <tr>\n",
       "      <th>Endo_Cytl1</th>\n",
       "      <td>0.000000</td>\n",
       "      <td>489.135449</td>\n",
       "      <td>77.366360</td>\n",
       "      <td>20.236998</td>\n",
       "    </tr>\n",
       "    <tr>\n",
       "      <th>L2.3_IT_ALM_Sla</th>\n",
       "      <td>22.197142</td>\n",
       "      <td>364.526402</td>\n",
       "      <td>209.101090</td>\n",
       "      <td>100.466080</td>\n",
       "    </tr>\n",
       "  </tbody>\n",
       "</table>\n",
       "</div>"
      ],
      "text/plain": [
       "                   Cacna1a          Ogt   MGE_score   CGE_score\n",
       "Astro_Aqp4        3.330593  1069.881299   56.744698  134.160800\n",
       "CR_Lhx5          46.563411   334.380538  108.587760   89.691110\n",
       "Endo_Ctla2a       2.954187   268.510793  109.071780   35.006626\n",
       "Endo_Cytl1        0.000000   489.135449   77.366360   20.236998\n",
       "L2.3_IT_ALM_Sla  22.197142   364.526402  209.101090  100.466080"
      ]
     },
     "execution_count": 55,
     "metadata": {},
     "output_type": "execute_result"
    }
   ],
   "source": [
    "centroids_numerical = pd.read_csv(\n",
    "    './data/centroids_numerical.csv', index_col=0)\n",
    "centroids_numerical.head()"
   ]
  },
  {
   "cell_type": "code",
   "execution_count": 56,
   "metadata": {
    "ExecuteTime": {
     "end_time": "2019-05-17T03:26:26.829683Z",
     "start_time": "2019-05-17T03:26:26.820101Z"
    }
   },
   "outputs": [
    {
     "data": {
      "text/html": [
       "<div>\n",
       "<style scoped>\n",
       "    .dataframe tbody tr th:only-of-type {\n",
       "        vertical-align: middle;\n",
       "    }\n",
       "\n",
       "    .dataframe tbody tr th {\n",
       "        vertical-align: top;\n",
       "    }\n",
       "\n",
       "    .dataframe thead th {\n",
       "        text-align: right;\n",
       "    }\n",
       "</style>\n",
       "<table border=\"1\" class=\"dataframe\">\n",
       "  <thead>\n",
       "    <tr style=\"text-align: right;\">\n",
       "      <th></th>\n",
       "      <th>broad_class</th>\n",
       "      <th>subclass</th>\n",
       "    </tr>\n",
       "  </thead>\n",
       "  <tbody>\n",
       "    <tr>\n",
       "      <th>Astro_Aqp4</th>\n",
       "      <td>GLIA</td>\n",
       "      <td>Astro</td>\n",
       "    </tr>\n",
       "    <tr>\n",
       "      <th>CR_Lhx5</th>\n",
       "      <td>EXCIT</td>\n",
       "      <td>CR</td>\n",
       "    </tr>\n",
       "    <tr>\n",
       "      <th>Endo_Ctla2a</th>\n",
       "      <td>ENDO</td>\n",
       "      <td>Endo</td>\n",
       "    </tr>\n",
       "    <tr>\n",
       "      <th>Endo_Cytl1</th>\n",
       "      <td>ENDO</td>\n",
       "      <td>Endo</td>\n",
       "    </tr>\n",
       "    <tr>\n",
       "      <th>L2.3_IT_ALM_Sla</th>\n",
       "      <td>EXCIT</td>\n",
       "      <td>L2.3_IT</td>\n",
       "    </tr>\n",
       "  </tbody>\n",
       "</table>\n",
       "</div>"
      ],
      "text/plain": [
       "                broad_class subclass\n",
       "Astro_Aqp4             GLIA    Astro\n",
       "CR_Lhx5               EXCIT       CR\n",
       "Endo_Ctla2a            ENDO     Endo\n",
       "Endo_Cytl1             ENDO     Endo\n",
       "L2.3_IT_ALM_Sla       EXCIT  L2.3_IT"
      ]
     },
     "execution_count": 56,
     "metadata": {},
     "output_type": "execute_result"
    }
   ],
   "source": [
    "centroids_metadata = pd.read_csv('./data/centroids_metadata.csv', index_col=0)\n",
    "centroids_metadata.head()"
   ]
  },
  {
   "cell_type": "code",
   "execution_count": 57,
   "metadata": {
    "ExecuteTime": {
     "end_time": "2019-05-21T18:20:50.751131Z",
     "start_time": "2019-05-21T18:20:50.740830Z"
    }
   },
   "outputs": [
    {
     "data": {
      "text/html": [
       "<div>\n",
       "<style scoped>\n",
       "    .dataframe tbody tr th:only-of-type {\n",
       "        vertical-align: middle;\n",
       "    }\n",
       "\n",
       "    .dataframe tbody tr th {\n",
       "        vertical-align: top;\n",
       "    }\n",
       "\n",
       "    .dataframe thead th {\n",
       "        text-align: right;\n",
       "    }\n",
       "</style>\n",
       "<table border=\"1\" class=\"dataframe\">\n",
       "  <thead>\n",
       "    <tr style=\"text-align: right;\">\n",
       "      <th></th>\n",
       "      <th>Cacna1a</th>\n",
       "      <th>Ogt</th>\n",
       "      <th>MGE_score</th>\n",
       "      <th>CGE_score</th>\n",
       "      <th>broad_class</th>\n",
       "      <th>subclass</th>\n",
       "    </tr>\n",
       "  </thead>\n",
       "  <tbody>\n",
       "    <tr>\n",
       "      <th>Astro_Aqp4</th>\n",
       "      <td>3.330593</td>\n",
       "      <td>1069.881299</td>\n",
       "      <td>56.744698</td>\n",
       "      <td>134.160800</td>\n",
       "      <td>GLIA</td>\n",
       "      <td>Astro</td>\n",
       "    </tr>\n",
       "    <tr>\n",
       "      <th>CR_Lhx5</th>\n",
       "      <td>46.563411</td>\n",
       "      <td>334.380538</td>\n",
       "      <td>108.587760</td>\n",
       "      <td>89.691110</td>\n",
       "      <td>EXCIT</td>\n",
       "      <td>CR</td>\n",
       "    </tr>\n",
       "    <tr>\n",
       "      <th>Endo_Ctla2a</th>\n",
       "      <td>2.954187</td>\n",
       "      <td>268.510793</td>\n",
       "      <td>109.071780</td>\n",
       "      <td>35.006626</td>\n",
       "      <td>ENDO</td>\n",
       "      <td>Endo</td>\n",
       "    </tr>\n",
       "    <tr>\n",
       "      <th>Endo_Cytl1</th>\n",
       "      <td>0.000000</td>\n",
       "      <td>489.135449</td>\n",
       "      <td>77.366360</td>\n",
       "      <td>20.236998</td>\n",
       "      <td>ENDO</td>\n",
       "      <td>Endo</td>\n",
       "    </tr>\n",
       "    <tr>\n",
       "      <th>L2.3_IT_ALM_Sla</th>\n",
       "      <td>22.197142</td>\n",
       "      <td>364.526402</td>\n",
       "      <td>209.101090</td>\n",
       "      <td>100.466080</td>\n",
       "      <td>EXCIT</td>\n",
       "      <td>L2.3_IT</td>\n",
       "    </tr>\n",
       "  </tbody>\n",
       "</table>\n",
       "</div>"
      ],
      "text/plain": [
       "                   Cacna1a          Ogt   MGE_score   CGE_score broad_class  \\\n",
       "Astro_Aqp4        3.330593  1069.881299   56.744698  134.160800        GLIA   \n",
       "CR_Lhx5          46.563411   334.380538  108.587760   89.691110       EXCIT   \n",
       "Endo_Ctla2a       2.954187   268.510793  109.071780   35.006626        ENDO   \n",
       "Endo_Cytl1        0.000000   489.135449   77.366360   20.236998        ENDO   \n",
       "L2.3_IT_ALM_Sla  22.197142   364.526402  209.101090  100.466080       EXCIT   \n",
       "\n",
       "                subclass  \n",
       "Astro_Aqp4         Astro  \n",
       "CR_Lhx5               CR  \n",
       "Endo_Ctla2a         Endo  \n",
       "Endo_Cytl1          Endo  \n",
       "L2.3_IT_ALM_Sla  L2.3_IT  "
      ]
     },
     "execution_count": 57,
     "metadata": {},
     "output_type": "execute_result"
    }
   ],
   "source": [
    "centroids = pd.concat([centroids_numerical, centroids_metadata],axis=1)\n",
    "centroids.head()\n",
    "#The axis=1 tells the function to stick the columns next to eachother"
   ]
  },
  {
   "cell_type": "code",
   "execution_count": 58,
   "metadata": {
    "ExecuteTime": {
     "end_time": "2019-05-21T18:19:33.949396Z",
     "start_time": "2019-05-21T18:19:33.942382Z"
    }
   },
   "outputs": [
    {
     "data": {
      "text/html": [
       "<div>\n",
       "<style scoped>\n",
       "    .dataframe tbody tr th:only-of-type {\n",
       "        vertical-align: middle;\n",
       "    }\n",
       "\n",
       "    .dataframe tbody tr th {\n",
       "        vertical-align: top;\n",
       "    }\n",
       "\n",
       "    .dataframe thead th {\n",
       "        text-align: right;\n",
       "    }\n",
       "</style>\n",
       "<table border=\"1\" class=\"dataframe\">\n",
       "  <thead>\n",
       "    <tr style=\"text-align: right;\">\n",
       "      <th></th>\n",
       "      <th>broad_class</th>\n",
       "      <th>subclass</th>\n",
       "    </tr>\n",
       "  </thead>\n",
       "  <tbody>\n",
       "    <tr>\n",
       "      <th>Astro_Aqp4</th>\n",
       "      <td>GLIA</td>\n",
       "      <td>Astro</td>\n",
       "    </tr>\n",
       "    <tr>\n",
       "      <th>CR_Lhx5</th>\n",
       "      <td>EXCIT</td>\n",
       "      <td>CR</td>\n",
       "    </tr>\n",
       "    <tr>\n",
       "      <th>Endo_Ctla2a</th>\n",
       "      <td>ENDO</td>\n",
       "      <td>Endo</td>\n",
       "    </tr>\n",
       "    <tr>\n",
       "      <th>Endo_Cytl1</th>\n",
       "      <td>ENDO</td>\n",
       "      <td>Endo</td>\n",
       "    </tr>\n",
       "    <tr>\n",
       "      <th>L2.3_IT_ALM_Sla</th>\n",
       "      <td>EXCIT</td>\n",
       "      <td>L2.3_IT</td>\n",
       "    </tr>\n",
       "  </tbody>\n",
       "</table>\n",
       "</div>"
      ],
      "text/plain": [
       "                broad_class subclass\n",
       "Astro_Aqp4             GLIA    Astro\n",
       "CR_Lhx5               EXCIT       CR\n",
       "Endo_Ctla2a            ENDO     Endo\n",
       "Endo_Cytl1             ENDO     Endo\n",
       "L2.3_IT_ALM_Sla       EXCIT  L2.3_IT"
      ]
     },
     "execution_count": 58,
     "metadata": {},
     "output_type": "execute_result"
    }
   ],
   "source": [
    "split_1 = centroids_metadata.iloc[:50]\n",
    "split_2 = centroids_metadata.iloc[50:]\n",
    "centroids_metadata.head()"
   ]
  },
  {
   "cell_type": "code",
   "execution_count": 59,
   "metadata": {
    "ExecuteTime": {
     "end_time": "2019-05-21T18:19:34.941115Z",
     "start_time": "2019-05-21T18:19:34.934200Z"
    }
   },
   "outputs": [
    {
     "data": {
      "text/html": [
       "<div>\n",
       "<style scoped>\n",
       "    .dataframe tbody tr th:only-of-type {\n",
       "        vertical-align: middle;\n",
       "    }\n",
       "\n",
       "    .dataframe tbody tr th {\n",
       "        vertical-align: top;\n",
       "    }\n",
       "\n",
       "    .dataframe thead th {\n",
       "        text-align: right;\n",
       "    }\n",
       "</style>\n",
       "<table border=\"1\" class=\"dataframe\">\n",
       "  <thead>\n",
       "    <tr style=\"text-align: right;\">\n",
       "      <th></th>\n",
       "      <th>broad_class</th>\n",
       "      <th>subclass</th>\n",
       "    </tr>\n",
       "  </thead>\n",
       "  <tbody>\n",
       "    <tr>\n",
       "      <th>Lamp5_Plch2_Dock5</th>\n",
       "      <td>CGE</td>\n",
       "      <td>Lamp5</td>\n",
       "    </tr>\n",
       "    <tr>\n",
       "      <th>Meis2_Adamts19</th>\n",
       "      <td>EXCIT</td>\n",
       "      <td>Meis2</td>\n",
       "    </tr>\n",
       "    <tr>\n",
       "      <th>OPC_Pdgfra_Ccnb1</th>\n",
       "      <td>GLIA</td>\n",
       "      <td>Oligo</td>\n",
       "    </tr>\n",
       "    <tr>\n",
       "      <th>OPC_Pdgfra_Grm5</th>\n",
       "      <td>GLIA</td>\n",
       "      <td>Oligo</td>\n",
       "    </tr>\n",
       "    <tr>\n",
       "      <th>Oligo_Rassf10</th>\n",
       "      <td>GLIA</td>\n",
       "      <td>Oligo</td>\n",
       "    </tr>\n",
       "  </tbody>\n",
       "</table>\n",
       "</div>"
      ],
      "text/plain": [
       "                  broad_class subclass\n",
       "Lamp5_Plch2_Dock5         CGE    Lamp5\n",
       "Meis2_Adamts19          EXCIT    Meis2\n",
       "OPC_Pdgfra_Ccnb1         GLIA    Oligo\n",
       "OPC_Pdgfra_Grm5          GLIA    Oligo\n",
       "Oligo_Rassf10            GLIA    Oligo"
      ]
     },
     "execution_count": 59,
     "metadata": {},
     "output_type": "execute_result"
    }
   ],
   "source": [
    "pd.concat([split_2,split_1],axis=0).head()"
   ]
  },
  {
   "cell_type": "markdown",
   "metadata": {},
   "source": [
    "This time without the axis=1 it sticks the two dataframes on top of each other"
   ]
  },
  {
   "cell_type": "markdown",
   "metadata": {},
   "source": [
    "#### Computations on existing columns to create new ones"
   ]
  },
  {
   "cell_type": "code",
   "execution_count": 60,
   "metadata": {
    "ExecuteTime": {
     "end_time": "2019-05-21T18:20:53.728018Z",
     "start_time": "2019-05-21T18:20:53.718509Z"
    }
   },
   "outputs": [
    {
     "data": {
      "text/html": [
       "<div>\n",
       "<style scoped>\n",
       "    .dataframe tbody tr th:only-of-type {\n",
       "        vertical-align: middle;\n",
       "    }\n",
       "\n",
       "    .dataframe tbody tr th {\n",
       "        vertical-align: top;\n",
       "    }\n",
       "\n",
       "    .dataframe thead th {\n",
       "        text-align: right;\n",
       "    }\n",
       "</style>\n",
       "<table border=\"1\" class=\"dataframe\">\n",
       "  <thead>\n",
       "    <tr style=\"text-align: right;\">\n",
       "      <th></th>\n",
       "      <th>Cacna1a</th>\n",
       "      <th>Ogt</th>\n",
       "      <th>MGE_score</th>\n",
       "      <th>CGE_score</th>\n",
       "      <th>broad_class</th>\n",
       "      <th>subclass</th>\n",
       "    </tr>\n",
       "  </thead>\n",
       "  <tbody>\n",
       "    <tr>\n",
       "      <th>Astro_Aqp4</th>\n",
       "      <td>3.330593</td>\n",
       "      <td>1069.881299</td>\n",
       "      <td>56.744698</td>\n",
       "      <td>134.160800</td>\n",
       "      <td>GLIA</td>\n",
       "      <td>Astro</td>\n",
       "    </tr>\n",
       "    <tr>\n",
       "      <th>CR_Lhx5</th>\n",
       "      <td>46.563411</td>\n",
       "      <td>334.380538</td>\n",
       "      <td>108.587760</td>\n",
       "      <td>89.691110</td>\n",
       "      <td>EXCIT</td>\n",
       "      <td>CR</td>\n",
       "    </tr>\n",
       "    <tr>\n",
       "      <th>Endo_Ctla2a</th>\n",
       "      <td>2.954187</td>\n",
       "      <td>268.510793</td>\n",
       "      <td>109.071780</td>\n",
       "      <td>35.006626</td>\n",
       "      <td>ENDO</td>\n",
       "      <td>Endo</td>\n",
       "    </tr>\n",
       "    <tr>\n",
       "      <th>Endo_Cytl1</th>\n",
       "      <td>0.000000</td>\n",
       "      <td>489.135449</td>\n",
       "      <td>77.366360</td>\n",
       "      <td>20.236998</td>\n",
       "      <td>ENDO</td>\n",
       "      <td>Endo</td>\n",
       "    </tr>\n",
       "    <tr>\n",
       "      <th>L2.3_IT_ALM_Sla</th>\n",
       "      <td>22.197142</td>\n",
       "      <td>364.526402</td>\n",
       "      <td>209.101090</td>\n",
       "      <td>100.466080</td>\n",
       "      <td>EXCIT</td>\n",
       "      <td>L2.3_IT</td>\n",
       "    </tr>\n",
       "  </tbody>\n",
       "</table>\n",
       "</div>"
      ],
      "text/plain": [
       "                   Cacna1a          Ogt   MGE_score   CGE_score broad_class  \\\n",
       "Astro_Aqp4        3.330593  1069.881299   56.744698  134.160800        GLIA   \n",
       "CR_Lhx5          46.563411   334.380538  108.587760   89.691110       EXCIT   \n",
       "Endo_Ctla2a       2.954187   268.510793  109.071780   35.006626        ENDO   \n",
       "Endo_Cytl1        0.000000   489.135449   77.366360   20.236998        ENDO   \n",
       "L2.3_IT_ALM_Sla  22.197142   364.526402  209.101090  100.466080       EXCIT   \n",
       "\n",
       "                subclass  \n",
       "Astro_Aqp4         Astro  \n",
       "CR_Lhx5               CR  \n",
       "Endo_Ctla2a         Endo  \n",
       "Endo_Cytl1          Endo  \n",
       "L2.3_IT_ALM_Sla  L2.3_IT  "
      ]
     },
     "execution_count": 60,
     "metadata": {},
     "output_type": "execute_result"
    }
   ],
   "source": [
    "centroids.head()"
   ]
  },
  {
   "cell_type": "code",
   "execution_count": 61,
   "metadata": {
    "ExecuteTime": {
     "end_time": "2019-05-21T18:20:54.025281Z",
     "start_time": "2019-05-21T18:20:54.021081Z"
    }
   },
   "outputs": [],
   "source": [
    "#Sometimes you need to add columns based on other columns\n",
    "centroids['Ogt_zscore'] = stats.zscore(centroids['Ogt'])\n",
    "centroids['Cacna1a_zscore'] = stats.zscore(centroids['Cacna1a'])"
   ]
  },
  {
   "cell_type": "code",
   "execution_count": 62,
   "metadata": {
    "ExecuteTime": {
     "end_time": "2019-05-21T18:20:54.456434Z",
     "start_time": "2019-05-21T18:20:54.445784Z"
    }
   },
   "outputs": [
    {
     "data": {
      "text/html": [
       "<div>\n",
       "<style scoped>\n",
       "    .dataframe tbody tr th:only-of-type {\n",
       "        vertical-align: middle;\n",
       "    }\n",
       "\n",
       "    .dataframe tbody tr th {\n",
       "        vertical-align: top;\n",
       "    }\n",
       "\n",
       "    .dataframe thead th {\n",
       "        text-align: right;\n",
       "    }\n",
       "</style>\n",
       "<table border=\"1\" class=\"dataframe\">\n",
       "  <thead>\n",
       "    <tr style=\"text-align: right;\">\n",
       "      <th></th>\n",
       "      <th>Cacna1a</th>\n",
       "      <th>Ogt</th>\n",
       "      <th>MGE_score</th>\n",
       "      <th>CGE_score</th>\n",
       "      <th>broad_class</th>\n",
       "      <th>subclass</th>\n",
       "      <th>Ogt_zscore</th>\n",
       "      <th>Cacna1a_zscore</th>\n",
       "    </tr>\n",
       "  </thead>\n",
       "  <tbody>\n",
       "    <tr>\n",
       "      <th>Astro_Aqp4</th>\n",
       "      <td>3.330593</td>\n",
       "      <td>1069.881299</td>\n",
       "      <td>56.744698</td>\n",
       "      <td>134.160800</td>\n",
       "      <td>GLIA</td>\n",
       "      <td>Astro</td>\n",
       "      <td>5.860758</td>\n",
       "      <td>-1.439872</td>\n",
       "    </tr>\n",
       "    <tr>\n",
       "      <th>CR_Lhx5</th>\n",
       "      <td>46.563411</td>\n",
       "      <td>334.380538</td>\n",
       "      <td>108.587760</td>\n",
       "      <td>89.691110</td>\n",
       "      <td>EXCIT</td>\n",
       "      <td>CR</td>\n",
       "      <td>-0.304803</td>\n",
       "      <td>2.019495</td>\n",
       "    </tr>\n",
       "    <tr>\n",
       "      <th>Endo_Ctla2a</th>\n",
       "      <td>2.954187</td>\n",
       "      <td>268.510793</td>\n",
       "      <td>109.071780</td>\n",
       "      <td>35.006626</td>\n",
       "      <td>ENDO</td>\n",
       "      <td>Endo</td>\n",
       "      <td>-0.856977</td>\n",
       "      <td>-1.469991</td>\n",
       "    </tr>\n",
       "    <tr>\n",
       "      <th>Endo_Cytl1</th>\n",
       "      <td>0.000000</td>\n",
       "      <td>489.135449</td>\n",
       "      <td>77.366360</td>\n",
       "      <td>20.236998</td>\n",
       "      <td>ENDO</td>\n",
       "      <td>Endo</td>\n",
       "      <td>0.992477</td>\n",
       "      <td>-1.706377</td>\n",
       "    </tr>\n",
       "    <tr>\n",
       "      <th>L2.3_IT_ALM_Sla</th>\n",
       "      <td>22.197142</td>\n",
       "      <td>364.526402</td>\n",
       "      <td>209.101090</td>\n",
       "      <td>100.466080</td>\n",
       "      <td>EXCIT</td>\n",
       "      <td>L2.3_IT</td>\n",
       "      <td>-0.052096</td>\n",
       "      <td>0.069775</td>\n",
       "    </tr>\n",
       "  </tbody>\n",
       "</table>\n",
       "</div>"
      ],
      "text/plain": [
       "                   Cacna1a          Ogt   MGE_score   CGE_score broad_class  \\\n",
       "Astro_Aqp4        3.330593  1069.881299   56.744698  134.160800        GLIA   \n",
       "CR_Lhx5          46.563411   334.380538  108.587760   89.691110       EXCIT   \n",
       "Endo_Ctla2a       2.954187   268.510793  109.071780   35.006626        ENDO   \n",
       "Endo_Cytl1        0.000000   489.135449   77.366360   20.236998        ENDO   \n",
       "L2.3_IT_ALM_Sla  22.197142   364.526402  209.101090  100.466080       EXCIT   \n",
       "\n",
       "                subclass  Ogt_zscore  Cacna1a_zscore  \n",
       "Astro_Aqp4         Astro    5.860758       -1.439872  \n",
       "CR_Lhx5               CR   -0.304803        2.019495  \n",
       "Endo_Ctla2a         Endo   -0.856977       -1.469991  \n",
       "Endo_Cytl1          Endo    0.992477       -1.706377  \n",
       "L2.3_IT_ALM_Sla  L2.3_IT   -0.052096        0.069775  "
      ]
     },
     "execution_count": 62,
     "metadata": {},
     "output_type": "execute_result"
    }
   ],
   "source": [
    "centroids.head()"
   ]
  },
  {
   "cell_type": "markdown",
   "metadata": {},
   "source": [
    "#### Review questions and mini exercises"
   ]
  },
  {
   "cell_type": "markdown",
   "metadata": {},
   "source": [
    "1. What is the difference between using and not using axis=1 with pd.concat()?\n"
   ]
  },
  {
   "cell_type": "markdown",
   "metadata": {},
   "source": [
    "**Answer Here**"
   ]
  },
  {
   "cell_type": "code",
   "execution_count": 65,
   "metadata": {},
   "outputs": [
    {
     "data": {
      "text/plain": [
       "Cacna1a     2132.513792\n",
       "Ogt        37074.107059\n",
       "dtype: float64"
      ]
     },
     "execution_count": 65,
     "metadata": {},
     "output_type": "execute_result"
    }
   ],
   "source": [
    "centroids[['Cacna1a','Ogt']].sum(axis=0)"
   ]
  },
  {
   "cell_type": "markdown",
   "metadata": {},
   "source": [
    "2. Load in example_expression.csv and example_metadata.csv. Then concat them together into a single dataframe named example_df_concat"
   ]
  },
  {
   "cell_type": "code",
   "execution_count": 74,
   "metadata": {
    "ExecuteTime": {
     "end_time": "2019-06-12T21:21:47.030697Z",
     "start_time": "2019-06-12T21:21:47.028379Z"
    }
   },
   "outputs": [
    {
     "data": {
      "text/html": [
       "<div>\n",
       "<style scoped>\n",
       "    .dataframe tbody tr th:only-of-type {\n",
       "        vertical-align: middle;\n",
       "    }\n",
       "\n",
       "    .dataframe tbody tr th {\n",
       "        vertical-align: top;\n",
       "    }\n",
       "\n",
       "    .dataframe thead th {\n",
       "        text-align: right;\n",
       "    }\n",
       "</style>\n",
       "<table border=\"1\" class=\"dataframe\">\n",
       "  <thead>\n",
       "    <tr style=\"text-align: right;\">\n",
       "      <th></th>\n",
       "      <th>1110008P14Rik</th>\n",
       "      <th>2900055J20Rik</th>\n",
       "      <th>2900079G21Rik</th>\n",
       "      <th>3110035E14Rik</th>\n",
       "      <th>4930447C04Rik</th>\n",
       "      <th>4930461C15Rik</th>\n",
       "      <th>4931440J10Rik</th>\n",
       "      <th>5031426D15Rik</th>\n",
       "      <th>9130024F11Rik</th>\n",
       "      <th>A230050P20Rik</th>\n",
       "      <th>...</th>\n",
       "      <th>Zfp536</th>\n",
       "      <th>Zmat4</th>\n",
       "      <th>Zwint</th>\n",
       "      <th>cluster_label</th>\n",
       "      <th>subclass_label</th>\n",
       "      <th>class_label</th>\n",
       "      <th>cluster_color</th>\n",
       "      <th>size</th>\n",
       "      <th>gene.counts</th>\n",
       "      <th>broad_class</th>\n",
       "    </tr>\n",
       "    <tr>\n",
       "      <th>Samples</th>\n",
       "      <th></th>\n",
       "      <th></th>\n",
       "      <th></th>\n",
       "      <th></th>\n",
       "      <th></th>\n",
       "      <th></th>\n",
       "      <th></th>\n",
       "      <th></th>\n",
       "      <th></th>\n",
       "      <th></th>\n",
       "      <th></th>\n",
       "      <th></th>\n",
       "      <th></th>\n",
       "      <th></th>\n",
       "      <th></th>\n",
       "      <th></th>\n",
       "      <th></th>\n",
       "      <th></th>\n",
       "      <th></th>\n",
       "      <th></th>\n",
       "      <th></th>\n",
       "    </tr>\n",
       "  </thead>\n",
       "  <tbody>\n",
       "    <tr>\n",
       "      <th>SM-GE653_S113_E1-50</th>\n",
       "      <td>5.453822</td>\n",
       "      <td>5.453193</td>\n",
       "      <td>0.000000</td>\n",
       "      <td>0.0</td>\n",
       "      <td>0.0</td>\n",
       "      <td>0.0</td>\n",
       "      <td>0.0</td>\n",
       "      <td>0.0</td>\n",
       "      <td>0.0</td>\n",
       "      <td>0.000000</td>\n",
       "      <td>...</td>\n",
       "      <td>0.000000</td>\n",
       "      <td>5.450094</td>\n",
       "      <td>5.455908</td>\n",
       "      <td>Lamp5_Egln3_2</td>\n",
       "      <td>Lamp5</td>\n",
       "      <td>GABAergic</td>\n",
       "      <td>#E69B73</td>\n",
       "      <td>87</td>\n",
       "      <td>5074</td>\n",
       "      <td>CGE</td>\n",
       "    </tr>\n",
       "    <tr>\n",
       "      <th>SM-GE653_S114_E1-50</th>\n",
       "      <td>0.000000</td>\n",
       "      <td>0.000000</td>\n",
       "      <td>0.000000</td>\n",
       "      <td>0.0</td>\n",
       "      <td>0.0</td>\n",
       "      <td>0.0</td>\n",
       "      <td>0.0</td>\n",
       "      <td>0.0</td>\n",
       "      <td>0.0</td>\n",
       "      <td>5.990397</td>\n",
       "      <td>...</td>\n",
       "      <td>5.991343</td>\n",
       "      <td>0.000000</td>\n",
       "      <td>5.987730</td>\n",
       "      <td>Lamp5_Slc35d3</td>\n",
       "      <td>Lamp5</td>\n",
       "      <td>GABAergic</td>\n",
       "      <td>#FFA388</td>\n",
       "      <td>250</td>\n",
       "      <td>5430</td>\n",
       "      <td>CGE</td>\n",
       "    </tr>\n",
       "    <tr>\n",
       "      <th>SM-GE653_S115_E1-50</th>\n",
       "      <td>0.000000</td>\n",
       "      <td>5.643465</td>\n",
       "      <td>5.639082</td>\n",
       "      <td>0.0</td>\n",
       "      <td>0.0</td>\n",
       "      <td>0.0</td>\n",
       "      <td>0.0</td>\n",
       "      <td>0.0</td>\n",
       "      <td>0.0</td>\n",
       "      <td>5.641443</td>\n",
       "      <td>...</td>\n",
       "      <td>5.640742</td>\n",
       "      <td>5.641794</td>\n",
       "      <td>5.644020</td>\n",
       "      <td>Lamp5_Pdlim5</td>\n",
       "      <td>Lamp5</td>\n",
       "      <td>GABAergic</td>\n",
       "      <td>#FF7290</td>\n",
       "      <td>65</td>\n",
       "      <td>5092</td>\n",
       "      <td>CGE</td>\n",
       "    </tr>\n",
       "    <tr>\n",
       "      <th>SM-GE653_S116_E1-50</th>\n",
       "      <td>0.000000</td>\n",
       "      <td>6.572299</td>\n",
       "      <td>0.000000</td>\n",
       "      <td>0.0</td>\n",
       "      <td>0.0</td>\n",
       "      <td>0.0</td>\n",
       "      <td>0.0</td>\n",
       "      <td>0.0</td>\n",
       "      <td>0.0</td>\n",
       "      <td>0.000000</td>\n",
       "      <td>...</td>\n",
       "      <td>0.000000</td>\n",
       "      <td>0.000000</td>\n",
       "      <td>6.572129</td>\n",
       "      <td>Lamp5_Egln3_2</td>\n",
       "      <td>Lamp5</td>\n",
       "      <td>GABAergic</td>\n",
       "      <td>#E69B73</td>\n",
       "      <td>87</td>\n",
       "      <td>5074</td>\n",
       "      <td>CGE</td>\n",
       "    </tr>\n",
       "    <tr>\n",
       "      <th>SM-GE653_S117_E1-50</th>\n",
       "      <td>5.437279</td>\n",
       "      <td>5.438707</td>\n",
       "      <td>0.000000</td>\n",
       "      <td>0.0</td>\n",
       "      <td>0.0</td>\n",
       "      <td>0.0</td>\n",
       "      <td>0.0</td>\n",
       "      <td>0.0</td>\n",
       "      <td>0.0</td>\n",
       "      <td>5.436357</td>\n",
       "      <td>...</td>\n",
       "      <td>5.433648</td>\n",
       "      <td>5.438003</td>\n",
       "      <td>5.439523</td>\n",
       "      <td>Lamp5_Egln3_2</td>\n",
       "      <td>Lamp5</td>\n",
       "      <td>GABAergic</td>\n",
       "      <td>#E69B73</td>\n",
       "      <td>87</td>\n",
       "      <td>5074</td>\n",
       "      <td>CGE</td>\n",
       "    </tr>\n",
       "  </tbody>\n",
       "</table>\n",
       "<p>5 rows × 407 columns</p>\n",
       "</div>"
      ],
      "text/plain": [
       "                     1110008P14Rik  2900055J20Rik  2900079G21Rik  \\\n",
       "Samples                                                            \n",
       "SM-GE653_S113_E1-50       5.453822       5.453193       0.000000   \n",
       "SM-GE653_S114_E1-50       0.000000       0.000000       0.000000   \n",
       "SM-GE653_S115_E1-50       0.000000       5.643465       5.639082   \n",
       "SM-GE653_S116_E1-50       0.000000       6.572299       0.000000   \n",
       "SM-GE653_S117_E1-50       5.437279       5.438707       0.000000   \n",
       "\n",
       "                     3110035E14Rik  4930447C04Rik  4930461C15Rik  \\\n",
       "Samples                                                            \n",
       "SM-GE653_S113_E1-50            0.0            0.0            0.0   \n",
       "SM-GE653_S114_E1-50            0.0            0.0            0.0   \n",
       "SM-GE653_S115_E1-50            0.0            0.0            0.0   \n",
       "SM-GE653_S116_E1-50            0.0            0.0            0.0   \n",
       "SM-GE653_S117_E1-50            0.0            0.0            0.0   \n",
       "\n",
       "                     4931440J10Rik  5031426D15Rik  9130024F11Rik  \\\n",
       "Samples                                                            \n",
       "SM-GE653_S113_E1-50            0.0            0.0            0.0   \n",
       "SM-GE653_S114_E1-50            0.0            0.0            0.0   \n",
       "SM-GE653_S115_E1-50            0.0            0.0            0.0   \n",
       "SM-GE653_S116_E1-50            0.0            0.0            0.0   \n",
       "SM-GE653_S117_E1-50            0.0            0.0            0.0   \n",
       "\n",
       "                     A230050P20Rik  ...    Zfp536     Zmat4     Zwint  \\\n",
       "Samples                             ...                                 \n",
       "SM-GE653_S113_E1-50       0.000000  ...  0.000000  5.450094  5.455908   \n",
       "SM-GE653_S114_E1-50       5.990397  ...  5.991343  0.000000  5.987730   \n",
       "SM-GE653_S115_E1-50       5.641443  ...  5.640742  5.641794  5.644020   \n",
       "SM-GE653_S116_E1-50       0.000000  ...  0.000000  0.000000  6.572129   \n",
       "SM-GE653_S117_E1-50       5.436357  ...  5.433648  5.438003  5.439523   \n",
       "\n",
       "                     cluster_label  subclass_label  class_label  \\\n",
       "Samples                                                           \n",
       "SM-GE653_S113_E1-50  Lamp5_Egln3_2           Lamp5    GABAergic   \n",
       "SM-GE653_S114_E1-50  Lamp5_Slc35d3           Lamp5    GABAergic   \n",
       "SM-GE653_S115_E1-50   Lamp5_Pdlim5           Lamp5    GABAergic   \n",
       "SM-GE653_S116_E1-50  Lamp5_Egln3_2           Lamp5    GABAergic   \n",
       "SM-GE653_S117_E1-50  Lamp5_Egln3_2           Lamp5    GABAergic   \n",
       "\n",
       "                     cluster_color  size  gene.counts  broad_class  \n",
       "Samples                                                             \n",
       "SM-GE653_S113_E1-50        #E69B73    87         5074          CGE  \n",
       "SM-GE653_S114_E1-50        #FFA388   250         5430          CGE  \n",
       "SM-GE653_S115_E1-50        #FF7290    65         5092          CGE  \n",
       "SM-GE653_S116_E1-50        #E69B73    87         5074          CGE  \n",
       "SM-GE653_S117_E1-50        #E69B73    87         5074          CGE  \n",
       "\n",
       "[5 rows x 407 columns]"
      ]
     },
     "execution_count": 74,
     "metadata": {},
     "output_type": "execute_result"
    }
   ],
   "source": [
    "df1 = pd.read_csv('data/example_expression.csv',index_col=0)\n",
    "df2 = pd.read_csv('data/example_metadata.csv', index_col=0)\n",
    "example_df_concat = pd.concat([df1,df2],axis=1)\n",
    "example_df_concat.head()"
   ]
  },
  {
   "cell_type": "markdown",
   "metadata": {
    "ExecuteTime": {
     "end_time": "2019-05-13T18:44:20.429668Z",
     "start_time": "2019-05-13T18:44:20.427303Z"
    }
   },
   "source": [
    "## Exercise \n",
    "\n",
    "Goal of analysis: Calculate differential expression between MGE and CGE \n",
    "\n",
    "This test is similar to the T-test, however it is non-parametric. Instead of using the Gaussian or normal distribution as a null we make the data uniformly distributed and compare the ranks of the samples for each gene. This makes it more robust to outliers in the data. "
   ]
  },
  {
   "cell_type": "markdown",
   "metadata": {},
   "source": [
    "### Read in and preprocess the data\n",
    "\n",
    "1. Read in data\n",
    "2. Make some descriptive plots about the metadata (sample sizes and stuff)\n",
    "    1. Whatever you think is necessary to understand the data"
   ]
  },
  {
   "cell_type": "code",
   "execution_count": 75,
   "metadata": {
    "ExecuteTime": {
     "end_time": "2019-06-10T21:50:09.014382Z",
     "start_time": "2019-06-10T21:50:08.613169Z"
    }
   },
   "outputs": [],
   "source": [
    "expression = df1\n",
    "metadata = df2"
   ]
  },
  {
   "cell_type": "code",
   "execution_count": 80,
   "metadata": {},
   "outputs": [
    {
     "name": "stderr",
     "output_type": "stream",
     "text": [
      "/Users/bharris/miniconda3/envs/feyn/lib/python3.9/site-packages/seaborn/_decorators.py:36: FutureWarning: Pass the following variable as a keyword arg: x. From version 0.12, the only valid positional argument will be `data`, and passing other arguments without an explicit keyword will result in an error or misinterpretation.\n",
      "  warnings.warn(\n"
     ]
    },
    {
     "data": {
      "text/plain": [
       "<AxesSubplot:xlabel='broad_class', ylabel='count'>"
      ]
     },
     "execution_count": 80,
     "metadata": {},
     "output_type": "execute_result"
    },
    {
     "data": {
      "image/png": "[encoded data removed]",
      "text/plain": [
       "<Figure size 432x288 with 1 Axes>"
      ]
     },
     "metadata": {
      "needs_background": "light"
     },
     "output_type": "display_data"
    }
   ],
   "source": [
    "sns.countplot(metadata['broad_class'])\n"
   ]
  },
  {
   "cell_type": "code",
   "execution_count": 85,
   "metadata": {},
   "outputs": [],
   "source": [
    "slice_array = np.in1d(metadata['broad_class'],['MGE','CGE'])\n",
    "metadata = metadata[slice_array]\n",
    "expression = expression[slice_array]"
   ]
  },
  {
   "cell_type": "code",
   "execution_count": 86,
   "metadata": {},
   "outputs": [
    {
     "name": "stderr",
     "output_type": "stream",
     "text": [
      "/Users/bharris/miniconda3/envs/feyn/lib/python3.9/site-packages/seaborn/_decorators.py:36: FutureWarning: Pass the following variable as a keyword arg: x. From version 0.12, the only valid positional argument will be `data`, and passing other arguments without an explicit keyword will result in an error or misinterpretation.\n",
      "  warnings.warn(\n"
     ]
    },
    {
     "data": {
      "text/plain": [
       "<AxesSubplot:xlabel='broad_class', ylabel='count'>"
      ]
     },
     "execution_count": 86,
     "metadata": {},
     "output_type": "execute_result"
    },
    {
     "data": {
      "image/png": "[encoded data removed]",
      "text/plain": [
       "<Figure size 432x288 with 1 Axes>"
      ]
     },
     "metadata": {
      "needs_background": "light"
     },
     "output_type": "display_data"
    }
   ],
   "source": [
    "sns.countplot(metadata['broad_class'])"
   ]
  },
  {
   "cell_type": "code",
   "execution_count": 89,
   "metadata": {},
   "outputs": [
    {
     "data": {
      "text/plain": [
       "<AxesSubplot:>"
      ]
     },
     "execution_count": 89,
     "metadata": {},
     "output_type": "execute_result"
    },
    {
     "data": {
      "image/png": "[encoded data removed]",
      "text/plain": [
       "<Figure size 432x288 with 1 Axes>"
      ]
     },
     "metadata": {
      "needs_background": "light"
     },
     "output_type": "display_data"
    }
   ],
   "source": [
    "expression.Cacna1e.hist()"
   ]
  },
  {
   "cell_type": "markdown",
   "metadata": {
    "ExecuteTime": {
     "end_time": "2019-05-13T19:57:50.957750Z",
     "start_time": "2019-05-13T19:57:50.953625Z"
    }
   },
   "source": [
    "### Calculating Mann Whitney U test statistic:\n",
    "$U_1 = R_1 - ((n_1 * (n_1 + 1)) /2)$\n",
    "\n",
    "$U_2 = R_2 - ((n_2 * (n_2 + 1)) /2)$\n",
    "\n",
    "$U = min(U_1, U_2)$\n",
    "\n",
    "$n_1$ = sample size of group 1\n",
    "\n",
    "$n_2$ = sample size of group 2\n",
    "\n",
    "R is sum of the rank (order) of the values "
   ]
  },
  {
   "cell_type": "code",
   "execution_count": 105,
   "metadata": {
    "ExecuteTime": {
     "end_time": "2019-06-12T21:22:53.069161Z",
     "start_time": "2019-06-12T21:22:53.066469Z"
    }
   },
   "outputs": [
    {
     "data": {
      "text/plain": [
       "1110008P14Rik    368611.0\n",
       "2900055J20Rik    223712.5\n",
       "2900079G21Rik    256361.0\n",
       "3110035E14Rik    369981.0\n",
       "4930447C04Rik    343831.0\n",
       "                   ...   \n",
       "Zcchc12          334650.0\n",
       "Zcchc18          201417.5\n",
       "Zfp536           211546.0\n",
       "Zmat4            240429.0\n",
       "Zwint            211013.0\n",
       "Length: 400, dtype: float64"
      ]
     },
     "execution_count": 105,
     "metadata": {},
     "output_type": "execute_result"
    }
   ],
   "source": [
    "mge_slice = metadata['broad_class'] == 'MGE'\n",
    "cge_slice = metadata['broad_class'] == 'CGE'\n",
    "\n",
    "mge_n = mge_slice.sum()\n",
    "cge_n = cge_slice.sum()\n",
    "\n",
    "ranks = expression.rank(axis=0)\n",
    "\n",
    "U1 = ranks[mge_slice].sum(axis=0) - ((mge_n * (mge_n + 1)) / 2)\n",
    "U2 = ranks[cge_slice].sum(axis=0) - ((cge_n * (cge_n + 1)) / 2)\n",
    "\n",
    "U = pd.concat([U1, U2], axis=1).min(axis=1)\n",
    "U"
   ]
  },
  {
   "cell_type": "markdown",
   "metadata": {
    "ExecuteTime": {
     "end_time": "2019-05-13T19:54:59.339728Z",
     "start_time": "2019-05-13T19:54:59.336337Z"
    }
   },
   "source": [
    "### Calculating AUROC from MannWhitney U:\n",
    "\n",
    "<img src=\"https://glassboxmedicine.files.wordpress.com/2019/02/roc-curve-v2.png?w=576\" />\n",
    "\n",
    "The AUROC is a metric used to asses the quality of how well we can predict something. For this case we are measuring how well a gene predicts a specific cell type. "
   ]
  },
  {
   "cell_type": "markdown",
   "metadata": {},
   "source": [
    "$\\large{AUROC = 1 - \\frac{U}{n_1 * n_2}}$"
   ]
  },
  {
   "cell_type": "markdown",
   "metadata": {},
   "source": [
    "*Hint: AUROCs are values between 0 and 1, but mostly should be between .5 and 1, use a plot to check your results*"
   ]
  },
  {
   "cell_type": "code",
   "execution_count": 106,
   "metadata": {},
   "outputs": [
    {
     "data": {
      "text/plain": [
       "1110008P14Rik    368611.0\n",
       "2900055J20Rik    223712.5\n",
       "2900079G21Rik    256361.0\n",
       "3110035E14Rik    369981.0\n",
       "4930447C04Rik    343831.0\n",
       "                   ...   \n",
       "Zcchc12          334650.0\n",
       "Zcchc18          201417.5\n",
       "Zfp536           211546.0\n",
       "Zmat4            240429.0\n",
       "Zwint            211013.0\n",
       "Length: 400, dtype: float64"
      ]
     },
     "execution_count": 106,
     "metadata": {},
     "output_type": "execute_result"
    }
   ],
   "source": [
    "U"
   ]
  },
  {
   "cell_type": "code",
   "execution_count": 107,
   "metadata": {},
   "outputs": [
    {
     "data": {
      "text/plain": [
       "906"
      ]
     },
     "execution_count": 107,
     "metadata": {},
     "output_type": "execute_result"
    }
   ],
   "source": [
    "mge_n"
   ]
  },
  {
   "cell_type": "code",
   "execution_count": 108,
   "metadata": {},
   "outputs": [
    {
     "data": {
      "text/plain": [
       "838"
      ]
     },
     "execution_count": 108,
     "metadata": {},
     "output_type": "execute_result"
    }
   ],
   "source": [
    "cge_n"
   ]
  },
  {
   "cell_type": "code",
   "execution_count": 109,
   "metadata": {
    "ExecuteTime": {
     "end_time": "2019-06-11T01:59:27.427709Z",
     "start_time": "2019-06-11T01:59:27.424187Z"
    }
   },
   "outputs": [
    {
     "data": {
      "text/plain": [
       "1110008P14Rik    0.514492\n",
       "2900055J20Rik    0.705342\n",
       "2900079G21Rik    0.662340\n",
       "3110035E14Rik    0.512688\n",
       "4930447C04Rik    0.547131\n",
       "                   ...   \n",
       "Zcchc12          0.559223\n",
       "Zcchc18          0.734707\n",
       "Zfp536           0.721367\n",
       "Zmat4            0.683324\n",
       "Zwint            0.722069\n",
       "Length: 400, dtype: float64"
      ]
     },
     "execution_count": 109,
     "metadata": {},
     "output_type": "execute_result"
    }
   ],
   "source": [
    "auroc = 1 - (U / (mge_n * cge_n))\n",
    "auroc"
   ]
  },
  {
   "cell_type": "code",
   "execution_count": 110,
   "metadata": {},
   "outputs": [
    {
     "data": {
      "text/plain": [
       "<AxesSubplot:ylabel='Count'>"
      ]
     },
     "execution_count": 110,
     "metadata": {},
     "output_type": "execute_result"
    },
    {
     "data": {
      "image/png": "[encoded data removed]",
      "text/plain": [
       "<Figure size 432x288 with 1 Axes>"
      ]
     },
     "metadata": {
      "needs_background": "light"
     },
     "output_type": "display_data"
    }
   ],
   "source": [
    "sns.histplot(auroc)"
   ]
  },
  {
   "cell_type": "code",
   "execution_count": 111,
   "metadata": {},
   "outputs": [
    {
     "data": {
      "text/plain": [
       "0.9658613749756332"
      ]
     },
     "execution_count": 111,
     "metadata": {},
     "output_type": "execute_result"
    }
   ],
   "source": [
    "auroc.max()"
   ]
  },
  {
   "cell_type": "markdown",
   "metadata": {},
   "source": [
    "### Calculate Log2FC\n",
    "\n",
    "You calculate log2FC by subtracting the average expressions from each other for each gene. Then taking the log2 of the difference. \n",
    "\n",
    "Notes:\n",
    "* You need to store the sign because log doesn't take negative numbers\n",
    "* You need to add a psuedocount (1) because log doesn't take 0"
   ]
  },
  {
   "cell_type": "code",
   "execution_count": null,
   "metadata": {
    "ExecuteTime": {
     "end_time": "2019-06-11T01:58:38.014691Z",
     "start_time": "2019-06-11T01:58:38.000420Z"
    }
   },
   "outputs": [],
   "source": [
    "##TODO"
   ]
  },
  {
   "cell_type": "markdown",
   "metadata": {},
   "source": [
    "### Create Volcano Plots\n",
    "\n",
    "Volcano plots are a common way of displaying results from differential expression. On the X axis you plot the Log2FC and on the Y axis you can plot the AUROC or log10(P value)."
   ]
  },
  {
   "cell_type": "code",
   "execution_count": 119,
   "metadata": {},
   "outputs": [],
   "source": [
    "n1= mge_n\n",
    "n2 =cge_n"
   ]
  },
  {
   "cell_type": "code",
   "execution_count": 120,
   "metadata": {
    "ExecuteTime": {
     "end_time": "2019-06-11T01:59:45.986539Z",
     "start_time": "2019-06-11T01:59:45.836142Z"
    }
   },
   "outputs": [],
   "source": [
    "zscore = np.abs(U - ((n1 * n2)/2) ) / np.sqrt((n1 * n2 * (n1 + n2 + 1))/ 12) \n",
    "pvalue = stats.norm.sf(zscore)\n",
    "padj = sm.stats.fdrcorrection(pvalue)[1]"
   ]
  },
  {
   "cell_type": "markdown",
   "metadata": {},
   "source": [
    "### Calculating P values (Optional):\n",
    "\n",
    "$\\large{Z = \\frac{|U - \\frac{n_1 * n_2}{2}|}{\\sqrt{\\frac{n_1 * n_2 * (n_1 + n_2 + 1)}{12}}}}$\n"
   ]
  },
  {
   "cell_type": "markdown",
   "metadata": {},
   "source": [
    "Converting the U statistic is making the values normally distributed so you can then convert those to p values using a normal distribution. \n",
    "\n",
    "<img src=\"http://www.z-table.com/uploads/2/1/7/9/21795380/7807141_orig.png\" />"
   ]
  },
  {
   "cell_type": "code",
   "execution_count": null,
   "metadata": {
    "ExecuteTime": {
     "end_time": "2019-06-11T02:01:01.363540Z",
     "start_time": "2019-06-11T02:01:01.215487Z"
    }
   },
   "outputs": [],
   "source": [
    "##TODO"
   ]
  },
  {
   "cell_type": "markdown",
   "metadata": {},
   "source": [
    "### What if we could have predicted this result?\n",
    "\n",
    "A post-doc in the Gillis lab (Maggie Crow) analyzed hundreds of results of differential expression experiments and showed that certain genes are more often differentially expressed than others. \n",
    "\n",
    "<img src=\"https://www.pnas.org/content/pnas/116/13/6491/F2.medium.gif\" />\n",
    "\n",
    "As we learned before, AUROCs show how good a prediction is, so the list of genes Maggie came up with has an AUROC of .83, which is exceptionally good. \n",
    "\n",
    "This doesn't mean that just because the results are predictable that they aren't interesting, just that it isn't surprising that these results would look like results from other studies"
   ]
  },
  {
   "cell_type": "code",
   "execution_count": null,
   "metadata": {
    "ExecuteTime": {
     "end_time": "2019-06-11T02:02:25.226088Z",
     "start_time": "2019-06-11T02:02:25.222856Z"
    }
   },
   "outputs": [],
   "source": [
    "corrected = sm.stats.multipletests(p,method='fdr_bh')"
   ]
  },
  {
   "cell_type": "code",
   "execution_count": null,
   "metadata": {
    "ExecuteTime": {
     "end_time": "2019-06-11T02:03:04.655168Z",
     "start_time": "2019-06-11T02:03:04.650009Z"
    }
   },
   "outputs": [],
   "source": [
    "results['p_raw'] = p\n",
    "results['is_sig'] = corrected[0]\n",
    "results['p_adj'] = corrected[1]"
   ]
  },
  {
   "cell_type": "code",
   "execution_count": null,
   "metadata": {
    "ExecuteTime": {
     "end_time": "2019-06-11T02:05:33.539908Z",
     "start_time": "2019-06-11T02:05:33.513578Z"
    },
    "scrolled": true
   },
   "outputs": [],
   "source": [
    "de_prior = pd.read_csv('./data/mouse_de_prior.csv',index_col=0)"
   ]
  },
  {
   "cell_type": "code",
   "execution_count": null,
   "metadata": {
    "ExecuteTime": {
     "end_time": "2019-06-11T02:05:50.153832Z",
     "start_time": "2019-06-11T02:05:50.143437Z"
    }
   },
   "outputs": [],
   "source": [
    "de_prior.head()"
   ]
  },
  {
   "cell_type": "code",
   "execution_count": null,
   "metadata": {
    "ExecuteTime": {
     "end_time": "2019-06-11T02:09:44.449181Z",
     "start_time": "2019-06-11T02:09:44.245601Z"
    }
   },
   "outputs": [],
   "source": [
    "ax = sns.distplot(\n",
    "    de_prior.loc[results[results.is_sig].index, 'MF.rank'].dropna(),\n",
    "    kde=False,\n",
    "    norm_hist=True)\n",
    "sns.distplot(de_prior['MF.rank'], ax=ax, kde=False, norm_hist=True)\n",
    "sns.despine()\n",
    "plt.show()"
   ]
  },
  {
   "cell_type": "markdown",
   "metadata": {},
   "source": [
    "## Extra Resources"
   ]
  },
  {
   "cell_type": "markdown",
   "metadata": {},
   "source": [
    "### SQL and databases"
   ]
  },
  {
   "cell_type": "markdown",
   "metadata": {},
   "source": [
    "Large tabular data can often use special software for accessing and manipulating data. A common framework for this is known as SQL. Tools like [biomart](http://useast.ensembl.org/biomart/martview/3d270413fa0c7c3dca475d573cbf4897) can be accessed through a web interface or using SQL. SQL can be useful if you need to make repeated or many queries of a bioinformatics database (as an aside R has a package biomarRT for querrying biomart). Using SQL will feel a little similar to pandas.\n",
    "\n",
    "[SQL Wiki](https://en.wikipedia.org/wiki/SQL)\n",
    "\n",
    "[Biomart Public SQL server info](https://useast.ensembl.org/info/data/mysql.html)"
   ]
  },
  {
   "cell_type": "markdown",
   "metadata": {},
   "source": [
    "### Some weird \"common file formats\"\n",
    "\n",
    "Some bioinformatics software require specific file formats that are subclasses of other file formats\n",
    "\n",
    "Here are some examples:\n",
    "\n",
    "[GCT: A Special Flat Files for Gene Expression](http://software.broadinstitute.org/cancer/software/gsea/wiki/index.php/Data_formats)\n",
    "\n",
    "[Loom: A Special HDf5 Files for Single Cell Data](http://linnarssonlab.org/loompy/index.html)\n",
    "\n",
    "Both of these filetypes utilize flat/hdf5 file formats but format them in specific ways to make it easy for the software that they were created for to parse them"
   ]
  }
 ],
 "metadata": {
  "hide_input": false,
  "kernelspec": {
   "display_name": "Python 3.9 feyn",
   "language": "python",
   "name": "feynn"
  },
  "language_info": {
   "codemirror_mode": {
    "name": "ipython",
    "version": 3
   },
   "file_extension": ".py",
   "mimetype": "text/x-python",
   "name": "python",
   "nbconvert_exporter": "python",
   "pygments_lexer": "ipython3",
   "version": "3.9.5"
  },
  "latex_envs": {
   "LaTeX_envs_menu_present": true,
   "autoclose": false,
   "autocomplete": true,
   "bibliofile": "biblio.bib",
   "cite_by": "apalike",
   "current_citInitial": 1,
   "eqLabelWithNumbers": true,
   "eqNumInitial": 1,
   "hotkeys": {
    "equation": "Ctrl-E",
    "itemize": "Ctrl-I"
   },
   "labels_anchors": false,
   "latex_user_defs": false,
   "report_style_numbering": false,
   "user_envs_cfg": false
  },
  "notify_time": "5",
  "toc": {
   "base_numbering": 1,
   "nav_menu": {},
   "number_sections": true,
   "sideBar": true,
   "skip_h1_title": true,
   "title_cell": "Table of Contents",
   "title_sidebar": "Contents",
   "toc_cell": true,
   "toc_position": {
    "height": "calc(100% - 180px)",
    "left": "10px",
    "top": "150px",
    "width": "286.594px"
   },
   "toc_section_display": true,
   "toc_window_display": true
  }
 },
 "nbformat": 4,
 "nbformat_minor": 4
}
