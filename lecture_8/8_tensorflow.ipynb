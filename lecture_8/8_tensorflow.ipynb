{
 "cells": [
  {
   "cell_type": "markdown",
   "metadata": {},
   "source": [
    "# Brief intro to deep nueral networks"
   ]
  },
  {
   "cell_type": "markdown",
   "metadata": {},
   "source": [
    "<img src=https://github.com/bharris12/URP_2021_Programming_Course/raw/main/lecture_8/figure/table.png>"
   ]
  },
  {
   "cell_type": "markdown",
   "metadata": {},
   "source": [
    "for this class we will focus on supervised learning. More specifically, we will use some classification models to expain the main concepts of deep learning"
   ]
  },
  {
   "cell_type": "markdown",
   "metadata": {},
   "source": [
    "A deep learning model is constructed by three main parts,model structure, loss function, and optimization.\n",
    "<img src=https://eenews.cdnartwhere.eu/sites/default/files/images/01-picture-library/ChristophHammerschmidt/2016-11-november/Cadence_Hijazi/cnn_fig1.jpeg />"
   ]
  },
  {
   "cell_type": "markdown",
   "metadata": {},
   "source": [
    "## Mutilayer Perceptron (MLP)"
   ]
  },
  {
   "cell_type": "markdown",
   "metadata": {},
   "source": [
    "The most basic model structure is what we call Multilayer Perceptron\n",
    "<img src=https://miro.medium.com/max/600/1*xxZXeKfVKTRqh54t10815A.jpeg />\n",
    "Its construted by baisc units that are called 'Neurons' or 'Perceptrons'. Each individual one is actually very simply constructed.\n",
    "<img src=https://pythonmachinelearning.pro/wp-content/uploads/2017/09/Single-Perceptron.png.webp />"
   ]
  },
  {
   "cell_type": "markdown",
   "metadata": {},
   "source": [
    "Although each one is a very simple function approximater, by layering them together, the model now has a much greater power and flexibility in approximating functions. But after all, neural networks can be thing of as a function approximator, but with less assumptions.\n",
    "A fun app for visualiztion MLP: https://playground.tensorflow.org/"
   ]
  },
  {
   "cell_type": "markdown",
   "metadata": {},
   "source": [
    "## Convolutional Layer"
   ]
  },
  {
   "cell_type": "markdown",
   "metadata": {},
   "source": [
    "MLP isn't the best fit on all problems. Especially things like images. How do we get 'feature' from images? Per pixel? Thats just way too much. So another kind of layer comes into play.\n",
    "![ChessUrl](https://miro.medium.com/max/1052/0*jLoqqFsO-52KHTn9.gif)\n",
    "\n",
    "We call the weight we have learnt 'filters'. It to some extent represents what pattern the model has learnt to look for. And there are usually multiple filters per convolution layer, give the model the ability to learn more than one pattern.\n",
    "\n",
    "<img src=https://www.researchgate.net/publication/336805909/figure/fig1/AS:817888827023360@1572011300751/Schematic-diagram-of-a-basic-convolutional-neural-network-CNN-architecture-26.ppm />"
   ]
  },
  {
   "cell_type": "markdown",
   "metadata": {},
   "source": [
    "## Pooling layer"
   ]
  },
  {
   "cell_type": "markdown",
   "metadata": {},
   "source": [
    "As seen in the above figure structure, pooling layers often exist in deep learning models. Its main usage is to condense information. There are several ways pooling can be done:"
   ]
  },
  {
   "cell_type": "markdown",
   "metadata": {},
   "source": [
    "<img src=https://miro.medium.com/max/1400/1*oP-lySI7atBfDgpWQjnB6w.png />"
   ]
  },
  {
   "cell_type": "markdown",
   "metadata": {},
   "source": [
    "# Neural Network implementation"
   ]
  },
  {
   "cell_type": "markdown",
   "metadata": {},
   "source": [
    "TensorFlow is a widely used deep learning framework. Meaning that all the function/layers that we have mentioned above is already implemented as easy-to-use functions. For this class we will especially depend on TensorFlow.keras.\n",
    "\n",
    "There are lots of classes/blogs online for tensorflow tutorial. Tensorflow itself also come with a few tutorials:\n",
    "https://www.tensorflow.org/tutorials\n",
    "\n",
    "For the sample of our class, I want to give it a bit more biological background. The model that we are going to go through will use real biology data"
   ]
  },
  {
   "cell_type": "markdown",
   "metadata": {
    "id": "EsQFd76EvhYB"
   },
   "source": [
    "# Convolutional Neural Networks for regulatory genomics\n",
    "\n",
    "In this notebook, we will walk through how to build, train, and evaluate a convolutional neural network (CNN) for the computational task of predicting transcription factor binding sites from Chromatin Immunoprecipitation sequencing (ChIP-seq) data.\n",
    "\n"
   ]
  },
  {
   "cell_type": "code",
   "execution_count": null,
   "metadata": {
    "id": "02bCwLn256nE"
   },
   "outputs": [],
   "source": [
    "import h5py # python module needed to load dataset (stored in an hdf5 file format)\n",
    "import numpy as np\n",
    "import matplotlib.pyplot as plt\n",
    "%matplotlib inline"
   ]
  },
  {
   "cell_type": "markdown",
   "metadata": {
    "id": "ITu7CGCmv_YI"
   },
   "source": [
    "\n",
    "#### Overview\n",
    "Here, we will employ a CNN model to experimental ChIP-seq data for CTCF, a transciption factor that is known to bind to DNA and help form loops. We will set this up as a supervised learning task, specifically a binary classification, where we give the model a sequence and it has to predict whether or not it is associated with TF binding (i.e. presence or absence of a ChIP-seq peak). Thus, we need a set of background sequences which don't have a ChIP-seq peak. \n",
    "\n",
    "________________________________________________________________________________\n",
    "#### How should we choose background sequences?\n",
    "\n",
    "Randomly choosing sequences throughout the genome may include a CTCF motif (the accessibility of DNA is different across cell-types). If the properties of the background sequences are different from the positive sequences (e.g. GC-content differences), then a model may learn this instead of the motif patterns. We could just shuffle the sequences, but we may end up with a model that learns real genomic sequences vs fake genomic sequences. One background sequence that makes sense is to use accessible chromatin in the same cell type BUT does not overlap with the TF binding sites from ChIP-seq.  This way, the background sequences come from regulatory DNA from the same cell type and the only presumable difference between background and positive sequences is the TF binding site.  \n",
    "\n",
    "Fortunately for you, we already did this and processed the dataset:\n",
    "\n",
    "Let's download the data:\n"
   ]
  },
  {
   "cell_type": "code",
   "execution_count": null,
   "metadata": {
    "colab": {
     "base_uri": "https://localhost:8080/",
     "height": 454
    },
    "id": "A5nREJ71xETA",
    "outputId": "3e60e870-93fd-404b-a3ed-7c2918377324"
   },
   "outputs": [
    {
     "name": "stdout",
     "output_type": "stream",
     "text": [
      "--2020-10-16 19:37:10--  https://www.dropbox.com/s/0ks4dk6md2l9mqx/CTCF_200.h5\n",
      "Resolving www.dropbox.com (www.dropbox.com)... 162.125.1.1, 2620:100:6016:1::a27d:101\n",
      "Connecting to www.dropbox.com (www.dropbox.com)|162.125.1.1|:443... connected.\n",
      "HTTP request sent, awaiting response... 301 Moved Permanently\n",
      "Location: /s/raw/0ks4dk6md2l9mqx/CTCF_200.h5 [following]\n",
      "--2020-10-16 19:37:10--  https://www.dropbox.com/s/raw/0ks4dk6md2l9mqx/CTCF_200.h5\n",
      "Reusing existing connection to www.dropbox.com:443.\n",
      "HTTP request sent, awaiting response... 302 Found\n",
      "Location: https://uc1bf4aff87f44ac4179521118c4.dl.dropboxusercontent.com/cd/0/inline/BBZzcz7S0-iHZN6OJ2plZ8Pd8FXkiQFT7CfPw3FsWn3a36DJ1bO82hxPFmUFqL0r5asGzfiwvoeTH4nmbsYX48sAmBOia4f0vmHA1HmqbyuLiysqUdS8R10XYrQh5qX9EeM/file# [following]\n",
      "--2020-10-16 19:37:10--  https://uc1bf4aff87f44ac4179521118c4.dl.dropboxusercontent.com/cd/0/inline/BBZzcz7S0-iHZN6OJ2plZ8Pd8FXkiQFT7CfPw3FsWn3a36DJ1bO82hxPFmUFqL0r5asGzfiwvoeTH4nmbsYX48sAmBOia4f0vmHA1HmqbyuLiysqUdS8R10XYrQh5qX9EeM/file\n",
      "Resolving uc1bf4aff87f44ac4179521118c4.dl.dropboxusercontent.com (uc1bf4aff87f44ac4179521118c4.dl.dropboxusercontent.com)... 162.125.1.15, 2620:100:6016:15::a27d:10f\n",
      "Connecting to uc1bf4aff87f44ac4179521118c4.dl.dropboxusercontent.com (uc1bf4aff87f44ac4179521118c4.dl.dropboxusercontent.com)|162.125.1.15|:443... connected.\n",
      "HTTP request sent, awaiting response... 302 Found\n",
      "Location: /cd/0/inline2/BBabtrXwAGmXeDQiIUD3C8wD0QW4i3ZTo85qsPRkeEaComYFNQh6r10M8a9Wojl8EyLIZJ1izEq1Iu4Kv68Lx0z4SkVgTrf_xFO6PsD0-n6zmdT8KU0d5FpWTMHodanBSRpt4He51rnovaBofEXGrMEI42HuYwGG92dXL3cyaXNfuEKHHGBG21oDv6BNbfPkOlk4LCEVbTsC1U5OpWSLxOBdlfnriInvjFscouOxoPhLLh93IOjbQPqw1AxqhWFTb-GF2iapKELSp1fVt4p4381rlSAIk2ib4itjf0lED4ZcP3MBtIt9injIoGhGIEcQa0odkSakztpxSb31O9t-2aloOIy798g0nRvaAy8xtnl6Hw/file [following]\n",
      "--2020-10-16 19:37:11--  https://uc1bf4aff87f44ac4179521118c4.dl.dropboxusercontent.com/cd/0/inline2/BBabtrXwAGmXeDQiIUD3C8wD0QW4i3ZTo85qsPRkeEaComYFNQh6r10M8a9Wojl8EyLIZJ1izEq1Iu4Kv68Lx0z4SkVgTrf_xFO6PsD0-n6zmdT8KU0d5FpWTMHodanBSRpt4He51rnovaBofEXGrMEI42HuYwGG92dXL3cyaXNfuEKHHGBG21oDv6BNbfPkOlk4LCEVbTsC1U5OpWSLxOBdlfnriInvjFscouOxoPhLLh93IOjbQPqw1AxqhWFTb-GF2iapKELSp1fVt4p4381rlSAIk2ib4itjf0lED4ZcP3MBtIt9injIoGhGIEcQa0odkSakztpxSb31O9t-2aloOIy798g0nRvaAy8xtnl6Hw/file\n",
      "Reusing existing connection to uc1bf4aff87f44ac4179521118c4.dl.dropboxusercontent.com:443.\n",
      "HTTP request sent, awaiting response... 200 OK\n",
      "Length: 15599334 (15M) [application/octet-stream]\n",
      "Saving to: ‘CTCF_200.h5’\n",
      "\n",
      "CTCF_200.h5         100%[===================>]  14.88M  90.3MB/s    in 0.2s    \n",
      "\n",
      "2020-10-16 19:37:11 (90.3 MB/s) - ‘CTCF_200.h5’ saved [15599334/15599334]\n",
      "\n"
     ]
    }
   ],
   "source": [
    "!wget https://www.dropbox.com/s/0ks4dk6md2l9mqx/CTCF_200.h5"
   ]
  },
  {
   "cell_type": "markdown",
   "metadata": {
    "id": "fC2s_mEgxKaa"
   },
   "source": [
    "For this dataset, the keys for the train sequences is x_train and its corresponding label is y_train.  Note that the transpose changes the shape of the sequences such that the shape is (N,L,A), where N is the number of sequences, L is the length of the sequence=200, and A is the alphabet size=4). \n",
    "\n",
    "We define the alphabet which was used to generate the dataset (dim0=A, dim1=C, dim2=G, dim3=T)\n",
    "\n"
   ]
  },
  {
   "cell_type": "code",
   "execution_count": null,
   "metadata": {
    "colab": {
     "base_uri": "https://localhost:8080/",
     "height": 34
    },
    "id": "3JID4rQVBs-F",
    "outputId": "5fcd7dd2-bc48-482c-baa9-9b9b3f0ec241"
   },
   "outputs": [
    {
     "name": "stdout",
     "output_type": "stream",
     "text": [
      "(51156, 200, 4)\n"
     ]
    }
   ],
   "source": [
    "# load dataset\n",
    "file_path = 'CTCF_200.h5'\n",
    "dataset = h5py.File(file_path, 'r')\n",
    "x_train = np.array(dataset['x_train']).transpose([0,2,1])\n",
    "y_train = np.array(dataset['y_train'])\n",
    "x_valid = np.array(dataset['x_valid']).transpose([0,2,1])\n",
    "y_valid = np.array(dataset['y_valid'])\n",
    "x_test = np.array(dataset['x_test']).transpose([0,2,1])\n",
    "y_test = np.array(dataset['y_test'])\n",
    "\n",
    "alphabet = 'ACGT'\n",
    "\n",
    "# print shape of training data\n",
    "print(x_train.shape)"
   ]
  },
  {
   "cell_type": "markdown",
   "metadata": {
    "id": "9p7gNi0jnBUi"
   },
   "source": [
    "There should be 51,156 training sequences each 200 nts long with an alphabet size of 4. Let's see what a sequence actually looks like:"
   ]
  },
  {
   "cell_type": "code",
   "execution_count": null,
   "metadata": {
    "colab": {
     "base_uri": "https://localhost:8080/",
     "height": 868
    },
    "id": "M1o003KgnBbM",
    "outputId": "122895b1-8e72-474b-deea-8f28b4a92343"
   },
   "outputs": [
    {
     "name": "stdout",
     "output_type": "stream",
     "text": [
      "[[[0. 0. 0. 1.]\n",
      "  [0. 0. 0. 1.]\n",
      "  [0. 0. 0. 1.]\n",
      "  ...\n",
      "  [0. 1. 0. 0.]\n",
      "  [0. 0. 0. 1.]\n",
      "  [0. 1. 0. 0.]]\n",
      "\n",
      " [[0. 0. 1. 0.]\n",
      "  [1. 0. 0. 0.]\n",
      "  [1. 0. 0. 0.]\n",
      "  ...\n",
      "  [0. 0. 0. 1.]\n",
      "  [1. 0. 0. 0.]\n",
      "  [1. 0. 0. 0.]]\n",
      "\n",
      " [[0. 1. 0. 0.]\n",
      "  [0. 0. 0. 1.]\n",
      "  [0. 0. 0. 1.]\n",
      "  ...\n",
      "  [0. 1. 0. 0.]\n",
      "  [0. 0. 0. 1.]\n",
      "  [1. 0. 0. 0.]]\n",
      "\n",
      " ...\n",
      "\n",
      " [[0. 1. 0. 0.]\n",
      "  [0. 0. 0. 1.]\n",
      "  [0. 0. 1. 0.]\n",
      "  ...\n",
      "  [1. 0. 0. 0.]\n",
      "  [0. 0. 0. 1.]\n",
      "  [1. 0. 0. 0.]]\n",
      "\n",
      " [[0. 1. 0. 0.]\n",
      "  [0. 0. 0. 1.]\n",
      "  [0. 0. 1. 0.]\n",
      "  ...\n",
      "  [0. 0. 0. 1.]\n",
      "  [0. 0. 1. 0.]\n",
      "  [1. 0. 0. 0.]]\n",
      "\n",
      " [[0. 0. 0. 1.]\n",
      "  [0. 0. 0. 1.]\n",
      "  [1. 0. 0. 0.]\n",
      "  ...\n",
      "  [0. 0. 0. 1.]\n",
      "  [0. 0. 0. 1.]\n",
      "  [0. 0. 1. 0.]]]\n"
     ]
    }
   ],
   "source": [
    "print(x_train)"
   ]
  },
  {
   "cell_type": "markdown",
   "metadata": {
    "id": "FDCanZSMnsrZ"
   },
   "source": [
    "Now let's look at the shape of the training labels (y)."
   ]
  },
  {
   "cell_type": "code",
   "execution_count": null,
   "metadata": {
    "colab": {
     "base_uri": "https://localhost:8080/",
     "height": 156
    },
    "id": "AnPEqBTTW5Wr",
    "outputId": "3c61345b-16e1-429e-ff14-b09056612dab"
   },
   "outputs": [
    {
     "name": "stdout",
     "output_type": "stream",
     "text": [
      "(51156, 1)\n",
      "[[1]\n",
      " [1]\n",
      " [1]\n",
      " ...\n",
      " [1]\n",
      " [1]\n",
      " [0]]\n"
     ]
    }
   ],
   "source": [
    "print(y_train.shape)\n",
    "print(y_train)"
   ]
  },
  {
   "cell_type": "markdown",
   "metadata": {
    "id": "Yh_kuuNtwGLI"
   },
   "source": [
    "# Convolutional Neural Network Overview\n",
    "\n",
    "A convolutional neural network (CNN) is composed of a stack of convolutional modules, each of which perform feature extraction from the previous layer. Each module consists of a convolutional layer, non-linear activation, followed by an optional pooling layer. The convolutional modules are usually followed by one or more dense layers which help it to learn more complex features. The final dense layer in a CNN is where predictions of the model are made. The activations of the output layer depend on the task at hand. In binary classification of TF binding sites, it will be a sigmoid activation (similar to logistic regression).\n",
    "\n",
    "### Convolutional layer\n",
    "\n",
    "Convolutional layers employ a specified number of convolution filters. The output of the convolutional filter scans is called a feature map. Convolutional layers then typically apply a ReLU activation function to the feature maps. Convolutional layers have 4 main hyperparameter choices: number of filters, filter size (i.e. kernel_size), padding, and activation. \n",
    "\n",
    "Eg. Conv1D(filters=24, kernel_size=19, activation='relu', padding='same')\n",
    "\n",
    "- The number of filters specifies how many patterns you aim to capture in that layer.  \n",
    "- The kernel_size sets how large you expect the important patterns to be in the given layer. \n",
    "- The padding argument specifies one of two enumerated values: valid (default) or same. To specify that the output tensor should have the same width and height values as the input tensor, we set padding=same, which instructs TensorFlow to pad the sequences with 0 values at the edges to preserve the shape of the sequence. \n",
    "- The activation sets the non-linearity added after the convolutional scans. The default is linear. We will use rectified linear units (ReLU) here. Other choices include: sigmoid, tanh, elu, softplus, swish, prelu, leaky relu.\n",
    "\n",
    "### Max-pool layer\n",
    "\n",
    "Max-pooling is a technique to downsample the data over a window size set by pool_size. This allows for deeper convolutional layers to learn patterns over a larger sequence context, while significantly reducing the processing time. The strides of max pooling sets how many steps to take for each max-pool operation. If the strides is set to the pool_size, this creates non-overlapping windows of the feature maps. Here, we will downsample the 1st convolutional layer scans by non-overlapping windows of size 25. This will result in a shape of (N, L/25, A).\n",
    "\n",
    "Eg. layers.MaxPool1D(pool_size=25)\n",
    "\n",
    "### fully-connected hidden layer\n",
    "\n",
    "Dense (fully connected) layers, connect every node in the layer (set by num_units) to every node in the preceding layer. The hyperparameters of interest are the number of neurons (units) and the activation, which we will set to relu.\n",
    "\n",
    "layers.Dense(units=64, activation='relu')\n",
    "\n",
    "FYI, most hyperparameter settings for convolutional, max-pooling, and dense layers are chosen through trail-and-error. Most settings result in similar performance -- they are all nearly just as good as each other. Finding the jackpot setting usually means you improve accuracy from 0.9 to 0.92.  \n",
    "\n",
    "\n",
    "### fully-connected output layer\n",
    "\n",
    "The output layer is a linear classifier model. So, the number of predictions we want to make is the number of output neurons we need to create. Here that number is one, because we are only making a single prediction -- whether or not a sequence is associated with a CTCF ChIP-seq peak. If there were more labels, all we have to do is set the 1 to an appropriate value. Note that the activation is dependent on what you are trying to predict. For instance, a regression can be achieved by a simple linear model, without any activation; a binary classificaiton can be achieved with a sigmoid activation, a multi-class prediction can be achieved with a softmax activation. Here we are performing a single-class binary classification, so we will employ sigmoid activations to the output neuron.\n",
    "\n",
    "layers.Dense(units=1, activation='linear')\n",
    "layers.Activation('sigmoid')\n",
    "\n",
    "\n",
    "\n",
    "For more details on CNNs: https://cs231n.github.io/convolutional-networks/\n",
    "Dataset overview\n",
    "\n",
    "\n"
   ]
  },
  {
   "cell_type": "code",
   "execution_count": null,
   "metadata": {
    "id": "UySldexXBVp7"
   },
   "outputs": [],
   "source": [
    "from tensorflow import keras\n",
    "\n",
    "# import modules that will make it easy to build and train the linear regression model\n",
    "from tensorflow.keras import models, layers\n",
    "\n",
    "# let's setup a sequential model -- which means that the model will be feed \n",
    "# forward (all models in this course will be sequential)\n",
    "model = models.Sequential()\n",
    "\n",
    "# the input layer specifies the shape of the input data to the model. Since our input \n",
    "# features, x, are 1-dimensional, we can set this value to 1. All models require\n",
    "# some input layer (where you feed in data).\n",
    "model.add(layers.InputLayer(input_shape=(200,4)))\n",
    "model.add(layers.Conv1D(filters=24, kernel_size=19, activation='relu', padding='same'))\n",
    "model.add(layers.MaxPool1D(pool_size=25))\n",
    "model.add(layers.Flatten())\n",
    "model.add(layers.Dense(units=64, activation='relu'))\n",
    "\n",
    "# a dense connection to 1 unit means that the inputs are fully connected to the \n",
    "# output neuron (in this case a single output neuron). Linear is the default \n",
    "# activation, but here we explicitly write it.\n",
    "model.add(layers.Dense(units=1, activation='linear'))\n",
    "model.add(layers.Activation('sigmoid'))"
   ]
  },
  {
   "cell_type": "markdown",
   "metadata": {
    "id": "dmxQ2I0HuvAQ"
   },
   "source": [
    "After we build the model, we can print a summary that shows the order of the layers, the shapes and number of parameters:"
   ]
  },
  {
   "cell_type": "code",
   "execution_count": null,
   "metadata": {
    "colab": {
     "base_uri": "https://localhost:8080/",
     "height": 364
    },
    "id": "9jrD8W_eDILw",
    "outputId": "fa9c03c9-702c-4aab-e2e6-fe2d8ef032db"
   },
   "outputs": [
    {
     "name": "stdout",
     "output_type": "stream",
     "text": [
      "Model: \"sequential\"\n",
      "_________________________________________________________________\n",
      "Layer (type)                 Output Shape              Param #   \n",
      "=================================================================\n",
      "conv1d (Conv1D)              (None, 200, 24)           1848      \n",
      "_________________________________________________________________\n",
      "max_pooling1d (MaxPooling1D) (None, 8, 24)             0         \n",
      "_________________________________________________________________\n",
      "flatten (Flatten)            (None, 192)               0         \n",
      "_________________________________________________________________\n",
      "dense (Dense)                (None, 64)                12352     \n",
      "_________________________________________________________________\n",
      "dense_1 (Dense)              (None, 1)                 65        \n",
      "_________________________________________________________________\n",
      "activation (Activation)      (None, 1)                 0         \n",
      "=================================================================\n",
      "Total params: 14,265\n",
      "Trainable params: 14,265\n",
      "Non-trainable params: 0\n",
      "_________________________________________________________________\n"
     ]
    }
   ],
   "source": [
    "model.summary()"
   ]
  },
  {
   "cell_type": "markdown",
   "metadata": {
    "id": "oNLXcm1Ez6Ch"
   },
   "source": [
    "### Build loss function\n",
    "\n",
    "For both training and evaluation, we need to define a loss function that measures how closely the model's predictions match the target classes. This is usually a log-likelihood function for supervised learning. The log-likelihood for a binary classification is the binary cross-entropy loss function:\n",
    "\n",
    "$\\mathcal{L} = \\sum_i y_i \\log(p_i) + (1-y_i)\\log(1-p_i)$\n",
    "\n",
    "Fortunately, Keras makes this super easy as you'll see below.\n",
    "\n",
    "### Build optimizer\n",
    "\n",
    "Now that we have our loss function established, we need to be able to calculate the gradients of the loss function with respect to the parameters of the model, which is efficiently calculated with backpropagation. Then, we can update the weights with gradients scaled by the learning rate, which is known as gradient descent learning. Fortunately, tensorflow/Keras provides a nice wrapper to perform all of this. There are many built in optimizers: sgd, momentum, adam, adagrad, rmsprop. ADAM is the best introductory optimizer for most tasks. It performs an adaptive learning rate based on previous gradients and hence it is much faster to converge and leads to consistently good solutions.  \n",
    "\n",
    "For more info on adam: https://towardsdatascience.com/adam-latest-trends-in-deep-learning-optimization-6be9a291375c"
   ]
  },
  {
   "cell_type": "code",
   "execution_count": null,
   "metadata": {
    "id": "mpzhNqaUH5_J"
   },
   "outputs": [],
   "source": [
    "# Now that we built the model, we have to set up the loss function and the optimizer.\n",
    "# Since it's a linear regression, we will set it to 'mean_squared_error'. \n",
    "# we will set the optimizer to stochastic gradient descent 'sgd' (even though this\n",
    "# is unnecessary for a linear regression)\n",
    "\n",
    "loss = keras.losses.BinaryCrossentropy()\n",
    "optimizer = keras.optimizers.Adam(learning_rate=0.001)\n",
    "auroc = keras.metrics.AUC(curve='ROC', name='auroc')\n",
    "model.compile(loss=loss, optimizer=optimizer, metrics=[auroc])\n",
    "\n",
    "# a short cut is: model.compile(loss='binary_crossentropy', optimizer='adam', metrics=[auroc])"
   ]
  },
  {
   "cell_type": "markdown",
   "metadata": {
    "id": "ew1bJMu-0BuF"
   },
   "source": [
    "### Fit the model\n",
    "\n",
    "We want to train our CNN model with mini-batch stochastic gradient descent. So, we need a way to generate mini-batches of data. Keras handles all of this for you through the setting batch_size. It also lets you select the number of epochs to train.  You can also monitor validation performance by adding the validation_data flag.  "
   ]
  },
  {
   "cell_type": "code",
   "execution_count": null,
   "metadata": {
    "colab": {
     "base_uri": "https://localhost:8080/",
     "height": 1000
    },
    "id": "KNDgTluoIL4B",
    "outputId": "193048dd-691a-427b-b27c-b7642d940ce8"
   },
   "outputs": [
    {
     "name": "stdout",
     "output_type": "stream",
     "text": [
      "Epoch 1/30\n",
      "512/512 [==============================] - 2s 5ms/step - loss: 0.3838 - auroc: 0.9095 - val_loss: 0.2271 - val_auroc: 0.9703\n",
      "Epoch 2/30\n",
      "512/512 [==============================] - 2s 4ms/step - loss: 0.2040 - auroc: 0.9744 - val_loss: 0.1869 - val_auroc: 0.9802\n",
      "Epoch 3/30\n",
      "512/512 [==============================] - 2s 4ms/step - loss: 0.1710 - auroc: 0.9814 - val_loss: 0.1631 - val_auroc: 0.9835\n",
      "Epoch 4/30\n",
      "512/512 [==============================] - 2s 4ms/step - loss: 0.1564 - auroc: 0.9840 - val_loss: 0.1523 - val_auroc: 0.9851\n",
      "Epoch 5/30\n",
      "512/512 [==============================] - 2s 4ms/step - loss: 0.1429 - auroc: 0.9863 - val_loss: 0.1570 - val_auroc: 0.9859\n",
      "Epoch 6/30\n",
      "512/512 [==============================] - 2s 4ms/step - loss: 0.1365 - auroc: 0.9873 - val_loss: 0.1438 - val_auroc: 0.9868\n",
      "Epoch 7/30\n",
      "512/512 [==============================] - 2s 4ms/step - loss: 0.1302 - auroc: 0.9882 - val_loss: 0.1413 - val_auroc: 0.9868\n",
      "Epoch 8/30\n",
      "512/512 [==============================] - 2s 4ms/step - loss: 0.1252 - auroc: 0.9889 - val_loss: 0.1431 - val_auroc: 0.9871\n",
      "Epoch 9/30\n",
      "512/512 [==============================] - 2s 4ms/step - loss: 0.1219 - auroc: 0.9894 - val_loss: 0.1447 - val_auroc: 0.9866\n",
      "Epoch 10/30\n",
      "512/512 [==============================] - 2s 4ms/step - loss: 0.1181 - auroc: 0.9900 - val_loss: 0.1408 - val_auroc: 0.9867\n",
      "Epoch 11/30\n",
      "512/512 [==============================] - 2s 4ms/step - loss: 0.1156 - auroc: 0.9903 - val_loss: 0.1426 - val_auroc: 0.9870\n",
      "Epoch 12/30\n",
      "512/512 [==============================] - 2s 4ms/step - loss: 0.1130 - auroc: 0.9906 - val_loss: 0.1455 - val_auroc: 0.9863\n",
      "Epoch 13/30\n",
      "512/512 [==============================] - 2s 4ms/step - loss: 0.1095 - auroc: 0.9912 - val_loss: 0.1426 - val_auroc: 0.9867\n",
      "Epoch 14/30\n",
      "512/512 [==============================] - 2s 4ms/step - loss: 0.1084 - auroc: 0.9913 - val_loss: 0.1464 - val_auroc: 0.9864\n",
      "Epoch 15/30\n",
      "512/512 [==============================] - 2s 4ms/step - loss: 0.1054 - auroc: 0.9918 - val_loss: 0.1463 - val_auroc: 0.9861\n",
      "Epoch 16/30\n",
      "512/512 [==============================] - 2s 4ms/step - loss: 0.1030 - auroc: 0.9921 - val_loss: 0.1433 - val_auroc: 0.9865\n",
      "Epoch 17/30\n",
      "512/512 [==============================] - 2s 4ms/step - loss: 0.0998 - auroc: 0.9923 - val_loss: 0.1450 - val_auroc: 0.9866\n",
      "Epoch 18/30\n",
      "512/512 [==============================] - 2s 4ms/step - loss: 0.0973 - auroc: 0.9928 - val_loss: 0.1474 - val_auroc: 0.9863\n",
      "Epoch 19/30\n",
      "512/512 [==============================] - 2s 4ms/step - loss: 0.0957 - auroc: 0.9930 - val_loss: 0.1489 - val_auroc: 0.9857\n",
      "Epoch 20/30\n",
      "512/512 [==============================] - 2s 4ms/step - loss: 0.0920 - auroc: 0.9934 - val_loss: 0.1500 - val_auroc: 0.9853\n",
      "Epoch 21/30\n",
      "512/512 [==============================] - 2s 4ms/step - loss: 0.0906 - auroc: 0.9937 - val_loss: 0.1515 - val_auroc: 0.9855\n",
      "Epoch 22/30\n",
      "512/512 [==============================] - 2s 4ms/step - loss: 0.0860 - auroc: 0.9942 - val_loss: 0.1535 - val_auroc: 0.9849\n",
      "Epoch 23/30\n",
      "512/512 [==============================] - 2s 4ms/step - loss: 0.0834 - auroc: 0.9946 - val_loss: 0.1593 - val_auroc: 0.9849\n",
      "Epoch 24/30\n",
      "512/512 [==============================] - 2s 4ms/step - loss: 0.0816 - auroc: 0.9948 - val_loss: 0.1584 - val_auroc: 0.9845\n",
      "Epoch 25/30\n",
      "512/512 [==============================] - 2s 4ms/step - loss: 0.0777 - auroc: 0.9952 - val_loss: 0.1735 - val_auroc: 0.9839\n",
      "Epoch 26/30\n",
      "512/512 [==============================] - 2s 4ms/step - loss: 0.0739 - auroc: 0.9957 - val_loss: 0.1681 - val_auroc: 0.9833\n",
      "Epoch 27/30\n",
      "511/512 [============================>.] - ETA: 0s - loss: 0.0713 - auroc: 0.9960"
     ]
    },
    {
     "ename": "KeyboardInterrupt",
     "evalue": "ignored",
     "output_type": "error",
     "traceback": [
      "\u001b[0;31m---------------------------------------------------------------------------\u001b[0m",
      "\u001b[0;31mKeyboardInterrupt\u001b[0m                         Traceback (most recent call last)",
      "\u001b[0;32m<ipython-input-9-6f9d6064c730>\u001b[0m in \u001b[0;36m<module>\u001b[0;34m()\u001b[0m\n\u001b[1;32m      3\u001b[0m \u001b[0;31m# because too many outputs are written and it is overwhelming for a linear model.\u001b[0m\u001b[0;34m\u001b[0m\u001b[0;34m\u001b[0m\u001b[0;34m\u001b[0m\u001b[0m\n\u001b[1;32m      4\u001b[0m \u001b[0;31m# We will turn this flag to true for other datasets later.\u001b[0m\u001b[0;34m\u001b[0m\u001b[0;34m\u001b[0m\u001b[0;34m\u001b[0m\u001b[0m\n\u001b[0;32m----> 5\u001b[0;31m \u001b[0mmodel\u001b[0m\u001b[0;34m.\u001b[0m\u001b[0mfit\u001b[0m\u001b[0;34m(\u001b[0m\u001b[0mx_train\u001b[0m\u001b[0;34m,\u001b[0m \u001b[0my_train\u001b[0m\u001b[0;34m,\u001b[0m \u001b[0mbatch_size\u001b[0m\u001b[0;34m=\u001b[0m\u001b[0;36m100\u001b[0m\u001b[0;34m,\u001b[0m \u001b[0mepochs\u001b[0m\u001b[0;34m=\u001b[0m\u001b[0;36m30\u001b[0m\u001b[0;34m,\u001b[0m \u001b[0mvalidation_data\u001b[0m\u001b[0;34m=\u001b[0m\u001b[0;34m(\u001b[0m\u001b[0mx_valid\u001b[0m\u001b[0;34m,\u001b[0m \u001b[0my_valid\u001b[0m\u001b[0;34m)\u001b[0m\u001b[0;34m)\u001b[0m\u001b[0;34m\u001b[0m\u001b[0;34m\u001b[0m\u001b[0m\n\u001b[0m",
      "\u001b[0;32m/usr/local/lib/python3.6/dist-packages/tensorflow/python/keras/engine/training.py\u001b[0m in \u001b[0;36m_method_wrapper\u001b[0;34m(self, *args, **kwargs)\u001b[0m\n\u001b[1;32m    106\u001b[0m   \u001b[0;32mdef\u001b[0m \u001b[0m_method_wrapper\u001b[0m\u001b[0;34m(\u001b[0m\u001b[0mself\u001b[0m\u001b[0;34m,\u001b[0m \u001b[0;34m*\u001b[0m\u001b[0margs\u001b[0m\u001b[0;34m,\u001b[0m \u001b[0;34m**\u001b[0m\u001b[0mkwargs\u001b[0m\u001b[0;34m)\u001b[0m\u001b[0;34m:\u001b[0m\u001b[0;34m\u001b[0m\u001b[0;34m\u001b[0m\u001b[0m\n\u001b[1;32m    107\u001b[0m     \u001b[0;32mif\u001b[0m \u001b[0;32mnot\u001b[0m \u001b[0mself\u001b[0m\u001b[0;34m.\u001b[0m\u001b[0m_in_multi_worker_mode\u001b[0m\u001b[0;34m(\u001b[0m\u001b[0;34m)\u001b[0m\u001b[0;34m:\u001b[0m  \u001b[0;31m# pylint: disable=protected-access\u001b[0m\u001b[0;34m\u001b[0m\u001b[0;34m\u001b[0m\u001b[0m\n\u001b[0;32m--> 108\u001b[0;31m       \u001b[0;32mreturn\u001b[0m \u001b[0mmethod\u001b[0m\u001b[0;34m(\u001b[0m\u001b[0mself\u001b[0m\u001b[0;34m,\u001b[0m \u001b[0;34m*\u001b[0m\u001b[0margs\u001b[0m\u001b[0;34m,\u001b[0m \u001b[0;34m**\u001b[0m\u001b[0mkwargs\u001b[0m\u001b[0;34m)\u001b[0m\u001b[0;34m\u001b[0m\u001b[0;34m\u001b[0m\u001b[0m\n\u001b[0m\u001b[1;32m    109\u001b[0m \u001b[0;34m\u001b[0m\u001b[0m\n\u001b[1;32m    110\u001b[0m     \u001b[0;31m# Running inside `run_distribute_coordinator` already.\u001b[0m\u001b[0;34m\u001b[0m\u001b[0;34m\u001b[0m\u001b[0;34m\u001b[0m\u001b[0m\n",
      "\u001b[0;32m/usr/local/lib/python3.6/dist-packages/tensorflow/python/keras/engine/training.py\u001b[0m in \u001b[0;36mfit\u001b[0;34m(self, x, y, batch_size, epochs, verbose, callbacks, validation_split, validation_data, shuffle, class_weight, sample_weight, initial_epoch, steps_per_epoch, validation_steps, validation_batch_size, validation_freq, max_queue_size, workers, use_multiprocessing)\u001b[0m\n\u001b[1;32m   1131\u001b[0m               \u001b[0mworkers\u001b[0m\u001b[0;34m=\u001b[0m\u001b[0mworkers\u001b[0m\u001b[0;34m,\u001b[0m\u001b[0;34m\u001b[0m\u001b[0;34m\u001b[0m\u001b[0m\n\u001b[1;32m   1132\u001b[0m               \u001b[0muse_multiprocessing\u001b[0m\u001b[0;34m=\u001b[0m\u001b[0muse_multiprocessing\u001b[0m\u001b[0;34m,\u001b[0m\u001b[0;34m\u001b[0m\u001b[0;34m\u001b[0m\u001b[0m\n\u001b[0;32m-> 1133\u001b[0;31m               return_dict=True)\n\u001b[0m\u001b[1;32m   1134\u001b[0m           \u001b[0mval_logs\u001b[0m \u001b[0;34m=\u001b[0m \u001b[0;34m{\u001b[0m\u001b[0;34m'val_'\u001b[0m \u001b[0;34m+\u001b[0m \u001b[0mname\u001b[0m\u001b[0;34m:\u001b[0m \u001b[0mval\u001b[0m \u001b[0;32mfor\u001b[0m \u001b[0mname\u001b[0m\u001b[0;34m,\u001b[0m \u001b[0mval\u001b[0m \u001b[0;32min\u001b[0m \u001b[0mval_logs\u001b[0m\u001b[0;34m.\u001b[0m\u001b[0mitems\u001b[0m\u001b[0;34m(\u001b[0m\u001b[0;34m)\u001b[0m\u001b[0;34m}\u001b[0m\u001b[0;34m\u001b[0m\u001b[0;34m\u001b[0m\u001b[0m\n\u001b[1;32m   1135\u001b[0m           \u001b[0mepoch_logs\u001b[0m\u001b[0;34m.\u001b[0m\u001b[0mupdate\u001b[0m\u001b[0;34m(\u001b[0m\u001b[0mval_logs\u001b[0m\u001b[0;34m)\u001b[0m\u001b[0;34m\u001b[0m\u001b[0;34m\u001b[0m\u001b[0m\n",
      "\u001b[0;32m/usr/local/lib/python3.6/dist-packages/tensorflow/python/keras/engine/training.py\u001b[0m in \u001b[0;36m_method_wrapper\u001b[0;34m(self, *args, **kwargs)\u001b[0m\n\u001b[1;32m    106\u001b[0m   \u001b[0;32mdef\u001b[0m \u001b[0m_method_wrapper\u001b[0m\u001b[0;34m(\u001b[0m\u001b[0mself\u001b[0m\u001b[0;34m,\u001b[0m \u001b[0;34m*\u001b[0m\u001b[0margs\u001b[0m\u001b[0;34m,\u001b[0m \u001b[0;34m**\u001b[0m\u001b[0mkwargs\u001b[0m\u001b[0;34m)\u001b[0m\u001b[0;34m:\u001b[0m\u001b[0;34m\u001b[0m\u001b[0;34m\u001b[0m\u001b[0m\n\u001b[1;32m    107\u001b[0m     \u001b[0;32mif\u001b[0m \u001b[0;32mnot\u001b[0m \u001b[0mself\u001b[0m\u001b[0;34m.\u001b[0m\u001b[0m_in_multi_worker_mode\u001b[0m\u001b[0;34m(\u001b[0m\u001b[0;34m)\u001b[0m\u001b[0;34m:\u001b[0m  \u001b[0;31m# pylint: disable=protected-access\u001b[0m\u001b[0;34m\u001b[0m\u001b[0;34m\u001b[0m\u001b[0m\n\u001b[0;32m--> 108\u001b[0;31m       \u001b[0;32mreturn\u001b[0m \u001b[0mmethod\u001b[0m\u001b[0;34m(\u001b[0m\u001b[0mself\u001b[0m\u001b[0;34m,\u001b[0m \u001b[0;34m*\u001b[0m\u001b[0margs\u001b[0m\u001b[0;34m,\u001b[0m \u001b[0;34m**\u001b[0m\u001b[0mkwargs\u001b[0m\u001b[0;34m)\u001b[0m\u001b[0;34m\u001b[0m\u001b[0;34m\u001b[0m\u001b[0m\n\u001b[0m\u001b[1;32m    109\u001b[0m \u001b[0;34m\u001b[0m\u001b[0m\n\u001b[1;32m    110\u001b[0m     \u001b[0;31m# Running inside `run_distribute_coordinator` already.\u001b[0m\u001b[0;34m\u001b[0m\u001b[0;34m\u001b[0m\u001b[0;34m\u001b[0m\u001b[0m\n",
      "\u001b[0;32m/usr/local/lib/python3.6/dist-packages/tensorflow/python/keras/engine/training.py\u001b[0m in \u001b[0;36mevaluate\u001b[0;34m(self, x, y, batch_size, verbose, sample_weight, steps, callbacks, max_queue_size, workers, use_multiprocessing, return_dict)\u001b[0m\n\u001b[1;32m   1377\u001b[0m             \u001b[0;32mwith\u001b[0m \u001b[0mtrace\u001b[0m\u001b[0;34m.\u001b[0m\u001b[0mTrace\u001b[0m\u001b[0;34m(\u001b[0m\u001b[0;34m'TraceContext'\u001b[0m\u001b[0;34m,\u001b[0m \u001b[0mgraph_type\u001b[0m\u001b[0;34m=\u001b[0m\u001b[0;34m'test'\u001b[0m\u001b[0;34m,\u001b[0m \u001b[0mstep_num\u001b[0m\u001b[0;34m=\u001b[0m\u001b[0mstep\u001b[0m\u001b[0;34m)\u001b[0m\u001b[0;34m:\u001b[0m\u001b[0;34m\u001b[0m\u001b[0;34m\u001b[0m\u001b[0m\n\u001b[1;32m   1378\u001b[0m               \u001b[0mcallbacks\u001b[0m\u001b[0;34m.\u001b[0m\u001b[0mon_test_batch_begin\u001b[0m\u001b[0;34m(\u001b[0m\u001b[0mstep\u001b[0m\u001b[0;34m)\u001b[0m\u001b[0;34m\u001b[0m\u001b[0;34m\u001b[0m\u001b[0m\n\u001b[0;32m-> 1379\u001b[0;31m               \u001b[0mtmp_logs\u001b[0m \u001b[0;34m=\u001b[0m \u001b[0mtest_function\u001b[0m\u001b[0;34m(\u001b[0m\u001b[0miterator\u001b[0m\u001b[0;34m)\u001b[0m\u001b[0;34m\u001b[0m\u001b[0;34m\u001b[0m\u001b[0m\n\u001b[0m\u001b[1;32m   1380\u001b[0m               \u001b[0;32mif\u001b[0m \u001b[0mdata_handler\u001b[0m\u001b[0;34m.\u001b[0m\u001b[0mshould_sync\u001b[0m\u001b[0;34m:\u001b[0m\u001b[0;34m\u001b[0m\u001b[0;34m\u001b[0m\u001b[0m\n\u001b[1;32m   1381\u001b[0m                 \u001b[0mcontext\u001b[0m\u001b[0;34m.\u001b[0m\u001b[0masync_wait\u001b[0m\u001b[0;34m(\u001b[0m\u001b[0;34m)\u001b[0m\u001b[0;34m\u001b[0m\u001b[0;34m\u001b[0m\u001b[0m\n",
      "\u001b[0;32m/usr/local/lib/python3.6/dist-packages/tensorflow/python/eager/def_function.py\u001b[0m in \u001b[0;36m__call__\u001b[0;34m(self, *args, **kwds)\u001b[0m\n\u001b[1;32m    778\u001b[0m       \u001b[0;32melse\u001b[0m\u001b[0;34m:\u001b[0m\u001b[0;34m\u001b[0m\u001b[0;34m\u001b[0m\u001b[0m\n\u001b[1;32m    779\u001b[0m         \u001b[0mcompiler\u001b[0m \u001b[0;34m=\u001b[0m \u001b[0;34m\"nonXla\"\u001b[0m\u001b[0;34m\u001b[0m\u001b[0;34m\u001b[0m\u001b[0m\n\u001b[0;32m--> 780\u001b[0;31m         \u001b[0mresult\u001b[0m \u001b[0;34m=\u001b[0m \u001b[0mself\u001b[0m\u001b[0;34m.\u001b[0m\u001b[0m_call\u001b[0m\u001b[0;34m(\u001b[0m\u001b[0;34m*\u001b[0m\u001b[0margs\u001b[0m\u001b[0;34m,\u001b[0m \u001b[0;34m**\u001b[0m\u001b[0mkwds\u001b[0m\u001b[0;34m)\u001b[0m\u001b[0;34m\u001b[0m\u001b[0;34m\u001b[0m\u001b[0m\n\u001b[0m\u001b[1;32m    781\u001b[0m \u001b[0;34m\u001b[0m\u001b[0m\n\u001b[1;32m    782\u001b[0m       \u001b[0mnew_tracing_count\u001b[0m \u001b[0;34m=\u001b[0m \u001b[0mself\u001b[0m\u001b[0;34m.\u001b[0m\u001b[0m_get_tracing_count\u001b[0m\u001b[0;34m(\u001b[0m\u001b[0;34m)\u001b[0m\u001b[0;34m\u001b[0m\u001b[0;34m\u001b[0m\u001b[0m\n",
      "\u001b[0;32m/usr/local/lib/python3.6/dist-packages/tensorflow/python/eager/def_function.py\u001b[0m in \u001b[0;36m_call\u001b[0;34m(self, *args, **kwds)\u001b[0m\n\u001b[1;32m    812\u001b[0m       \u001b[0;31m# In this case we have not created variables on the first call. So we can\u001b[0m\u001b[0;34m\u001b[0m\u001b[0;34m\u001b[0m\u001b[0;34m\u001b[0m\u001b[0m\n\u001b[1;32m    813\u001b[0m       \u001b[0;31m# run the first trace but we should fail if variables are created.\u001b[0m\u001b[0;34m\u001b[0m\u001b[0;34m\u001b[0m\u001b[0;34m\u001b[0m\u001b[0m\n\u001b[0;32m--> 814\u001b[0;31m       \u001b[0mresults\u001b[0m \u001b[0;34m=\u001b[0m \u001b[0mself\u001b[0m\u001b[0;34m.\u001b[0m\u001b[0m_stateful_fn\u001b[0m\u001b[0;34m(\u001b[0m\u001b[0;34m*\u001b[0m\u001b[0margs\u001b[0m\u001b[0;34m,\u001b[0m \u001b[0;34m**\u001b[0m\u001b[0mkwds\u001b[0m\u001b[0;34m)\u001b[0m\u001b[0;34m\u001b[0m\u001b[0;34m\u001b[0m\u001b[0m\n\u001b[0m\u001b[1;32m    815\u001b[0m       \u001b[0;32mif\u001b[0m \u001b[0mself\u001b[0m\u001b[0;34m.\u001b[0m\u001b[0m_created_variables\u001b[0m\u001b[0;34m:\u001b[0m\u001b[0;34m\u001b[0m\u001b[0;34m\u001b[0m\u001b[0m\n\u001b[1;32m    816\u001b[0m         raise ValueError(\"Creating variables on a non-first call to a function\"\n",
      "\u001b[0;32m/usr/local/lib/python3.6/dist-packages/tensorflow/python/eager/function.py\u001b[0m in \u001b[0;36m__call__\u001b[0;34m(self, *args, **kwargs)\u001b[0m\n\u001b[1;32m   2827\u001b[0m     \u001b[0;32mwith\u001b[0m \u001b[0mself\u001b[0m\u001b[0;34m.\u001b[0m\u001b[0m_lock\u001b[0m\u001b[0;34m:\u001b[0m\u001b[0;34m\u001b[0m\u001b[0;34m\u001b[0m\u001b[0m\n\u001b[1;32m   2828\u001b[0m       \u001b[0mgraph_function\u001b[0m\u001b[0;34m,\u001b[0m \u001b[0margs\u001b[0m\u001b[0;34m,\u001b[0m \u001b[0mkwargs\u001b[0m \u001b[0;34m=\u001b[0m \u001b[0mself\u001b[0m\u001b[0;34m.\u001b[0m\u001b[0m_maybe_define_function\u001b[0m\u001b[0;34m(\u001b[0m\u001b[0margs\u001b[0m\u001b[0;34m,\u001b[0m \u001b[0mkwargs\u001b[0m\u001b[0;34m)\u001b[0m\u001b[0;34m\u001b[0m\u001b[0;34m\u001b[0m\u001b[0m\n\u001b[0;32m-> 2829\u001b[0;31m     \u001b[0;32mreturn\u001b[0m \u001b[0mgraph_function\u001b[0m\u001b[0;34m.\u001b[0m\u001b[0m_filtered_call\u001b[0m\u001b[0;34m(\u001b[0m\u001b[0margs\u001b[0m\u001b[0;34m,\u001b[0m \u001b[0mkwargs\u001b[0m\u001b[0;34m)\u001b[0m  \u001b[0;31m# pylint: disable=protected-access\u001b[0m\u001b[0;34m\u001b[0m\u001b[0;34m\u001b[0m\u001b[0m\n\u001b[0m\u001b[1;32m   2830\u001b[0m \u001b[0;34m\u001b[0m\u001b[0m\n\u001b[1;32m   2831\u001b[0m   \u001b[0;34m@\u001b[0m\u001b[0mproperty\u001b[0m\u001b[0;34m\u001b[0m\u001b[0;34m\u001b[0m\u001b[0m\n",
      "\u001b[0;32m/usr/local/lib/python3.6/dist-packages/tensorflow/python/eager/function.py\u001b[0m in \u001b[0;36m_filtered_call\u001b[0;34m(self, args, kwargs, cancellation_manager)\u001b[0m\n\u001b[1;32m   1846\u001b[0m                            resource_variable_ops.BaseResourceVariable))],\n\u001b[1;32m   1847\u001b[0m         \u001b[0mcaptured_inputs\u001b[0m\u001b[0;34m=\u001b[0m\u001b[0mself\u001b[0m\u001b[0;34m.\u001b[0m\u001b[0mcaptured_inputs\u001b[0m\u001b[0;34m,\u001b[0m\u001b[0;34m\u001b[0m\u001b[0;34m\u001b[0m\u001b[0m\n\u001b[0;32m-> 1848\u001b[0;31m         cancellation_manager=cancellation_manager)\n\u001b[0m\u001b[1;32m   1849\u001b[0m \u001b[0;34m\u001b[0m\u001b[0m\n\u001b[1;32m   1850\u001b[0m   \u001b[0;32mdef\u001b[0m \u001b[0m_call_flat\u001b[0m\u001b[0;34m(\u001b[0m\u001b[0mself\u001b[0m\u001b[0;34m,\u001b[0m \u001b[0margs\u001b[0m\u001b[0;34m,\u001b[0m \u001b[0mcaptured_inputs\u001b[0m\u001b[0;34m,\u001b[0m \u001b[0mcancellation_manager\u001b[0m\u001b[0;34m=\u001b[0m\u001b[0;32mNone\u001b[0m\u001b[0;34m)\u001b[0m\u001b[0;34m:\u001b[0m\u001b[0;34m\u001b[0m\u001b[0;34m\u001b[0m\u001b[0m\n",
      "\u001b[0;32m/usr/local/lib/python3.6/dist-packages/tensorflow/python/eager/function.py\u001b[0m in \u001b[0;36m_call_flat\u001b[0;34m(self, args, captured_inputs, cancellation_manager)\u001b[0m\n\u001b[1;32m   1922\u001b[0m       \u001b[0;31m# No tape is watching; skip to running the function.\u001b[0m\u001b[0;34m\u001b[0m\u001b[0;34m\u001b[0m\u001b[0;34m\u001b[0m\u001b[0m\n\u001b[1;32m   1923\u001b[0m       return self._build_call_outputs(self._inference_function.call(\n\u001b[0;32m-> 1924\u001b[0;31m           ctx, args, cancellation_manager=cancellation_manager))\n\u001b[0m\u001b[1;32m   1925\u001b[0m     forward_backward = self._select_forward_and_backward_functions(\n\u001b[1;32m   1926\u001b[0m         \u001b[0margs\u001b[0m\u001b[0;34m,\u001b[0m\u001b[0;34m\u001b[0m\u001b[0;34m\u001b[0m\u001b[0m\n",
      "\u001b[0;32m/usr/local/lib/python3.6/dist-packages/tensorflow/python/eager/function.py\u001b[0m in \u001b[0;36mcall\u001b[0;34m(self, ctx, args, cancellation_manager)\u001b[0m\n\u001b[1;32m    548\u001b[0m               \u001b[0minputs\u001b[0m\u001b[0;34m=\u001b[0m\u001b[0margs\u001b[0m\u001b[0;34m,\u001b[0m\u001b[0;34m\u001b[0m\u001b[0;34m\u001b[0m\u001b[0m\n\u001b[1;32m    549\u001b[0m               \u001b[0mattrs\u001b[0m\u001b[0;34m=\u001b[0m\u001b[0mattrs\u001b[0m\u001b[0;34m,\u001b[0m\u001b[0;34m\u001b[0m\u001b[0;34m\u001b[0m\u001b[0m\n\u001b[0;32m--> 550\u001b[0;31m               ctx=ctx)\n\u001b[0m\u001b[1;32m    551\u001b[0m         \u001b[0;32melse\u001b[0m\u001b[0;34m:\u001b[0m\u001b[0;34m\u001b[0m\u001b[0;34m\u001b[0m\u001b[0m\n\u001b[1;32m    552\u001b[0m           outputs = execute.execute_with_cancellation(\n",
      "\u001b[0;32m/usr/local/lib/python3.6/dist-packages/tensorflow/python/eager/execute.py\u001b[0m in \u001b[0;36mquick_execute\u001b[0;34m(op_name, num_outputs, inputs, attrs, ctx, name)\u001b[0m\n\u001b[1;32m     58\u001b[0m     \u001b[0mctx\u001b[0m\u001b[0;34m.\u001b[0m\u001b[0mensure_initialized\u001b[0m\u001b[0;34m(\u001b[0m\u001b[0;34m)\u001b[0m\u001b[0;34m\u001b[0m\u001b[0;34m\u001b[0m\u001b[0m\n\u001b[1;32m     59\u001b[0m     tensors = pywrap_tfe.TFE_Py_Execute(ctx._handle, device_name, op_name,\n\u001b[0;32m---> 60\u001b[0;31m                                         inputs, attrs, num_outputs)\n\u001b[0m\u001b[1;32m     61\u001b[0m   \u001b[0;32mexcept\u001b[0m \u001b[0mcore\u001b[0m\u001b[0;34m.\u001b[0m\u001b[0m_NotOkStatusException\u001b[0m \u001b[0;32mas\u001b[0m \u001b[0me\u001b[0m\u001b[0;34m:\u001b[0m\u001b[0;34m\u001b[0m\u001b[0;34m\u001b[0m\u001b[0m\n\u001b[1;32m     62\u001b[0m     \u001b[0;32mif\u001b[0m \u001b[0mname\u001b[0m \u001b[0;32mis\u001b[0m \u001b[0;32mnot\u001b[0m \u001b[0;32mNone\u001b[0m\u001b[0;34m:\u001b[0m\u001b[0;34m\u001b[0m\u001b[0;34m\u001b[0m\u001b[0m\n",
      "\u001b[0;31mKeyboardInterrupt\u001b[0m: "
     ]
    }
   ],
   "source": [
    "# Now let's fit the model. The main inputs are x, y, epochs, which sets the number \n",
    "# of times to run through the dataset with SGD. Also, we set verbose to false,\n",
    "# because too many outputs are written and it is overwhelming for a linear model.\n",
    "# We will turn this flag to true for other datasets later.\n",
    "model.fit(x_train, y_train, batch_size=100, epochs=30, validation_data=(x_valid, y_valid))"
   ]
  },
  {
   "cell_type": "markdown",
   "metadata": {
    "id": "Tt4MuSUVwx8-"
   },
   "source": [
    "### Evaluate model\n",
    "\n",
    "Evaluating the test performance is easy with Keras. See below:"
   ]
  },
  {
   "cell_type": "code",
   "execution_count": null,
   "metadata": {
    "colab": {
     "base_uri": "https://localhost:8080/",
     "height": 52
    },
    "id": "shpWSlHkTVml",
    "outputId": "67a1706c-f051-4117-9b05-c38843aed9fe"
   },
   "outputs": [
    {
     "name": "stdout",
     "output_type": "stream",
     "text": [
      "74/74 [==============================] - 0s 3ms/step - loss: 0.1701 - auroc: 0.9836\n"
     ]
    },
    {
     "data": {
      "text/plain": [
       "[0.1701124757528305, 0.983579158782959]"
      ]
     },
     "execution_count": 10,
     "metadata": {
      "tags": []
     },
     "output_type": "execute_result"
    }
   ],
   "source": [
    "# evaluate model\n",
    "model.evaluate(x_test, y_test)"
   ]
  },
  {
   "cell_type": "markdown",
   "metadata": {
    "id": "F6NpcuCZ1iWQ"
   },
   "source": [
    "Now while these saliency plots seem to find a motif pattern that resembles the CTCF motif (see: https://www.factorbook.org/tf/human/CTCF/motif/ENCSR000BIE), the saliency maps are really noisy.  From my experience, this arises because of overfitting, which leads to spurious saliency maps as well -- here overfitting does not affect classification performance on the test set and is termed benign overfitting.\n"
   ]
  },
  {
   "cell_type": "markdown",
   "metadata": {},
   "source": [
    "# Redo analysis\n",
    "\n",
    "Let's redo this analysis with some regularization added to our CNN model. A very effective regularization is dropout and early stopping. For convolutional layers, let's add a dropout rate of 0.2 and for dense layers let's use a dropout of 0.5.  For early stopping, there is a built in \"callback\" in keras. Callbacks are objects taht perform actions during training. The early stopping call back checks whether the model's validation performance hasn't improved for x number of epochs. if the x number of epochs exceeds your patience, then training loop is stopped.  See below for example code."
   ]
  },
  {
   "cell_type": "code",
   "execution_count": null,
   "metadata": {
    "colab": {
     "base_uri": "https://localhost:8080/",
     "height": 1000
    },
    "id": "ilcod74ZSCwy",
    "outputId": "625e1333-4615-4e4a-f625-ec8230385d20"
   },
   "outputs": [
    {
     "name": "stdout",
     "output_type": "stream",
     "text": [
      "Epoch 1/100\n",
      "400/400 [==============================] - 2s 5ms/step - loss: 0.4487 - auroc: 0.8696 - val_loss: 0.2185 - val_auroc: 0.9740\n",
      "Epoch 2/100\n",
      "400/400 [==============================] - 2s 4ms/step - loss: 0.2193 - auroc: 0.9706 - val_loss: 0.1685 - val_auroc: 0.9830\n",
      "Epoch 3/100\n",
      "400/400 [==============================] - 2s 4ms/step - loss: 0.1860 - auroc: 0.9783 - val_loss: 0.1548 - val_auroc: 0.9851\n",
      "Epoch 4/100\n",
      "400/400 [==============================] - 2s 4ms/step - loss: 0.1719 - auroc: 0.9809 - val_loss: 0.1478 - val_auroc: 0.9866\n",
      "Epoch 5/100\n",
      "400/400 [==============================] - 2s 4ms/step - loss: 0.1643 - auroc: 0.9824 - val_loss: 0.1405 - val_auroc: 0.9872\n",
      "Epoch 6/100\n",
      "400/400 [==============================] - 2s 4ms/step - loss: 0.1591 - auroc: 0.9835 - val_loss: 0.1403 - val_auroc: 0.9873\n",
      "Epoch 7/100\n",
      "400/400 [==============================] - 2s 4ms/step - loss: 0.1548 - auroc: 0.9841 - val_loss: 0.1385 - val_auroc: 0.9872\n",
      "Epoch 8/100\n",
      "400/400 [==============================] - 2s 4ms/step - loss: 0.1537 - auroc: 0.9843 - val_loss: 0.1381 - val_auroc: 0.9875\n",
      "Epoch 9/100\n",
      "400/400 [==============================] - 2s 4ms/step - loss: 0.1503 - auroc: 0.9849 - val_loss: 0.1373 - val_auroc: 0.9875\n",
      "Epoch 10/100\n",
      "400/400 [==============================] - 2s 4ms/step - loss: 0.1499 - auroc: 0.9851 - val_loss: 0.1363 - val_auroc: 0.9878\n",
      "Epoch 11/100\n",
      "400/400 [==============================] - 2s 4ms/step - loss: 0.1479 - auroc: 0.9853 - val_loss: 0.1377 - val_auroc: 0.9875\n",
      "Epoch 12/100\n",
      "400/400 [==============================] - 2s 4ms/step - loss: 0.1470 - auroc: 0.9855 - val_loss: 0.1360 - val_auroc: 0.9878\n",
      "Epoch 13/100\n",
      "400/400 [==============================] - 2s 4ms/step - loss: 0.1438 - auroc: 0.9862 - val_loss: 0.1393 - val_auroc: 0.9877\n",
      "Epoch 14/100\n",
      "400/400 [==============================] - 2s 4ms/step - loss: 0.1450 - auroc: 0.9859 - val_loss: 0.1367 - val_auroc: 0.9876\n",
      "Epoch 15/100\n",
      "400/400 [==============================] - 2s 4ms/step - loss: 0.1434 - auroc: 0.9861 - val_loss: 0.1383 - val_auroc: 0.9872\n",
      "Epoch 16/100\n",
      "400/400 [==============================] - 2s 4ms/step - loss: 0.1420 - auroc: 0.9863 - val_loss: 0.1394 - val_auroc: 0.9873\n",
      "Epoch 17/100\n",
      "400/400 [==============================] - 2s 4ms/step - loss: 0.1401 - auroc: 0.9867 - val_loss: 0.1390 - val_auroc: 0.9876\n",
      "Epoch 18/100\n",
      "400/400 [==============================] - 2s 4ms/step - loss: 0.1400 - auroc: 0.9867 - val_loss: 0.1348 - val_auroc: 0.9877\n",
      "Epoch 19/100\n",
      "400/400 [==============================] - 2s 4ms/step - loss: 0.1386 - auroc: 0.9869 - val_loss: 0.1349 - val_auroc: 0.9878\n",
      "Epoch 20/100\n",
      "400/400 [==============================] - 2s 4ms/step - loss: 0.1385 - auroc: 0.9871 - val_loss: 0.1355 - val_auroc: 0.9878\n",
      "Epoch 21/100\n",
      "400/400 [==============================] - 2s 4ms/step - loss: 0.1386 - auroc: 0.9868 - val_loss: 0.1371 - val_auroc: 0.9876\n",
      "Epoch 22/100\n",
      "400/400 [==============================] - 2s 4ms/step - loss: 0.1376 - auroc: 0.9871 - val_loss: 0.1450 - val_auroc: 0.9872\n",
      "Epoch 23/100\n",
      "252/400 [=================>............] - ETA: 0s - loss: 0.1356 - auroc: 0.9873"
     ]
    },
    {
     "ename": "KeyboardInterrupt",
     "evalue": "ignored",
     "output_type": "error",
     "traceback": [
      "\u001b[0;31m---------------------------------------------------------------------------\u001b[0m",
      "\u001b[0;31mKeyboardInterrupt\u001b[0m                         Traceback (most recent call last)",
      "\u001b[0;32m<ipython-input-16-ac798c03c13d>\u001b[0m in \u001b[0;36m<module>\u001b[0;34m()\u001b[0m\n\u001b[1;32m     25\u001b[0m model.fit(x_train, y_train, batch_size=128, epochs=100, \n\u001b[1;32m     26\u001b[0m           \u001b[0mvalidation_data\u001b[0m\u001b[0;34m=\u001b[0m\u001b[0;34m(\u001b[0m\u001b[0mx_valid\u001b[0m\u001b[0;34m,\u001b[0m \u001b[0my_valid\u001b[0m\u001b[0;34m)\u001b[0m\u001b[0;34m,\u001b[0m\u001b[0;34m\u001b[0m\u001b[0;34m\u001b[0m\u001b[0m\n\u001b[0;32m---> 27\u001b[0;31m           callbacks=es_callback)\n\u001b[0m",
      "\u001b[0;32m/usr/local/lib/python3.6/dist-packages/tensorflow/python/keras/engine/training.py\u001b[0m in \u001b[0;36m_method_wrapper\u001b[0;34m(self, *args, **kwargs)\u001b[0m\n\u001b[1;32m    106\u001b[0m   \u001b[0;32mdef\u001b[0m \u001b[0m_method_wrapper\u001b[0m\u001b[0;34m(\u001b[0m\u001b[0mself\u001b[0m\u001b[0;34m,\u001b[0m \u001b[0;34m*\u001b[0m\u001b[0margs\u001b[0m\u001b[0;34m,\u001b[0m \u001b[0;34m**\u001b[0m\u001b[0mkwargs\u001b[0m\u001b[0;34m)\u001b[0m\u001b[0;34m:\u001b[0m\u001b[0;34m\u001b[0m\u001b[0;34m\u001b[0m\u001b[0m\n\u001b[1;32m    107\u001b[0m     \u001b[0;32mif\u001b[0m \u001b[0;32mnot\u001b[0m \u001b[0mself\u001b[0m\u001b[0;34m.\u001b[0m\u001b[0m_in_multi_worker_mode\u001b[0m\u001b[0;34m(\u001b[0m\u001b[0;34m)\u001b[0m\u001b[0;34m:\u001b[0m  \u001b[0;31m# pylint: disable=protected-access\u001b[0m\u001b[0;34m\u001b[0m\u001b[0;34m\u001b[0m\u001b[0m\n\u001b[0;32m--> 108\u001b[0;31m       \u001b[0;32mreturn\u001b[0m \u001b[0mmethod\u001b[0m\u001b[0;34m(\u001b[0m\u001b[0mself\u001b[0m\u001b[0;34m,\u001b[0m \u001b[0;34m*\u001b[0m\u001b[0margs\u001b[0m\u001b[0;34m,\u001b[0m \u001b[0;34m**\u001b[0m\u001b[0mkwargs\u001b[0m\u001b[0;34m)\u001b[0m\u001b[0;34m\u001b[0m\u001b[0;34m\u001b[0m\u001b[0m\n\u001b[0m\u001b[1;32m    109\u001b[0m \u001b[0;34m\u001b[0m\u001b[0m\n\u001b[1;32m    110\u001b[0m     \u001b[0;31m# Running inside `run_distribute_coordinator` already.\u001b[0m\u001b[0;34m\u001b[0m\u001b[0;34m\u001b[0m\u001b[0;34m\u001b[0m\u001b[0m\n",
      "\u001b[0;32m/usr/local/lib/python3.6/dist-packages/tensorflow/python/keras/engine/training.py\u001b[0m in \u001b[0;36mfit\u001b[0;34m(self, x, y, batch_size, epochs, verbose, callbacks, validation_split, validation_data, shuffle, class_weight, sample_weight, initial_epoch, steps_per_epoch, validation_steps, validation_batch_size, validation_freq, max_queue_size, workers, use_multiprocessing)\u001b[0m\n\u001b[1;32m   1096\u001b[0m                 batch_size=batch_size):\n\u001b[1;32m   1097\u001b[0m               \u001b[0mcallbacks\u001b[0m\u001b[0;34m.\u001b[0m\u001b[0mon_train_batch_begin\u001b[0m\u001b[0;34m(\u001b[0m\u001b[0mstep\u001b[0m\u001b[0;34m)\u001b[0m\u001b[0;34m\u001b[0m\u001b[0;34m\u001b[0m\u001b[0m\n\u001b[0;32m-> 1098\u001b[0;31m               \u001b[0mtmp_logs\u001b[0m \u001b[0;34m=\u001b[0m \u001b[0mtrain_function\u001b[0m\u001b[0;34m(\u001b[0m\u001b[0miterator\u001b[0m\u001b[0;34m)\u001b[0m\u001b[0;34m\u001b[0m\u001b[0;34m\u001b[0m\u001b[0m\n\u001b[0m\u001b[1;32m   1099\u001b[0m               \u001b[0;32mif\u001b[0m \u001b[0mdata_handler\u001b[0m\u001b[0;34m.\u001b[0m\u001b[0mshould_sync\u001b[0m\u001b[0;34m:\u001b[0m\u001b[0;34m\u001b[0m\u001b[0;34m\u001b[0m\u001b[0m\n\u001b[1;32m   1100\u001b[0m                 \u001b[0mcontext\u001b[0m\u001b[0;34m.\u001b[0m\u001b[0masync_wait\u001b[0m\u001b[0;34m(\u001b[0m\u001b[0;34m)\u001b[0m\u001b[0;34m\u001b[0m\u001b[0;34m\u001b[0m\u001b[0m\n",
      "\u001b[0;32m/usr/local/lib/python3.6/dist-packages/tensorflow/python/eager/def_function.py\u001b[0m in \u001b[0;36m__call__\u001b[0;34m(self, *args, **kwds)\u001b[0m\n\u001b[1;32m    778\u001b[0m       \u001b[0;32melse\u001b[0m\u001b[0;34m:\u001b[0m\u001b[0;34m\u001b[0m\u001b[0;34m\u001b[0m\u001b[0m\n\u001b[1;32m    779\u001b[0m         \u001b[0mcompiler\u001b[0m \u001b[0;34m=\u001b[0m \u001b[0;34m\"nonXla\"\u001b[0m\u001b[0;34m\u001b[0m\u001b[0;34m\u001b[0m\u001b[0m\n\u001b[0;32m--> 780\u001b[0;31m         \u001b[0mresult\u001b[0m \u001b[0;34m=\u001b[0m \u001b[0mself\u001b[0m\u001b[0;34m.\u001b[0m\u001b[0m_call\u001b[0m\u001b[0;34m(\u001b[0m\u001b[0;34m*\u001b[0m\u001b[0margs\u001b[0m\u001b[0;34m,\u001b[0m \u001b[0;34m**\u001b[0m\u001b[0mkwds\u001b[0m\u001b[0;34m)\u001b[0m\u001b[0;34m\u001b[0m\u001b[0;34m\u001b[0m\u001b[0m\n\u001b[0m\u001b[1;32m    781\u001b[0m \u001b[0;34m\u001b[0m\u001b[0m\n\u001b[1;32m    782\u001b[0m       \u001b[0mnew_tracing_count\u001b[0m \u001b[0;34m=\u001b[0m \u001b[0mself\u001b[0m\u001b[0;34m.\u001b[0m\u001b[0m_get_tracing_count\u001b[0m\u001b[0;34m(\u001b[0m\u001b[0;34m)\u001b[0m\u001b[0;34m\u001b[0m\u001b[0;34m\u001b[0m\u001b[0m\n",
      "\u001b[0;32m/usr/local/lib/python3.6/dist-packages/tensorflow/python/eager/def_function.py\u001b[0m in \u001b[0;36m_call\u001b[0;34m(self, *args, **kwds)\u001b[0m\n\u001b[1;32m    805\u001b[0m       \u001b[0;31m# In this case we have created variables on the first call, so we run the\u001b[0m\u001b[0;34m\u001b[0m\u001b[0;34m\u001b[0m\u001b[0;34m\u001b[0m\u001b[0m\n\u001b[1;32m    806\u001b[0m       \u001b[0;31m# defunned version which is guaranteed to never create variables.\u001b[0m\u001b[0;34m\u001b[0m\u001b[0;34m\u001b[0m\u001b[0;34m\u001b[0m\u001b[0m\n\u001b[0;32m--> 807\u001b[0;31m       \u001b[0;32mreturn\u001b[0m \u001b[0mself\u001b[0m\u001b[0;34m.\u001b[0m\u001b[0m_stateless_fn\u001b[0m\u001b[0;34m(\u001b[0m\u001b[0;34m*\u001b[0m\u001b[0margs\u001b[0m\u001b[0;34m,\u001b[0m \u001b[0;34m**\u001b[0m\u001b[0mkwds\u001b[0m\u001b[0;34m)\u001b[0m  \u001b[0;31m# pylint: disable=not-callable\u001b[0m\u001b[0;34m\u001b[0m\u001b[0;34m\u001b[0m\u001b[0m\n\u001b[0m\u001b[1;32m    808\u001b[0m     \u001b[0;32melif\u001b[0m \u001b[0mself\u001b[0m\u001b[0;34m.\u001b[0m\u001b[0m_stateful_fn\u001b[0m \u001b[0;32mis\u001b[0m \u001b[0;32mnot\u001b[0m \u001b[0;32mNone\u001b[0m\u001b[0;34m:\u001b[0m\u001b[0;34m\u001b[0m\u001b[0;34m\u001b[0m\u001b[0m\n\u001b[1;32m    809\u001b[0m       \u001b[0;31m# Release the lock early so that multiple threads can perform the call\u001b[0m\u001b[0;34m\u001b[0m\u001b[0;34m\u001b[0m\u001b[0;34m\u001b[0m\u001b[0m\n",
      "\u001b[0;32m/usr/local/lib/python3.6/dist-packages/tensorflow/python/eager/function.py\u001b[0m in \u001b[0;36m__call__\u001b[0;34m(self, *args, **kwargs)\u001b[0m\n\u001b[1;32m   2827\u001b[0m     \u001b[0;32mwith\u001b[0m \u001b[0mself\u001b[0m\u001b[0;34m.\u001b[0m\u001b[0m_lock\u001b[0m\u001b[0;34m:\u001b[0m\u001b[0;34m\u001b[0m\u001b[0;34m\u001b[0m\u001b[0m\n\u001b[1;32m   2828\u001b[0m       \u001b[0mgraph_function\u001b[0m\u001b[0;34m,\u001b[0m \u001b[0margs\u001b[0m\u001b[0;34m,\u001b[0m \u001b[0mkwargs\u001b[0m \u001b[0;34m=\u001b[0m \u001b[0mself\u001b[0m\u001b[0;34m.\u001b[0m\u001b[0m_maybe_define_function\u001b[0m\u001b[0;34m(\u001b[0m\u001b[0margs\u001b[0m\u001b[0;34m,\u001b[0m \u001b[0mkwargs\u001b[0m\u001b[0;34m)\u001b[0m\u001b[0;34m\u001b[0m\u001b[0;34m\u001b[0m\u001b[0m\n\u001b[0;32m-> 2829\u001b[0;31m     \u001b[0;32mreturn\u001b[0m \u001b[0mgraph_function\u001b[0m\u001b[0;34m.\u001b[0m\u001b[0m_filtered_call\u001b[0m\u001b[0;34m(\u001b[0m\u001b[0margs\u001b[0m\u001b[0;34m,\u001b[0m \u001b[0mkwargs\u001b[0m\u001b[0;34m)\u001b[0m  \u001b[0;31m# pylint: disable=protected-access\u001b[0m\u001b[0;34m\u001b[0m\u001b[0;34m\u001b[0m\u001b[0m\n\u001b[0m\u001b[1;32m   2830\u001b[0m \u001b[0;34m\u001b[0m\u001b[0m\n\u001b[1;32m   2831\u001b[0m   \u001b[0;34m@\u001b[0m\u001b[0mproperty\u001b[0m\u001b[0;34m\u001b[0m\u001b[0;34m\u001b[0m\u001b[0m\n",
      "\u001b[0;32m/usr/local/lib/python3.6/dist-packages/tensorflow/python/eager/function.py\u001b[0m in \u001b[0;36m_filtered_call\u001b[0;34m(self, args, kwargs, cancellation_manager)\u001b[0m\n\u001b[1;32m   1846\u001b[0m                            resource_variable_ops.BaseResourceVariable))],\n\u001b[1;32m   1847\u001b[0m         \u001b[0mcaptured_inputs\u001b[0m\u001b[0;34m=\u001b[0m\u001b[0mself\u001b[0m\u001b[0;34m.\u001b[0m\u001b[0mcaptured_inputs\u001b[0m\u001b[0;34m,\u001b[0m\u001b[0;34m\u001b[0m\u001b[0;34m\u001b[0m\u001b[0m\n\u001b[0;32m-> 1848\u001b[0;31m         cancellation_manager=cancellation_manager)\n\u001b[0m\u001b[1;32m   1849\u001b[0m \u001b[0;34m\u001b[0m\u001b[0m\n\u001b[1;32m   1850\u001b[0m   \u001b[0;32mdef\u001b[0m \u001b[0m_call_flat\u001b[0m\u001b[0;34m(\u001b[0m\u001b[0mself\u001b[0m\u001b[0;34m,\u001b[0m \u001b[0margs\u001b[0m\u001b[0;34m,\u001b[0m \u001b[0mcaptured_inputs\u001b[0m\u001b[0;34m,\u001b[0m \u001b[0mcancellation_manager\u001b[0m\u001b[0;34m=\u001b[0m\u001b[0;32mNone\u001b[0m\u001b[0;34m)\u001b[0m\u001b[0;34m:\u001b[0m\u001b[0;34m\u001b[0m\u001b[0;34m\u001b[0m\u001b[0m\n",
      "\u001b[0;32m/usr/local/lib/python3.6/dist-packages/tensorflow/python/eager/function.py\u001b[0m in \u001b[0;36m_call_flat\u001b[0;34m(self, args, captured_inputs, cancellation_manager)\u001b[0m\n\u001b[1;32m   1922\u001b[0m       \u001b[0;31m# No tape is watching; skip to running the function.\u001b[0m\u001b[0;34m\u001b[0m\u001b[0;34m\u001b[0m\u001b[0;34m\u001b[0m\u001b[0m\n\u001b[1;32m   1923\u001b[0m       return self._build_call_outputs(self._inference_function.call(\n\u001b[0;32m-> 1924\u001b[0;31m           ctx, args, cancellation_manager=cancellation_manager))\n\u001b[0m\u001b[1;32m   1925\u001b[0m     forward_backward = self._select_forward_and_backward_functions(\n\u001b[1;32m   1926\u001b[0m         \u001b[0margs\u001b[0m\u001b[0;34m,\u001b[0m\u001b[0;34m\u001b[0m\u001b[0;34m\u001b[0m\u001b[0m\n",
      "\u001b[0;32m/usr/local/lib/python3.6/dist-packages/tensorflow/python/eager/function.py\u001b[0m in \u001b[0;36mcall\u001b[0;34m(self, ctx, args, cancellation_manager)\u001b[0m\n\u001b[1;32m    548\u001b[0m               \u001b[0minputs\u001b[0m\u001b[0;34m=\u001b[0m\u001b[0margs\u001b[0m\u001b[0;34m,\u001b[0m\u001b[0;34m\u001b[0m\u001b[0;34m\u001b[0m\u001b[0m\n\u001b[1;32m    549\u001b[0m               \u001b[0mattrs\u001b[0m\u001b[0;34m=\u001b[0m\u001b[0mattrs\u001b[0m\u001b[0;34m,\u001b[0m\u001b[0;34m\u001b[0m\u001b[0;34m\u001b[0m\u001b[0m\n\u001b[0;32m--> 550\u001b[0;31m               ctx=ctx)\n\u001b[0m\u001b[1;32m    551\u001b[0m         \u001b[0;32melse\u001b[0m\u001b[0;34m:\u001b[0m\u001b[0;34m\u001b[0m\u001b[0;34m\u001b[0m\u001b[0m\n\u001b[1;32m    552\u001b[0m           outputs = execute.execute_with_cancellation(\n",
      "\u001b[0;32m/usr/local/lib/python3.6/dist-packages/tensorflow/python/eager/execute.py\u001b[0m in \u001b[0;36mquick_execute\u001b[0;34m(op_name, num_outputs, inputs, attrs, ctx, name)\u001b[0m\n\u001b[1;32m     58\u001b[0m     \u001b[0mctx\u001b[0m\u001b[0;34m.\u001b[0m\u001b[0mensure_initialized\u001b[0m\u001b[0;34m(\u001b[0m\u001b[0;34m)\u001b[0m\u001b[0;34m\u001b[0m\u001b[0;34m\u001b[0m\u001b[0m\n\u001b[1;32m     59\u001b[0m     tensors = pywrap_tfe.TFE_Py_Execute(ctx._handle, device_name, op_name,\n\u001b[0;32m---> 60\u001b[0;31m                                         inputs, attrs, num_outputs)\n\u001b[0m\u001b[1;32m     61\u001b[0m   \u001b[0;32mexcept\u001b[0m \u001b[0mcore\u001b[0m\u001b[0;34m.\u001b[0m\u001b[0m_NotOkStatusException\u001b[0m \u001b[0;32mas\u001b[0m \u001b[0me\u001b[0m\u001b[0;34m:\u001b[0m\u001b[0;34m\u001b[0m\u001b[0;34m\u001b[0m\u001b[0m\n\u001b[1;32m     62\u001b[0m     \u001b[0;32mif\u001b[0m \u001b[0mname\u001b[0m \u001b[0;32mis\u001b[0m \u001b[0;32mnot\u001b[0m \u001b[0;32mNone\u001b[0m\u001b[0;34m:\u001b[0m\u001b[0;34m\u001b[0m\u001b[0;34m\u001b[0m\u001b[0m\n",
      "\u001b[0;31mKeyboardInterrupt\u001b[0m: "
     ]
    }
   ],
   "source": [
    "from tensorflow import keras\n",
    "from tensorflow.keras import models, layers\n",
    "\n",
    "# build model\n",
    "model = models.Sequential()\n",
    "model.add(layers.InputLayer(input_shape=(200,4)))\n",
    "model.add(layers.Conv1D(filters=24, kernel_size=19, activation='relu', padding='same'))\n",
    "model.add(layers.MaxPool1D(pool_size=25))\n",
    "model.add(layers.Dropout(0.2))   # <-- add 0.1-0.2 for conv layers\n",
    "model.add(layers.Flatten())\n",
    "model.add(layers.Dense(units=64, activation='relu'))\n",
    "model.add(layers.Dropout(0.5))  # <-- add 0.1-0.5 for dense layers\n",
    "model.add(layers.Dense(units=1, activation='linear'))\n",
    "model.add(layers.Activation('sigmoid'))\n",
    "\n",
    "# compile model\n",
    "auroc = keras.metrics.AUC(curve='ROC', name='auroc')\n",
    "model.compile(loss='binary_crossentropy', optimizer='adam', metrics=[auroc])\n",
    "\n",
    "# create a callback for early stopping. Now we can increase the number of epochs \n",
    "# as early stopping will automatically stop training earlier\n",
    "es_callback = keras.callbacks.EarlyStopping(monitor='loss', patience=5)\n",
    "\n",
    "# fit model\n",
    "model.fit(x_train, y_train, batch_size=128, epochs=100, \n",
    "          validation_data=(x_valid, y_valid),\n",
    "          callbacks=es_callback)"
   ]
  },
  {
   "cell_type": "markdown",
   "metadata": {
    "id": "YGqiA9SWMHsk"
   },
   "source": [
    "Let's evaluate the model"
   ]
  },
  {
   "cell_type": "code",
   "execution_count": null,
   "metadata": {
    "colab": {
     "base_uri": "https://localhost:8080/",
     "height": 52
    },
    "id": "FrHQrLIRMBmO",
    "outputId": "fdd1b2c3-2c36-44f7-8ce7-1f5d05fc1d2a"
   },
   "outputs": [
    {
     "name": "stdout",
     "output_type": "stream",
     "text": [
      "58/58 [==============================] - 0s 3ms/step - loss: 0.1373 - auroc: 0.9876\n"
     ]
    },
    {
     "data": {
      "text/plain": [
       "[0.13730712234973907, 0.9876142144203186]"
      ]
     },
     "execution_count": 17,
     "metadata": {
      "tags": []
     },
     "output_type": "execute_result"
    }
   ],
   "source": [
    "# evaluate model\n",
    "model.evaluate(x_test, y_test)"
   ]
  },
  {
   "cell_type": "markdown",
   "metadata": {
    "id": "VONC4Vil0yal"
   },
   "source": [
    "# Validating the model\n",
    "\n",
    "To validate what the network is learning let's calculate a saliency map --  derivative of the output neuron with respect to the inputs. Luckily, tensorflow makes this easy because it calculates gradients using automatic differentiation. We can calculate the gradient with the function model.optimizer.get_gradients. We need to create a keras function to execute this. See code below:\n"
   ]
  },
  {
   "cell_type": "code",
   "execution_count": null,
   "metadata": {
    "id": "LJnGwJ1kJYF1"
   },
   "outputs": [],
   "source": [
    "import tensorflow\n",
    "# create an op to calculate gradients of outputs with respect to inputs (i.e. saliency map)\n",
    "# Note that we are taking the derivative of the pre-activated output layer (not the output layer)\n",
    "# this is because the sigmoid can make the gradients very small when predictions are close to 1 or 0\n",
    "def saliency_map(X,model,func = tensorflow.math.reduce_mean):\n",
    "  \"\"\"fast function to generate saliency maps\"\"\"\n",
    "  layer_output=model.get_layer(index = -2).output\n",
    "  intermediate_model=tensorflow.keras.models.Model(inputs=model.input,outputs=layer_output)\n",
    "  if not tensorflow.is_tensor(X):\n",
    "    X = tensorflow.Variable(X)\n",
    "  with tensorflow.GradientTape() as tape:\n",
    "    tape.watch(X)\n",
    "    outputs = func(intermediate_model(X))\n",
    "  return tape.gradient(outputs, X)\n"
   ]
  },
  {
   "cell_type": "markdown",
   "metadata": {
    "id": "Mdhs8NrR0BgC"
   },
   "source": [
    "Now we should choose which sequences we want to perform saliency analysis on. Let's choose the top 10 test sequences with the highest predictions. To find these, we can first predict the test sequences, sort them in descending order, then slice the top ten."
   ]
  },
  {
   "cell_type": "code",
   "execution_count": null,
   "metadata": {
    "id": "Y53H52KuNshs"
   },
   "outputs": [],
   "source": [
    "# To get model predictions, we can simply call predict.\n",
    "predictions = model.predict(x_test)\n",
    "\n",
    "# sort predictions in decending order\n",
    "index = np.argsort(predictions[:,0])[::-1]\n",
    "\n",
    "# get the top num_plot predictions\n",
    "num_plots = 10\n",
    "X = x_test[index[:num_plots]]\n",
    "\n",
    "# calculate saliency maps\n",
    "saliency_map = saliency_map(X,model)[0]"
   ]
  },
  {
   "cell_type": "markdown",
   "metadata": {
    "id": "jQwKvDuv5KrI"
   },
   "source": [
    "Let's visualize the saliency maps. We can plot this as a heat map:"
   ]
  },
  {
   "cell_type": "code",
   "execution_count": null,
   "metadata": {
    "colab": {
     "base_uri": "https://localhost:8080/",
     "height": 374
    },
    "id": "GxNSfqM15ShW",
    "outputId": "d48c7fa3-07e8-43b1-8c58-8a5058bda24e"
   },
   "outputs": [
    {
     "data": {
      "text/plain": [
       "<matplotlib.colorbar.Colorbar at 0x7f642078b9b0>"
      ]
     },
     "execution_count": 13,
     "metadata": {
      "tags": []
     },
     "output_type": "execute_result"
    },
    {
     "data": {
      "image/png": "[encoded data removed]",
      "text/plain": [
       "<Figure size 1440x432 with 2 Axes>"
      ]
     },
     "metadata": {
      "needs_background": "light",
      "tags": []
     },
     "output_type": "display_data"
    }
   ],
   "source": [
    "plt.figure(figsize=(20,6))\n",
    "plt.imshow(saliency_map.numpyT)\n",
    "plt.yticks([0,1,2,3], alphabet)\n",
    "plt.colorbar()"
   ]
  },
  {
   "cell_type": "markdown",
   "metadata": {
    "id": "3oPkkskO02Xs"
   },
   "source": [
    "This isn't a very nice visualization. Fortunately for you, [Logomaker](https://logomaker.readthedocs.io/en/latest/) (by Tareen and Kinney) can help us visualize saliency maps. We need to first install it on Google Colab."
   ]
  },
  {
   "cell_type": "code",
   "execution_count": null,
   "metadata": {
    "colab": {
     "base_uri": "https://localhost:8080/",
     "height": 260
    },
    "id": "f7Uhph4rSaxj",
    "outputId": "8532e5ad-3dde-4dca-ce6b-fdca15df4e07"
   },
   "outputs": [
    {
     "name": "stdout",
     "output_type": "stream",
     "text": [
      "Collecting logomaker\n",
      "\u001b[?25l  Downloading https://files.pythonhosted.org/packages/87/6d/9a9976674e77de3eab157e8c50667a7091058fa355fd7665eb1ab4b93c5a/logomaker-0.8-py2.py3-none-any.whl (11.8MB)\n",
      "\u001b[K     |████████████████████████████████| 11.8MB 262kB/s \n",
      "\u001b[?25hRequirement already satisfied: matplotlib in /usr/local/lib/python3.6/dist-packages (from logomaker) (3.2.2)\n",
      "Requirement already satisfied: numpy in /usr/local/lib/python3.6/dist-packages (from logomaker) (1.18.5)\n",
      "Requirement already satisfied: pandas in /usr/local/lib/python3.6/dist-packages (from logomaker) (1.1.2)\n",
      "Requirement already satisfied: python-dateutil>=2.1 in /usr/local/lib/python3.6/dist-packages (from matplotlib->logomaker) (2.8.1)\n",
      "Requirement already satisfied: kiwisolver>=1.0.1 in /usr/local/lib/python3.6/dist-packages (from matplotlib->logomaker) (1.2.0)\n",
      "Requirement already satisfied: cycler>=0.10 in /usr/local/lib/python3.6/dist-packages (from matplotlib->logomaker) (0.10.0)\n",
      "Requirement already satisfied: pyparsing!=2.0.4,!=2.1.2,!=2.1.6,>=2.0.1 in /usr/local/lib/python3.6/dist-packages (from matplotlib->logomaker) (2.4.7)\n",
      "Requirement already satisfied: pytz>=2017.2 in /usr/local/lib/python3.6/dist-packages (from pandas->logomaker) (2018.9)\n",
      "Requirement already satisfied: six>=1.5 in /usr/local/lib/python3.6/dist-packages (from python-dateutil>=2.1->matplotlib->logomaker) (1.15.0)\n",
      "Installing collected packages: logomaker\n",
      "Successfully installed logomaker-0.8\n"
     ]
    }
   ],
   "source": [
    "!pip install logomaker"
   ]
  },
  {
   "cell_type": "markdown",
   "metadata": {
    "id": "ISfd-Wff59Ng"
   },
   "source": [
    "I have created a function to visualize the saliency maps.  You are welcome to take a look at it. It essentially just converts the saliency map in the format needed by logomaker. "
   ]
  },
  {
   "cell_type": "code",
   "execution_count": null,
   "metadata": {
    "colab": {
     "base_uri": "https://localhost:8080/",
     "height": 867
    },
    "id": "RZUTCGPPPsXl",
    "outputId": "58d43eb4-3ceb-4ad5-b8d5-cd7dd145ef61"
   },
   "outputs": [
    {
     "data": {
      "image/png": "[encoded data removed]",
      "text/plain": [
       "<Figure size 720x72 with 1 Axes>"
      ]
     },
     "metadata": {
      "needs_background": "light",
      "tags": []
     },
     "output_type": "display_data"
    },
    {
     "data": {
      "image/png": "[encoded data removed]",
      "text/plain": [
       "<Figure size 720x72 with 1 Axes>"
      ]
     },
     "metadata": {
      "needs_background": "light",
      "tags": []
     },
     "output_type": "display_data"
    },
    {
     "data": {
      "image/png": "[encoded data removed]",
      "text/plain": [
       "<Figure size 720x72 with 1 Axes>"
      ]
     },
     "metadata": {
      "needs_background": "light",
      "tags": []
     },
     "output_type": "display_data"
    },
    {
     "data": {
      "image/png": "[encoded data removed]",
      "text/plain": [
       "<Figure size 720x72 with 1 Axes>"
      ]
     },
     "metadata": {
      "needs_background": "light",
      "tags": []
     },
     "output_type": "display_data"
    },
    {
     "data": {
      "image/png": "[encoded data removed]",
      "text/plain": [
       "<Figure size 720x72 with 1 Axes>"
      ]
     },
     "metadata": {
      "needs_background": "light",
      "tags": []
     },
     "output_type": "display_data"
    },
    {
     "data": {
      "image/png": "[encoded data removed]",
      "text/plain": [
       "<Figure size 720x72 with 1 Axes>"
      ]
     },
     "metadata": {
      "needs_background": "light",
      "tags": []
     },
     "output_type": "display_data"
    },
    {
     "data": {
      "image/png": "[encoded data removed]",
      "text/plain": [
       "<Figure size 720x72 with 1 Axes>"
      ]
     },
     "metadata": {
      "needs_background": "light",
      "tags": []
     },
     "output_type": "display_data"
    },
    {
     "data": {
      "image/png": "[encoded data removed]",
      "text/plain": [
       "<Figure size 720x72 with 1 Axes>"
      ]
     },
     "metadata": {
      "needs_background": "light",
      "tags": []
     },
     "output_type": "display_data"
    },
    {
     "data": {
      "image/png": "[encoded data removed]",
      "text/plain": [
       "<Figure size 720x72 with 1 Axes>"
      ]
     },
     "metadata": {
      "needs_background": "light",
      "tags": []
     },
     "output_type": "display_data"
    },
    {
     "data": {
      "image/png": "[encoded data removed]",
      "text/plain": [
       "<Figure size 720x72 with 1 Axes>"
      ]
     },
     "metadata": {
      "needs_background": "light",
      "tags": []
     },
     "output_type": "display_data"
    }
   ],
   "source": [
    "import pandas as pd\n",
    "import logomaker \n",
    "\n",
    "def plot_saliency_map(scores, alphabet, ax=None):\n",
    "  L,A = scores.shape\n",
    "  counts_df = pd.DataFrame(data=0.0, columns=list(alphabet), index=list(range(L)))\n",
    "  for a in range(A):\n",
    "    for l in range(L):\n",
    "      counts_df.iloc[l,a] = scores[l,a]\n",
    "\n",
    "  if not ax:\n",
    "    ax = plt.subplot(1,1,1)\n",
    "  logomaker.Logo(counts_df, ax=ax)\n",
    "\n",
    "\n",
    "saliency_scores = (saliency_map * X).numpy()  # grad * input\n",
    "for scores in saliency_scores:\n",
    "  fig = plt.figure(figsize=(10,1))\n",
    "  ax = plt.subplot(1,1,1)\n",
    "  plot_saliency_map(scores, alphabet, ax)"
   ]
  },
  {
   "cell_type": "code",
   "execution_count": null,
   "metadata": {
    "id": "XAe5Jw5L1R5V"
   },
   "outputs": [],
   "source": []
  }
 ],
 "metadata": {
  "accelerator": "GPU",
  "colab": {
   "collapsed_sections": [],
   "name": "Copy of 2020_ML_Lecture-CNN_TF_binding.ipynb",
   "provenance": []
  },
  "kernelspec": {
   "display_name": "Python 3",
   "language": "python",
   "name": "python3"
  },
  "language_info": {
   "codemirror_mode": {
    "name": "ipython",
    "version": 3
   },
   "file_extension": ".py",
   "mimetype": "text/x-python",
   "name": "python",
   "nbconvert_exporter": "python",
   "pygments_lexer": "ipython3",
   "version": "3.9.0"
  }
 },
 "nbformat": 4,
 "nbformat_minor": 1
}
