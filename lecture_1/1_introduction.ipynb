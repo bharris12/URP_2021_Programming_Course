{
 "cells": [
  {
   "cell_type": "markdown",
   "metadata": {},
   "source": [
    "# Notebook 1: Introduction"
   ]
  },
  {
   "cell_type": "markdown",
   "metadata": {},
   "source": [
    "## Welcome to Python"
   ]
  },
  {
   "cell_type": "markdown",
   "metadata": {},
   "source": [
    "In this course we will focus on the Python programming language. There are a number of reasons for this:\n",
    "\n",
    "**Python is one of the easiest languages to learn, to write, and to read.** More than almost any other programming language,  Python code looks like pseudocode. Many aspects of the language help to enforce clarity. There is also a set of convensions, called the [PEP 8 Style Guide](https://www.python.org/dev/peps/pep-0008/), that most programmers have adopted to make their code as clear as possible.\n",
    "\n",
    "**Python allows you to create new code fast**. It is designed to allow you to write programs as quickly and as painlessly as possible. One feature of Python that enables rapid prototyping is that it is an \"interpreted\" language: each line is executed by the Python interpreter one after the next. This is different than C, C++, or Java, which require that programs first be \"compiled\", i.e. translated in their entirety from code to byte code before they are run. \n",
    "\n",
    "**Python is very flexible.** With Python you can do image analysis, sequence analysis, exploratory data analysis, and create publication-quality figures. You can write small analysis scripts or write major software applications. You can use Python at the command line, within a Jupyter notebook (such as this one), or within an interactive programming environment.  \n",
    "\n",
    "**Python is well-supported.** There is an enormous user base for Python. This means that a simple Google search can usually answer any Python programming question you have. There are also a large number of mature 3rd party packages for a wide variety of tasks including image analysis, numerical computation, machine learning, statistics, and graphics. \n",
    "\n",
    "**Python skills are highly valued.** There is great demand for people who know Python, and that demand is rapidly increasing. This is true in both academic resaerch and in industry. In particular, Python has become the de facto language of deep learning. "
   ]
  },
  {
   "cell_type": "markdown",
   "metadata": {},
   "source": [
    "The official python documentation page is https://www.python.org/. Lots of good documentation and tutorials can be found here. Another great resource for programmers is Stack Overflow at http://stackoverflow.com/. The best resource, however, is usually Google. Just google a question you have and the answer will likely be found in the first or second hit."
   ]
  },
  {
   "cell_type": "markdown",
   "metadata": {},
   "source": [
    "Note: The R language is also very popular in biology and statistics, and arguably has a larger set of tools written for biological data analysis than does Python. We will not cover this language here, but once you learn Python it should be relatively easy to learn R. There is also a substantial amount of online material to help anyone interested in learning R. (This is also true of Matlab, popular with engineers and neuroscientists.)"
   ]
  },
  {
   "cell_type": "markdown",
   "metadata": {},
   "source": [
    "**Beware: There are 2 mutually incompatible versions of Python in widespread use: Python 2 and Python 3. We will use 3.7 throughout. **"
   ]
  },
  {
   "cell_type": "markdown",
   "metadata": {},
   "source": [
    "## Jupyter notebooks"
   ]
  },
  {
   "cell_type": "markdown",
   "metadata": {},
   "source": [
    "This is an **Jupyter notebook**. You can learn more about these on the Jupyter project website, http://jupyter.org/. Jupyter notebooks provide a conveneint interface to Python. They allow you to include fully functional Python code inside of a document that also contains markdown (i.e. text like this) and figures that show analysis results. This type of hybrid document provides a very powerful method of interactive data anlysis. I encourage taking advantage of this. In fact I use Jupyter notebooks for most of my data anlysis tasks. Only when I start writing production code do I switch over to more standard Python scripts. "
   ]
  },
  {
   "cell_type": "markdown",
   "metadata": {},
   "source": [
    "You can start a Jupyter notebook by typing this at the command line an pressing enter:\n",
    "\n",
    "```\n",
    "jupyter notebook\n",
    "```\n",
    "\n"
   ]
  },
  {
   "cell_type": "markdown",
   "metadata": {},
   "source": [
    "For this course, however, we will be using Google CoLab to avoid the potential headache of installing local versions of python on each of your computers. For our purposes, CoLab works nearly identically to Jupyter notebook except that they are served off of google servers (via internet) instead of on your own machine."
   ]
  },
  {
   "cell_type": "markdown",
   "metadata": {},
   "source": [
    "## Markdown cells"
   ]
  },
  {
   "cell_type": "markdown",
   "metadata": {},
   "source": [
    "To create a markdown cell, Click the '+' button in the menue above. Then choose 'Markdown' from the drop-down menu."
   ]
  },
  {
   "cell_type": "markdown",
   "metadata": {},
   "source": [
    "Markdown is a simple yet powerful way of creating sylized text. For example, you can embed LaTeX code to create an equation:\n",
    "\n",
    "$$\\sin x =  \\sum_{n=0}^\\infty \\frac{(-1)^n x^{2n+1}}{(2n+1)!}$$\n",
    "\n",
    "You can add HTML, e.g. to embed images:\n",
    "\n",
    "<img src=\"cshl.jpg\" alt=\"Drawing\" style=\"width: 400px;\"/>\n",
    "\n",
    "Here is a [Markdown Cheat Sheet](https://github.com/adam-p/markdown-here/wiki/Markdown-Here-Cheatsheet) for reference."
   ]
  },
  {
   "cell_type": "markdown",
   "metadata": {},
   "source": [
    "## Code cells"
   ]
  },
  {
   "cell_type": "markdown",
   "metadata": {},
   "source": [
    "Code cells contain snippets of Python code that you can execute by pressing Shift+Enter. Here is a code cell illustrating this with a simple Hello World program:"
   ]
  },
  {
   "cell_type": "code",
   "execution_count": 1,
   "metadata": {},
   "outputs": [
    {
     "name": "stdout",
     "output_type": "stream",
     "text": [
      "Hello World!\n"
     ]
    }
   ],
   "source": [
    "print(\"Hello World!\") # The Hello World program!"
   ]
  },
  {
   "cell_type": "markdown",
   "metadata": {},
   "source": [
    "All but the most trivial uses of python usually require packages that must be imported. Some of the most common packages are `numpy`, `pandas`, and `matplotlib`. To import these, and to assign these packages useful aliases, execute the code below. Although it is not required, [PEP 8 recommends](https://www.python.org/dev/peps/pep-0008/#imports) that you do all package imports at the top of each Python document."
   ]
  },
  {
   "cell_type": "code",
   "execution_count": 2,
   "metadata": {},
   "outputs": [],
   "source": [
    "# First code cell\n",
    "import numpy as np               # numpy is the standard numerical computing package\n",
    "import pandas as pd              # pandas is the standard pacakge for working with dataframes\n",
    "import matplotlib.pyplot as plt  # matplotlib is the standard plotting package"
   ]
  },
  {
   "cell_type": "markdown",
   "metadata": {},
   "source": [
    "Jupyter notebooks also have a variety of [magic commands](https://ipython.readthedocs.io/en/stable/interactive/magics.html). These are special built-in commands that being with a `%` sign. The one below causes `matplolib` (the primary Python plotting package, imported above) to insert plots into the notebook instead of in separate windows. I usually include this right under my imports."
   ]
  },
  {
   "cell_type": "code",
   "execution_count": 3,
   "metadata": {},
   "outputs": [],
   "source": [
    "%matplotlib inline"
   ]
  },
  {
   "cell_type": "markdown",
   "metadata": {},
   "source": [
    "Inline plotting is, I would argue, one of the most important features of Jupyter notebooks. It allows you to see Python code AND the graphical output of that code in the same place. For example,"
   ]
  },
  {
   "cell_type": "code",
   "execution_count": 4,
   "metadata": {},
   "outputs": [
    {
     "data": {
      "text/plain": [
       "[<matplotlib.lines.Line2D at 0x7f3b33383cc0>]"
      ]
     },
     "execution_count": 4,
     "metadata": {},
     "output_type": "execute_result"
    },
    {
     "data": {
      "image/png": "[encoded data removed]",
      "text/plain": [
       "<Figure size 432x288 with 1 Axes>"
      ]
     },
     "metadata": {
      "needs_background": "light"
     },
     "output_type": "display_data"
    }
   ],
   "source": [
    "x = np.arange(-10,10,0.01)   # Creates an array of numbers from -10 to 10, with step size 0.01\n",
    "y = np.sin(x)                # Computes the sign of these numbers\n",
    "plt.plot(x,y)                # Plots y vs. x"
   ]
  },
  {
   "cell_type": "markdown",
   "metadata": {},
   "source": [
    "## Accessing the command line"
   ]
  },
  {
   "cell_type": "markdown",
   "metadata": {},
   "source": [
    "Warning: the commands in this section will only work in a POSIX operating systems such as Mac OS X, Linux, and Unix. They will not work in Windows."
   ]
  },
  {
   "cell_type": "code",
   "execution_count": 8,
   "metadata": {},
   "outputs": [
    {
     "name": "stdout",
     "output_type": "stream",
     "text": [
      "total 152K\n",
      "drwxr-xr-x.  3 slu siepel lab staff  139 Jun 16 17:36 .\n",
      "drwxr-xr-x. 11 slu siepel lab staff  215 Jun 16 16:46 ..\n",
      "-rw-r--r--.  1 slu siepel lab staff  38K Jun 16 17:36 1_introduction.ipynb\n",
      "-rw-r--r--.  1 slu siepel lab staff 108K Jun 16 17:33 cshl.jpg\n",
      "-rwxr-xr-x.  1 slu siepel lab staff   50 Jun 16 17:36 hello_world.py\n",
      "drwxr-xr-x.  2 slu siepel lab staff   53 Jun 16 17:23 .ipynb_checkpoints\n",
      "-rw-r--r--.  1 slu siepel lab staff    0 Jun 16 16:46 README.md\n"
     ]
    }
   ],
   "source": [
    "# List the files in the current directory\n",
    "!ls -lah"
   ]
  },
  {
   "cell_type": "code",
   "execution_count": 9,
   "metadata": {},
   "outputs": [
    {
     "name": "stdout",
     "output_type": "stream",
     "text": [
      "print('Hello World!')  # The Hello World program!\n"
     ]
    }
   ],
   "source": [
    "# Display the contents of a file \n",
    "!cat hello_world.py"
   ]
  },
  {
   "cell_type": "code",
   "execution_count": 10,
   "metadata": {},
   "outputs": [
    {
     "name": "stdout",
     "output_type": "stream",
     "text": [
      "Hello World!\n"
     ]
    }
   ],
   "source": [
    "# Run a Python script\n",
    "!python hello_world.py"
   ]
  },
  {
   "cell_type": "code",
   "execution_count": 11,
   "metadata": {},
   "outputs": [
    {
     "name": "stdout",
     "output_type": "stream",
     "text": [
      "--2021-06-16 17:36:51--  http://regulondb.ccg.unam.mx/menu/download/datasets/files/BindingSiteSet.txt\n",
      "Resolving regulondb.ccg.unam.mx (regulondb.ccg.unam.mx)... 132.248.34.160\n",
      "Connecting to regulondb.ccg.unam.mx (regulondb.ccg.unam.mx)|132.248.34.160|:80... connected.\n",
      "HTTP request sent, awaiting response... 200 OK\n",
      "Length: 1288586 (1.2M) [text/plain]\n",
      "Saving to: ‘BindingSiteSet.txt’\n",
      "\n",
      "100%[======================================>] 1,288,586    564KB/s   in 2.2s   \n",
      "\n",
      "2021-06-16 17:36:54 (564 KB/s) - ‘BindingSiteSet.txt’ saved [1288586/1288586]\n",
      "\n",
      "total 1.4M\n",
      "drwxr-xr-x.  3 slu siepel lab staff  169 Jun 16 17:36 .\n",
      "drwxr-xr-x. 11 slu siepel lab staff  215 Jun 16 16:46 ..\n",
      "-rw-r--r--.  1 slu siepel lab staff  38K Jun 16 17:36 1_introduction.ipynb\n",
      "-rw-r--r--.  1 slu siepel lab staff 1.3M Feb  4 17:48 BindingSiteSet.txt\n",
      "-rw-r--r--.  1 slu siepel lab staff 108K Jun 16 17:33 cshl.jpg\n",
      "-rwxr-xr-x.  1 slu siepel lab staff   50 Jun 16 17:36 hello_world.py\n",
      "drwxr-xr-x.  2 slu siepel lab staff   53 Jun 16 17:23 .ipynb_checkpoints\n",
      "-rw-r--r--.  1 slu siepel lab staff    0 Jun 16 16:46 README.md\n"
     ]
    }
   ],
   "source": [
    "# Download a file (all annotated TF binding sites in E. coli)\n",
    "!wget http://regulondb.ccg.unam.mx/menu/download/datasets/files/BindingSiteSet.txt\n",
    "\n",
    "# List files in directory    \n",
    "!ls -lah \n",
    "\n",
    "# Remove downloaded file\n",
    "!rm BindingSiteSet.txt"
   ]
  },
  {
   "cell_type": "markdown",
   "metadata": {},
   "source": [
    "You can even install Python packages from within a Python notebook! To do this, use the `pip` command, which installs packages from [PyPI](https://pypi.org/). For example, the command below installs [`logomaker`](https://logomaker.readthedocs.io/en/latest/), a Python package that my lab recently developed. "
   ]
  },
  {
   "cell_type": "code",
   "execution_count": 12,
   "metadata": {},
   "outputs": [
    {
     "name": "stdout",
     "output_type": "stream",
     "text": [
      "Collecting logomaker\n",
      "\u001b[?25l  Downloading https://files.pythonhosted.org/packages/87/6d/9a9976674e77de3eab157e8c50667a7091058fa355fd7665eb1ab4b93c5a/logomaker-0.8-py2.py3-none-any.whl (11.8MB)\n",
      "\u001b[K     |████████████████████████████████| 11.8MB 9.6MB/s eta 0:00:01\n",
      "\u001b[?25hRequirement already satisfied: matplotlib in /home/slu/miniconda3/lib/python3.7/site-packages (from logomaker) (3.1.0)\n",
      "Requirement already satisfied: numpy in /home/slu/miniconda3/lib/python3.7/site-packages (from logomaker) (1.16.4)\n",
      "Requirement already satisfied: pandas in /home/slu/miniconda3/lib/python3.7/site-packages (from logomaker) (0.25.0)\n",
      "Requirement already satisfied: cycler>=0.10 in /home/slu/miniconda3/lib/python3.7/site-packages (from matplotlib->logomaker) (0.10.0)\n",
      "Requirement already satisfied: kiwisolver>=1.0.1 in /home/slu/miniconda3/lib/python3.7/site-packages (from matplotlib->logomaker) (1.1.0)\n",
      "Requirement already satisfied: pyparsing!=2.0.4,!=2.1.2,!=2.1.6,>=2.0.1 in /home/slu/miniconda3/lib/python3.7/site-packages (from matplotlib->logomaker) (2.4.2)\n",
      "Requirement already satisfied: python-dateutil>=2.1 in /home/slu/miniconda3/lib/python3.7/site-packages (from matplotlib->logomaker) (2.8.0)\n",
      "Requirement already satisfied: pytz>=2017.2 in /home/slu/miniconda3/lib/python3.7/site-packages (from pandas->logomaker) (2019.2)\n",
      "Requirement already satisfied: six in /home/slu/miniconda3/lib/python3.7/site-packages (from cycler>=0.10->matplotlib->logomaker) (1.12.0)\n",
      "Requirement already satisfied: setuptools in /home/slu/miniconda3/lib/python3.7/site-packages (from kiwisolver>=1.0.1->matplotlib->logomaker) (41.0.1)\n",
      "Installing collected packages: logomaker\n",
      "Successfully installed logomaker-0.8\n"
     ]
    }
   ],
   "source": [
    "# Install a 3rd party Python packge\n",
    "!pip install logomaker"
   ]
  },
  {
   "cell_type": "markdown",
   "metadata": {},
   "source": [
    "In this course we will largely stay away from using the POSIX commandline, but using the command line is still quite important to learn if you don't yet know here. Here is one tutorial on this subject: http://www.ee.surrey.ac.uk/Teaching/Unix/. And here is a cheat sheet: http://web.cs.ucla.edu/~miryung/teaching/EE461L-Spring2012/labs/posix.html"
   ]
  },
  {
   "cell_type": "markdown",
   "metadata": {},
   "source": [
    "## Exercises"
   ]
  },
  {
   "cell_type": "markdown",
   "metadata": {},
   "source": [
    "This course will include a variety of exercises to increase your Python skills. Note that the knowledge needed to complete each exercise will NOT necessarily have been presented or discussed. If you find yourself at sea, **the first thing you should do is Google your question.** This is how 99% of programming is done."
   ]
  },
  {
   "cell_type": "markdown",
   "metadata": {},
   "source": [
    "**E1.1**: Create a markdown cell containing a bulleted list, a numbered list, and a table."
   ]
  },
  {
   "cell_type": "code",
   "execution_count": null,
   "metadata": {
    "collapsed": true,
    "jupyter": {
     "outputs_hidden": true
    }
   },
   "outputs": [],
   "source": [
    "# Write answer here"
   ]
  },
  {
   "cell_type": "markdown",
   "metadata": {},
   "source": [
    "**E1.2**: Plot $y = x^2$ and $y = e^x$ on the same plot, with $x$ ranging from -3 to 3."
   ]
  },
  {
   "cell_type": "code",
   "execution_count": null,
   "metadata": {},
   "outputs": [],
   "source": [
    "# Write answer here"
   ]
  },
  {
   "cell_type": "markdown",
   "metadata": {},
   "source": [
    "**E1.3**: Using the command line, print the first 100 lines of the file `BindingSiteSet.txt`, then erase this file."
   ]
  },
  {
   "cell_type": "code",
   "execution_count": null,
   "metadata": {
    "collapsed": true,
    "jupyter": {
     "outputs_hidden": true
    }
   },
   "outputs": [],
   "source": [
    "# Write answer here"
   ]
  }
 ],
 "metadata": {
  "kernelspec": {
   "display_name": "Python 3",
   "language": "python",
   "name": "python3"
  },
  "language_info": {
   "codemirror_mode": {
    "name": "ipython",
    "version": 3
   },
   "file_extension": ".py",
   "mimetype": "text/x-python",
   "name": "python",
   "nbconvert_exporter": "python",
   "pygments_lexer": "ipython3",
   "version": "3.7.3"
  }
 },
 "nbformat": 4,
 "nbformat_minor": 4
}
