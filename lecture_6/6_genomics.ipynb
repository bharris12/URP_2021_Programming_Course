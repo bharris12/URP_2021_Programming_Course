{
 "cells": [
  {
   "cell_type": "markdown",
   "metadata": {},
   "source": [
    "# Genomics\n",
    "\n",
    "The goal of this lecture is to highligh a variety of genomics tools and methods that are commonly used in python.\n",
    "\n",
    "Things we will go over in this module are:\n",
    "\n",
    "1) Using Biopython for searching in NCBI databases\n",
    "\n",
    "2) Using Scanpy for conducting scRNAseq analysis\n"
   ]
  },
  {
   "cell_type": "markdown",
   "metadata": {},
   "source": [
    "## Installs/Imports"
   ]
  },
  {
   "cell_type": "code",
   "execution_count": 2,
   "metadata": {},
   "outputs": [],
   "source": [
    "!pip -q install biopython"
   ]
  },
  {
   "cell_type": "code",
   "execution_count": 18,
   "metadata": {},
   "outputs": [],
   "source": [
    "import numpy as np\n",
    "import pandas as pd"
   ]
  },
  {
   "cell_type": "markdown",
   "metadata": {},
   "source": [
    "### GenBank comprises several subdivisions:\n",
    "\n",
    "**Nucleotide**: a collection of nucleic acid sequences from several sources.\n",
    "\n",
    "**Genome Survey Sequence** (GSS): uncharacterized short genomic sequences.\n",
    "\n",
    "**Expressed Sequence Tags** (EST): uncharacterized short cDNA sequences.\n",
    "\n",
    "Searching the Nucleotide database with general text queries will produce the most relevant results. You can also use a simple query based on protein name, gene name or gene symbol.\n",
    "\n",
    "To limit your search to only certain kinds of records, you can search using GenBank's Limits page or alternatively use the Filter your results field to select categories of records after a search.\n",
    "\n",
    "If you cannot find what you are searching for, check how the database interpreted your query by investigating the Search details field on the right side of the page. This field automatically translates your search into standard keywords.\n",
    "\n",
    "Here is a link to all the potential search [fields used in Genbank](https://www.ncbi.nlm.nih.gov/books/NBK49540/)"
   ]
  },
  {
   "cell_type": "code",
   "execution_count": 43,
   "metadata": {},
   "outputs": [
    {
     "data": {
      "text/plain": [
       "'0'"
      ]
     },
     "execution_count": 43,
     "metadata": {},
     "output_type": "execute_result"
    }
   ],
   "source": [
    "#Bio comes from installing the biopython python module\n",
    "from Bio import Entrez\n",
    "\n",
    "#Using this fake email actually works\n",
    "Entrez.email = \"your_name@your_mail_server.com\"\n",
    "\n",
    "handle = Entrez.esearch(db=\"nucleotide\", term='\"Zea mays\"[Orgn] AND rbcL[Gene] ')\n",
    "record = Entrez.read(handle)\n",
    "record[\"Count\"]"
   ]
  },
  {
   "cell_type": "markdown",
   "metadata": {},
   "source": [
    "You can see this exact search via this [URL](https://www.ncbi.nlm.nih.gov/nuccore/?term=\"Zea+mays\"%5BOrgn%5D+AND+rbcL%5BGene%5D)\n",
    "\n",
    "## F-strings\n",
    "\n",
    "One thing you might notice is that we are writing our query as a string, and it might be nice to easily change the string so we can make many queries.\n",
    "\n",
    "To do this we can use F strings\n",
    "\n",
    "Here's an example below"
   ]
  },
  {
   "cell_type": "code",
   "execution_count": 14,
   "metadata": {},
   "outputs": [
    {
     "name": "stdout",
     "output_type": "stream",
     "text": [
      " \"Zea mays\"[Orgn] AND rbcL[Gene]\n",
      " \"Arabidopsis thaliana\"[Orgn] AND rbcL[Gene]\n"
     ]
    }
   ],
   "source": [
    "species_list=['Zea mays','Arabidopsis thaliana']\n",
    "for species in species_list:\n",
    "    # Notice how I have an f before the open quotes\n",
    "    # This tells python to evaluate this as an f string\n",
    "    # You can pass any variable there and it will place it in the string\n",
    "    query_string = f' \"{species}\"[Orgn] AND rbcL[Gene]'\n",
    "    print(query_string)"
   ]
  },
  {
   "cell_type": "code",
   "execution_count": 16,
   "metadata": {},
   "outputs": [
    {
     "name": "stdout",
     "output_type": "stream",
     "text": [
      "This is loop iteration 0\n",
      "This is loop iteration 1\n",
      "This is loop iteration 2\n",
      "This is loop iteration 3\n",
      "This is loop iteration 4\n"
     ]
    }
   ],
   "source": [
    "for i in range(5):\n",
    "    # You do not have to cast the variable to a string either\n",
    "    print(f'This is loop iteration {i}')"
   ]
  },
  {
   "cell_type": "code",
   "execution_count": 30,
   "metadata": {},
   "outputs": [
    {
     "name": "stdout",
     "output_type": "stream",
     "text": [
      "This random number rounded  1\n",
      "This random number rounded  0.9\n",
      "This random number rounded  0.86\n",
      "This random number rounded  0.857\n",
      "This random number rounded  0.8573\n"
     ]
    }
   ],
   "source": [
    "rand_number = np.random.rand()\n",
    "for i in range(5):\n",
    "    # You can include a colon and specify the format of the output\n",
    "    # In this case I am specifying the number of digits to round to\n",
    "    print(f'This random number rounded {rand_number: .{i}f}')"
   ]
  },
  {
   "cell_type": "code",
   "execution_count": 33,
   "metadata": {},
   "outputs": [
    {
     "data": {
      "text/plain": [
       "'$10,000,000'"
      ]
     },
     "execution_count": 33,
     "metadata": {},
     "output_type": "execute_result"
    }
   ],
   "source": [
    "# But if you place a comma after the colon\n",
    "# It will place commas every 3 digits\n",
    "f'${10000000:,}'\n"
   ]
  },
  {
   "cell_type": "code",
   "execution_count": 42,
   "metadata": {},
   "outputs": [
    {
     "data": {
      "text/plain": [
       "'66.67%'"
      ]
     },
     "execution_count": 42,
     "metadata": {},
     "output_type": "execute_result"
    }
   ],
   "source": [
    "# It will even convert fractions to percentages\n",
    "# Here I specify that it should be a percentage is 2 decimal places\n",
    "\n",
    "f'{2/3 :.2%}'"
   ]
  },
  {
   "cell_type": "markdown",
   "metadata": {},
   "source": [
    "## Excersise\n",
    "\n",
    "1) Read in the file `species_classification_ranks_processed.txt` as `species_info`"
   ]
  },
  {
   "cell_type": "code",
   "execution_count": null,
   "metadata": {},
   "outputs": [],
   "source": []
  },
  {
   "cell_type": "markdown",
   "metadata": {},
   "source": [
    "2) For each species count the number entries for the genes per1 and per2 and store the results as new columns in the dataframe `species_info`"
   ]
  },
  {
   "cell_type": "code",
   "execution_count": null,
   "metadata": {},
   "outputs": [],
   "source": []
  },
  {
   "cell_type": "markdown",
   "metadata": {},
   "source": [
    "3) Now make multiple plots that compare these genes and color them by different levels of species classification"
   ]
  },
  {
   "cell_type": "code",
   "execution_count": null,
   "metadata": {},
   "outputs": [],
   "source": []
  },
  {
   "cell_type": "markdown",
   "metadata": {},
   "source": [
    "## Scanpy tutorial"
   ]
  },
  {
   "cell_type": "code",
   "execution_count": null,
   "metadata": {},
   "outputs": [],
   "source": []
  }
 ],
 "metadata": {
  "kernelspec": {
   "display_name": "Python 3",
   "language": "python",
   "name": "python3"
  },
  "language_info": {
   "codemirror_mode": {
    "name": "ipython",
    "version": 3
   },
   "file_extension": ".py",
   "mimetype": "text/x-python",
   "name": "python",
   "nbconvert_exporter": "python",
   "pygments_lexer": "ipython3",
   "version": "3.7.4"
  }
 },
 "nbformat": 4,
 "nbformat_minor": 4
}
