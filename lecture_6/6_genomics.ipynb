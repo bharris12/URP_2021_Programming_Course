{
 "cells": [
  {
   "cell_type": "markdown",
   "metadata": {},
   "source": [
    "# Genomics\n",
    "\n",
    "The goal of this lecture is to highligh a variety of genomics tools and methods that are commonly used in python.\n",
    "\n",
    "Things we will go over in this module are:\n",
    "\n",
    "1) Using Biopython for searching in NCBI databases\n",
    "2) Using Scanpy for conducting scRNAseq analysis\n"
   ]
  },
  {
   "cell_type": "markdown",
   "metadata": {},
   "source": [
    "## Installs/Imports"
   ]
  },
  {
   "cell_type": "code",
   "execution_count": 1,
   "metadata": {},
   "outputs": [],
   "source": [
    "!pip -q install biopython"
   ]
  },
  {
   "cell_type": "markdown",
   "metadata": {},
   "source": [
    "### GenBank comprises several subdivisions:\n",
    "\n",
    "**Nucleotide**: a collection of nucleic acid sequences from several sources.\n",
    "\n",
    "**Genome Survey Sequence** (GSS): uncharacterized short genomic sequences.\n",
    "\n",
    "**Expressed Sequence Tags** (EST): uncharacterized short cDNA sequences.\n",
    "\n",
    "Searching the Nucleotide database with general text queries will produce the most relevant results. You can also use a simple query based on protein name, gene name or gene symbol.\n",
    "\n",
    "To limit your search to only certain kinds of records, you can search using GenBank's Limits page or alternatively use the Filter your results field to select categories of records after a search.\n",
    "\n",
    "If you cannot find what you are searching for, check how the database interpreted your query by investigating the Search details field on the right side of the page. This field automatically translates your search into standard keywords.\n",
    "\n",
    "Here is a link to all the potential search [fields used in Genbank](https://www.ncbi.nlm.nih.gov/books/NBK49540/)"
   ]
  },
  {
   "cell_type": "code",
   "execution_count": 40,
   "metadata": {},
   "outputs": [
    {
     "data": {
      "text/plain": [
       "'81'"
      ]
     },
     "execution_count": 40,
     "metadata": {},
     "output_type": "execute_result"
    }
   ],
   "source": [
    "#Bio comes from installing the biopython python module\n",
    "from Bio import Entrez\n",
    "\n",
    "Entrez.email = \"your_name@your_mail_server.com\"\n",
    "handle = Entrez.esearch(db=\"nucleotide\", term='\"mays\"[Genus] AND rbcL[Gene]')\n",
    "record = Entrez.read(handle)\n",
    "record[\"Count\"]"
   ]
  },
  {
   "cell_type": "markdown",
   "metadata": {},
   "source": [
    "**Given**: A genus name, followed by two dates in YYYY/M/D format.\n",
    "\n",
    "**Return**: The number of Nucleotide GenBank entries for the given genus that were published between the dates specified."
   ]
  },
  {
   "cell_type": "code",
   "execution_count": 35,
   "metadata": {},
   "outputs": [],
   "source": [
    "genus = np.genfromtxt('./data/genus_list.csv',dtype=str)"
   ]
  }
 ],
 "metadata": {
  "kernelspec": {
   "display_name": "Python 3",
   "language": "python",
   "name": "python3"
  },
  "language_info": {
   "codemirror_mode": {
    "name": "ipython",
    "version": 3
   },
   "file_extension": ".py",
   "mimetype": "text/x-python",
   "name": "python",
   "nbconvert_exporter": "python",
   "pygments_lexer": "ipython3",
   "version": "3.7.9"
  }
 },
 "nbformat": 4,
 "nbformat_minor": 4
}
