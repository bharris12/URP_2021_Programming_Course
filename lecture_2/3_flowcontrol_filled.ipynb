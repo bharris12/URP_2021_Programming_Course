{
 "cells": [
  {
   "cell_type": "markdown",
   "metadata": {},
   "source": [
    "# Notebook 3: Flow control"
   ]
  },
  {
   "cell_type": "markdown",
   "metadata": {},
   "source": [
    "This notebook will introduce ways of controlling the flow of execution in a program, including:\n",
    "- if / elif / else blocks\n",
    "- for loops\n",
    "- while loops\n",
    "- vectorized computations\n",
    "- functions"
   ]
  },
  {
   "cell_type": "code",
   "execution_count": null,
   "metadata": {},
   "outputs": [],
   "source": [
    "# Import the usual stuff first\n",
    "import numpy as np\n",
    "import pandas as pd\n",
    "import matplotlib.pyplot as plt\n",
    "%matplotlib inline"
   ]
  },
  {
   "cell_type": "markdown",
   "metadata": {},
   "source": [
    "## `if` statements"
   ]
  },
  {
   "cell_type": "code",
   "execution_count": null,
   "metadata": {},
   "outputs": [],
   "source": [
    "# we can perform logic in python\n",
    "a = True\n",
    "b = False"
   ]
  },
  {
   "cell_type": "code",
   "execution_count": null,
   "metadata": {},
   "outputs": [],
   "source": [
    "a == b"
   ]
  },
  {
   "cell_type": "code",
   "execution_count": null,
   "metadata": {},
   "outputs": [],
   "source": [
    "a != b"
   ]
  },
  {
   "cell_type": "code",
   "execution_count": null,
   "metadata": {},
   "outputs": [],
   "source": [
    "# We can wrap logical statements into if/else statements to create conditional statements\n",
    "x = 5\n",
    "y = 5\n",
    "\n",
    "if x==y:\n",
    "    print('In block 1')\n",
    "    print('They are not equal!')\n",
    "    \n",
    "elif x>y:\n",
    "    print('In block 2')\n",
    "    print('x is more than y')\n",
    "\n",
    "else:\n",
    "    print('In block 3')\n",
    "    print('y is more than x')"
   ]
  },
  {
   "cell_type": "markdown",
   "metadata": {},
   "source": [
    "Note the indentation within each code block. Code within the same block must have the same indentation level, since this is how Python code blocks. Although the amount of indentation doesn't actually matter, you should adhere to the [PEP 8](https://www.python.org/dev/peps/pep-0008/) standard that code blocks be indented with **4 spaces**, not with tabs. "
   ]
  },
  {
   "cell_type": "markdown",
   "metadata": {},
   "source": [
    "__Exercise 1__"
   ]
  },
  {
   "cell_type": "markdown",
   "metadata": {},
   "source": [
    "Write an if/else statement to guess the random number generated below."
   ]
  },
  {
   "cell_type": "code",
   "execution_count": null,
   "metadata": {},
   "outputs": [],
   "source": [
    "from random import randint\n",
    "randnum = randint(1,10)"
   ]
  },
  {
   "cell_type": "code",
   "execution_count": null,
   "metadata": {},
   "outputs": [],
   "source": [
    "# student code here\n",
    "\n"
   ]
  },
  {
   "cell_type": "markdown",
   "metadata": {},
   "source": [
    "## `for` loops"
   ]
  },
  {
   "cell_type": "markdown",
   "metadata": {},
   "source": [
    "Loops allow programmers to execute a block of code more than once without having to re-type the code multiple times."
   ]
  },
  {
   "cell_type": "code",
   "execution_count": null,
   "metadata": {},
   "outputs": [],
   "source": [
    "# A for loop executes a code block once for each value in a collection of values that you specify\n",
    "\n",
    "# Define list of numbers\n",
    "num_list = list(range(10))\n",
    "print('num_list = ', num_list)"
   ]
  },
  {
   "cell_type": "code",
   "execution_count": null,
   "metadata": {},
   "outputs": [],
   "source": [
    "# Print these numbers one by one\n",
    "for n in num_list:\n",
    "    print(n)"
   ]
  },
  {
   "cell_type": "code",
   "execution_count": null,
   "metadata": {},
   "outputs": [],
   "source": [
    "# For loops can loop over any \"iterable\" object, such as a string.\n",
    "name = 'McClintock'\n",
    "for c in name:\n",
    "    print(c)"
   ]
  },
  {
   "cell_type": "code",
   "execution_count": null,
   "metadata": {},
   "outputs": [],
   "source": [
    "# If we want to fill a list with content, we can write a for loop:\n",
    "tedious_list = []\n",
    "for c in name:\n",
    "    tedious_list.append(c)\n",
    "print('tedious_list =', tedious_list)"
   ]
  },
  {
   "cell_type": "code",
   "execution_count": null,
   "metadata": {},
   "outputs": [],
   "source": [
    "# Alternatively, we can use a \"list comprehension\" to do this in one line\n",
    "simple_list = [c for c in name]\n",
    "print('simple_list = ', simple_list)"
   ]
  },
  {
   "cell_type": "code",
   "execution_count": null,
   "metadata": {},
   "outputs": [],
   "source": [
    "# If we want to use the index of each element in a list, we can create a counter\n",
    "# that is incremented in each run through the code block\n",
    "i=0\n",
    "for c in name:\n",
    "    print('name[%d] = %s'%(i,c))\n",
    "    i += 1"
   ]
  },
  {
   "cell_type": "code",
   "execution_count": null,
   "metadata": {},
   "outputs": [],
   "source": [
    "# Alternatively, we can use enumerate(), which takes any iterable as input\n",
    "# and outputs a an iterable of index-value pairs. This will assign values \n",
    "# TWO variables in each pass of the loop.\n",
    "# This method is said to be more \"Pythonic\"\n",
    "for i, c in enumerate(name):\n",
    "    print(\"name[%d] = %s\"%(i,c))"
   ]
  },
  {
   "cell_type": "code",
   "execution_count": null,
   "metadata": {},
   "outputs": [],
   "source": [
    "# Range is the Pythonic way of iterating over consecutive integers\n",
    "for x in range(10):\n",
    "    print(x)"
   ]
  },
  {
   "cell_type": "code",
   "execution_count": null,
   "metadata": {},
   "outputs": [],
   "source": [
    "# In Python 3, many functions that would seem to return a list actually return \n",
    "# an \"iterable\", where each subsequent element is computed on the fly. This is\n",
    "# fine for loops, which execute sequentially. But if you want a list instead instead\n",
    "# of an interable, you must \"cast\" that iterable as a list. This is one of the major \n",
    "# differences between Python 2 and Python 3, and can cause a lot of cryptic \n",
    "# incompatibilities if you're not aware of this issue.\n",
    "\n",
    "v_iter = range(10)\n",
    "print(type(v_iter))\n",
    "print('iterable:', range(10))\n",
    "\n",
    "v_list = list(range(10))\n",
    "print(type(v_list))\n",
    "print('list:    ', v_list, '\\n')\n",
    "\n",
    "e_iter = enumerate(name)\n",
    "print(type(e_iter))\n",
    "print('iterable:', e_iter)\n",
    "\n",
    "e_list = list(enumerate(name))\n",
    "print(type(e_list))\n",
    "print('list:    ', e_list, '\\n')\n",
    "\n",
    "d = {'A':'T', 'C':'G', 'G':'C', 'T':'A'}\n",
    "print(type(d.keys()))\n",
    "print('iterable:', d.keys())\n",
    "print(type(list(d.keys())))\n",
    "print('list:    ', list(d.keys()))"
   ]
  },
  {
   "cell_type": "markdown",
   "metadata": {},
   "source": [
    "__Exercise 2__"
   ]
  },
  {
   "cell_type": "markdown",
   "metadata": {},
   "source": [
    "Write a for loop that prints out all even numbers from 1 to 10."
   ]
  },
  {
   "cell_type": "code",
   "execution_count": null,
   "metadata": {},
   "outputs": [],
   "source": [
    "#Student code here\n"
   ]
  },
  {
   "cell_type": "markdown",
   "metadata": {},
   "source": [
    "## `while` loops"
   ]
  },
  {
   "cell_type": "markdown",
   "metadata": {},
   "source": [
    "The ``while`` loop keeps going as long as the argument it is passed evaluates to True."
   ]
  },
  {
   "cell_type": "code",
   "execution_count": null,
   "metadata": {},
   "outputs": [],
   "source": [
    "# Assume you have a vial of P32\n",
    "half_life = 14.3 # days\n",
    "\n",
    "# Initially, the vial is at 100% activity\n",
    "current_activity = 100\n",
    "\n",
    "# As long as it has ~10% activity, it's still good to use for radioactive gels\n",
    "min_activity = 10\n",
    "\n",
    "# Compute how many days the vial is good for before it needs to be thrown out\n",
    "num_days = 0\n",
    "while current_activity > min_activity:\n",
    "    current_activity /= 2**(1/half_life)\n",
    "    num_days += 1\n",
    "    \n",
    "print('P32 activity will be reduced to %.1f%% by day %d.'%(current_activity, num_days))"
   ]
  },
  {
   "cell_type": "markdown",
   "metadata": {},
   "source": [
    "When using while loops, **make very sure that your loop will actually stop at some point**. If you nevertheless end up with a loop that doesn't stop, go to \"Kernel -> Interrupt\" in the menu above. If your computer still acts strange, select \"Kernel -> Restart\". You will then have to evaluate your Jupyter notebook from the beginning. "
   ]
  },
  {
   "cell_type": "markdown",
   "metadata": {},
   "source": [
    "__Exercise 3__"
   ]
  },
  {
   "cell_type": "markdown",
   "metadata": {},
   "source": [
    "Write a while loop that prints all even numbers from 1 to 10."
   ]
  },
  {
   "cell_type": "code",
   "execution_count": null,
   "metadata": {},
   "outputs": [],
   "source": []
  },
  {
   "cell_type": "markdown",
   "metadata": {},
   "source": [
    "## Vectorized computations"
   ]
  },
  {
   "cell_type": "markdown",
   "metadata": {},
   "source": [
    "While loops are computationally tractable in python, vectorized computations can help boost the speed when analyzing large datasets. This is possible using `numpy`."
   ]
  },
  {
   "cell_type": "code",
   "execution_count": null,
   "metadata": {},
   "outputs": [],
   "source": [
    "# A numpy \"array\" is like a list, except all the elements are guarenteed to be of the same type.\n",
    "N = 100\n",
    "ns = np.arange(N)\n",
    "ns"
   ]
  },
  {
   "cell_type": "code",
   "execution_count": null,
   "metadata": {},
   "outputs": [],
   "source": [
    "# Mathematical operations can be performed directly on numpy arrays\n",
    "# (this cannot be done on lists).\n",
    "\n",
    "# add 100 to all terms\n",
    "terms = ns + 100\n",
    "terms"
   ]
  },
  {
   "cell_type": "code",
   "execution_count": null,
   "metadata": {},
   "outputs": [],
   "source": [
    "# The sum of entries in a numpy array can be computed using the .sum() method\n",
    "sumterms = terms.sum()\n",
    "sumterms"
   ]
  },
  {
   "cell_type": "markdown",
   "metadata": {},
   "source": [
    "A demonstration of numpy arrays through computing $\\pi$ using the **dartboard method**: compute the fraction of random points in the unit square that are within distance 1/2 of the point (0.5,0.5). "
   ]
  },
  {
   "cell_type": "code",
   "execution_count": null,
   "metadata": {},
   "outputs": [],
   "source": [
    "# Draw N random x- and y-coordinates within the unit square\n",
    "N = 3000\n",
    "xs = np.random.rand(N) # Generate N random numbers between 0 and 1\n",
    "ys = np.random.rand(N) # Ditto\n",
    "print('xs =', xs)\n",
    "print('ys =', ys)"
   ]
  },
  {
   "cell_type": "code",
   "execution_count": null,
   "metadata": {},
   "outputs": [],
   "source": [
    "# Check to see what these xs and ys look like\n",
    "plt.figure(figsize=[5,5])\n",
    "plt.plot(xs,ys,'.')"
   ]
  },
  {
   "cell_type": "code",
   "execution_count": null,
   "metadata": {},
   "outputs": [],
   "source": [
    "# Compute distances from the point (.5, .5)\n",
    "dists = np.sqrt((xs-.5)**2 + (ys-.5)**2)\n",
    "print('dists =', repr(dists))"
   ]
  },
  {
   "cell_type": "code",
   "execution_count": null,
   "metadata": {},
   "outputs": [],
   "source": [
    "# Compute whether points are in the circle\n",
    "hits = (dists < .5)\n",
    "print('hits =', repr(hits))"
   ]
  },
  {
   "cell_type": "code",
   "execution_count": null,
   "metadata": {},
   "outputs": [],
   "source": [
    "# Plot the hits vs. the non-hits\n",
    "plt.figure(figsize=[5,5])\n",
    "plt.plot(xs[hits], ys[hits], '.')    # plot only points i for which hits[i] is True\n",
    "plt.plot(xs[~hits], ys[~hits], '.')  # plot only points i for which hits[i] is False"
   ]
  },
  {
   "cell_type": "code",
   "execution_count": null,
   "metadata": {},
   "outputs": [],
   "source": [
    "# Estimate pi from the number of hits\n",
    "pi_dart = 4*hits.sum()/N\n",
    "print('\\u03C0 \\u2248 %f (Dartboard method, %d points)'%(pi_dart, N))"
   ]
  },
  {
   "cell_type": "markdown",
   "metadata": {},
   "source": [
    "## Functions"
   ]
  },
  {
   "cell_type": "markdown",
   "metadata": {},
   "source": [
    "Functions allow us to modularize our code for easy interpretation and de-bugging. Variables that exisit only within the scope of a function are local variables, while variables that exisit throughout a program are called global variables."
   ]
  },
  {
   "cell_type": "code",
   "execution_count": null,
   "metadata": {},
   "outputs": [],
   "source": [
    "def factorial(n): # n is called the \"argument\"\n",
    "    \"\"\"\n",
    "    Returns n factorial. \n",
    "    n must be an integer satisfying 0 <= n <= 1000.\n",
    "    \"\"\" # This is a \"doc string\"\n",
    "    \n",
    "    # Thow an error if n does not have the right form\n",
    "    if isinstance(n,int) == False:\n",
    "        print('Input is not an integer')\n",
    "    elif n <= 0:\n",
    "        print('Input is not nonnegative')\n",
    "    elif n >= 1000:\n",
    "        print('Intput is too large!')\n",
    "    \n",
    "    # Initialize return variable\n",
    "    val = 1\n",
    "    \n",
    "    # Loop over i=1,2,...,n\n",
    "    for i in range(1,n+1):   \n",
    "        val *= i\n",
    "        \n",
    "    return val  # val is returned to the user"
   ]
  },
  {
   "cell_type": "markdown",
   "metadata": {},
   "source": [
    "Another way to write the if/else block above is to use assert statements. There are many ways to accomplish similar tasks in python."
   ]
  },
  {
   "cell_type": "code",
   "execution_count": null,
   "metadata": {},
   "outputs": [],
   "source": [
    "def factorial_2(n): # n is called the \"argument\"\n",
    "    \"\"\"\n",
    "    Returns n factorial. \n",
    "    n must be an integer satisfying 0 <= n <= 1000.\n",
    "    \"\"\" # This is a \"doc string\"\n",
    "    \n",
    "    # Thow an error if n does not have the right form\n",
    "    assert isinstance(n,int),'Input is not an integer' \n",
    "    assert n >= 0, 'Input is not nonnegative' \n",
    "    assert n <= 1000, 'Intput is too large!'\n",
    "    \n",
    "    # Initialize return variable\n",
    "    val = 1\n",
    "    \n",
    "    # Loop over i=1,2,...,n\n",
    "    for i in range(1,n+1):   \n",
    "        val *= i\n",
    "        \n",
    "    return val  # val is returned to the user"
   ]
  },
  {
   "cell_type": "markdown",
   "metadata": {},
   "source": [
    "We test this function by computing n! for n=0,1,2,...,9"
   ]
  },
  {
   "cell_type": "code",
   "execution_count": null,
   "metadata": {},
   "outputs": [],
   "source": [
    "for n in range(10):\n",
    "    print(str(n) + '! is ' + str(factorial(n)))"
   ]
  },
  {
   "cell_type": "markdown",
   "metadata": {},
   "source": [
    "Just as important as making sure your function works on valid input is to make sure that it EXPLICITLY FAILS on invalid input. "
   ]
  },
  {
   "cell_type": "code",
   "execution_count": null,
   "metadata": {},
   "outputs": [],
   "source": [
    "# This should fail\n",
    "print(factorial(1.1))"
   ]
  },
  {
   "cell_type": "code",
   "execution_count": null,
   "metadata": {},
   "outputs": [],
   "source": [
    "# This should fail\n",
    "print(factorial(-10))"
   ]
  },
  {
   "cell_type": "code",
   "execution_count": null,
   "metadata": {},
   "outputs": [],
   "source": [
    "# This should fail\n",
    "print(factorial(\"I'm not even a number!\"))"
   ]
  },
  {
   "cell_type": "code",
   "execution_count": null,
   "metadata": {},
   "outputs": [],
   "source": [
    "# You should also test boundary cases\n",
    "print('0! ==', factorial(0))\n",
    "print('1000! ==', factorial(1000))"
   ]
  },
  {
   "cell_type": "markdown",
   "metadata": {},
   "source": [
    "The docstring is accessible from within python, and is often very useful. Execute the following command and a window will pop up that describes what this function does."
   ]
  },
  {
   "cell_type": "code",
   "execution_count": null,
   "metadata": {},
   "outputs": [],
   "source": [
    "# The built-in function help() will display another function's docstring' \n",
    "help(factorial)"
   ]
  },
  {
   "cell_type": "code",
   "execution_count": null,
   "metadata": {},
   "outputs": [],
   "source": [
    "# In Jupyter notebooks, you can also type a '?' after a function to see its documentation\n",
    "factorial?"
   ]
  },
  {
   "cell_type": "markdown",
   "metadata": {},
   "source": [
    "__Exercise 4__"
   ]
  },
  {
   "cell_type": "markdown",
   "metadata": {},
   "source": [
    "Write a function that takes in a list of numbers and returns its average."
   ]
  },
  {
   "cell_type": "code",
   "execution_count": null,
   "metadata": {},
   "outputs": [],
   "source": [
    "# Write function here"
   ]
  },
  {
   "cell_type": "code",
   "execution_count": null,
   "metadata": {},
   "outputs": [],
   "source": [
    "# Check docstring here"
   ]
  },
  {
   "cell_type": "code",
   "execution_count": null,
   "metadata": {},
   "outputs": [],
   "source": [
    "# Test input checking here"
   ]
  },
  {
   "cell_type": "markdown",
   "metadata": {},
   "source": [
    "__Exercise 5__"
   ]
  },
  {
   "cell_type": "markdown",
   "metadata": {},
   "source": [
    "Write a function that mimics the functionality of a 4-function calculator. It takes in two numbers and an operation to be performed on the two numbers and returns the result of that operation on the two numbers."
   ]
  },
  {
   "cell_type": "code",
   "execution_count": null,
   "metadata": {},
   "outputs": [],
   "source": [
    "# Write function here"
   ]
  },
  {
   "cell_type": "code",
   "execution_count": null,
   "metadata": {},
   "outputs": [],
   "source": [
    "# Check docstring here"
   ]
  },
  {
   "cell_type": "code",
   "execution_count": null,
   "metadata": {},
   "outputs": [],
   "source": [
    "# Test input checking here"
   ]
  },
  {
   "cell_type": "code",
   "execution_count": null,
   "metadata": {},
   "outputs": [],
   "source": []
  }
 ],
 "metadata": {
  "kernelspec": {
   "display_name": "Python 3",
   "language": "python",
   "name": "python3"
  },
  "language_info": {
   "codemirror_mode": {
    "name": "ipython",
    "version": 3
   },
   "file_extension": ".py",
   "mimetype": "text/x-python",
   "name": "python",
   "nbconvert_exporter": "python",
   "pygments_lexer": "ipython3",
   "version": "3.7.3"
  }
 },
 "nbformat": 4,
 "nbformat_minor": 4
}
