{
 "cells": [
  {
   "cell_type": "markdown",
   "metadata": {},
   "source": [
    "# Notebook 3: Flow control"
   ]
  },
  {
   "cell_type": "markdown",
   "metadata": {},
   "source": [
    "This notebook will introduce ways of controlling the flow of execution in a program, including:\n",
    "- if / elif / else blocks\n",
    "- for loops\n",
    "- while loops\n",
    "- vectorized computations\n",
    "- functions"
   ]
  },
  {
   "cell_type": "code",
   "execution_count": 1,
   "metadata": {},
   "outputs": [],
   "source": [
    "# Import the usual stuff first\n",
    "import numpy as np\n",
    "import pandas as pd\n",
    "import matplotlib.pyplot as plt\n",
    "%matplotlib inline"
   ]
  },
  {
   "cell_type": "markdown",
   "metadata": {},
   "source": [
    "## `if` statements"
   ]
  },
  {
   "cell_type": "code",
   "execution_count": 2,
   "metadata": {},
   "outputs": [],
   "source": [
    "# we can perform logic in python\n",
    "a = True\n",
    "b = False"
   ]
  },
  {
   "cell_type": "code",
   "execution_count": 3,
   "metadata": {},
   "outputs": [
    {
     "data": {
      "text/plain": [
       "False"
      ]
     },
     "execution_count": 3,
     "metadata": {},
     "output_type": "execute_result"
    }
   ],
   "source": [
    "a == b"
   ]
  },
  {
   "cell_type": "code",
   "execution_count": 4,
   "metadata": {},
   "outputs": [
    {
     "data": {
      "text/plain": [
       "True"
      ]
     },
     "execution_count": 4,
     "metadata": {},
     "output_type": "execute_result"
    }
   ],
   "source": [
    "a != b"
   ]
  },
  {
   "cell_type": "code",
   "execution_count": null,
   "metadata": {
    "collapsed": true,
    "jupyter": {
     "outputs_hidden": true
    }
   },
   "outputs": [],
   "source": [
    "# We can wrap logical statements into if/else statements to create conditional statements\n",
    "x = 5\n",
    "y = 5\n",
    "\n",
    "if x==y:\n",
    "    print('In block 1')\n",
    "    print('They are not equal!')\n",
    "    \n",
    "elif x>y:\n",
    "    print('In block 2')\n",
    "    print('x is more than y')\n",
    "\n",
    "else:\n",
    "    print('In block 3')\n",
    "    print('y is more than x')"
   ]
  },
  {
   "cell_type": "markdown",
   "metadata": {},
   "source": [
    "Note the indentation within each code block. Code within the same block must have the same indentation level, since this is how Python code blocks. Although the amount of indentation doesn't actually matter, you should adhere to the [PEP 8](https://www.python.org/dev/peps/pep-0008/) standard that code blocks be indented with **4 spaces**, not with tabs. "
   ]
  },
  {
   "cell_type": "markdown",
   "metadata": {},
   "source": [
    "__Exercise 1__"
   ]
  },
  {
   "cell_type": "markdown",
   "metadata": {},
   "source": [
    "Write an if/else statement to guess the random number generated below."
   ]
  },
  {
   "cell_type": "code",
   "execution_count": 5,
   "metadata": {},
   "outputs": [],
   "source": [
    "from random import randint\n",
    "randnum = randint(1,10)"
   ]
  },
  {
   "cell_type": "code",
   "execution_count": 6,
   "metadata": {},
   "outputs": [
    {
     "name": "stdout",
     "output_type": "stream",
     "text": [
      "9\n"
     ]
    }
   ],
   "source": [
    "# student code here\n",
    "\n"
   ]
  },
  {
   "cell_type": "markdown",
   "metadata": {},
   "source": [
    "## `for` loops"
   ]
  },
  {
   "cell_type": "markdown",
   "metadata": {},
   "source": [
    "Loops allow programmers to execute a block of code more than once without having to re-type the code multiple times."
   ]
  },
  {
   "cell_type": "code",
   "execution_count": 8,
   "metadata": {},
   "outputs": [],
   "source": [
    "# A for loop executes a code block once for each value in a collection of values that you specify\n",
    "\n",
    "# Define list of numbers\n",
    "num_list = list(range(10))\n",
    "print('num_list = ', num_list)"
   ]
  },
  {
   "cell_type": "code",
   "execution_count": 8,
   "metadata": {},
   "outputs": [
    {
     "name": "stdout",
     "output_type": "stream",
     "text": [
      "num_list =  [0, 1, 2, 3, 4, 5, 6, 7, 8, 9]\n",
      "0\n",
      "1\n",
      "2\n",
      "3\n",
      "4\n",
      "5\n",
      "6\n",
      "7\n",
      "8\n",
      "9\n"
     ]
    }
   ],
   "source": [
    "# Print these numbers one by one\n",
    "for n in num_list:\n",
    "    print(n)"
   ]
  },
  {
   "cell_type": "code",
   "execution_count": 9,
   "metadata": {},
   "outputs": [
    {
     "name": "stdout",
     "output_type": "stream",
     "text": [
      "M\n",
      "c\n",
      "C\n",
      "l\n",
      "i\n",
      "n\n",
      "t\n",
      "o\n",
      "c\n",
      "k\n"
     ]
    }
   ],
   "source": [
    "# For loops can loop over any \"iterable\" object, such as a string.\n",
    "name = 'McClintock'\n",
    "for c in name:\n",
    "    print(c)"
   ]
  },
  {
   "cell_type": "code",
   "execution_count": 10,
   "metadata": {},
   "outputs": [
    {
     "name": "stdout",
     "output_type": "stream",
     "text": [
      "tedious_list = ['M', 'c', 'C', 'l', 'i', 'n', 't', 'o', 'c', 'k']\n"
     ]
    }
   ],
   "source": [
    "# If we want to fill a list with content, we can write a for loop:\n",
    "tedious_list = []\n",
    "for c in name:\n",
    "    tedious_list.append(c)\n",
    "print('tedious_list =', tedious_list)"
   ]
  },
  {
   "cell_type": "code",
   "execution_count": 11,
   "metadata": {},
   "outputs": [
    {
     "name": "stdout",
     "output_type": "stream",
     "text": [
      "simple_list =  ['M', 'c', 'C', 'l', 'i', 'n', 't', 'o', 'c', 'k']\n"
     ]
    }
   ],
   "source": [
    "# Alternatively, we can use a \"list comprehension\" to do this in one line\n",
    "simple_list = [c for c in name]\n",
    "print('simple_list = ', simple_list)"
   ]
  },
  {
   "cell_type": "code",
   "execution_count": 12,
   "metadata": {},
   "outputs": [
    {
     "name": "stdout",
     "output_type": "stream",
     "text": [
      "name[0] = M\n",
      "name[1] = c\n",
      "name[2] = C\n",
      "name[3] = l\n",
      "name[4] = i\n",
      "name[5] = n\n",
      "name[6] = t\n",
      "name[7] = o\n",
      "name[8] = c\n",
      "name[9] = k\n"
     ]
    }
   ],
   "source": [
    "# If we want to use the index of each element in a list, we can create a counter\n",
    "# that is incremented in each run through the code block\n",
    "i=0\n",
    "for c in name:\n",
    "    print('name[%d] = %s'%(i,c))\n",
    "    i += 1"
   ]
  },
  {
   "cell_type": "code",
   "execution_count": 13,
   "metadata": {},
   "outputs": [
    {
     "name": "stdout",
     "output_type": "stream",
     "text": [
      "name[0] = M\n",
      "name[1] = c\n",
      "name[2] = C\n",
      "name[3] = l\n",
      "name[4] = i\n",
      "name[5] = n\n",
      "name[6] = t\n",
      "name[7] = o\n",
      "name[8] = c\n",
      "name[9] = k\n"
     ]
    }
   ],
   "source": [
    "# Alternatively, we can use enumerate(), which takes any iterable as input\n",
    "# and outputs a an iterable of index-value pairs. This will assign values \n",
    "# TWO variables in each pass of the loop.\n",
    "# This method is said to be more \"Pythonic\"\n",
    "for i, c in enumerate(name):\n",
    "    print(\"name[%d] = %s\"%(i,c))"
   ]
  },
  {
   "cell_type": "code",
   "execution_count": 14,
   "metadata": {},
   "outputs": [
    {
     "name": "stdout",
     "output_type": "stream",
     "text": [
      "0\n",
      "1\n",
      "2\n",
      "3\n",
      "4\n",
      "5\n",
      "6\n",
      "7\n",
      "8\n",
      "9\n"
     ]
    }
   ],
   "source": [
    "# Range is the Pythonic way of iterating over consecutive integers\n",
    "for x in range(10):\n",
    "    print(x)"
   ]
  },
  {
   "cell_type": "code",
   "execution_count": 18,
   "metadata": {},
   "outputs": [
    {
     "name": "stdout",
     "output_type": "stream",
     "text": [
      "<class 'range'>\n",
      "iterable: range(0, 10)\n",
      "<class 'list'>\n",
      "list:     [0, 1, 2, 3, 4, 5, 6, 7, 8, 9] \n",
      "\n",
      "<class 'enumerate'>\n",
      "iterable: <enumerate object at 0x7fbbbd8fbfc0>\n",
      "<class 'list'>\n",
      "list:     [(0, 'M'), (1, 'c'), (2, 'C'), (3, 'l'), (4, 'i'), (5, 'n'), (6, 't'), (7, 'o'), (8, 'c'), (9, 'k')] \n",
      "\n",
      "<class 'dict_keys'>\n",
      "iterable: dict_keys(['A', 'C', 'G', 'T'])\n",
      "<class 'list'>\n",
      "list:     ['A', 'C', 'G', 'T']\n"
     ]
    }
   ],
   "source": [
    "# In Python 3, many functions that would seem to return a list actually return \n",
    "# an \"iterable\", where each subsequent element is computed on the fly. This is\n",
    "# fine for loops, which execute sequentially. But if you want a list instead instead\n",
    "# of an interable, you must \"cast\" that iterable as a list. This is one of the major \n",
    "# differences between Python 2 and Python 3, and can cause a lot of cryptic \n",
    "# incompatibilities if you're not aware of this issue.\n",
    "\n",
    "v_iter = range(10)\n",
    "print(type(v_iter))\n",
    "print('iterable:', range(10))\n",
    "\n",
    "v_list = list(range(10))\n",
    "print(type(v_list))\n",
    "print('list:    ', v_list, '\\n')\n",
    "\n",
    "e_iter = enumerate(name)\n",
    "print(type(e_iter))\n",
    "print('iterable:', e_iter)\n",
    "\n",
    "e_list = list(enumerate(name))\n",
    "print(type(e_list))\n",
    "print('list:    ', e_list, '\\n')\n",
    "\n",
    "d = {'A':'T', 'C':'G', 'G':'C', 'T':'A'}\n",
    "print(type(d.keys()))\n",
    "print('iterable:', d.keys())\n",
    "print(type(list(d.keys())))\n",
    "print('list:    ', list(d.keys()))"
   ]
  },
  {
   "cell_type": "markdown",
   "metadata": {},
   "source": [
    "__Exercise 2__"
   ]
  },
  {
   "cell_type": "markdown",
   "metadata": {},
   "source": [
    "Write a for loop that prints out all even numbers from 1 to 10."
   ]
  },
  {
   "cell_type": "code",
   "execution_count": null,
   "metadata": {},
   "outputs": [],
   "source": [
    "#Student code here\n"
   ]
  },
  {
   "cell_type": "markdown",
   "metadata": {},
   "source": [
    "## `while` loops"
   ]
  },
  {
   "cell_type": "markdown",
   "metadata": {},
   "source": [
    "The ``while`` loop keeps going as long as the argument it is passed evaluates to True."
   ]
  },
  {
   "cell_type": "code",
   "execution_count": null,
   "metadata": {
    "collapsed": true,
    "jupyter": {
     "outputs_hidden": true
    }
   },
   "outputs": [],
   "source": [
    "# Assume you have a vial of P32\n",
    "half_life = 14.3 # days\n",
    "\n",
    "# Initially, the vial is at 100% activity\n",
    "current_activity = 100\n",
    "\n",
    "# As long as it has ~10% activity, it's still good to use for radioactive gels\n",
    "min_activity = 10\n",
    "\n",
    "# Compute how many days the vial is good for before it needs to be thrown out\n",
    "num_days = 0\n",
    "while current_activity > min_activity:\n",
    "    current_activity /= 2**(1/half_life)\n",
    "    num_days += 1\n",
    "    \n",
    "print('P32 activity will be reduced to %.1f%% by day %d.'%(current_activity, num_days))"
   ]
  },
  {
   "cell_type": "markdown",
   "metadata": {},
   "source": [
    "When using while loops, **make very sure that your loop will actually stop at some point**. If you nevertheless end up with a loop that doesn't stop, go to \"Kernel -> Interrupt\" in the menu above. If your computer still acts strange, select \"Kernel -> Restart\". You will then have to evaluate your Jupyter notebook from the beginning. "
   ]
  },
  {
   "cell_type": "markdown",
   "metadata": {},
   "source": [
    "__Exercise 3__"
   ]
  },
  {
   "cell_type": "markdown",
   "metadata": {},
   "source": [
    "Write a while loop that prints all even numbers from 1 to 10."
   ]
  },
  {
   "cell_type": "code",
   "execution_count": null,
   "metadata": {},
   "outputs": [],
   "source": []
  },
  {
   "cell_type": "markdown",
   "metadata": {},
   "source": [
    "## Vectorized computations"
   ]
  },
  {
   "cell_type": "markdown",
   "metadata": {},
   "source": [
    "While loops are computationally tractable in python, vectorized computations can help boost the speed when analyzing large datasets. This is possible using `numpy`."
   ]
  },
  {
   "cell_type": "code",
   "execution_count": 2,
   "metadata": {},
   "outputs": [
    {
     "data": {
      "text/plain": [
       "array([ 0,  1,  2,  3,  4,  5,  6,  7,  8,  9, 10, 11, 12, 13, 14, 15, 16,\n",
       "       17, 18, 19, 20, 21, 22, 23, 24, 25, 26, 27, 28, 29, 30, 31, 32, 33,\n",
       "       34, 35, 36, 37, 38, 39, 40, 41, 42, 43, 44, 45, 46, 47, 48, 49, 50,\n",
       "       51, 52, 53, 54, 55, 56, 57, 58, 59, 60, 61, 62, 63, 64, 65, 66, 67,\n",
       "       68, 69, 70, 71, 72, 73, 74, 75, 76, 77, 78, 79, 80, 81, 82, 83, 84,\n",
       "       85, 86, 87, 88, 89, 90, 91, 92, 93, 94, 95, 96, 97, 98, 99])"
      ]
     },
     "execution_count": 2,
     "metadata": {},
     "output_type": "execute_result"
    }
   ],
   "source": [
    "# A numpy \"array\" is like a list, except all the elements are guarenteed to be of the same type.\n",
    "N = 100\n",
    "ns = np.arange(N)\n",
    "ns"
   ]
  },
  {
   "cell_type": "code",
   "execution_count": 3,
   "metadata": {},
   "outputs": [
    {
     "data": {
      "text/plain": [
       "array([100, 101, 102, 103, 104, 105, 106, 107, 108, 109, 110, 111, 112,\n",
       "       113, 114, 115, 116, 117, 118, 119, 120, 121, 122, 123, 124, 125,\n",
       "       126, 127, 128, 129, 130, 131, 132, 133, 134, 135, 136, 137, 138,\n",
       "       139, 140, 141, 142, 143, 144, 145, 146, 147, 148, 149, 150, 151,\n",
       "       152, 153, 154, 155, 156, 157, 158, 159, 160, 161, 162, 163, 164,\n",
       "       165, 166, 167, 168, 169, 170, 171, 172, 173, 174, 175, 176, 177,\n",
       "       178, 179, 180, 181, 182, 183, 184, 185, 186, 187, 188, 189, 190,\n",
       "       191, 192, 193, 194, 195, 196, 197, 198, 199])"
      ]
     },
     "execution_count": 3,
     "metadata": {},
     "output_type": "execute_result"
    }
   ],
   "source": [
    "# Mathematical operations can be performed directly on numpy arrays\n",
    "# (this cannot be done on lists).\n",
    "\n",
    "# add 100 to all terms\n",
    "terms = ns + 100\n",
    "terms"
   ]
  },
  {
   "cell_type": "code",
   "execution_count": 4,
   "metadata": {},
   "outputs": [
    {
     "data": {
      "text/plain": [
       "14950"
      ]
     },
     "execution_count": 4,
     "metadata": {},
     "output_type": "execute_result"
    }
   ],
   "source": [
    "# The sum of entries in a numpy array can be computed using the .sum() method\n",
    "sumterms = terms.sum()\n",
    "sumterms"
   ]
  },
  {
   "cell_type": "markdown",
   "metadata": {},
   "source": [
    "A demonstration of numpy arrays through computing $\\pi$ using the **dartboard method**: compute the fraction of random points in the unit square that are within distance 1/2 of the point (0.5,0.5). "
   ]
  },
  {
   "cell_type": "code",
   "execution_count": 5,
   "metadata": {},
   "outputs": [
    {
     "name": "stdout",
     "output_type": "stream",
     "text": [
      "xs = [0.41725346 0.56916344 0.62013768 ... 0.5928897  0.67662997 0.14966105]\n",
      "ys = [0.14367199 0.28143405 0.81946549 ... 0.84479139 0.80436271 0.09735172]\n"
     ]
    }
   ],
   "source": [
    "# Draw N random x- and y-coordinates within the unit square\n",
    "N = 3000\n",
    "xs = np.random.rand(N) # Generate N random numbers between 0 and 1\n",
    "ys = np.random.rand(N) # Ditto\n",
    "print('xs =', xs)\n",
    "print('ys =', ys)"
   ]
  },
  {
   "cell_type": "code",
   "execution_count": 6,
   "metadata": {},
   "outputs": [
    {
     "data": {
      "text/plain": [
       "[<matplotlib.lines.Line2D at 0x7fd377631d68>]"
      ]
     },
     "execution_count": 6,
     "metadata": {},
     "output_type": "execute_result"
    },
    {
     "data": {
      "image/png": "[encoded data removed]",
      "text/plain": [
       "<Figure size 360x360 with 1 Axes>"
      ]
     },
     "metadata": {
      "needs_background": "light"
     },
     "output_type": "display_data"
    }
   ],
   "source": [
    "# Check to see what these xs and ys look like\n",
    "plt.figure(figsize=[5,5])\n",
    "plt.plot(xs,ys,'.')"
   ]
  },
  {
   "cell_type": "code",
   "execution_count": 7,
   "metadata": {},
   "outputs": [
    {
     "name": "stdout",
     "output_type": "stream",
     "text": [
      "dists = array([0.36580957, 0.22924802, 0.34130816, ..., 0.35708486, 0.3519017 ,\n",
      "       0.5337256 ])\n"
     ]
    }
   ],
   "source": [
    "# Compute distances from the point (.5, .5)\n",
    "dists = np.sqrt((xs-.5)**2 + (ys-.5)**2)\n",
    "print('dists =', repr(dists))"
   ]
  },
  {
   "cell_type": "code",
   "execution_count": 8,
   "metadata": {},
   "outputs": [
    {
     "name": "stdout",
     "output_type": "stream",
     "text": [
      "hits = array([ True,  True,  True, ...,  True,  True, False])\n"
     ]
    }
   ],
   "source": [
    "# Compute whether points are in the circle\n",
    "hits = (dists < .5)\n",
    "print('hits =', repr(hits))"
   ]
  },
  {
   "cell_type": "code",
   "execution_count": 11,
   "metadata": {},
   "outputs": [
    {
     "data": {
      "text/plain": [
       "[<matplotlib.lines.Line2D at 0x7fd375d72f98>]"
      ]
     },
     "execution_count": 11,
     "metadata": {},
     "output_type": "execute_result"
    },
    {
     "data": {
      "image/png": "[encoded data removed]",
      "text/plain": [
       "<Figure size 360x360 with 1 Axes>"
      ]
     },
     "metadata": {
      "needs_background": "light"
     },
     "output_type": "display_data"
    }
   ],
   "source": [
    "# Plot the hits vs. the non-hits\n",
    "plt.figure(figsize=[5,5])\n",
    "plt.plot(xs[hits], ys[hits], '.')    # plot only points i for which hits[i] is True\n",
    "plt.plot(xs[~hits], ys[~hits], '.')  # plot only points i for which hits[i] is False"
   ]
  },
  {
   "cell_type": "code",
   "execution_count": 12,
   "metadata": {},
   "outputs": [
    {
     "name": "stdout",
     "output_type": "stream",
     "text": [
      "π ≈ 3.178667 (Dartboard method, 3000 points)\n"
     ]
    }
   ],
   "source": [
    "# Estimate pi from the number of hits\n",
    "pi_dart = 4*hits.sum()/N\n",
    "print('\\u03C0 \\u2248 %f (Dartboard method, %d points)'%(pi_dart, N))"
   ]
  },
  {
   "cell_type": "markdown",
   "metadata": {},
   "source": [
    "## Functions"
   ]
  },
  {
   "cell_type": "markdown",
   "metadata": {},
   "source": [
    "Functions allow us to modularize our code for easy interpretation and de-bugging. Variables that exisit only within the scope of a function are local variables, while variables that exisit throughout a program are called global variables."
   ]
  },
  {
   "cell_type": "code",
   "execution_count": 19,
   "metadata": {},
   "outputs": [],
   "source": [
    "def factorial(n): # n is called the \"argument\"\n",
    "    \"\"\"\n",
    "    Returns n factorial. \n",
    "    n must be an integer satisfying 0 <= n <= 1000.\n",
    "    \"\"\" # This is a \"doc string\"\n",
    "    \n",
    "    # Thow an error if n does not have the right form\n",
    "    if isinstance(n,int) == False:\n",
    "        print('Input is not an integer')\n",
    "    elif n <= 0:\n",
    "        print('Input is not nonnegative')\n",
    "    elif n >= 1000:\n",
    "        print('Intput is too large!')\n",
    "    \n",
    "    # Initialize return variable\n",
    "    val = 1\n",
    "    \n",
    "    # Loop over i=1,2,...,n\n",
    "    for i in range(1,n+1):   \n",
    "        val *= i\n",
    "        \n",
    "    return val  # val is returned to the user"
   ]
  },
  {
   "cell_type": "markdown",
   "metadata": {},
   "source": [
    "Another way to write the if/else block above is to use assert statements. There are many ways to accomplish similar tasks in python."
   ]
  },
  {
   "cell_type": "code",
   "execution_count": 24,
   "metadata": {},
   "outputs": [],
   "source": [
    "def factorial_2(n): # n is called the \"argument\"\n",
    "    \"\"\"\n",
    "    Returns n factorial. \n",
    "    n must be an integer satisfying 0 <= n <= 1000.\n",
    "    \"\"\" # This is a \"doc string\"\n",
    "    \n",
    "    # Thow an error if n does not have the right form\n",
    "    assert isinstance(n,int),'Input is not an integer' \n",
    "    assert n >= 0, 'Input is not nonnegative' \n",
    "    assert n <= 1000, 'Intput is too large!'\n",
    "    \n",
    "    # Initialize return variable\n",
    "    val = 1\n",
    "    \n",
    "    # Loop over i=1,2,...,n\n",
    "    for i in range(1,n+1):   \n",
    "        val *= i\n",
    "        \n",
    "    return val  # val is returned to the user"
   ]
  },
  {
   "cell_type": "markdown",
   "metadata": {},
   "source": [
    "We test this function by computing n! for n=0,1,2,...,9"
   ]
  },
  {
   "cell_type": "code",
   "execution_count": 20,
   "metadata": {},
   "outputs": [
    {
     "name": "stdout",
     "output_type": "stream",
     "text": [
      "Input is not nonnegative\n",
      "0! is 1\n",
      "1! is 1\n",
      "2! is 2\n",
      "3! is 6\n",
      "4! is 24\n",
      "5! is 120\n",
      "6! is 720\n",
      "7! is 5040\n",
      "8! is 40320\n",
      "9! is 362880\n"
     ]
    }
   ],
   "source": [
    "for n in range(10):\n",
    "    print(str(n) + '! is ' + str(factorial(n)))"
   ]
  },
  {
   "cell_type": "markdown",
   "metadata": {},
   "source": [
    "Just as important as making sure your function works on valid input is to make sure that it EXPLICITLY FAILS on invalid input. "
   ]
  },
  {
   "cell_type": "code",
   "execution_count": 26,
   "metadata": {},
   "outputs": [
    {
     "name": "stdout",
     "output_type": "stream",
     "text": [
      "Input is not an integer\n"
     ]
    },
    {
     "ename": "TypeError",
     "evalue": "'float' object cannot be interpreted as an integer",
     "output_type": "error",
     "traceback": [
      "\u001b[0;31m---------------------------------------------------------------------------\u001b[0m",
      "\u001b[0;31mTypeError\u001b[0m                                 Traceback (most recent call last)",
      "\u001b[0;32m<ipython-input-26-179c7970fdc6>\u001b[0m in \u001b[0;36m<module>\u001b[0;34m\u001b[0m\n\u001b[1;32m      1\u001b[0m \u001b[0;31m# This should fail\u001b[0m\u001b[0;34m\u001b[0m\u001b[0;34m\u001b[0m\u001b[0;34m\u001b[0m\u001b[0m\n\u001b[0;32m----> 2\u001b[0;31m \u001b[0mprint\u001b[0m\u001b[0;34m(\u001b[0m\u001b[0mfactorial\u001b[0m\u001b[0;34m(\u001b[0m\u001b[0;36m1.1\u001b[0m\u001b[0;34m)\u001b[0m\u001b[0;34m)\u001b[0m\u001b[0;34m\u001b[0m\u001b[0;34m\u001b[0m\u001b[0m\n\u001b[0m",
      "\u001b[0;32m<ipython-input-19-5413f144cecd>\u001b[0m in \u001b[0;36mfactorial\u001b[0;34m(n)\u001b[0m\n\u001b[1;32m     17\u001b[0m \u001b[0;34m\u001b[0m\u001b[0m\n\u001b[1;32m     18\u001b[0m     \u001b[0;31m# Loop over i=1,2,...,n\u001b[0m\u001b[0;34m\u001b[0m\u001b[0;34m\u001b[0m\u001b[0;34m\u001b[0m\u001b[0m\n\u001b[0;32m---> 19\u001b[0;31m     \u001b[0;32mfor\u001b[0m \u001b[0mi\u001b[0m \u001b[0;32min\u001b[0m \u001b[0mrange\u001b[0m\u001b[0;34m(\u001b[0m\u001b[0;36m1\u001b[0m\u001b[0;34m,\u001b[0m\u001b[0mn\u001b[0m\u001b[0;34m+\u001b[0m\u001b[0;36m1\u001b[0m\u001b[0;34m)\u001b[0m\u001b[0;34m:\u001b[0m\u001b[0;34m\u001b[0m\u001b[0;34m\u001b[0m\u001b[0m\n\u001b[0m\u001b[1;32m     20\u001b[0m         \u001b[0mval\u001b[0m \u001b[0;34m*=\u001b[0m \u001b[0mi\u001b[0m\u001b[0;34m\u001b[0m\u001b[0;34m\u001b[0m\u001b[0m\n\u001b[1;32m     21\u001b[0m \u001b[0;34m\u001b[0m\u001b[0m\n",
      "\u001b[0;31mTypeError\u001b[0m: 'float' object cannot be interpreted as an integer"
     ]
    }
   ],
   "source": [
    "# This should fail\n",
    "print(factorial(1.1))"
   ]
  },
  {
   "cell_type": "code",
   "execution_count": 27,
   "metadata": {},
   "outputs": [
    {
     "name": "stdout",
     "output_type": "stream",
     "text": [
      "Input is not nonnegative\n",
      "1\n"
     ]
    }
   ],
   "source": [
    "# This should fail\n",
    "print(factorial(-10))"
   ]
  },
  {
   "cell_type": "code",
   "execution_count": 28,
   "metadata": {},
   "outputs": [
    {
     "name": "stdout",
     "output_type": "stream",
     "text": [
      "Input is not an integer\n"
     ]
    },
    {
     "ename": "TypeError",
     "evalue": "can only concatenate str (not \"int\") to str",
     "output_type": "error",
     "traceback": [
      "\u001b[0;31m---------------------------------------------------------------------------\u001b[0m",
      "\u001b[0;31mTypeError\u001b[0m                                 Traceback (most recent call last)",
      "\u001b[0;32m<ipython-input-28-8168cecc1142>\u001b[0m in \u001b[0;36m<module>\u001b[0;34m\u001b[0m\n\u001b[1;32m      1\u001b[0m \u001b[0;31m# This should fail\u001b[0m\u001b[0;34m\u001b[0m\u001b[0;34m\u001b[0m\u001b[0;34m\u001b[0m\u001b[0m\n\u001b[0;32m----> 2\u001b[0;31m \u001b[0mprint\u001b[0m\u001b[0;34m(\u001b[0m\u001b[0mfactorial\u001b[0m\u001b[0;34m(\u001b[0m\u001b[0;34m\"I'm not even a number!\"\u001b[0m\u001b[0;34m)\u001b[0m\u001b[0;34m)\u001b[0m\u001b[0;34m\u001b[0m\u001b[0;34m\u001b[0m\u001b[0m\n\u001b[0m",
      "\u001b[0;32m<ipython-input-19-5413f144cecd>\u001b[0m in \u001b[0;36mfactorial\u001b[0;34m(n)\u001b[0m\n\u001b[1;32m     17\u001b[0m \u001b[0;34m\u001b[0m\u001b[0m\n\u001b[1;32m     18\u001b[0m     \u001b[0;31m# Loop over i=1,2,...,n\u001b[0m\u001b[0;34m\u001b[0m\u001b[0;34m\u001b[0m\u001b[0;34m\u001b[0m\u001b[0m\n\u001b[0;32m---> 19\u001b[0;31m     \u001b[0;32mfor\u001b[0m \u001b[0mi\u001b[0m \u001b[0;32min\u001b[0m \u001b[0mrange\u001b[0m\u001b[0;34m(\u001b[0m\u001b[0;36m1\u001b[0m\u001b[0;34m,\u001b[0m\u001b[0mn\u001b[0m\u001b[0;34m+\u001b[0m\u001b[0;36m1\u001b[0m\u001b[0;34m)\u001b[0m\u001b[0;34m:\u001b[0m\u001b[0;34m\u001b[0m\u001b[0;34m\u001b[0m\u001b[0m\n\u001b[0m\u001b[1;32m     20\u001b[0m         \u001b[0mval\u001b[0m \u001b[0;34m*=\u001b[0m \u001b[0mi\u001b[0m\u001b[0;34m\u001b[0m\u001b[0;34m\u001b[0m\u001b[0m\n\u001b[1;32m     21\u001b[0m \u001b[0;34m\u001b[0m\u001b[0m\n",
      "\u001b[0;31mTypeError\u001b[0m: can only concatenate str (not \"int\") to str"
     ]
    }
   ],
   "source": [
    "# This should fail\n",
    "print(factorial(\"I'm not even a number!\"))"
   ]
  },
  {
   "cell_type": "code",
   "execution_count": 31,
   "metadata": {},
   "outputs": [
    {
     "name": "stdout",
     "output_type": "stream",
     "text": [
      "Input is not nonnegative\n",
      "0! == 1\n",
      "Intput is too large!\n",
      "1000! == 402387260077093773543702433923003985719374864210714632543799910429938512398629020592044208486969404800479988610197196058631666872994808558901323829669944590997424504087073759918823627727188732519779505950995276120874975462497043601418278094646496291056393887437886487337119181045825783647849977012476632889835955735432513185323958463075557409114262417474349347553428646576611667797396668820291207379143853719588249808126867838374559731746136085379534524221586593201928090878297308431392844403281231558611036976801357304216168747609675871348312025478589320767169132448426236131412508780208000261683151027341827977704784635868170164365024153691398281264810213092761244896359928705114964975419909342221566832572080821333186116811553615836546984046708975602900950537616475847728421889679646244945160765353408198901385442487984959953319101723355556602139450399736280750137837615307127761926849034352625200015888535147331611702103968175921510907788019393178114194545257223865541461062892187960223838971476088506276862967146674697562911234082439208160153780889893964518263243671616762179168909779911903754031274622289988005195444414282012187361745992642956581746628302955570299024324153181617210465832036786906117260158783520751516284225540265170483304226143974286933061690897968482590125458327168226458066526769958652682272807075781391858178889652208164348344825993266043367660176999612831860788386150279465955131156552036093988180612138558600301435694527224206344631797460594682573103790084024432438465657245014402821885252470935190620929023136493273497565513958720559654228749774011413346962715422845862377387538230483865688976461927383814900140767310446640259899490222221765904339901886018566526485061799702356193897017860040811889729918311021171229845901641921068884387121855646124960798722908519296819372388642614839657382291123125024186649353143970137428531926649875337218940694281434118520158014123344828015051399694290153483077644569099073152433278288269864602789864321139083506217095002597389863554277196742822248757586765752344220207573630569498825087968928162753848863396909959826280956121450994871701244516461260379029309120889086942028510640182154399457156805941872748998094254742173582401063677404595741785160829230135358081840096996372524230560855903700624271243416909004153690105933983835777939410970027753472000000000000000000000000000000000000000000000000000000000000000000000000000000000000000000000000000000000000000000000000000000000000000000000000000000000000000000000000000000000000000000000000000000000000000000000000000000000000000000000000000000000\n"
     ]
    }
   ],
   "source": [
    "# You should also test boundary cases\n",
    "print('0! ==', factorial(0))\n",
    "print('1000! ==', factorial(1000))"
   ]
  },
  {
   "cell_type": "markdown",
   "metadata": {},
   "source": [
    "The docstring is accessible from within python, and is often very useful. Execute the following command and a window will pop up that describes what this function does."
   ]
  },
  {
   "cell_type": "code",
   "execution_count": 32,
   "metadata": {},
   "outputs": [
    {
     "name": "stdout",
     "output_type": "stream",
     "text": [
      "Help on function factorial in module __main__:\n",
      "\n",
      "factorial(n)\n",
      "    Returns n factorial. \n",
      "    n must be an integer satisfying 0 <= n <= 1000.\n",
      "\n"
     ]
    }
   ],
   "source": [
    "# The built-in function help() will display another function's docstring' \n",
    "help(factorial)"
   ]
  },
  {
   "cell_type": "code",
   "execution_count": 33,
   "metadata": {},
   "outputs": [
    {
     "data": {
      "text/plain": [
       "\u001b[0;31mSignature:\u001b[0m \u001b[0mfactorial\u001b[0m\u001b[0;34m(\u001b[0m\u001b[0mn\u001b[0m\u001b[0;34m)\u001b[0m\u001b[0;34m\u001b[0m\u001b[0;34m\u001b[0m\u001b[0m\n",
       "\u001b[0;31mDocstring:\u001b[0m\n",
       "Returns n factorial. \n",
       "n must be an integer satisfying 0 <= n <= 1000.\n",
       "\u001b[0;31mFile:\u001b[0m      ~/URP_2021_Programming_Course/lecture_2/<ipython-input-19-5413f144cecd>\n",
       "\u001b[0;31mType:\u001b[0m      function\n"
      ]
     },
     "metadata": {},
     "output_type": "display_data"
    }
   ],
   "source": [
    "# In Jupyter notebooks, you can also type a '?' after a function to see its documentation\n",
    "factorial?"
   ]
  },
  {
   "cell_type": "markdown",
   "metadata": {},
   "source": [
    "__Exercise 4__"
   ]
  },
  {
   "cell_type": "markdown",
   "metadata": {},
   "source": [
    "Write a function that takes in a list of numbers and returns its average."
   ]
  },
  {
   "cell_type": "code",
   "execution_count": 10,
   "metadata": {
    "collapsed": true,
    "jupyter": {
     "outputs_hidden": true
    }
   },
   "outputs": [],
   "source": [
    "# Write function here"
   ]
  },
  {
   "cell_type": "code",
   "execution_count": null,
   "metadata": {
    "collapsed": true,
    "jupyter": {
     "outputs_hidden": true
    }
   },
   "outputs": [],
   "source": [
    "# Check docstring here"
   ]
  },
  {
   "cell_type": "code",
   "execution_count": 9,
   "metadata": {
    "collapsed": true,
    "jupyter": {
     "outputs_hidden": true
    }
   },
   "outputs": [],
   "source": [
    "# Test input checking here"
   ]
  },
  {
   "cell_type": "markdown",
   "metadata": {},
   "source": [
    "__Exercise 5__"
   ]
  },
  {
   "cell_type": "markdown",
   "metadata": {},
   "source": [
    "Write a function that takes in two numbers and an operation to b."
   ]
  },
  {
   "cell_type": "code",
   "execution_count": 10,
   "metadata": {
    "collapsed": true,
    "jupyter": {
     "outputs_hidden": true
    }
   },
   "outputs": [],
   "source": [
    "# Write function here"
   ]
  },
  {
   "cell_type": "code",
   "execution_count": null,
   "metadata": {
    "collapsed": true,
    "jupyter": {
     "outputs_hidden": true
    }
   },
   "outputs": [],
   "source": [
    "# Check docstring here"
   ]
  },
  {
   "cell_type": "code",
   "execution_count": 9,
   "metadata": {
    "collapsed": true,
    "jupyter": {
     "outputs_hidden": true
    }
   },
   "outputs": [],
   "source": [
    "# Test input checking here"
   ]
  },
  {
   "cell_type": "code",
   "execution_count": null,
   "metadata": {
    "collapsed": true,
    "jupyter": {
     "outputs_hidden": true
    }
   },
   "outputs": [],
   "source": []
  }
 ],
 "metadata": {
  "kernelspec": {
   "display_name": "Python 3",
   "language": "python",
   "name": "python3"
  },
  "language_info": {
   "codemirror_mode": {
    "name": "ipython",
    "version": 3
   },
   "file_extension": ".py",
   "mimetype": "text/x-python",
   "name": "python",
   "nbconvert_exporter": "python",
   "pygments_lexer": "ipython3",
   "version": "3.7.3"
  }
 },
 "nbformat": 4,
 "nbformat_minor": 4
}
