{
 "cells": [
  {
   "cell_type": "markdown",
   "metadata": {},
   "source": [
    "# Imports"
   ]
  },
  {
   "cell_type": "code",
   "execution_count": null,
   "metadata": {},
   "outputs": [],
   "source": [
    "!pip install palmerpenguins"
   ]
  },
  {
   "cell_type": "code",
   "execution_count": null,
   "metadata": {
    "ExecuteTime": {
     "end_time": "2019-06-11T02:18:28.230158Z",
     "start_time": "2019-06-11T02:18:28.222075Z"
    }
   },
   "outputs": [],
   "source": [
    "#Two Plotting Libraries\n",
    "import matplotlib.pyplot as plt\n",
    "import seaborn as sns\n",
    "\n",
    "\n",
    "#Mathematical libraries\n",
    "import numpy as np\n",
    "import pandas as pd\n",
    "\n",
    "%matplotlib inline"
   ]
  },
  {
   "cell_type": "code",
   "execution_count": null,
   "metadata": {},
   "outputs": [],
   "source": [
    "#load datasets\n",
    "!wget https://raw.githubusercontent.com/bharris12/URP_2021_Programming_Course/main/lecture_4/data/iris.csv\n",
    "from palmerpenguins import load_penguins\n",
    "iris = pd.read_csv('./iris.csv',index_col=0)\n",
    "penguins = load_penguins()"
   ]
  },
  {
   "cell_type": "code",
   "execution_count": null,
   "metadata": {},
   "outputs": [],
   "source": [
    "iris"
   ]
  },
  {
   "cell_type": "markdown",
   "metadata": {},
   "source": [
    "<img src = 'https://ars.els-cdn.com/content/image/3-s2.0-B9780128147610000034-f03-01-9780128147610.jpg'>"
   ]
  },
  {
   "cell_type": "code",
   "execution_count": null,
   "metadata": {},
   "outputs": [],
   "source": [
    "penguins"
   ]
  },
  {
   "cell_type": "markdown",
   "metadata": {},
   "source": [
    "<img src = 'https://allisonhorst.github.io/palmerpenguins/reference/figures/lter_penguins.png'>\n",
    "<img src = 'https://allisonhorst.github.io/palmerpenguins/reference/figures/culmen_depth.png'>"
   ]
  },
  {
   "cell_type": "markdown",
   "metadata": {},
   "source": [
    "### Principles of Plotting in Python"
   ]
  },
  {
   "cell_type": "markdown",
   "metadata": {},
   "source": [
    "#### The anatomy of a plot/figure"
   ]
  },
  {
   "cell_type": "markdown",
   "metadata": {},
   "source": [
    "<img src=\"https://files.realpython.com/media/fig_map.bc8c7cabd823.png\" />"
   ]
  },
  {
   "cell_type": "markdown",
   "metadata": {},
   "source": [
    "<img src=\"https://matplotlib.org/_images/sphx_glr_anatomy_001.png\" />"
   ]
  },
  {
   "cell_type": "markdown",
   "metadata": {},
   "source": [
    "#### Python plot gallery\n",
    "\n",
    "Website with lots of different plot types and code, super useful to get ideas and code for plotting\n",
    "\n",
    "https://python-graph-gallery.com"
   ]
  },
  {
   "cell_type": "markdown",
   "metadata": {},
   "source": [
    "#### Initializing a figure"
   ]
  },
  {
   "cell_type": "code",
   "execution_count": null,
   "metadata": {
    "ExecuteTime": {
     "end_time": "2019-05-21T18:38:21.205636Z",
     "start_time": "2019-05-21T18:38:21.103999Z"
    }
   },
   "outputs": [],
   "source": [
    "#This creates a new figure adn axes\n",
    "fig, ax = plt.subplots()\n",
    "\n",
    "#In general everything you do plotting will be in between these two lines of code\n",
    "\n",
    "#This shows it\n",
    "plt.show()\n",
    "\n",
    "#This saves it, you need to comment out plt.show() and uncomment this, you can't do both\n",
    "#However when you use plt.savefig() the figure will still appear\n",
    "#plt.savefig('../figures/emptyfig.pdf') #If you specify a file format it will interpet that"
   ]
  },
  {
   "cell_type": "markdown",
   "metadata": {},
   "source": [
    "### Python plot gallery\n",
    "\n",
    "Website with lots of different plot types and code\n",
    "\n",
    "https://python-graph-gallery.com"
   ]
  },
  {
   "cell_type": "code",
   "execution_count": null,
   "metadata": {
    "ExecuteTime": {
     "end_time": "2019-05-21T18:46:51.551461Z",
     "start_time": "2019-05-21T18:46:51.289336Z"
    }
   },
   "outputs": [],
   "source": [
    "fig, ax = plt.subplots(ncols=2, nrows=2)\n",
    "plt.show()"
   ]
  },
  {
   "cell_type": "code",
   "execution_count": null,
   "metadata": {
    "ExecuteTime": {
     "end_time": "2019-05-21T18:46:54.061767Z",
     "start_time": "2019-05-21T18:46:54.059250Z"
    }
   },
   "outputs": [],
   "source": [
    "print(ax)"
   ]
  },
  {
   "cell_type": "markdown",
   "metadata": {},
   "source": [
    "When you create multiple plots using subplots it is creating a list, so if you want to plot something in one of the axes within the figure you can just index it"
   ]
  },
  {
   "cell_type": "code",
   "execution_count": null,
   "metadata": {
    "ExecuteTime": {
     "end_time": "2019-05-21T18:54:46.714104Z",
     "start_time": "2019-05-21T18:54:46.711271Z"
    }
   },
   "outputs": [],
   "source": [
    "fake_data_1 = np.arange(10)\n",
    "fake_data_2 = np.random.rand(10)\n",
    "fake_data_3 = np.random.beta(1,.5,size=10)"
   ]
  },
  {
   "cell_type": "code",
   "execution_count": null,
   "metadata": {
    "ExecuteTime": {
     "end_time": "2019-05-21T18:56:28.371743Z",
     "start_time": "2019-05-21T18:56:28.106209Z"
    }
   },
   "outputs": [],
   "source": [
    "fig, ax = plt.subplots(ncols=2, nrows=2)\n",
    "\n",
    "#Top Left\n",
    "ax[0, 0].plot(fake_data_1, fake_data_2)\n",
    "\n",
    "#Bototm left\n",
    "sns.histplot(fake_data_3, ax=ax[1, 0])\n",
    "\n",
    "#Top right\n",
    "penguins.plot.scatter(x='bill_length_mm', y='bill_depth_mm', ax=ax[0, 1])\n",
    "\n",
    "#Bottom rigth\n",
    "ax[1,1].axis('off')\n",
    "\n",
    "#Uncomment to make pretty (aka properly organize whitespace)\n",
    "plt.tight_layout()\n",
    "plt.show()"
   ]
  },
  {
   "cell_type": "markdown",
   "metadata": {},
   "source": [
    "#### General Aesthetics "
   ]
  },
  {
   "cell_type": "markdown",
   "metadata": {
    "ExecuteTime": {
     "end_time": "2019-06-09T18:43:09.982217Z",
     "start_time": "2019-06-09T18:43:09.954308Z"
    }
   },
   "source": [
    "Seaborn is what is known as a **wrapper** of matplotlib. That means that seaborn merely calls functions in matplotlib to produce the figures. It does this because matplotlib is so vast and can be quite cumbersome. Stuff that take a single line of code using seaborn can take many line in base matplotib. \n",
    "\n",
    "One way this can be useful is that seaborn has some set styles that change many aspects of the plots, you can change this for your entire notebook or for just one block of code depending on how you set it"
   ]
  },
  {
   "cell_type": "code",
   "execution_count": null,
   "metadata": {
    "ExecuteTime": {
     "end_time": "2019-06-09T18:51:52.848532Z",
     "start_time": "2019-06-09T18:51:52.844474Z"
    }
   },
   "outputs": [],
   "source": [
    "def sinplot(flip=1):\n",
    "    x = np.linspace(0, 14, 100)\n",
    "    for i in range(1, 7):\n",
    "        plt.plot(x, np.sin(x + i * .5) * (7 - i) * flip)\n"
   ]
  },
  {
   "cell_type": "markdown",
   "metadata": {},
   "source": [
    "The figure on the left has the style set to whitegrid because it is inside the with statement, while the one on the right is the default style of darkgrid"
   ]
  },
  {
   "cell_type": "code",
   "execution_count": null,
   "metadata": {
    "ExecuteTime": {
     "end_time": "2019-06-09T18:53:01.675676Z",
     "start_time": "2019-06-09T18:53:01.445278Z"
    },
    "code_folding": []
   },
   "outputs": [],
   "source": [
    "f = plt.figure()\n",
    "with sns.axes_style(\"whitegrid\"):\n",
    "    ax = f.add_subplot(1, 2, 1)\n",
    "    sinplot()\n",
    "ax = f.add_subplot(1, 2, 2)\n",
    "sinplot(-1)"
   ]
  },
  {
   "cell_type": "markdown",
   "metadata": {},
   "source": [
    "It is generally better to stick to one style for all your plots in an analysis, so I usually just set the style globally (usually at the top of my notebook right after I import seaborn)"
   ]
  },
  {
   "cell_type": "code",
   "execution_count": null,
   "metadata": {
    "ExecuteTime": {
     "end_time": "2019-06-09T18:56:56.969171Z",
     "start_time": "2019-06-09T18:56:56.830531Z"
    }
   },
   "outputs": [],
   "source": [
    "sns.set(style='white')\n",
    "sinplot()"
   ]
  },
  {
   "cell_type": "markdown",
   "metadata": {},
   "source": [
    "I also don't like the box all the way around my plot so I also do what is called despining it"
   ]
  },
  {
   "cell_type": "code",
   "execution_count": null,
   "metadata": {
    "ExecuteTime": {
     "end_time": "2019-06-09T18:57:24.351226Z",
     "start_time": "2019-06-09T18:57:24.211185Z"
    }
   },
   "outputs": [],
   "source": [
    "sinplot()\n",
    "sns.despine()"
   ]
  },
  {
   "cell_type": "markdown",
   "metadata": {
    "ExecuteTime": {
     "end_time": "2019-06-09T18:57:41.744834Z",
     "start_time": "2019-06-09T18:57:41.740795Z"
    }
   },
   "source": [
    "If you want to do that default for all plots just add this to the top of your notebook as well \n",
    "\n",
    "`plt.rc(\"axes.spines\", top=False, right=False)`\n",
    "\n",
    "One other aesthetic change I make is the font size/scaling. One of the most common issues I see in plots in presentations is that presenters do not change the font sizes of the text in the plots from the default so it is difficult to read them. Even when just sharing plots with your PIs and labmates they will appreciate if you include plots with legible axes. While there is no silver bullet for this I do put this line of code at the top of my notebooks to at least make my initial plots close to usable\n",
    "\n",
    "`sns.set(font_scale=1.25)`\n",
    "\n",
    "Ultimately this is what the top of my imports cell looks like with regards to plotting\n"
   ]
  },
  {
   "cell_type": "code",
   "execution_count": null,
   "metadata": {
    "ExecuteTime": {
     "end_time": "2019-06-09T19:08:58.939318Z",
     "start_time": "2019-06-09T19:08:58.933229Z"
    }
   },
   "outputs": [],
   "source": [
    "import matplotlib.pyplot as plt\n",
    "import seaborn as sns\n",
    "\n",
    "plt.rc(\"axes.spines\", top=False, right=False)\n",
    "sns.set(style='white', font_scale=1.25)\n",
    "\n",
    "%matplotlib inline"
   ]
  },
  {
   "cell_type": "markdown",
   "metadata": {},
   "source": [
    "#### Color"
   ]
  },
  {
   "cell_type": "markdown",
   "metadata": {},
   "source": [
    "Color is one of the easiest things in plotting to mess up. \n",
    "\n",
    "One of the first things you need to consider is how many colors you need. The more colors you have the harder the plot will be to interpret because colors will be closer together on the color wheel and less distinguishable. \n",
    "\n",
    "For example figure C in this plot has a lot of colors and makes it hard to distinguish them, but the authors of this paper numbered each color and put the numbers on the plot. Without the numbers it would be impossible to match the colors in the figure with the colors in the legend \n",
    "\n",
    "<img src=\"https://media.springernature.com/full/springer-static/image/art%3A10.1038%2Fs41586-019-0933-9/MediaObjects/41586_2019_933_Fig1_HTML.png?as=webp\" width=500 />\n",
    "\n",
    "> An aside: the plots above are from scRNAseq of developing mouse embryos"
   ]
  },
  {
   "cell_type": "markdown",
   "metadata": {},
   "source": [
    "\n",
    "Another important thing to consider is being **colorblind friendly**. After creating plots you can always check using a [website](https://www.color-blindness.com/coblis-color-blindness-simulator/) for different colorblindnesses. But you can also just change the settings on seaborn using `sns.set_pallete('colorblind')`"
   ]
  },
  {
   "cell_type": "markdown",
   "metadata": {},
   "source": [
    "The last important thing to consider is that there are different types of colormaps/palettes for different types of data.\n",
    "\n",
    "The first type is **categorical or qualitative**. These colors are unordered and good for when you have groups"
   ]
  },
  {
   "cell_type": "code",
   "execution_count": null,
   "metadata": {
    "ExecuteTime": {
     "end_time": "2019-06-10T13:13:34.067919Z",
     "start_time": "2019-06-10T13:13:34.001392Z"
    }
   },
   "outputs": [],
   "source": [
    "sns.palplot(sns.hls_palette())"
   ]
  },
  {
   "cell_type": "code",
   "execution_count": null,
   "metadata": {
    "ExecuteTime": {
     "end_time": "2019-06-10T13:11:42.847824Z",
     "start_time": "2019-06-10T13:11:42.516263Z"
    }
   },
   "outputs": [],
   "source": [
    "fig, ax =plt.subplots(figsize=(10,6))\n",
    "sns.scatterplot(data=penguins,x='flipper_length_mm',y='bill_length_mm',hue='species',ax=ax)\n",
    "ax.legend(ncol=2)\n",
    "sns.despine()"
   ]
  },
  {
   "cell_type": "code",
   "execution_count": null,
   "metadata": {},
   "outputs": [],
   "source": [
    "#plot with the iris dataset\n"
   ]
  },
  {
   "cell_type": "markdown",
   "metadata": {},
   "source": [
    "The next type is **sequential or monotonic** These are used for numerical changes or gradients"
   ]
  },
  {
   "cell_type": "code",
   "execution_count": null,
   "metadata": {
    "ExecuteTime": {
     "end_time": "2019-06-10T13:16:28.428490Z",
     "start_time": "2019-06-10T13:16:28.375537Z"
    }
   },
   "outputs": [],
   "source": [
    "sns.palplot(sns.color_palette(\"Blues\"))"
   ]
  },
  {
   "cell_type": "code",
   "execution_count": null,
   "metadata": {
    "ExecuteTime": {
     "end_time": "2019-06-10T13:17:51.490967Z",
     "start_time": "2019-06-10T13:17:51.287712Z"
    }
   },
   "outputs": [],
   "source": [
    "fig, ax = plt.subplots(figsize=(10, 6))\n",
    "penguins.plot.scatter(x='flipper_length_mm',y='bill_length_mm',c='body_mass_g',cmap='Blues',ax=ax)\n",
    "sns.despine()\n",
    "plt.show()"
   ]
  },
  {
   "cell_type": "code",
   "execution_count": null,
   "metadata": {},
   "outputs": [],
   "source": [
    "#plot with iris dataset\n"
   ]
  },
  {
   "cell_type": "markdown",
   "metadata": {},
   "source": [
    "The final type is **divergent**. This is useful when you are plotting a numerical value that can distinguish two categories"
   ]
  },
  {
   "cell_type": "code",
   "execution_count": null,
   "metadata": {
    "ExecuteTime": {
     "end_time": "2019-06-10T13:22:52.725079Z",
     "start_time": "2019-06-10T13:22:52.671225Z"
    }
   },
   "outputs": [],
   "source": [
    "sns.palplot(sns.color_palette(\"coolwarm\"))"
   ]
  },
  {
   "cell_type": "code",
   "execution_count": null,
   "metadata": {
    "ExecuteTime": {
     "end_time": "2019-06-10T13:22:14.632716Z",
     "start_time": "2019-06-10T13:22:14.391719Z"
    }
   },
   "outputs": [],
   "source": [
    "penguins['centered_weight'] = penguins['body_mass_g'] - np.mean(penguins['body_mass_g'])\n",
    "\n",
    "fig, ax = plt.subplots(figsize=(10, 6))\n",
    "\n",
    "penguins.plot.scatter(x='flipper_length_mm',y='bill_length_mm',c='centered_weight',cmap='coolwarm',ax=ax)\n",
    "sns.despine()\n",
    "plt.show()"
   ]
  },
  {
   "cell_type": "code",
   "execution_count": null,
   "metadata": {},
   "outputs": [],
   "source": [
    "#plot with iris dataset\n"
   ]
  },
  {
   "cell_type": "markdown",
   "metadata": {},
   "source": [
    "Like with the general plot aesthetics, it is highly encouraged that you be consistent with your palette choices."
   ]
  },
  {
   "cell_type": "markdown",
   "metadata": {},
   "source": [
    "#### Everything needs to be in columns\n",
    "\n",
    "Every aspect of your plot needs to be in a column. \n",
    "\n",
    "Yes, this is the entire section, but it is such an important concept that it deserves a section of its own"
   ]
  },
  {
   "cell_type": "markdown",
   "metadata": {},
   "source": [
    "#### Univariate/Categorical Plotting"
   ]
  },
  {
   "cell_type": "markdown",
   "metadata": {},
   "source": [
    "There are many ways to plot the same categorical data. When selecting which method there are a few important questions you should be asking yourself\n",
    "\n",
    "* Does the figure faithfully depict the data?\n",
    "* Does the figure clearly display the result?\n",
    "* Is the figure simple and easy to understand?\n",
    "\n",
    "All 3 of the plots below display the same data. But some display if better than others"
   ]
  },
  {
   "cell_type": "code",
   "execution_count": null,
   "metadata": {
    "ExecuteTime": {
     "end_time": "2019-06-10T14:07:19.570235Z",
     "start_time": "2019-06-10T14:07:18.746084Z"
    }
   },
   "outputs": [],
   "source": [
    "fig ,ax = plt.subplots(figsize=(15,12), ncols=2,nrows=2)\n",
    "sns.violinplot(data=penguins,x='species',y='body_mass_g',ax=ax[0,0])\n",
    "sns.swarmplot(data=penguins,x='species',y='body_mass_g',ax=ax[0,1])\n",
    "sns.boxplot(data=penguins,x='species',y='body_mass_g',ax=ax[1,0])\n",
    "sns.barplot(data=penguins,x='species',y='body_mass_g',ax=ax[1,1])\n",
    "\n",
    "sns.despine()\n",
    "plt.show()"
   ]
  },
  {
   "cell_type": "markdown",
   "metadata": {},
   "source": [
    "In general, publishers will not even you publish a barplot like the bottom right one anymore. This clearly is not showing the data faithfully. \n",
    "\n",
    "\n",
    "\n",
    "<img src=\"./figure/xkcd_plot.jpeg\" width=700/>\n",
    "\n",
    "\n"
   ]
  },
  {
   "cell_type": "markdown",
   "metadata": {},
   "source": [
    "You can also stack multiple versions on top of each other to include more information."
   ]
  },
  {
   "cell_type": "code",
   "execution_count": null,
   "metadata": {
    "ExecuteTime": {
     "end_time": "2019-06-10T14:14:07.063569Z",
     "start_time": "2019-06-10T14:14:06.812966Z"
    }
   },
   "outputs": [],
   "source": [
    "fig, ax = plt.subplots(figsize=(10,6))\n",
    "sns.swarmplot(data=penguins,x='species',y='body_mass_g',ax=ax, color='k')\n",
    "sns.violinplot(data=penguins,x='species',y='body_mass_g',ax=ax, saturation=.75, inner=None)\n",
    "sns.despine()\n",
    "plt.show()"
   ]
  },
  {
   "cell_type": "code",
   "execution_count": null,
   "metadata": {},
   "outputs": [],
   "source": []
  },
  {
   "cell_type": "markdown",
   "metadata": {},
   "source": [
    "Or you can stack according to species"
   ]
  },
  {
   "cell_type": "code",
   "execution_count": null,
   "metadata": {
    "ExecuteTime": {
     "end_time": "2019-06-10T15:54:59.833475Z",
     "start_time": "2019-06-10T15:54:59.826915Z"
    }
   },
   "outputs": [],
   "source": [
    "df_melt = pd.melt(penguins,id_vars='species',\n",
    "                  value_vars = ['bill_length_mm','bill_depth_mm'])"
   ]
  },
  {
   "cell_type": "code",
   "execution_count": null,
   "metadata": {
    "ExecuteTime": {
     "end_time": "2019-06-10T15:56:12.815474Z",
     "start_time": "2019-06-10T15:56:12.805821Z"
    },
    "scrolled": true
   },
   "outputs": [],
   "source": [
    "df_melt.head()"
   ]
  },
  {
   "cell_type": "code",
   "execution_count": null,
   "metadata": {
    "ExecuteTime": {
     "end_time": "2019-06-10T15:56:32.765776Z",
     "start_time": "2019-06-10T15:56:32.329655Z"
    }
   },
   "outputs": [],
   "source": [
    "fig, ax = plt.subplots(figsize=(10,6))\n",
    "sns.swarmplot(data=df_melt, x='variable',y='value',hue='species',ax=ax)\n",
    "sns.despine()\n",
    "plt.show()"
   ]
  },
  {
   "cell_type": "code",
   "execution_count": null,
   "metadata": {},
   "outputs": [],
   "source": []
  },
  {
   "cell_type": "markdown",
   "metadata": {},
   "source": [
    "Obviously this isn't useful with them stacked on top of each other "
   ]
  },
  {
   "cell_type": "code",
   "execution_count": null,
   "metadata": {
    "ExecuteTime": {
     "end_time": "2019-06-10T15:56:54.870660Z",
     "start_time": "2019-06-10T15:56:54.440650Z"
    }
   },
   "outputs": [],
   "source": [
    "fig, ax = plt.subplots(figsize=(10, 6))\n",
    "sns.swarmplot(\n",
    "    data=df_melt, x='variable', y='value', hue='species', ax=ax, dodge=True)\n",
    "sns.despine()\n",
    "plt.show()"
   ]
  },
  {
   "cell_type": "code",
   "execution_count": null,
   "metadata": {},
   "outputs": [],
   "source": []
  },
  {
   "cell_type": "markdown",
   "metadata": {},
   "source": [
    "The last plot type is a histogram or KDE plot. These also display distributions"
   ]
  },
  {
   "cell_type": "code",
   "execution_count": null,
   "metadata": {},
   "outputs": [],
   "source": [
    "fig ,ax =plt.subplots(figsize=(10,6))\n",
    "sns.histplot(penguins['bill_length_mm'],ax=ax, label='Bill Length',stat ='density')\n",
    "sns.histplot(penguins['bill_depth_mm'],ax=ax, label='Bill Depth',stat ='density',color = 'orange')\n",
    "sns.kdeplot(penguins['bill_length_mm'],ax=ax)\n",
    "sns.kdeplot(penguins['bill_depth_mm'],ax=ax, color = 'orange')\n",
    "ax.legend()\n",
    "sns.despine()\n",
    "ax.set(xlabel='cm')\n",
    "plt.show()"
   ]
  },
  {
   "cell_type": "code",
   "execution_count": null,
   "metadata": {},
   "outputs": [],
   "source": []
  },
  {
   "cell_type": "markdown",
   "metadata": {},
   "source": [
    "Notice how the y axis scale is not in counts, like a histogram, that is because the Density plot is normalized so it also normalizes the histogram.\n",
    "\n",
    "If you'd prefer to have counts in the y axis you can remove the KDE plot"
   ]
  },
  {
   "cell_type": "code",
   "execution_count": null,
   "metadata": {
    "ExecuteTime": {
     "end_time": "2019-06-10T16:14:33.132732Z",
     "start_time": "2019-06-10T16:14:32.918547Z"
    }
   },
   "outputs": [],
   "source": [
    "fig, ax = plt.subplots(figsize=(10, 6))\n",
    "sns.histplot(\n",
    "    penguins['bill_length_mm'],\n",
    "    ax=ax,\n",
    "    label='Bill Length',\n",
    "    )\n",
    "sns.histplot(\n",
    "    penguins['bill_depth_mm'], ax=ax, label='Bill Widgth',color = 'orange')\n",
    "ax.legend()\n",
    "sns.despine()\n",
    "ax.set(xlabel='cm')\n",
    "plt.show()"
   ]
  },
  {
   "cell_type": "markdown",
   "metadata": {
    "ExecuteTime": {
     "end_time": "2019-06-10T18:01:10.458716Z",
     "start_time": "2019-06-10T18:01:10.454465Z"
    }
   },
   "source": [
    "In general, histograms will display the data more faithfully, but KDE plots can be useful when you want to display a lot of distributions on top of each other"
   ]
  },
  {
   "cell_type": "markdown",
   "metadata": {},
   "source": [
    "#### Multivariate plotting\n",
    "\n",
    "With multivariate plots you are comparing numerical data on two axis. There's also a lot of other things you can add to add information to the plots.\n"
   ]
  },
  {
   "cell_type": "code",
   "execution_count": null,
   "metadata": {
    "ExecuteTime": {
     "end_time": "2019-06-11T02:50:36.540263Z",
     "start_time": "2019-06-11T02:50:36.378980Z"
    }
   },
   "outputs": [],
   "source": [
    "fig ,ax = plt.subplots(figsize=(10,6))\n",
    "sns.scatterplot(data=penguins,x='bill_length_mm',y='flipper_length_mm',ax=ax)\n",
    "sns.despine()"
   ]
  },
  {
   "cell_type": "code",
   "execution_count": null,
   "metadata": {
    "ExecuteTime": {
     "end_time": "2019-06-11T02:50:51.155949Z",
     "start_time": "2019-06-11T02:50:50.922875Z"
    }
   },
   "outputs": [],
   "source": [
    "fig ,ax = plt.subplots(figsize=(10,6))\n",
    "sns.scatterplot(data=penguins,x='bill_length_mm',y='flipper_length_mm', hue='species')\n",
    "sns.despine()"
   ]
  },
  {
   "cell_type": "code",
   "execution_count": null,
   "metadata": {
    "ExecuteTime": {
     "end_time": "2019-06-11T02:51:03.107663Z",
     "start_time": "2019-06-11T02:51:02.896962Z"
    }
   },
   "outputs": [],
   "source": [
    "fig ,ax = plt.subplots(figsize=(10,6))\n",
    "sns.scatterplot(data=penguins,x='bill_length_mm',y='flipper_length_mm',ax=ax,style='species')\n",
    "sns.despine()"
   ]
  },
  {
   "cell_type": "code",
   "execution_count": null,
   "metadata": {
    "ExecuteTime": {
     "end_time": "2019-06-11T02:52:07.691854Z",
     "start_time": "2019-06-11T02:52:07.242420Z"
    }
   },
   "outputs": [],
   "source": [
    "fig, ax = plt.subplots(figsize=(10, 12))\n",
    "sns.scatterplot(data=penguins,\n",
    "    x='bill_length_mm',\n",
    "    y='flipper_length_mm',\n",
    "    ax=ax,\n",
    "    hue='species',\n",
    "    style='sex',\n",
    "    s=40)\n",
    "ax.legend(ncol=4)\n",
    "sns.despine()"
   ]
  },
  {
   "cell_type": "code",
   "execution_count": null,
   "metadata": {
    "ExecuteTime": {
     "end_time": "2019-06-11T02:52:40.090587Z",
     "start_time": "2019-06-11T02:52:39.811660Z"
    },
    "scrolled": false
   },
   "outputs": [],
   "source": [
    "sns.lmplot(data=penguins,x='bill_length_mm',y='flipper_length_mm')\n",
    "plt.show()"
   ]
  },
  {
   "cell_type": "code",
   "execution_count": null,
   "metadata": {
    "ExecuteTime": {
     "end_time": "2019-06-11T02:55:52.323089Z",
     "start_time": "2019-06-11T02:55:52.113863Z"
    }
   },
   "outputs": [],
   "source": [
    "sns.lmplot(\n",
    "    data=penguins,\n",
    "    x='bill_length_mm',\n",
    "    y='bill_depth_mm',\n",
    "    hue='species',\n",
    "    hue_order=['Adelie','Gentoo', 'Chinstrap'])\n",
    "plt.show()"
   ]
  },
  {
   "cell_type": "code",
   "execution_count": null,
   "metadata": {},
   "outputs": [],
   "source": [
    "\n"
   ]
  },
  {
   "cell_type": "code",
   "execution_count": null,
   "metadata": {
    "ExecuteTime": {
     "end_time": "2019-06-11T02:56:34.952694Z",
     "start_time": "2019-06-11T02:56:34.611161Z"
    }
   },
   "outputs": [],
   "source": [
    "sns.jointplot(data=penguins,x='bill_length_mm',\n",
    "    y='flipper_length_mm')"
   ]
  },
  {
   "cell_type": "code",
   "execution_count": null,
   "metadata": {},
   "outputs": [],
   "source": []
  },
  {
   "cell_type": "code",
   "execution_count": null,
   "metadata": {
    "ExecuteTime": {
     "end_time": "2019-06-11T02:56:48.068935Z",
     "start_time": "2019-06-11T02:56:47.082921Z"
    }
   },
   "outputs": [],
   "source": [
    "sns.jointplot(data=penguins,x='bill_length_mm',y='flipper_length_mm',kind='kde')\n",
    "plt.show()"
   ]
  },
  {
   "cell_type": "code",
   "execution_count": null,
   "metadata": {},
   "outputs": [],
   "source": []
  },
  {
   "cell_type": "code",
   "execution_count": null,
   "metadata": {
    "ExecuteTime": {
     "end_time": "2019-06-11T13:31:33.708127Z",
     "start_time": "2019-06-11T13:31:33.243273Z"
    }
   },
   "outputs": [],
   "source": [
    "!wget https://raw.githubusercontent.com/bharris12/URP_2021_Programming_Course/main/lecture_4/data/example_expression.csv\n",
    "expression_demo = pd.read_csv('./example_expression.csv', index_col=0)\n",
    "corr_network = pd.DataFrame(\n",
    "    np.corrcoef(expression_demo.values.T),\n",
    "    index=expression_demo.columns,\n",
    "    columns=expression_demo.columns)\n",
    "corr_network.index.name = 'Genes'\n",
    "corr_network.columns.name = 'Genes'"
   ]
  },
  {
   "cell_type": "code",
   "execution_count": null,
   "metadata": {
    "ExecuteTime": {
     "end_time": "2019-06-11T13:31:36.083475Z",
     "start_time": "2019-06-11T13:31:35.553428Z"
    },
    "scrolled": false
   },
   "outputs": [],
   "source": [
    "sns.heatmap(corr_network, cmap='coolwarm')\n",
    "plt.show()"
   ]
  },
  {
   "cell_type": "code",
   "execution_count": null,
   "metadata": {
    "ExecuteTime": {
     "end_time": "2019-06-11T13:31:37.778953Z",
     "start_time": "2019-06-11T13:31:36.741061Z"
    }
   },
   "outputs": [],
   "source": [
    "sns.clustermap(corr_network, cmap='coolwarm')\n",
    "plt.show()"
   ]
  },
  {
   "cell_type": "markdown",
   "metadata": {},
   "source": [
    "# Extra Resources"
   ]
  },
  {
   "cell_type": "markdown",
   "metadata": {},
   "source": [
    "### Edward Tufte"
   ]
  },
  {
   "cell_type": "markdown",
   "metadata": {},
   "source": [
    "Edward Tufte is an extremely popular resource for plotting guidelines. Some of his points may seem absurd/a pain to implement in code. But his general philosophy for plotting quantitative data is to make the plots as minimalist and clear as possible. He has multiple books and offers paid in person courses. \n",
    "\n",
    "https://www.amazon.com/Visual-Display-Quantitative-Information/dp/1930824130\n",
    "\n",
    "\n",
    "https://www.edwardtufte.com/tufte/"
   ]
  },
  {
   "cell_type": "markdown",
   "metadata": {},
   "source": [
    "### Advanced python libraries"
   ]
  },
  {
   "cell_type": "markdown",
   "metadata": {},
   "source": [
    "#### Bokeh"
   ]
  },
  {
   "cell_type": "markdown",
   "metadata": {},
   "source": [
    "Bokeh is an interactive plotting library. It is especially useful for making websites. It uses a slightly different grammar than matplotlib. \n",
    "\n",
    "https://bokeh.pydata.org/en/latest/docs/user_guide/quickstart.html#userguide-quickstart\n",
    "\n"
   ]
  },
  {
   "cell_type": "code",
   "execution_count": null,
   "metadata": {
    "ExecuteTime": {
     "end_time": "2019-07-08T19:35:56.155576Z",
     "start_time": "2019-07-08T19:35:56.066424Z"
    }
   },
   "outputs": [],
   "source": [
    "# Might need to do\n",
    "# $ conda install -c bokeh bokeh or\n",
    "# $ pip install bokeh in the terminal for this cell to work\n",
    "\n",
    "from bokeh.io import output_notebook\n",
    "from bokeh.plotting import figure, output_file, show\n",
    "\n",
    "# prepare some data\n",
    "x = [0.1, 0.5, 1.0, 1.5, 2.0, 2.5, 3.0]\n",
    "y0 = [i**2 for i in x]\n",
    "y1 = [10**i for i in x]\n",
    "y2 = [10**(i**2) for i in x]\n",
    "\n",
    "# output to static HTML file\n",
    "output_notebook()\n",
    "# create a new plot\n",
    "p = figure(\n",
    "    tools=\"pan,box_zoom,reset,save\",\n",
    "    y_axis_type=\"log\",\n",
    "    y_range=[0.001, 10**11],\n",
    "    title=\"log axis example\",\n",
    "    x_axis_label='sections',\n",
    "    y_axis_label='particles')\n",
    "\n",
    "# add some renderers\n",
    "p.line(x, x, legend=\"y=x\")\n",
    "p.circle(x, x, legend=\"y=x\", fill_color=\"white\", size=8)\n",
    "p.line(x, y0, legend=\"y=x^2\", line_width=3)\n",
    "p.line(x, y1, legend=\"y=10^x\", line_color=\"red\")\n",
    "p.circle(x, y1, legend=\"y=10^x\", fill_color=\"red\", line_color=\"red\", size=6)\n",
    "p.line(x, y2, legend=\"y=10^x^2\", line_color=\"orange\", line_dash=\"4 4\")\n",
    "output_file\n",
    "# show the results\n",
    "show(p)"
   ]
  },
  {
   "cell_type": "markdown",
   "metadata": {},
   "source": [
    "These plots are not great for publication necessarily because a lot of the features for it are centered around being interactive. One nice thing about it is that it is free\n"
   ]
  },
  {
   "cell_type": "markdown",
   "metadata": {
    "ExecuteTime": {
     "end_time": "2019-05-13T19:24:25.349426Z",
     "start_time": "2019-05-13T19:24:25.346377Z"
    }
   },
   "source": [
    "#### Plotly"
   ]
  },
  {
   "cell_type": "markdown",
   "metadata": {},
   "source": [
    "Plotly is a freemium software package. It is very similar to bokeh, but actually runs on the plotly company server. You need to make an account and need to be connected to the internet to use. Additionally, you are limited in what you can do and the amount of plots you can make with a free account.\n",
    "\n",
    "https://plot.ly/python/"
   ]
  },
  {
   "cell_type": "markdown",
   "metadata": {},
   "source": [
    "### Non Python Plotting Resources"
   ]
  },
  {
   "cell_type": "markdown",
   "metadata": {
    "ExecuteTime": {
     "end_time": "2019-05-13T19:37:56.845801Z",
     "start_time": "2019-05-13T19:37:56.842731Z"
    }
   },
   "source": [
    "Interactive:\n",
    "    \n",
    "1. [Tableau](https://www.tableau.com)\n",
    "    \n",
    "2. [Graph Pad](https://www.graphpad.com)\n",
    "\n",
    "3. Excel (Don't use, very limited options)\n",
    "    \n",
    "    \n",
    "Programming:\n",
    "    \n",
    "1. R \n",
    "    1. base graphics\n",
    "    2. [ggplot2](https://ggplot2.tidyverse.org/reference/ggplot.html)\n",
    "2. Javascript\n",
    "    1. [D3](https://d3js.org) Very powerful and customizable "
   ]
  },
  {
   "cell_type": "code",
   "execution_count": null,
   "metadata": {},
   "outputs": [],
   "source": []
  }
 ],
 "metadata": {
  "hide_input": false,
  "kernelspec": {
   "display_name": "Python 3",
   "language": "python",
   "name": "python3"
  },
  "language_info": {
   "codemirror_mode": {
    "name": "ipython",
    "version": 3
   },
   "file_extension": ".py",
   "mimetype": "text/x-python",
   "name": "python",
   "nbconvert_exporter": "python",
   "pygments_lexer": "ipython3",
   "version": "3.9.0"
  },
  "latex_envs": {
   "LaTeX_envs_menu_present": true,
   "autoclose": false,
   "autocomplete": true,
   "bibliofile": "biblio.bib",
   "cite_by": "apalike",
   "current_citInitial": 1,
   "eqLabelWithNumbers": true,
   "eqNumInitial": 1,
   "hotkeys": {
    "equation": "Ctrl-E",
    "itemize": "Ctrl-I"
   },
   "labels_anchors": false,
   "latex_user_defs": false,
   "report_style_numbering": false,
   "user_envs_cfg": false
  },
  "notify_time": "5",
  "toc": {
   "base_numbering": 1,
   "nav_menu": {},
   "number_sections": true,
   "sideBar": true,
   "skip_h1_title": true,
   "title_cell": "Table of Contents",
   "title_sidebar": "Contents",
   "toc_cell": true,
   "toc_position": {
    "height": "calc(100% - 180px)",
    "left": "10px",
    "top": "150px",
    "width": "286.594px"
   },
   "toc_section_display": true,
   "toc_window_display": false
  }
 },
 "nbformat": 4,
 "nbformat_minor": 2
}
