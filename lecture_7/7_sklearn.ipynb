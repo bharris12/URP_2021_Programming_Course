{
 "cells": [
  {
   "cell_type": "code",
   "execution_count": null,
   "metadata": {},
   "outputs": [],
   "source": [
    "\"\"\"\n",
    "Introduction to statistical and machine learning using scikit-learn (https://scikit-learn.org/stable/)\n",
    "\n",
    "Instructor: Shaina Lu (slu@cshl.edu)\n",
    "2019 URP Data Analysis using Python Course\n",
    "11 July 2019\"\"\""
   ]
  },
  {
   "cell_type": "markdown",
   "metadata": {},
   "source": [
    "# Imports and Globals"
   ]
  },
  {
   "cell_type": "code",
   "execution_count": null,
   "metadata": {},
   "outputs": [],
   "source": [
    "#imports\n",
    "import numpy as np\n",
    "import scipy as sp\n",
    "import pandas as pd\n",
    "import matplotlib.pyplot as plt\n",
    "%matplotlib inline  \n",
    "from sklearn import datasets\n",
    "from sklearn.linear_model import LinearRegression\n",
    "from sklearn import metrics"
   ]
  },
  {
   "cell_type": "markdown",
   "metadata": {},
   "source": [
    "# An introduction to basic machine learning with sklearn using the Iris dataset"
   ]
  },
  {
   "cell_type": "markdown",
   "metadata": {},
   "source": [
    "In this first section, we will quickly introduce using scikit-learn for machine learning. This is one of the more popular python packages for statistical and machine learning, it works seamlessly with numpy arrays and pandas dataframes and can be thought of as a machine learning extension to scipy."
   ]
  },
  {
   "cell_type": "markdown",
   "metadata": {},
   "source": [
    "(For those interested, a couple years ago Google released their version of a Python machine learning package called TensorFlow. It's very powerful, especially for computationally intensive tasks such as deep learning. TensorFlow uses it's own data structures. We will not be covering TensorFlow in our course; those interested can check out: https://tensorflow.org)"
   ]
  },
  {
   "cell_type": "markdown",
   "metadata": {},
   "source": [
    "### Load sample data and poke around to understand it"
   ]
  },
  {
   "cell_type": "markdown",
   "metadata": {},
   "source": [
    "For this tutorial, we'll use a classic dataset called the Iris dataset collected by R.A. Fisher. There will be more details below."
   ]
  },
  {
   "cell_type": "code",
   "execution_count": null,
   "metadata": {},
   "outputs": [],
   "source": [
    "#load data, we're loading a dataset that comes with the library so the functions are specific to it\n",
    "iris = datasets.load_iris()"
   ]
  },
  {
   "cell_type": "code",
   "execution_count": null,
   "metadata": {},
   "outputs": [],
   "source": [
    "#let's see how the iris dataset is stored\n",
    "type(iris)"
   ]
  },
  {
   "cell_type": "markdown",
   "metadata": {},
   "source": [
    "What's an sklearn bunch?? Looking at the documentation for the sklearn iris dataset (https://scikit-learn.org/stable/modules/generated/sklearn.datasets.load_iris.html), we see that a bunch is just a python dictionary. Let's try interacting with it as we would a dictionary and seeing the what the keys are."
   ]
  },
  {
   "cell_type": "code",
   "execution_count": null,
   "metadata": {},
   "outputs": [],
   "source": [
    "#get keys from iris dataset\n",
    "iris.keys()"
   ]
  },
  {
   "cell_type": "markdown",
   "metadata": {},
   "source": [
    "Great! We see that there are 6 keys. Let's take a look at the description."
   ]
  },
  {
   "cell_type": "code",
   "execution_count": null,
   "metadata": {},
   "outputs": [],
   "source": [
    "#index the iris dictionary to see the description\n",
    "print(iris['DESCR'])"
   ]
  },
  {
   "cell_type": "markdown",
   "metadata": {},
   "source": [
    "This gives a nice description and background of the classic iris dataset. Now, let's poke around and see what the other things in the iris dictionary are."
   ]
  },
  {
   "cell_type": "code",
   "execution_count": null,
   "metadata": {},
   "outputs": [],
   "source": [
    "#print each of the remaining values in the iris dictionary by indexing the dictionary with the keys\n"
   ]
  },
  {
   "cell_type": "markdown",
   "metadata": {},
   "source": [
    "Okay, it's clear these values of the iris dataset appear as we expected from the documentation. Let's store the data in a pandas dataframe to more easily manipulate it. "
   ]
  },
  {
   "cell_type": "code",
   "execution_count": null,
   "metadata": {},
   "outputs": [],
   "source": [
    "#create a pandas dataframe to store the data and a pandas series to store the targets or y labels\n",
    "irisdf = pd.DataFrame(data=iris['data'], index=range(1,151,1), columns=iris['feature_names'])\n",
    "ylabels = pd.Series(data=iris['target'], index=range(1,151,1), name=\"iris type\")"
   ]
  },
  {
   "cell_type": "code",
   "execution_count": null,
   "metadata": {},
   "outputs": [],
   "source": [
    "#let's check that our dataframe looks as we expect\n"
   ]
  },
  {
   "cell_type": "code",
   "execution_count": null,
   "metadata": {},
   "outputs": [],
   "source": [
    "#check the dataframe dimensions\n"
   ]
  },
  {
   "cell_type": "code",
   "execution_count": null,
   "metadata": {},
   "outputs": [],
   "source": [
    "#now let's check the series\n"
   ]
  },
  {
   "cell_type": "code",
   "execution_count": null,
   "metadata": {},
   "outputs": [],
   "source": [
    "#check the series dimensions\n"
   ]
  },
  {
   "cell_type": "markdown",
   "metadata": {},
   "source": [
    "### Get summary statistics for the different features"
   ]
  },
  {
   "cell_type": "markdown",
   "metadata": {},
   "source": [
    "Everything looks good so far and as we expect. Let's play around with a few summary statistics using pandas. A great resource to look up handy pandas commands is the pandas cheat sheet, available here: https://github.com/pandas-dev/pandas/blob/master/doc/cheatsheet/Pandas_Cheat_Sheet.pdf"
   ]
  },
  {
   "cell_type": "code",
   "execution_count": null,
   "metadata": {},
   "outputs": [],
   "source": [
    "#average of all petal lengths\n",
    "irisdf.loc[:,\"petal length (cm)\"].mean()"
   ]
  },
  {
   "cell_type": "markdown",
   "metadata": {},
   "source": [
    "Cool, this output matches with the mean petal length reported in the description. Play around with the other features and other summary statistics. "
   ]
  },
  {
   "cell_type": "code",
   "execution_count": null,
   "metadata": {},
   "outputs": [],
   "source": [
    "#try other features and summary statistics here\n"
   ]
  },
  {
   "cell_type": "markdown",
   "metadata": {},
   "source": [
    "Now, what if I only want to get the mean petal length for each of the three iris types? "
   ]
  },
  {
   "cell_type": "code",
   "execution_count": null,
   "metadata": {},
   "outputs": [],
   "source": [
    "#use the ylabels to get the mean for each iris type separately\n",
    "print(irisdf.loc[ylabels==0,\"petal length (cm)\"].mean())\n",
    "print(irisdf.loc[ylabels==1,\"petal length (cm)\"].mean())\n",
    "print(irisdf.loc[ylabels==2,\"petal length (cm)\"].mean())"
   ]
  },
  {
   "cell_type": "code",
   "execution_count": null,
   "metadata": {},
   "outputs": [],
   "source": [
    "#try other features and summary statistics here\n"
   ]
  },
  {
   "cell_type": "markdown",
   "metadata": {},
   "source": [
    "### Plot two of the features for all the flowers"
   ]
  },
  {
   "cell_type": "code",
   "execution_count": null,
   "metadata": {},
   "outputs": [],
   "source": [
    "#plot petal length by petal width\n"
   ]
  },
  {
   "cell_type": "markdown",
   "metadata": {},
   "source": [
    "I wonder if that cluster on the lower left represents one type of flower. The iris decription did mention that one group of flowers was linearly separable from the rest. Let's plot each iris type in a different color."
   ]
  },
  {
   "cell_type": "code",
   "execution_count": null,
   "metadata": {},
   "outputs": [],
   "source": [
    "#same as above, but plot each iris type with a different color\n"
   ]
  },
  {
   "cell_type": "markdown",
   "metadata": {},
   "source": [
    "It appears that setosa iris flowers are indeed separate from the other two types. Let's see if we can build a simple classifier to predict iris type based on these two features."
   ]
  },
  {
   "cell_type": "markdown",
   "metadata": {},
   "source": [
    "### linear regression as a classifier"
   ]
  },
  {
   "cell_type": "markdown",
   "metadata": {},
   "source": [
    "Many of you are probably familiar with linear regression as fitting a line to the data, but today we're going to take it one step further and use linear regression as a classifier. For the sklearn linear regression documentation: https://scikit-learn.org/stable/modules/generated/sklearn.linear_model.LinearRegression.html"
   ]
  },
  {
   "cell_type": "markdown",
   "metadata": {},
   "source": [
    "First, we'll create a new target series so that the setosa flowers will have a value of 1 and the other will have a value of 0."
   ]
  },
  {
   "cell_type": "code",
   "execution_count": null,
   "metadata": {},
   "outputs": [],
   "source": [
    "#this is hacky\n",
    "setosalabs = ylabels\n",
    "setosalabs[setosalabs != 0] = 5 #5 as a temp place holder\n",
    "setosalabs[setosalabs == 0] = 1\n",
    "setosalabs[setosalabs == 5] = 0"
   ]
  },
  {
   "cell_type": "markdown",
   "metadata": {},
   "source": [
    "Then we'll split the data into train/test folds using a 50/50 split"
   ]
  },
  {
   "cell_type": "code",
   "execution_count": null,
   "metadata": {},
   "outputs": [],
   "source": [
    "def splitdata(data, testratio):\n",
    "    #set seed so train and test will always split the same\n",
    "    np.random.seed(42)\n",
    "    shuffindices = np.random.permutation(len(data))\n",
    "    testsize = int(len(data) * testratio)\n",
    "    testindices = shuffindices[:testsize]\n",
    "    trainindices = shuffindices[testsize:]\n",
    "    return data.iloc[trainindices], data.iloc[testindices]"
   ]
  },
  {
   "cell_type": "code",
   "execution_count": null,
   "metadata": {},
   "outputs": [],
   "source": [
    "#use the above function to split the data\n",
    "iristrain, iristest = splitdata(irisdf, 0.5)\n",
    "ytrain, ytest = splitdata(setosalabs, 0.5) #the split function is seeded so both will split along the same indices"
   ]
  },
  {
   "cell_type": "markdown",
   "metadata": {},
   "source": [
    "Fit the linear regression model"
   ]
  },
  {
   "cell_type": "code",
   "execution_count": null,
   "metadata": {},
   "outputs": [],
   "source": [
    "#fit the linear model to predict iris type (ylabels) based on the two features\n",
    "reg = LinearRegression().fit(iristrain.loc[:,[\"petal length (cm)\",\"petal width (cm)\"]], ytrain)"
   ]
  },
  {
   "cell_type": "code",
   "execution_count": null,
   "metadata": {},
   "outputs": [],
   "source": [
    "#how good is the fit based on the R^2 coefficient of determination\n",
    "reg.score(iristrain.loc[:,[\"petal length (cm)\",\"petal width (cm)\"]], ytrain)"
   ]
  },
  {
   "cell_type": "markdown",
   "metadata": {},
   "source": [
    "Predict the held out test data using the linear regression model trained on the train fold of the data"
   ]
  },
  {
   "cell_type": "code",
   "execution_count": null,
   "metadata": {},
   "outputs": [],
   "source": [
    "#use the regression to predict the iris type\n",
    "predictions = reg.predict(iristest.loc[:,[\"petal length (cm)\",\"petal width (cm)\"]])"
   ]
  },
  {
   "cell_type": "markdown",
   "metadata": {},
   "source": [
    "Now let's evaluate how well the linear regression did in predicting the held out test set by calculating by plotting the receiver operating curve (ROC)."
   ]
  },
  {
   "cell_type": "code",
   "execution_count": null,
   "metadata": {},
   "outputs": [],
   "source": [
    "#calculate the false and true positive rate at various threholds\n",
    "fpr, tpr, thresholds = metrics.roc_curve(y_true = ytest, y_score = predictions, pos_label = 1)\n",
    "auroc = metrics.roc_auc_score(y_true = ytest, y_score = predictions)\n",
    "\n",
    "plt.plot(fpr, tpr)\n",
    "plt.plot([0,1],[0,1],'k--')  #y=x line\n",
    "plt.xlabel(\"false positive rate\")\n",
    "plt.ylabel(\"true positive rate\")\n",
    "plt.text(0.7, 0.1, r'$AUC=%.3f$' %auroc, fontsize=16)\n",
    "plt.show()"
   ]
  },
  {
   "cell_type": "markdown",
   "metadata": {},
   "source": [
    "The preformance here is perfect, as it should be given that setosa is entirely linearly separable (even visually) from the other two flower types in the dimensions of petal length and width as seen is the above scatter plot)"
   ]
  },
  {
   "cell_type": "markdown",
   "metadata": {},
   "source": [
    "# Allen Institute mouse brain in situ hybridization data"
   ]
  },
  {
   "cell_type": "markdown",
   "metadata": {},
   "source": [
    "The Allen Institute generated a transcriptome-wide whole-brain in situ hybridization dataset published back in 2007. I will give a fuller describtion of the data during lecture. We will be using a subset of this data for the following section. A web interface for the data can be found here: https://mouse.brain-map.org/"
   ]
  },
  {
   "cell_type": "markdown",
   "metadata": {},
   "source": [
    "I've taken a care of a lot of the pre-processing necessary for this data. The specific steps I took will be described in the lecture. In addition I've only given you half the number of total voxels (chosen randomly) and the top 100 genes that are highly expressed in the Thalamus, but not the rest of the brain. Pre-processing and filtering data is a large part of data analysis. However, I've chosen to give you filtered and subsetted data, because the orginal dataset is far too large to tractably compute on your individual computers. You have and will get some practice in filtering data with Ben."
   ]
  },
  {
   "cell_type": "markdown",
   "metadata": {},
   "source": [
    "### Read in data"
   ]
  },
  {
   "cell_type": "markdown",
   "metadata": {},
   "source": [
    "First, download the two data files from my github repository under urpcourse19/data/lecture7/"
   ]
  },
  {
   "cell_type": "code",
   "execution_count": null,
   "metadata": {},
   "outputs": [],
   "source": [
    "#read in data\n",
    "#remember, the infile path will change for you depending on where you've downloaded the data\n",
    "infile1 = \"/home/slu/urpcourse19/data/lecture7/ABAISHsubset.csv\"\n",
    "infile2 = \"/home/slu/urpcourse19/data/lecture7/ABAISHsubset_labels.csv\"\n",
    "abasubset = pd.read_csv(infile1, index_col=0)\n",
    "labels = pd.read_csv(infile2, index_col=0, header=None)"
   ]
  },
  {
   "cell_type": "code",
   "execution_count": null,
   "metadata": {},
   "outputs": [],
   "source": [
    "#look at the shape and the beginning of the dataframe to make sure everything looks good\n"
   ]
  },
  {
   "cell_type": "code",
   "execution_count": null,
   "metadata": {},
   "outputs": [],
   "source": [
    "#split the data and ylabels into train and test folds\n",
    "#abatrain, abatest = \n",
    "#ytrain, ytest = "
   ]
  },
  {
   "cell_type": "markdown",
   "metadata": {},
   "source": [
    "### linear regression"
   ]
  },
  {
   "cell_type": "code",
   "execution_count": null,
   "metadata": {},
   "outputs": [],
   "source": [
    "#fit the linear model\n",
    "#reg = "
   ]
  },
  {
   "cell_type": "code",
   "execution_count": null,
   "metadata": {},
   "outputs": [],
   "source": [
    "#how good is the fit based on the R^2 coefficient of determination\n"
   ]
  },
  {
   "cell_type": "markdown",
   "metadata": {},
   "source": [
    "Predict the held out test data using the linear regression model trained on the train fold of the data"
   ]
  },
  {
   "cell_type": "code",
   "execution_count": null,
   "metadata": {},
   "outputs": [],
   "source": [
    "#use the regression to predict the iris type\n",
    "#predictions ="
   ]
  },
  {
   "cell_type": "markdown",
   "metadata": {},
   "source": [
    "Evaluate the performance of using linear regression as a classifier"
   ]
  },
  {
   "cell_type": "code",
   "execution_count": null,
   "metadata": {},
   "outputs": [],
   "source": [
    "#calculate the false and true positive rate at various threholds\n"
   ]
  },
  {
   "cell_type": "markdown",
   "metadata": {},
   "source": [
    "The performance here is very good too! This won't always be the case. I chose features (genes) that are highly differentially expressed and they do a very good job at discerning samples that belong to the thalamus vs. those that belong to the rest of the brain."
   ]
  },
  {
   "cell_type": "code",
   "execution_count": null,
   "metadata": {},
   "outputs": [],
   "source": []
  }
 ],
 "metadata": {
  "kernelspec": {
   "display_name": "Python 3",
   "language": "python",
   "name": "python3"
  },
  "language_info": {
   "codemirror_mode": {
    "name": "ipython",
    "version": 3
   },
   "file_extension": ".py",
   "mimetype": "text/x-python",
   "name": "python",
   "nbconvert_exporter": "python",
   "pygments_lexer": "ipython3",
   "version": "3.7.1"
  }
 },
 "nbformat": 4,
 "nbformat_minor": 2
}
