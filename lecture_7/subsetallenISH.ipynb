{
 "cells": [
  {
   "cell_type": "code",
   "execution_count": 1,
   "metadata": {},
   "outputs": [
    {
     "data": {
      "text/plain": [
       "'\\nquick notebook to subset allen data ISH data for URP course 2019\\n\\nShaina Lu\\nJune 2019'"
      ]
     },
     "execution_count": 1,
     "metadata": {},
     "output_type": "execute_result"
    }
   ],
   "source": [
    "\"\"\"\n",
    "quick notebook to subset allen data ISH data for URP course 2019\n",
    "\n",
    "Shaina Lu\n",
    "June 2019\"\"\""
   ]
  },
  {
   "cell_type": "code",
   "execution_count": 32,
   "metadata": {},
   "outputs": [],
   "source": [
    "%matplotlib inline\n",
    "import matplotlib.pyplot as plt\n",
    "import pandas as pd\n",
    "import numpy as np\n",
    "import scipy as sp\n",
    "from scipy import stats\n",
    "from sklearn.linear_model import LinearRegression"
   ]
  },
  {
   "cell_type": "code",
   "execution_count": 3,
   "metadata": {},
   "outputs": [],
   "source": [
    "ALLEN_FILT_PATH = \"/data/slu/allen_adult_mouse_ISH/allen_adultmouse_filt_v5_avgdup.h5\"\n",
    "ONTOLOGY_PATH = \"/data/slu/allen_adult_mouse_ISH/ontologyABA.csv\""
   ]
  },
  {
   "cell_type": "code",
   "execution_count": 4,
   "metadata": {},
   "outputs": [],
   "source": [
    "metabrain = pd.read_hdf(ALLEN_FILT_PATH, key='metabrain', mode='r')\n",
    "voxbrain = pd.read_hdf(ALLEN_FILT_PATH, key='avgvoxbrain', mode='r')\n",
    "propontvox = pd.read_hdf(ALLEN_FILT_PATH, key='propontology', mode='r')\n",
    "geneIDName = pd.read_hdf(ALLEN_FILT_PATH, key='geneIDName', mode='r')"
   ]
  },
  {
   "cell_type": "code",
   "execution_count": 11,
   "metadata": {},
   "outputs": [],
   "source": [
    "#read in ontology file\n",
    "ontology = pd.read_csv(ONTOLOGY_PATH)\n",
    "ontology = ontology.drop([ontology.columns[5], ontology.columns[6]], axis=1)\n",
    "ontology = ontology.fillna(-1)  #make root's parent -1"
   ]
  },
  {
   "cell_type": "code",
   "execution_count": 8,
   "metadata": {},
   "outputs": [],
   "source": [
    "def splitdata(data, testratio):\n",
    "    #set seed so train and test will always split the same in diff run so ML algorithm doesn't see whole dataset (BAD)\n",
    "    np.random.seed(42)\n",
    "    shuffindices = np.random.permutation(len(data))\n",
    "    testsize = int(len(data) * testratio)\n",
    "    testindices = shuffindices[:testsize]\n",
    "    trainindices = shuffindices[testsize:]\n",
    "    return data.iloc[trainindices], data.iloc[testindices]"
   ]
  },
  {
   "cell_type": "code",
   "execution_count": 9,
   "metadata": {},
   "outputs": [],
   "source": [
    "#since the function is seeded, all these will be split in the same way\n",
    "voxtrain, voxtest = splitdata(voxbrain, 0.5)  #hold aside 50% data as test set\n",
    "metatrain, metatest = splitdata(metabrain, 0.5)\n",
    "ontvoxtrain, ontvoxtest = splitdata(propontvox, 0.5)"
   ]
  },
  {
   "cell_type": "code",
   "execution_count": 17,
   "metadata": {},
   "outputs": [],
   "source": [
    "currarea = \"549\" #thalamus\n",
    "curracro = ontology.loc[ontology.id == int(currarea), \"acronym\"].item()"
   ]
  },
  {
   "cell_type": "code",
   "execution_count": 19,
   "metadata": {},
   "outputs": [],
   "source": [
    "ytrain = ontvoxtrain[currarea]\n",
    "ytest = ontvoxtest[currarea]"
   ]
  },
  {
   "cell_type": "code",
   "execution_count": 20,
   "metadata": {},
   "outputs": [],
   "source": [
    "#get differentially expressed genes"
   ]
  },
  {
   "cell_type": "code",
   "execution_count": 21,
   "metadata": {},
   "outputs": [],
   "source": [
    "cols = list(voxtrain)"
   ]
  },
  {
   "cell_type": "code",
   "execution_count": 22,
   "metadata": {},
   "outputs": [],
   "source": [
    "#one-sided Mann-Whitney, Ha: areaofinterest < not areaofinterest\n",
    "u2 = []\n",
    "pvals2 = []\n",
    "genes2 = []\n",
    "errors2 = []\n",
    "for i in range(len(cols)):\n",
    "    try:\n",
    "        curr_u, curr_pval = sp.stats.mannwhitneyu(voxtrain.loc[ontvoxtrain[currarea] == 1,cols[i]],voxtrain.loc[ontvoxtrain[currarea] == 0,cols[i]],alternative='less')\n",
    "        u2.append(curr_u)\n",
    "        pvals2.append(curr_pval)\n",
    "        genes2.append(cols[i])\n",
    "    except:   #some genes raise the error that \"all numbers are identical in mwu\"\n",
    "        errors2.append(cols[i])"
   ]
  },
  {
   "cell_type": "code",
   "execution_count": 23,
   "metadata": {},
   "outputs": [],
   "source": [
    "#one-sided Mann-Whitney, Ha: areaofinterest > not areaofinterest\n",
    "u3 = []\n",
    "pvals3 = []\n",
    "genes3 = []\n",
    "errors3 = []\n",
    "for i in range(len(cols)):\n",
    "    try:\n",
    "        curr_u, curr_pval = sp.stats.mannwhitneyu(voxtrain.loc[ontvoxtrain[currarea] == 1,cols[i]],voxtrain.loc[ontvoxtrain[currarea] == 0,cols[i]],alternative='greater')\n",
    "        u3.append(curr_u)\n",
    "        pvals3.append(curr_pval)\n",
    "        genes3.append(cols[i])\n",
    "    except:   #some genes raise the error that \"all numbers are identical in mwu\"\n",
    "        errors3.append(cols[i])"
   ]
  },
  {
   "cell_type": "code",
   "execution_count": 24,
   "metadata": {},
   "outputs": [],
   "source": [
    "#sort both lists of genes by pvals\n",
    "s2 = sorted(zip(pvals2,genes2))\n",
    "pvals2_sort, genes_sortbypvals2 = map(list, zip(*s2))\n",
    "s3 = sorted(zip(pvals3,genes3))\n",
    "pvals3_sort, genes_sortbypvals3 = map(list, zip(*s3))"
   ]
  },
  {
   "cell_type": "code",
   "execution_count": 25,
   "metadata": {},
   "outputs": [],
   "source": [
    "#get top siggenes\n",
    "numgenes = 100\n",
    "topDE = genes_sortbypvals3[0:numgenes]  #genes_sortbypvals2[0:numgenes] + "
   ]
  },
  {
   "cell_type": "code",
   "execution_count": 26,
   "metadata": {},
   "outputs": [],
   "source": [
    "#get dataframes of only the topDE genes\n",
    "topDEtest = voxtest.loc[:,topDE]\n",
    "topDEtrain = voxtrain.loc[:,topDE]"
   ]
  },
  {
   "cell_type": "code",
   "execution_count": 27,
   "metadata": {},
   "outputs": [],
   "source": [
    "topDEbrain = voxbrain.loc[:, topDE]"
   ]
  },
  {
   "cell_type": "code",
   "execution_count": 29,
   "metadata": {},
   "outputs": [
    {
     "data": {
      "text/plain": [
       "(62527, 100)"
      ]
     },
     "execution_count": 29,
     "metadata": {},
     "output_type": "execute_result"
    }
   ],
   "source": [
    "topDEbrain.shape"
   ]
  },
  {
   "cell_type": "code",
   "execution_count": 30,
   "metadata": {},
   "outputs": [
    {
     "data": {
      "text/plain": [
       "(31264, 100)"
      ]
     },
     "execution_count": 30,
     "metadata": {},
     "output_type": "execute_result"
    }
   ],
   "source": [
    "topDEtrain.shape"
   ]
  },
  {
   "cell_type": "code",
   "execution_count": 38,
   "metadata": {},
   "outputs": [],
   "source": [
    "reg = LinearRegression().fit(topDEtrain, ytrain)"
   ]
  },
  {
   "cell_type": "code",
   "execution_count": 39,
   "metadata": {},
   "outputs": [
    {
     "data": {
      "text/plain": [
       "0.7630913510862172"
      ]
     },
     "execution_count": 39,
     "metadata": {},
     "output_type": "execute_result"
    }
   ],
   "source": [
    "reg.score(topDEtrain,ytrain)"
   ]
  },
  {
   "cell_type": "code",
   "execution_count": 42,
   "metadata": {},
   "outputs": [],
   "source": [
    "topDEtrain.to_csv(\"/home/slu/urpcourse19/data/lecture7/ABAISHsubset.csv\")"
   ]
  },
  {
   "cell_type": "code",
   "execution_count": 43,
   "metadata": {},
   "outputs": [],
   "source": [
    "ytrain.to_csv(\"/home/slu/urpcourse19/data/lecture7/ABAISHsubset_labels.csv\")"
   ]
  },
  {
   "cell_type": "code",
   "execution_count": null,
   "metadata": {},
   "outputs": [],
   "source": []
  }
 ],
 "metadata": {
  "kernelspec": {
   "display_name": "Python 3",
   "language": "python",
   "name": "python3"
  },
  "language_info": {
   "codemirror_mode": {
    "name": "ipython",
    "version": 3
   },
   "file_extension": ".py",
   "mimetype": "text/x-python",
   "name": "python",
   "nbconvert_exporter": "python",
   "pygments_lexer": "ipython3",
   "version": "3.7.1"
  }
 },
 "nbformat": 4,
 "nbformat_minor": 2
}
